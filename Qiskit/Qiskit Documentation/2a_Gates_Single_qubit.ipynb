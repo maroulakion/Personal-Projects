{
 "cells": [
  {
   "cell_type": "code",
   "execution_count": 1,
   "id": "621c6846-a936-41e7-af8a-1600f47ca7e6",
   "metadata": {
    "tags": []
   },
   "outputs": [],
   "source": [
    "# Importing standard Qiskit libraries\n",
    "from qiskit import QuantumCircuit, transpile\n",
    "from qiskit.tools.jupyter import *\n",
    "from qiskit.visualization import *\n",
    "from ibm_quantum_widgets import *\n",
    "\n",
    "from qiskit_ibm_runtime import QiskitRuntimeService\n",
    "\n",
    "# Loading your IBM Quantum account(s)\n",
    "service = QiskitRuntimeService(channel=\"ibm_quantum\")"
   ]
  },
  {
   "cell_type": "markdown",
   "id": "66668ef7-363d-4283-8089-d8a69c5594e1",
   "metadata": {},
   "source": [
    "<span style=\"font-family: 'Times New Roman'; font-size: 16px\">\n",
    "<span style=\"font-size: 22px;\"><strong>General Notes</strong></span><br>\n",
    "<ul>\n",
    "<li> To produce the <strong>Controlled version</strong> of any gate available, write the method name and add at the beggining of it the \"c\". For example, for Controlled X gate (which is used by \".x()\"), write \".cx()\".</li>\n",
    "<li> To produce the <strong>Dagger (Hermitian conjugate)</strong> of any gate available, write the method name and add at the end of it the \"dg\". For example, for conjuate of X gate (which is used by \".x()\"), write \".xsd()\".</li>\n",
    "</ul>\n",
    "</span>"
   ]
  },
  {
   "cell_type": "markdown",
   "id": "3f9ba733-31b7-46d2-ac1d-64a7959e539f",
   "metadata": {},
   "source": [
    "<span style=\"font-family: 'Times New Roman'; font-size: 16px\">\n",
    "<span style=\"font-size: 30px;\">Pauli Gates </span> <br> <br> \n",
    "Suppose a single qubit, let q, is described by the vector $ q =  \\begin{bmatrix} a \\\\ b \\\\ \\end{bmatrix} $. <br>\n",
    "<span style=\"font-size: 22px;\"><strong>Pauli X-Gate</strong></span><br>\n",
    "The Pauli X gate or simply X Gate (also reffered as NOT - Gate), rotates qubits' direction on Bloch Shere 180 degree on X axis. The X gate (to apply on 1-qubit) is a matrix described by <br>\n",
    "                       $$ X =   \\begin{bmatrix}\n",
    "                                0 & 1 \\\\\n",
    "                                1 & 0 \\\\\n",
    "                                \\end{bmatrix}\n",
    "                                $$ <br>\n",
    "\n",
    "<span style=\"font-size: 22px;\"><strong>Pauli Y-Gate</strong></span><br>\n",
    "The Pauli Y gate or simply Y Gate, rotates qubits' direction on Bloch Shere 180 degree on Y axis. The Y gate (to apply on 1-qubit) is a matrix described by <br>\n",
    "                       $$ Y =   \\begin{bmatrix}\n",
    "                                0 & -i \\\\\n",
    "                                i & 0 \\\\\n",
    "                                \\end{bmatrix}\n",
    "                                $$ <br>\n",
    "\n",
    "<span style=\"font-size: 22px;\"><strong>Pauli Z-Gate</strong></span><br>\n",
    "The Pauli Z gate or simply Z Gate, rotates qubits' direction on Bloch Shere 180 degree on Z axis. The Z gate (to apply on 1-qubit) is a matrix described by <br>\n",
    "                       $$ Z =   \\begin{bmatrix}\n",
    "                                1 & 0 \\\\\n",
    "                                0 & -1 \\\\\n",
    "                                \\end{bmatrix}\n",
    "                                $$ <br>\n",
    "</span>"
   ]
  },
  {
   "cell_type": "code",
   "execution_count": 4,
   "id": "90b0c98a-89ba-45cc-b5cc-28ab2f595819",
   "metadata": {
    "tags": []
   },
   "outputs": [
    {
     "data": {
      "image/png": "[encoded data removed]",
      "text/plain": [
       "<Figure size 287.496x367.889 with 1 Axes>"
      ]
     },
     "execution_count": 4,
     "metadata": {},
     "output_type": "execute_result"
    }
   ],
   "source": [
    "# Make a quantum circuit (QC) with 4 qubits, that\n",
    "# qubit No. 0 has gate X, \n",
    "# qubit No. 1 has gate H, \n",
    "# qubit No. 2 doesn't have any gates,\n",
    "# qubit No. 3 has first gate X and then gate Y \n",
    "\n",
    "# NOTE (1) : The Payli X gate or simply X Gate (also reffered as NOT - Gate), \n",
    "#            is applied in a circuit as \".x(qubit_number)\".\n",
    "#            It rotates qubits' direction on Bloch Shere 180 degree on X axis. \n",
    "#            The X gate (for 1-qubit) is a matrix described by \n",
    "#                      X = [ [ 0  1 ], \n",
    "#                            [ 1  0 ] ]\n",
    "\n",
    "# NOTE (2) : The Pauli Y gate or simply Y gate, \n",
    "#            is applied in a circuit as \".y(qubit_number)\".\n",
    "#            It rotates qubits' direction on Bloch Shere 180 degree on Y axis. \n",
    "#            The Y gate (for 1-qubit) is a matrix described by \n",
    "#                      Y = [ [ 0 -j ], \n",
    "#                            [ j  0 ] ]\n",
    "\n",
    "# NOTE (3) : The Pauli Z gate or simply Z Gate,\n",
    "#            is applied in a circuit as \".z(qubit_number)\".\n",
    "#            It rotates qubits' direction on Bloch Shere 180 degree on Z axis. \n",
    "#            The Z gate (for 1-qubit) is a matrix described by \n",
    "#                      Z = [ [ 1  0 ], \n",
    "#                            [ 0 -j] ]\n",
    "\n",
    "\n",
    "qc = QuantumCircuit(4, 0)  # the \"0\" in the number of bits parameter is optional. \n",
    "                           # Not including a second parameter, means 0 classical bits by default.\n",
    "\n",
    "qc.x(0)                    # add gate X to qubit 0\n",
    "qc.h(1)                    # add gate H to qubit 1\n",
    "qc.x(3)                    # add gate H to qubit 3\n",
    "qc.y(3)                    # add gate Y to qubit 3\n",
    "qc.draw()                  "
   ]
  },
  {
   "cell_type": "markdown",
   "id": "714964a9-9fe0-43ef-8dd9-ad0091905099",
   "metadata": {
    "tags": []
   },
   "source": [
    "<span style=\"font-family: 'Times New Roman'; font-size: 16px\">    \n",
    "<span style=\"font-size: 22px;\"><strong>Hadamard Gate</strong></span><br>\n",
    "The Hadamard gate or simply H Gate, rotates qubits' direction on Bloch Shere 180 degree around the axis that lies halfway between the X and Z axes. The H gate (to apply on 1-qubit) is a matrix described by <br>\n",
    "                       $$ H =  \\frac{1}{\\sqrt{2}}\n",
    "\\begin{bmatrix}\n",
    "1 & 1 \\\\\n",
    "1 & -1 \\\\\n",
    "\\end{bmatrix}\n",
    "$$\n",
    "    \n",
    "</span>"
   ]
  },
  {
   "cell_type": "code",
   "execution_count": null,
   "id": "6092b673-e973-4f4e-9390-39dd50fa2057",
   "metadata": {
    "tags": []
   },
   "outputs": [
    {
     "data": {
      "image/png": "[encoded data removed]",
      "text/plain": [
       "<Figure size 287.294x200.667 with 1 Axes>"
      ]
     },
     "execution_count": 9,
     "metadata": {},
     "output_type": "execute_result"
    }
   ],
   "source": [
    "# Make a quantum circuit (QC) with 2 qubits, that \n",
    "# qubit No. 0 doesn't have any gates,\n",
    "# qubit No. 1 has gate H,\n",
    "# then add a barrier at the end\n",
    "\n",
    "# NOTE (1) : a \".barrier()\" is a seperating vertical line that helps visualization. \n",
    "#            By includinf the parameter \"label = <string>\", a name shall appear above the barrier. \n",
    "#            A barrier has no effect on circuit's functionality, \n",
    "#            it is only for visualization purposes. \n",
    "\n",
    "# NOTE (2) : The Hadamard gate or H Gate, \n",
    "#            is applied in a circuit as \".h(qubit_number)\".\n",
    "#            It rotates qubits' direction on Bloch Shere 180 degrees \n",
    "#            around the axis that lies halfway between the X and Z axes.\n",
    "#            The H gate (for 1-qubit) is a matrix described by \n",
    "#                      H = 1/sqrt(2) * [ [ 1  1 ], \n",
    "#                                        [ 1 -1 ] ]\n",
    "\n",
    "qc = QuantumCircuit(2, 0)  # the \"0\" in the number of bits parameter is optional. \n",
    "                           # Not including a second parameter, means 0 classical bits by default.\n",
    "\n",
    "qc.h(1)                    # add gate H to qubit 1\n",
    "qc.barrier()               # add a barrier\n",
    "qc.draw()                  "
   ]
  },
  {
   "cell_type": "markdown",
   "id": "7f1f1dc2-1d5d-4582-95a7-a67785d05547",
   "metadata": {},
   "source": [
    "<span style=\"font-family: 'Times New Roman'; font-size: 16px\">\n",
    "<span style=\"font-size: 22px;\"><strong>S gate</strong></span><br>\n",
    "The S gate rotates qubits' direction on Bloch Shere 90 degree on Z axis. The S gate (to apply on 1-qubit) is a matrix described by <br>\n",
    "                       $$ S =   \\begin{bmatrix}\n",
    "                                1 & 0 \\\\\n",
    "                                0 & i \\\\\n",
    "                                \\end{bmatrix}\n",
    "                                $$ <br>\n",
    "\n",
    "<span style=\"font-size: 22px;\"><strong>T gate</strong></span><br>\n",
    "The T gate rotates qubits' direction on Bloch Shere 45 degree on Z axis. The Z gate (to apply on 1-qubit) is a matrix described by <br>\n",
    "                       $$ T =   \\begin{bmatrix}\n",
    "                                1 & 0 \\\\\n",
    "                                0 & -1 \\\\\n",
    "                                \\end{bmatrix}\n",
    "                                $$ \n",
    "By definition and simple linear algebra calculations, it is concluded that \n",
    "$$ T^2 = (\\sqrt{S})^2 = S $$ <br>\n",
    "    \n",
    "<span style=\"font-size: 22px;\"><strong>V gate</strong></span><br>\n",
    "The V gate is another representation of square root of the X gate matrix. To apply on 1-qubit, this matrix is described by <br>\n",
    "                       $$ V =  \\sqrt{X} = \\frac{i+1}{2}\n",
    "                                \\begin{bmatrix}\n",
    "                                1 & -i \\\\\n",
    "                                -i & 1 \\\\\n",
    "                                \\end{bmatrix}\n",
    "                                $$\n",
    "\n",
    "By definition and simple linear algebra calculations, it is concluded that \n",
    "$$ V^2 = (\\sqrt{X})^2 = X, $$ $$ V^T×V = V×V^T = I $$ $$ (V^T)^2 = I$$ <br>\n",
    "\n",
    "</span>"
   ]
  },
  {
   "cell_type": "code",
   "execution_count": 11,
   "id": "cb6eb443-d9e8-4010-8758-14679fcffe96",
   "metadata": {
    "tags": []
   },
   "outputs": [
    {
     "data": {
      "image/png": "[encoded data removed]",
      "text/plain": [
       "<Figure size 956.385x367.889 with 1 Axes>"
      ]
     },
     "execution_count": 11,
     "metadata": {},
     "output_type": "execute_result"
    }
   ],
   "source": [
    "# Make a quantum circuit (QC) with 3 qubits and 1 classical bit, that\n",
    "# qubit No. 0 has gate X, then a V gate, \n",
    "# qubit No. 1 has gate H,\n",
    "# qubit No. 2 has gate S, and then a T gate, \n",
    "\n",
    "\n",
    "# NOTE (1) : The S gate, \n",
    "#            is applied in a circuit as \".s(qubit_number)\".\n",
    "#            It rotates qubits' direction on Bloch Shere 90 degree on Z axis. \n",
    "\n",
    "# NOTE (2) : The T gate, \n",
    "#            is applied in a circuit as \".t(qubit_number)\".\n",
    "#            It rotates qubits' direction on Bloch Shere 45 degree on Z axis. \n",
    "\n",
    "# NOTE (3) : The V gate, \n",
    "#            is applied in a circuit as \".sx(qubit_number)\", \n",
    "#            AND not \"v\" -- the \"sx\" stands for \"square X.\n",
    "\n",
    "\n",
    "qc = QuantumCircuit(3, 1)     \n",
    "qc.x(0) \n",
    "qc.sx(0)                              # add gate V to qubit 0\n",
    "qc.sxdg(0)                            # add conjuate gate V to qubit 0\n",
    "qc.csx(0, 1)                          # add Controlled-V gate to qubit 0\n",
    "#qc.csxdg(0, 1)                       # CANT add a Controlled conjuate gate V to qubit 0\n",
    "                                      # -> the is not such a pre-built method on Qiskit (yet)\n",
    "qc.h(1) \n",
    "qc.barrier(label = \"barrier name\")    # add a barrier with the name \"barrier\"\n",
    "qc.s(2)                               # add gate S to qubit 3\n",
    "qc.t(2)                               # add gate T to qubit 3\n",
    "qc.draw()                  "
   ]
  },
  {
   "cell_type": "code",
   "execution_count": 8,
   "id": "5e011682-7615-4fac-b0a3-fe5682e1db94",
   "metadata": {
    "tags": []
   },
   "outputs": [
    {
     "data": {
      "image/png": "[encoded data removed]",
      "text/plain": [
       "<Figure size 705.552x367.889 with 1 Axes>"
      ]
     },
     "execution_count": 8,
     "metadata": {},
     "output_type": "execute_result"
    }
   ],
   "source": [
    "from qiskit.circuit.library import SXdgGate\n",
    "\n",
    "qc = QuantumCircuit(4)\n",
    "\n",
    "qc.cx(2, 3)\n",
    "qc.cx(0, 3)\n",
    "\n",
    "qc.csx(1, 2)\n",
    "qc.cx(0, 1)\n",
    "\n",
    "csxdg_gate = SXdgGate().control()\n",
    "qc.append(csxdg_gate, [1, 2])\n",
    "\n",
    "qc.csx(0, 2)\n",
    "qc.cx(2, 0)\n",
    "\n",
    "qc.draw('mpl')"
   ]
  },
  {
   "cell_type": "code",
   "execution_count": 12,
   "id": "0a304c34-e7f6-440e-8d7e-8c17fb18f88f",
   "metadata": {
    "tags": []
   },
   "outputs": [
    {
     "data": {
      "image/png": "[encoded data removed]",
      "text/plain": [
       "<Figure size 621.941x367.889 with 1 Axes>"
      ]
     },
     "execution_count": 12,
     "metadata": {},
     "output_type": "execute_result"
    }
   ],
   "source": [
    "# Make a quantum circuit (QC) with 3 qubits and 1 classical bit, that\n",
    "# qubit No. 0 has gate X,\n",
    "# qubit No. 1 has gate H,\n",
    "# qubit No. 2 has gate S, and then a T gate, \n",
    "# after adding these gates, put a barrier\n",
    "# and swap qubit No.1 with qubit No. 2\n",
    "# and then swap qubit No.2 with qubit No. 1\n",
    "\n",
    "\n",
    "# NOTE (1) : The S gate, \n",
    "#            is applied in a circuit as \".s(qubit_number)\".\n",
    "#            It rotates qubits' direction on Bloch Shere 90 degree on Z axis. \n",
    "\n",
    "# NOTE (2) : The T gate, \n",
    "#            is applied in a circuit as \".t(qubit_number)\".\n",
    "#            It rotates qubits' direction on Bloch Shere 45 degree on Z axis. \n",
    "\n",
    "\n",
    "\n",
    "qc = QuantumCircuit(3, 1)     \n",
    "qc.x(0)                    \n",
    "qc.h(1) \n",
    "qc.s(2)                        # add gate S to qubit 3\n",
    "qc.t(2)                        # add gate T to qubit 3\n",
    "qc.barrier(label = \"swap\")     # add a barrier with the name \"swap\"\n",
    "qc.swap(1, 2)                  # swapping qubits No. 1 and No. 2\n",
    "qc.swap(2, 1)                  # swapping qubits No. 2 and No. 1\n",
    "qc.draw()                  "
   ]
  },
  {
   "cell_type": "code",
   "execution_count": 11,
   "id": "4e2f07b9-6367-4253-83fa-fbf6b27f43fd",
   "metadata": {
    "tags": []
   },
   "outputs": [
    {
     "data": {
      "image/png": "[encoded data removed]",
      "text/plain": [
       "<Figure size 747.609x367.889 with 1 Axes>"
      ]
     },
     "execution_count": 11,
     "metadata": {},
     "output_type": "execute_result"
    }
   ],
   "source": [
    "# Make a quantum circuit (QC) with 3 qubits and 3 bits, that\n",
    "# adds to qubit No.0 has an H gate, \n",
    "# adds a Swap gate with qubit No.0 in control and No.1 as targets, \n",
    "# adds a Controlled Swap gate (CSWAP) with qubit No.0 in control and No.1,2 as targets.\n",
    "\n",
    "# NOTE (1) : The SWAP gate, \n",
    "#            is applied in a circuit as \".swap(qubit1, qubit2)\".\n",
    "#            It exchanges the states of two qubits, effectively swapping their quantum information.\n",
    "#            --> Note that \"swap(a,b)\" is the same as applying \"swap(b,a)\". \n",
    "\n",
    "# NOTE (2) : The Controlled - Swap gate or C-SWAP gate, \n",
    "#            is applied with .cswap(contr_qubit, targ_qubit_1, targ_qubit_2)\n",
    "#            in which, the first parameter is the qubit in control, \n",
    "#                      the second paramenter is a target qubit, and \n",
    "#                      the third (last) paramenter is also a target qubit. \n",
    "#            If the control qubits is 1, then an SWAP gate is applied to target qubits. \n",
    " \n",
    "\n",
    "qc = QuantumCircuit(3)\n",
    "qc.h(0)\n",
    "qc.swap(0,1)                    # swapping qubits No. 0 and No. 1\n",
    "qc.cswap(0, 1, 2)               # CSWAP: control qubit is No. 0, target qubits are No. 1, No.2 \n",
    "                                # if qubit in control (No. 0) is \"1\", \n",
    "                                #        put a SWAP gate to target qubits (No. 1, 2)\n",
    "qc.measure_all()\n",
    "qc.draw()"
   ]
  },
  {
   "cell_type": "code",
   "execution_count": 52,
   "id": "728c28b5-4afb-404f-85af-2cec0391d948",
   "metadata": {},
   "outputs": [
    {
     "data": {
      "image/png": "[encoded data removed]",
      "text/plain": [
       "<Figure size 371.107x367.889 with 1 Axes>"
      ]
     },
     "execution_count": 52,
     "metadata": {},
     "output_type": "execute_result"
    }
   ],
   "source": [
    "# Make a quantum circuit (QC) with 2 qubits, that\n",
    "# qubit No. 0 rotate it pi/6 degree on X axis,\n",
    "# qubit No. 1 rotate it pi/7 degree on Y axis, with the name \"Y rotation\"\n",
    "# qubit No. 2 rotate it pi degree on Z axis, using the .rz() and not the .z method, \n",
    "# and swap qubit 1 with 0\n",
    "\n",
    "\n",
    "# NOTE (1) : It is useful to import numpy library, to access the pi value. \n",
    "\n",
    "# NOTE (2) : The \".rx(theta, qubit_no label = None)\" method\n",
    "#            rotates a qubit by theta degrees on X axis. \n",
    "#            The \"label\" parameter is optional and is used to name that gate/ rotation. \n",
    "\n",
    "# NOTE (3) : The \".ry(theta, qubit_no label = None)\" method\n",
    "#            rotates a qubit by theta degrees on Y axis. \n",
    "#            The \"label\" parameter is optional and is used to name that gate/ rotation. \n",
    "\n",
    "# NOTE (4) : The \".rz(theta, qubit_no label = None)\" method\n",
    "#            rotates a qubit by theta degrees on Z axis. \n",
    "#            The \"label\" parameter is optional and is used to name that gate/ rotation. \n",
    "\n",
    "import numpy as np               # importing numpy to access the pi value\n",
    "pi = np.pi \n",
    "\n",
    "qc = QuantumCircuit(3, 1)     \n",
    "qc.rx(pi/6, 0)                    # rotates qubit pi/6 degrees on X axis    \n",
    "qc.ry(pi/7, 1, 'Y rotation')      # rotates qubit pi/7 degrees on Y axis - named \"rotation\"\n",
    "qc.rz(pi, 2)                      # rotates qubit pi degrees on Z axis\n",
    "                                  # same as applying .z() when on pi degrees\n",
    "qc.swap(0,1)\n",
    "qc.draw()                  "
   ]
  },
  {
   "cell_type": "code",
   "execution_count": 28,
   "id": "f7e78524-d97f-4248-bff5-fa88a94af9c2",
   "metadata": {
    "tags": []
   },
   "outputs": [
    {
     "data": {
      "image/png": "[encoded data removed]",
      "text/plain": [
       "<Figure size 789.163x367.889 with 1 Axes>"
      ]
     },
     "execution_count": 28,
     "metadata": {},
     "output_type": "execute_result"
    }
   ],
   "source": [
    "# Make a quantum circuit (QC) with 3 qubits and 3 bits, that\n",
    "# adds to qubit No.0 has an H gate, \n",
    "# adds a Controlled X gate (CNOT) with qubit No.0 in control and No.1 as target.\n",
    "# adds a Controlled X gate (CNOT) with qubit No.2 in control and No.1 as target.\n",
    "# adds a barrier. \n",
    "# adds a CC-NOT gate with qubit No.0, No.1 in control and No.2 as target.\n",
    "# adds a CCZ gate with qubit No.0, No.1 in control and No.2 as target.\n",
    "# adds a Controlled H gate (CH) with qubit No.1 in control and No.0 as target.\n",
    "# Lastly, add an Y gate to qubit No.1.\n",
    "\n",
    "# NOTE (1) : The Controlled - X gate or C-NOT gate, \n",
    "#            is applied with .cx(contr_qubit, targ_qubit)\n",
    "#            OR with .cnot(contr_qubit, targ_qubit).\n",
    "#            in which, the first parameter is the qubit in control, and\n",
    "#                      the second paramenter is the target qubit. \n",
    "#            If control qubit is 1, then an X gate is applied to target qubit. \n",
    "\n",
    "# NOTE (2) : The Toffoli Gate or Controlled - Controlled - X gate or CC-NOT gate, \n",
    "#            is applied with .ccx(contr_qubit_1, contr_qubit_2, targ_qubit)\n",
    "#            in which, the first parameter is the qubit in control, \n",
    "#                      the second paramenter is alse a qubit in control, and \n",
    "#                      the third (last) paramenter is the target qubit. \n",
    "#            If both of the control qubits is 1, then an X gate is applied to target qubit. \n",
    "\n",
    "# NOTE (3) : The Controlled - Controlled - Z gate or CCZ gate, \n",
    "#            is applied with .ccz(contr_qubit_1, contr_qubit_2, targ_qubit)\n",
    "#            in which, the first parameter is the qubit in control, \n",
    "#                      the second paramenter is alse a qubit in control, and \n",
    "#                      the third (last) paramenter is the target qubit. \n",
    "#            If both of the control qubits is 1, then an Z gate is applied to target qubit. \n",
    "#            --> Observe that no \"target\" icon is shown with the \".draw()\" method. \n",
    "\n",
    "# NOTE (4) : The Controlled - H gate or CH gate, \n",
    "#            is applied with .ch(contr_qubit, targ_qubit)\n",
    "#            in which, the first parameter is the qubit in control, and\n",
    "#                      the second paramenter is the target qubit. \n",
    "#            If control qubit is 1, then an H gate is applied to target qubit. \n",
    "\n",
    "# NOTE (5) : The Controlled - Y gate or CY gate, \n",
    "#            is applied with .cy(contr_qubit, targ_qubit)\n",
    "#            in which, the first parameter is the qubit in control, and\n",
    "#                      the second paramenter is the target qubit. \n",
    "#            If control qubit is 1, then an Y gate is applied to target qubit. \n",
    "\n",
    "qc = QuantumCircuit(3, 3)\n",
    "qc.h(0)\n",
    "qc.cx(0, 1)                  # CNOT: control qubit is No. 0, target qubit is No. 1 \n",
    "qc.cnot(2,1)                 # CNOT: control qubit is No. 2, target qubit is No. 1 \n",
    "                             # the \".cx(q,q)\" is the same as \".cnot(q,q)\"\n",
    "qc.barrier()\n",
    "qc.ccx(0,1,2)                # CCNOT: if qubits in control (No. 0,1) are \"1\", \n",
    "                             #        put an X gate to target qubit (No. 2)\n",
    "qc.ccz(0,1,2)                # CCZ: if qubits in control (No. 0,1) are \"1\", \n",
    "                             #        put a Z gate to target qubit (No. 2)\n",
    "                             # --> Observe that no \"target\" icon is shown with the \".draw()\" method. \n",
    "qc.ch(1,0)                   # CH: control qubit is No. 1, target qubit is No. 0 \n",
    "qc.cy(1,2)                   # CY: control qubit is No. 1, target qubit is No. 2 \n",
    "qc.draw()"
   ]
  },
  {
   "cell_type": "code",
   "execution_count": 2,
   "id": "0021d8be-607d-4d34-ade3-f463327cf424",
   "metadata": {
    "tags": []
   },
   "outputs": [
    {
     "data": {
      "image/png": "[encoded data removed]",
      "text/plain": [
       "<Figure size 663.998x367.889 with 1 Axes>"
      ]
     },
     "execution_count": 2,
     "metadata": {},
     "output_type": "execute_result"
    }
   ],
   "source": [
    "# Make a quantum circuit (QC) with 3 qubits and 3 bits, that\n",
    "# adds to qubit No.0 has an H gate, \n",
    "# adds a Controlled Swap gate (CSWAP) with qubit No.0 in control and No.1,2 as targets.\n",
    "\n",
    "\n",
    "# NOTE (1) : The Controlled - Swap gate or C-SWAP gate, \n",
    "#            is applied with .cswap(contr_qubit, targ_qubit_1, targ_qubit_2)\n",
    "#            in which, the first parameter is the qubit in control, \n",
    "#                      the second paramenter is a target qubit, and \n",
    "#                      the third (last) paramenter is also a target qubit. \n",
    "#            If the control qubits is 1, then an SWAP gate is applied to target qubits. \n",
    " \n",
    "\n",
    "qc = QuantumCircuit(3)\n",
    "qc.h(0)\n",
    "qc.cswap(0, 1, 2)               # CSWAP: control qubit is No. 0, target qubits are No. 1, No.2 \n",
    "                                # if qubit in control (No. 0) is \"1\", \n",
    "                                #        put a SWAP gate to target qubits (No. 1, 2)\n",
    "qc.measure_all()\n",
    "qc.draw()"
   ]
  }
 ],
 "metadata": {
  "kernelspec": {
   "display_name": "Python 3 (ipykernel)",
   "language": "python",
   "name": "python3"
  },
  "language_info": {
   "codemirror_mode": {
    "name": "ipython",
    "version": 3
   },
   "file_extension": ".py",
   "mimetype": "text/x-python",
   "name": "python",
   "nbconvert_exporter": "python",
   "pygments_lexer": "ipython3",
   "version": "3.10.8"
  },
  "widgets": {
   "application/vnd.jupyter.widget-state+json": {
    "state": {
     "10f610abb5ae42569e4b551155720d88": {
      "model_module": "@jupyter-widgets/base",
      "model_module_version": "2.0.0",
      "model_name": "LayoutModel",
      "state": {
       "width": "190px"
      }
     },
     "14f8ba4a6060474680bb0c3c0b776f42": {
      "model_module": "@jupyter-widgets/controls",
      "model_module_version": "2.0.0",
      "model_name": "GridBoxModel",
      "state": {
       "children": [
        "IPY_MODEL_b0e5af9cd179424bbfff07e4e0061db1"
       ],
       "layout": "IPY_MODEL_e38f28f681494d78a1ccebb8ead880cc"
      }
     },
     "18492aa046db4e12afa193462dca7229": {
      "model_module": "@jupyter-widgets/controls",
      "model_module_version": "2.0.0",
      "model_name": "ButtonStyleModel",
      "state": {
       "font_family": null,
       "font_size": null,
       "font_style": null,
       "font_variant": null,
       "font_weight": null,
       "text_color": null,
       "text_decoration": null
      }
     },
     "263478844c494b5796d14f6d3e817cb0": {
      "model_module": "@jupyter-widgets/controls",
      "model_module_version": "2.0.0",
      "model_name": "HTMLStyleModel",
      "state": {
       "description_width": "",
       "font_size": null,
       "text_color": null
      }
     },
     "4a24124b4c2e4ef1b8dd22df2bec76f0": {
      "model_module": "@jupyter-widgets/controls",
      "model_module_version": "2.0.0",
      "model_name": "HTMLStyleModel",
      "state": {
       "description_width": "",
       "font_size": null,
       "text_color": null
      }
     },
     "5273bac5ce2e490ba42293c6d32e862a": {
      "model_module": "@jupyter-widgets/base",
      "model_module_version": "2.0.0",
      "model_name": "LayoutModel",
      "state": {
       "width": "95px"
      }
     },
     "55f703ab6e3640afbf1cef81b3e32d5b": {
      "model_module": "@jupyter-widgets/base",
      "model_module_version": "2.0.0",
      "model_name": "LayoutModel",
      "state": {}
     },
     "67a3a7534fcd4affbd59aec4c11e422d": {
      "model_module": "@jupyter-widgets/base",
      "model_module_version": "2.0.0",
      "model_name": "LayoutModel",
      "state": {
       "width": "145px"
      }
     },
     "7071951e6f6145cfa489daea9f87e58b": {
      "model_module": "@jupyter-widgets/base",
      "model_module_version": "2.0.0",
      "model_name": "LayoutModel",
      "state": {
       "margin": "0px 0px 0px 37px",
       "width": "600px"
      }
     },
     "7325c5799cb244f5b25fd3d56c76cd50": {
      "model_module": "@jupyter-widgets/controls",
      "model_module_version": "2.0.0",
      "model_name": "HTMLModel",
      "state": {
       "layout": "IPY_MODEL_97159d9e1a3c4226b618ef7004663d4a",
       "style": "IPY_MODEL_4a24124b4c2e4ef1b8dd22df2bec76f0",
       "value": "<p style='font-family: IBM Plex Sans, Arial, Helvetica, sans-serif; font-size: 20px; font-weight: medium;'>Circuit Properties</p>"
      }
     },
     "8417462ff61646d6bc0315b6b1341535": {
      "model_module": "@jupyter-widgets/base",
      "model_module_version": "2.0.0",
      "model_name": "LayoutModel",
      "state": {
       "grid_area": "right",
       "padding": "0px 0px 0px 0px",
       "width": "70px"
      }
     },
     "87f89aced4314847a5f7f6345685cc11": {
      "model_module": "@jupyter-widgets/controls",
      "model_module_version": "2.0.0",
      "model_name": "HTMLModel",
      "state": {
       "layout": "IPY_MODEL_55f703ab6e3640afbf1cef81b3e32d5b",
       "style": "IPY_MODEL_cc05dd4a6c5442fe9b22e44274aea166",
       "value": "<h5>Message</h5>"
      }
     },
     "93b167c844ff44c284f76e8ea4e2fed2": {
      "model_module": "@jupyter-widgets/base",
      "model_module_version": "2.0.0",
      "model_name": "LayoutModel",
      "state": {
       "width": "70px"
      }
     },
     "97159d9e1a3c4226b618ef7004663d4a": {
      "model_module": "@jupyter-widgets/base",
      "model_module_version": "2.0.0",
      "model_name": "LayoutModel",
      "state": {
       "margin": "0px 0px 10px 0px"
      }
     },
     "9e6a937ca1b241d98905142c19d81bdc": {
      "model_module": "@jupyter-widgets/controls",
      "model_module_version": "2.0.0",
      "model_name": "HBoxModel",
      "state": {
       "children": [
        "IPY_MODEL_f8b82707aa2d4622bd240ac374dfdd53",
        "IPY_MODEL_a23a83f0701b484f9908746d50f69fdf",
        "IPY_MODEL_af8a1e35be1447f88bcd31f6b1bf3d1c",
        "IPY_MODEL_bd83a5f3361a444ab9f164143983b9af",
        "IPY_MODEL_87f89aced4314847a5f7f6345685cc11"
       ],
       "layout": "IPY_MODEL_7071951e6f6145cfa489daea9f87e58b"
      }
     },
     "a23a83f0701b484f9908746d50f69fdf": {
      "model_module": "@jupyter-widgets/controls",
      "model_module_version": "2.0.0",
      "model_name": "HTMLModel",
      "state": {
       "layout": "IPY_MODEL_67a3a7534fcd4affbd59aec4c11e422d",
       "style": "IPY_MODEL_263478844c494b5796d14f6d3e817cb0",
       "value": "<h5>Backend</h5>"
      }
     },
     "a290baf1e50142ae8c12bd77eac26024": {
      "model_module": "@jupyter-widgets/controls",
      "model_module_version": "2.0.0",
      "model_name": "HTMLStyleModel",
      "state": {
       "description_width": "",
       "font_size": null,
       "text_color": null
      }
     },
     "af8a1e35be1447f88bcd31f6b1bf3d1c": {
      "model_module": "@jupyter-widgets/controls",
      "model_module_version": "2.0.0",
      "model_name": "HTMLModel",
      "state": {
       "layout": "IPY_MODEL_5273bac5ce2e490ba42293c6d32e862a",
       "style": "IPY_MODEL_c09fed0c75034daf92ea141d1c18b1c2",
       "value": "<h5>Status</h5>"
      }
     },
     "b0e5af9cd179424bbfff07e4e0061db1": {
      "model_module": "@jupyter-widgets/controls",
      "model_module_version": "2.0.0",
      "model_name": "ButtonModel",
      "state": {
       "button_style": "primary",
       "description": "Clear",
       "layout": "IPY_MODEL_8417462ff61646d6bc0315b6b1341535",
       "style": "IPY_MODEL_18492aa046db4e12afa193462dca7229",
       "tooltip": null
      }
     },
     "bd83a5f3361a444ab9f164143983b9af": {
      "model_module": "@jupyter-widgets/controls",
      "model_module_version": "2.0.0",
      "model_name": "HTMLModel",
      "state": {
       "layout": "IPY_MODEL_93b167c844ff44c284f76e8ea4e2fed2",
       "style": "IPY_MODEL_ff1123a68d13468ebfaa84abbd7b1305",
       "value": "<h5>Queue</h5>"
      }
     },
     "c09fed0c75034daf92ea141d1c18b1c2": {
      "model_module": "@jupyter-widgets/controls",
      "model_module_version": "2.0.0",
      "model_name": "HTMLStyleModel",
      "state": {
       "description_width": "",
       "font_size": null,
       "text_color": null
      }
     },
     "cc05dd4a6c5442fe9b22e44274aea166": {
      "model_module": "@jupyter-widgets/controls",
      "model_module_version": "2.0.0",
      "model_name": "HTMLStyleModel",
      "state": {
       "description_width": "",
       "font_size": null,
       "text_color": null
      }
     },
     "e38f28f681494d78a1ccebb8ead880cc": {
      "model_module": "@jupyter-widgets/base",
      "model_module_version": "2.0.0",
      "model_name": "LayoutModel",
      "state": {
       "grid_template_areas": "\n                                       \". . . . right \"\n                                        ",
       "grid_template_columns": "20% 20% 20% 20% 20%",
       "width": "100%"
      }
     },
     "f8b82707aa2d4622bd240ac374dfdd53": {
      "model_module": "@jupyter-widgets/controls",
      "model_module_version": "2.0.0",
      "model_name": "HTMLModel",
      "state": {
       "layout": "IPY_MODEL_10f610abb5ae42569e4b551155720d88",
       "style": "IPY_MODEL_a290baf1e50142ae8c12bd77eac26024",
       "value": "<h5>Job ID</h5>"
      }
     },
     "ff1123a68d13468ebfaa84abbd7b1305": {
      "model_module": "@jupyter-widgets/controls",
      "model_module_version": "2.0.0",
      "model_name": "HTMLStyleModel",
      "state": {
       "description_width": "",
       "font_size": null,
       "text_color": null
      }
     }
    },
    "version_major": 2,
    "version_minor": 0
   }
  }
 },
 "nbformat": 4,
 "nbformat_minor": 5
}
