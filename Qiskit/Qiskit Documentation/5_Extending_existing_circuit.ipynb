{
 "cells": [
  {
   "cell_type": "code",
   "execution_count": 50,
   "id": "ce06a813-a857-408c-bd38-f6a9a0df5f0b",
   "metadata": {
    "tags": []
   },
   "outputs": [],
   "source": [
    "# Importin# Importing standard Qiskit libraries\n",
    "from qiskit import QuantumCircuit, QuantumRegister, ClassicalRegister, transpile\n",
    "from qiskit.tools.jupyter import *\n",
    "from qiskit.visualization import *\n",
    "from ibm_quantum_widgets import *\n",
    "\n",
    "# qiskit-ibmq-provider has been deprecated.\n",
    "# Please see the Migration Guides in https://ibm.biz/provider_migration_guide for more detail.\n",
    "from qiskit_ibm_runtime import QiskitRuntimeService, Sampler, Estimator, Session, Options\n",
    "\n",
    "import numpy as np\n",
    "\n",
    "# Importing standard Qiskit libraries\n",
    "from qiskit import QuantumCircuit, transpile, Aer, IBMQ\n",
    "from ibm_quantum_widgets import *\n",
    "from qiskit.providers.aer import QasmSimulator"
   ]
  },
  {
   "cell_type": "code",
   "execution_count": 33,
   "id": "80599ee2-318d-4e29-90df-d26b6afc2da7",
   "metadata": {
    "tags": []
   },
   "outputs": [
    {
     "data": {
      "image/png": "[encoded data removed]",
      "text/plain": [
       "<Figure size 454.719x367.889 with 1 Axes>"
      ]
     },
     "execution_count": 33,
     "metadata": {},
     "output_type": "execute_result"
    }
   ],
   "source": [
    "# Make a circuit with 3 qubits and 3 bits, \n",
    "# add the H gate to all qubits. \n",
    "# Make another circuit with 3 qubits and 3 bits, and\n",
    "# add the X gate to all qubits. \n",
    "# Extend the first circuit by adding at the end of the second circuit. \n",
    "# Measure results of the final (merged) circuits. \n",
    "\n",
    "N = 4\n",
    "\n",
    "# 1st QC\n",
    "qc_1 = QuantumCircuit(N, name=\"H gates\")\n",
    "for i in range(N):\n",
    "    qc_1.h(i)\n",
    "    \n",
    "# 2nd QC\n",
    "qc_2 = QuantumCircuit(N, name=\"X gates\")\n",
    "for i in range(N):\n",
    "    qc_2.x(i)\n",
    "\n",
    "# Convert to a gate and stick it into an arbitrary place in the bigger circuit\n",
    "qc_1 = qc_1.to_instruction()\n",
    "qc_2 = qc_2.to_instruction()\n",
    "    \n",
    "# Merge (append) circuits\n",
    "qs = [q for q in range(N)]\n",
    "qc = QuantumCircuit(N)\n",
    "qc.append(qc_1, qs)\n",
    "qc.append(qc_2, qs)\n",
    "\n",
    "#circ.append(sub_inst, [qr[1], qr[2]])\n",
    "\n",
    "# Measure results \n",
    "lst = [ x for x in range(0,N) ]\n",
    "#qc.measure(lst, lst)\n",
    "qc.draw()"
   ]
  },
  {
   "cell_type": "code",
   "execution_count": 12,
   "id": "5a6cee8d-ee3d-4bd0-8cfb-e7cb33a779b4",
   "metadata": {
    "tags": []
   },
   "outputs": [
    {
     "name": "stdout",
     "output_type": "stream",
     "text": [
      "Traceback \u001b[1;36m(most recent call last)\u001b[0m:\n",
      "\u001b[0m  Cell \u001b[0;32mIn[12], line 14\u001b[0m\n",
      "    qc1.append(qc2, qc1.qubits)\u001b[0m\n",
      "\u001b[0m  File \u001b[0;32m/opt/conda/lib/python3.10/site-packages/qiskit/circuit/quantumcircuit.py:1313\u001b[0m in \u001b[0;35mappend\u001b[0m\n",
      "    for qarg, carg in operation.broadcast_arguments(expanded_qargs, expanded_cargs):\u001b[0m\n",
      "\u001b[1;36m  File \u001b[1;32m/opt/conda/lib/python3.10/site-packages/qiskit/circuit/instruction.py:480\u001b[1;36m in \u001b[1;35mbroadcast_arguments\u001b[1;36m\n",
      "\u001b[1;33m    raise CircuitError(\u001b[1;36m\n",
      "\u001b[1;31mCircuitError\u001b[0m\u001b[1;31m:\u001b[0m 'The amount of qubit arguments 2 does not match the instruction expectation (3).'\n",
      "\n",
      "Use %tb to get the full traceback.\n"
     ]
    },
    {
     "data": {
      "text/html": [
       "\n",
       "<style>\n",
       ".button {\n",
       "  border: none;\n",
       "  color: white;\n",
       "  padding: 4px 8px;\n",
       "  text-align: center;\n",
       "  text-decoration: none;\n",
       "  display: inline-block;\n",
       "  font-size: 12px;\n",
       "  margin: 4px 2px;\n",
       "  transition-duration: 0.2s;\n",
       "  cursor: pointer;\n",
       "}\n",
       ".iqx-button {\n",
       "  background-color: #0f62fe; \n",
       "  color: white; \n",
       "}\n",
       ".iqx-button:hover {\n",
       "  background-color: #0043ce;\n",
       "  color: white;\n",
       "}\n",
       "</style>\n",
       "<a href=\"https://stackoverflow.com/search?q=CircuitError: The amount of qubit arguments 2 does not match the instruction expectation (3).\" target='_blank'><button class='button iqx-button'>Search for solution online</button></a>\n"
      ],
      "text/plain": [
       "<IPython.core.display.HTML object>"
      ]
     },
     "metadata": {},
     "output_type": "display_data"
    }
   ],
   "source": [
    "from qiskit import QuantumCircuit\n",
    "\n",
    "# Create the first quantum circuit\n",
    "qc1 = QuantumCircuit(2)\n",
    "qc1.h(0)\n",
    "qc1.cx(0, 1)\n",
    "\n",
    "# Create the second quantum circuit\n",
    "qc2 = QuantumCircuit(3)\n",
    "qc2.cx(0, 1)\n",
    "qc2.cx(1, 2)\n",
    "\n",
    "# Append the second quantum circuit to the first\n",
    "qc1.append(qc2, qc1.qubits)\n",
    "\n",
    "# Print the combined circuit\n",
    "print(qc1)"
   ]
  },
  {
   "cell_type": "code",
   "execution_count": 15,
   "id": "6db8f170-43df-43a6-bca7-dab736b95089",
   "metadata": {
    "tags": []
   },
   "outputs": [
    {
     "data": {
      "image/png": "[encoded data removed]",
      "text/plain": [
       "<Figure size 538.33x284.278 with 1 Axes>"
      ]
     },
     "execution_count": 15,
     "metadata": {},
     "output_type": "execute_result"
    }
   ],
   "source": [
    "# Build a sub-circuit\n",
    "sub_q = QuantumRegister(2)\n",
    "sub_circ = QuantumCircuit(sub_q, name='sub_circ')\n",
    "sub_circ.h(sub_q[0])\n",
    "sub_circ.crz(1, sub_q[0], sub_q[1])\n",
    "sub_circ.barrier()\n",
    "sub_circ.id(sub_q[1])\n",
    "sub_circ.u(1, 2, -2, sub_q[0])\n",
    "\n",
    "# Convert to a gate and stick it into an arbitrary place in the bigger circuit\n",
    "sub_inst = sub_circ.to_instruction()\n",
    "\n",
    "qr = QuantumRegister(3, 'q')\n",
    "circ = QuantumCircuit(qr)\n",
    "circ.h(qr[0])\n",
    "circ.cx(qr[0], qr[1])\n",
    "circ.cx(qr[1], qr[2])\n",
    "circ.append(sub_inst, [qr[1], qr[2]])\n",
    "\n",
    "circ.draw()"
   ]
  },
  {
   "cell_type": "code",
   "execution_count": 34,
   "id": "46dad5b8-168e-489d-a469-01e1b8858c07",
   "metadata": {
    "tags": []
   },
   "outputs": [
    {
     "name": "stdout",
     "output_type": "stream",
     "text": [
      "Traceback \u001b[1;36m(most recent call last)\u001b[0m:\n",
      "\u001b[1;36m  Cell \u001b[1;32mIn[34], line 7\u001b[1;36m\n",
      "\u001b[1;33m    qc.compose(gate, qubits=[0, 1, 2], inplace=True)\u001b[1;36m\n",
      "\u001b[1;31mNameError\u001b[0m\u001b[1;31m:\u001b[0m name 'gate' is not defined\n",
      "\n",
      "Use %tb to get the full traceback.\n"
     ]
    },
    {
     "data": {
      "text/html": [
       "\n",
       "<style>\n",
       ".button {\n",
       "  border: none;\n",
       "  color: white;\n",
       "  padding: 4px 8px;\n",
       "  text-align: center;\n",
       "  text-decoration: none;\n",
       "  display: inline-block;\n",
       "  font-size: 12px;\n",
       "  margin: 4px 2px;\n",
       "  transition-duration: 0.2s;\n",
       "  cursor: pointer;\n",
       "}\n",
       ".iqx-button {\n",
       "  background-color: #0f62fe; \n",
       "  color: white; \n",
       "}\n",
       ".iqx-button:hover {\n",
       "  background-color: #0043ce;\n",
       "  color: white;\n",
       "}\n",
       "</style>\n",
       "<a href=\"https://stackoverflow.com/search?q=NameError: name 'gate' is not defined\" target='_blank'><button class='button iqx-button'>Search for solution online</button></a>\n"
      ],
      "text/plain": [
       "<IPython.core.display.HTML object>"
      ]
     },
     "metadata": {},
     "output_type": "display_data"
    }
   ],
   "source": [
    "qc = QuantumCircuit(3)\n",
    "qc.h(0)\n",
    "qc.cx(0, 1)\n",
    "qc.x(2)\n",
    "\n",
    "# Apply a gate to multiple qubit lines\n",
    "qc.compose(gate, qubits=[0, 1, 2], inplace=True)\n",
    "\n",
    "# Merge the qubit lines into a single output qubit line\n",
    "qc.barrier([0, 1, 2])\n",
    "qc.reset([0, 1, 2])\n",
    "qc.compose(gate_merge, qubits=[0, 1, 2], inplace=True)\n",
    "\n",
    "# Print the final circuit\n",
    "print(qc)"
   ]
  },
  {
   "cell_type": "code",
   "execution_count": 44,
   "id": "e9903653-e082-4abf-82b2-f6397e2698a4",
   "metadata": {
    "tags": []
   },
   "outputs": [
    {
     "data": {
      "image/png": "[encoded data removed]",
      "text/plain": [
       "<Figure size 705.552x451.5 with 1 Axes>"
      ]
     },
     "execution_count": 44,
     "metadata": {},
     "output_type": "execute_result"
    }
   ],
   "source": [
    "qc = QuantumCircuit(4, 2)\n",
    "qc.h(0)\n",
    "qc.cx(0, 1)\n",
    "qc.x(2)\n",
    "\n",
    "# Create a multi-qubit gate\n",
    "multi_qubit_gate = QuantumCircuit(3)  # 3 qubits\n",
    "multi_qubit_gate.cx(0, 1)\n",
    "multi_qubit_gate.cx(1, 2)\n",
    "\n",
    "# Merge the qubit lines into a single output qubit line\n",
    "qc.barrier([0, 1, 2])\n",
    "qc.reset([0, 1, 2])\n",
    "qc.compose(multi_qubit_gate, qubits=[0, 1, 2], inplace=True)\n",
    "\n",
    "# Measure the output qubit\n",
    "output_qubit_index = 3\n",
    "qc.measure(output_qubit_index, 0)\n",
    "\n",
    "# Apply if-statement to conditionally invert the measurement outcome\n",
    "qc.x(0).c_if(0b1, 1)\n",
    "\n",
    "# Print the final circuit\n",
    "qc.draw()"
   ]
  },
  {
   "cell_type": "markdown",
   "id": "467c6148-3a79-4c06-b6e5-d858e9e13397",
   "metadata": {},
   "source": [
    "CODE TO GET COUNTS WHEN USING INSTRUCTIONS DEFINED INSIDE FUNCTION \n",
    "~~~\n",
    "expTimes = 1000\n",
    "transpiled_circuit = transpile(qc, basis_gates=['u1', 'u2', 'u3', 'cx', 'id'])\n",
    "simulator = Aer.get_backend('qasm_simulator')\n",
    "job = simulator.run(transpiled_circuit, shots=expTimes)\n",
    "counts = job.result().get_counts(transpiled_circuit)\n",
    "~~~"
   ]
  },
  {
   "cell_type": "code",
   "execution_count": 120,
   "id": "b1864bcc-79f3-4410-9f51-ab90ec8d9928",
   "metadata": {
    "tags": []
   },
   "outputs": [
    {
     "name": "stdout",
     "output_type": "stream",
     "text": [
      "{'1110 1': 1}\n"
     ]
    },
    {
     "data": {
      "image/png": "[encoded data removed]",
      "text/plain": [
       "<Figure size 581.854x374.578 with 1 Axes>"
      ]
     },
     "metadata": {},
     "output_type": "display_data"
    }
   ],
   "source": [
    "# Make a circuit with 4 qubits and 1 bit, \n",
    "# add the H gate to all qubits. \n",
    "# Create a XOR function, apply to all qubits, \n",
    "# Extend the intial circuit by adding at the end the XOR circuit, \n",
    "# Measure results after XOR implementations \n",
    "# --> measure the last qubit and store it on the classical bit.  \n",
    "\n",
    "\n",
    "# -> 1st, define XOR function\n",
    "def XOR(circ, qubitLines): \n",
    "    inputs = qubitLines\n",
    "    listQubits = [i for i in range(len(inputs))]\n",
    "    XOR_gate = QuantumCircuit(len(inputs), 1, name=\"XOR\")\n",
    "    \n",
    "    # BULDING THE GATE\n",
    "    # -> BUILD THE CIRCUIT\n",
    "    # Build a register, and create the circuit in it\n",
    "    XOR_register = QuantumRegister(len(inputs))\n",
    "    XOR_qc = QuantumCircuit(XOR_register, name='XOR')\n",
    "    # Add gates to circuit\n",
    "    for i in range(len(inputs)-1): \n",
    "        XOR_gate.cx(i,i+1)\n",
    "    # Add the \".id()\" method to a qubit for connectivity/ reliablity \n",
    "    XOR_qc.id(XOR_register[len(inputs)-1])\n",
    "    \n",
    "    # -> CONVERT CIRCUIT TO GATE and stick it into an arbitrary place in the bigger circuit\n",
    "    XOR_inst = XOR_qc.to_instruction()\n",
    "\n",
    "    circ.append(XOR_inst, listQubits)\n",
    "    \n",
    "# -> 2nd, make the circuit and use the defined function \n",
    "N = 4                                       # Circuit before applying XOR gates\n",
    "qc = QuantumCircuit(N, 1)\n",
    "for i in range(N):\n",
    "    qc.h(i)\n",
    "\n",
    "qc.measure_all()\n",
    "\n",
    "qub_to_apply_gate = [q for q in range(N)]    # Apply XOR to all qubits\n",
    "XOR(qc, qub_to_apply_gate) \n",
    "\n",
    "qc.measure(len(qub_to_apply_gate)-1, 0)      # Measure results \n",
    "\n",
    "# CODE TO GET COUNTS WHEN USING INSTRUCTIONS DEFINED INSIDE FUNCTION \n",
    "expTimes = 1\n",
    "transpiled_circuit = transpile(qc, basis_gates=['u1', 'u2', 'u3', 'cx', 'id'])\n",
    "simulator = Aer.get_backend('qasm_simulator')\n",
    "job = simulator.run(transpiled_circuit, shots=expTimes)\n",
    "counts = job.result().get_counts(transpiled_circuit)\n",
    "\n",
    "print(counts)\n",
    "\n",
    "display(qc.draw(scale=0.7))"
   ]
  },
  {
   "cell_type": "code",
   "execution_count": 119,
   "id": "07161575-5ea1-4447-b9ab-8b3940cee8b5",
   "metadata": {
    "tags": []
   },
   "outputs": [
    {
     "name": "stdout",
     "output_type": "stream",
     "text": [
      "[[-1, -1], [-1, -1], [-1, -1], [-1, -1]]\n",
      "i 0 k 0001\n",
      "i 1 k 0100\n",
      "i 2 k 0000\n",
      "i 3 k 0101\n",
      "[['0101', -1], ['0101', -1], ['0101', -1], ['0101', -1]]\n",
      "v 17 , k 0001\n",
      "arr: [['0101', -1], ['0101', -1], ['0101', -1], ['0101', -1]]\n",
      "v 14 , k 0100\n",
      "arr: [['0101', -1], ['0101', -1], ['0101', -1], ['0101', -1]]\n",
      "v 9 , k 0000\n",
      "arr: [['0101', -1], ['0101', -1], ['0101', -1], ['0101', -1]]\n",
      "v 10 , k 0000\n",
      "arr: [['0101', -1], ['0101', -1], ['0101', -1], ['0101', -1]]\n",
      "v 9 , k 0100\n",
      "arr: [['0101', -1], ['0101', -1], ['0101', -1], ['0101', -1]]\n",
      "v 13 , k 0001\n",
      "arr: [['0101', -1], ['0101', -1], ['0101', -1], ['0101', -1]]\n",
      "v 11 , k 0101\n",
      "arr: [['0101', 44], ['0101', 44], ['0101', 44], ['0101', 44]]\n",
      "v 17 , k 0101\n",
      "arr: [['0101', 112], ['0101', 112], ['0101', 112], ['0101', 112]]\n",
      "Fin arr: [['0101', 112], ['0101', 112], ['0101', 112], ['0101', 112]]\n"
     ]
    },
    {
     "data": {
      "image/png": "[encoded data removed]",
      "text/plain": [
       "<Figure size 448.565x270.9 with 1 Axes>"
      ]
     },
     "metadata": {},
     "output_type": "display_data"
    },
    {
     "name": "stdout",
     "output_type": "stream",
     "text": [
      "Total measurements from both measure_all() and classical register\n",
      "{'011 0001': 17, '100 0100': 14, '000 0000': 9, '010 0000': 10, '110 0100': 9, '001 0001': 13, '101 0101': 11, '111 0101': 17}\n",
      "Measurement Results from measure_all():\n",
      "{'011': 17, '100': 14, '000': 9, '010': 10, '110': 9, '001': 13, '101': 11, '111': 17}\n",
      "Measurement Results from measurements on classical register 'c':\n",
      "{'0001': 13, '0100': 9, '0000': 10, '0101': 17}\n"
     ]
    }
   ],
   "source": [
    "\n",
    "\n",
    "#          N O N  -  W O R K I N G\n",
    "\n",
    "# Create the quantum circuit\n",
    "qr = QuantumRegister(3, 'q')\n",
    "cr = ClassicalRegister(4, 'c')\n",
    "qc = QuantumCircuit(qr, cr)\n",
    "\n",
    "qc.h(qr)\n",
    "\n",
    "# Measure all qubits using the measure_all() function\n",
    "qc.measure_all()\n",
    "\n",
    "# Measure some individual qubits and store the results in the classical register 'c'\n",
    "qc.measure(qr[0], cr[0])\n",
    "qc.measure(qr[2], cr[2])\n",
    "\n",
    "\n",
    "# Execute the circuit on the simulator\n",
    "simulation = Aer.get_backend('qasm_simulator')\n",
    "job = simulation.run(qc, shots=100)\n",
    "result = job.result()\n",
    "counts = result.get_counts(qc)\n",
    "\n",
    "# Results appear on from \n",
    "# <MEASURE_ALL_RES><SPACE><CLASSICAL_PIPE>\":\"<NUM><SPACE><NUM>\n",
    "\n",
    "# Retrieve the counts for the measurement results from 'measure_all()'\n",
    "counts_measure_all = {k[:qc.num_qubits]: v for k, v in counts.items()}\n",
    "\n",
    "# Retrieve the counts for measurements on the classical register 'c'\n",
    "dif_outputs = {k[qc.num_qubits+1:]: v for k, v in counts.items()}.keys()\n",
    "arr = [[ -1, -1 ]] * len(dif_outputs)\n",
    "print(arr)\n",
    "i=0\n",
    "for k in dif_outputs:\n",
    "    print(\"i\",i,\"k\",k)\n",
    "    arr[i][0] = k\n",
    "    i = i+1                                 # NO REASON alla bazei se ola mono to teleytaio\n",
    "                                            # k - value, enw briskei se kathe gyro diaforetika\n",
    "print(arr)\n",
    "for k, v in counts.items():\n",
    "    key = k[-cr.size:]\n",
    "    print(\"v\",v, \", k\", key)\n",
    "    for i in range(len(arr)): \n",
    "        if key == arr[i][0]:\n",
    "            if arr[i][1] == -1:\n",
    "                arr[i][1] = int(v)\n",
    "            else:\n",
    "                arr[i][1] = arr[i][1] + int(v)\n",
    "    print(\"arr:\", arr)\n",
    "            \n",
    "        \n",
    "print(\"Fin arr:\", arr)\n",
    "counts_c = {k[qc.num_qubits+1:]: v for k, v in counts.items()}\n",
    "\n",
    "display(qc.draw(scale=0.6))\n",
    "print (\"Total measurements from both measure_all() and classical register\")\n",
    "print(counts)\n",
    "\n",
    "print(\"Measurement Results from measure_all():\")\n",
    "print(counts_measure_all)\n",
    "\n",
    "print(\"Measurement Results from measurements on classical register 'c':\")\n",
    "print(counts_c)"
   ]
  }
 ],
 "metadata": {
  "kernelspec": {
   "display_name": "Python 3 (ipykernel)",
   "language": "python",
   "name": "python3"
  },
  "language_info": {
   "codemirror_mode": {
    "name": "ipython",
    "version": 3
   },
   "file_extension": ".py",
   "mimetype": "text/x-python",
   "name": "python",
   "nbconvert_exporter": "python",
   "pygments_lexer": "ipython3",
   "version": "3.10.8"
  },
  "widgets": {
   "application/vnd.jupyter.widget-state+json": {
    "state": {
     "1328c0b07c944843b55c4853b855e7b8": {
      "model_module": "@jupyter-widgets/controls",
      "model_module_version": "2.0.0",
      "model_name": "HTMLModel",
      "state": {
       "layout": "IPY_MODEL_25a2372b8ae240d99fcc90e373ff08b1",
       "style": "IPY_MODEL_ef82c16eb8814066a23b348b512999ca",
       "value": "<h5>Queue</h5>"
      }
     },
     "19e080854be94ec49631eff76acff89e": {
      "model_module": "@jupyter-widgets/controls",
      "model_module_version": "2.0.0",
      "model_name": "HTMLModel",
      "state": {
       "layout": "IPY_MODEL_71b07670ddbb4bd39d0c18593f0dd3f0",
       "style": "IPY_MODEL_71b95936cd12415ca2fa1a2c2675f8a7",
       "value": "<h5>Backend</h5>"
      }
     },
     "25a2372b8ae240d99fcc90e373ff08b1": {
      "model_module": "@jupyter-widgets/base",
      "model_module_version": "2.0.0",
      "model_name": "LayoutModel",
      "state": {
       "width": "70px"
      }
     },
     "2ea104ff258e4a43a34c7045ee4828cf": {
      "model_module": "@jupyter-widgets/base",
      "model_module_version": "2.0.0",
      "model_name": "LayoutModel",
      "state": {
       "width": "95px"
      }
     },
     "363886a290e94b67965e18d398f066fc": {
      "model_module": "@jupyter-widgets/base",
      "model_module_version": "2.0.0",
      "model_name": "LayoutModel",
      "state": {
       "grid_template_areas": "\n                                       \". . . . right \"\n                                        ",
       "grid_template_columns": "20% 20% 20% 20% 20%",
       "width": "100%"
      }
     },
     "487289882006411db932140a2c695f36": {
      "model_module": "@jupyter-widgets/base",
      "model_module_version": "2.0.0",
      "model_name": "LayoutModel",
      "state": {
       "grid_area": "right",
       "padding": "0px 0px 0px 0px",
       "width": "70px"
      }
     },
     "52ea1315a77748e2ae8a294389de0208": {
      "model_module": "@jupyter-widgets/base",
      "model_module_version": "2.0.0",
      "model_name": "LayoutModel",
      "state": {
       "margin": "0px 0px 10px 0px"
      }
     },
     "5e98a492da41477fb8b06c1243d3d4d5": {
      "model_module": "@jupyter-widgets/controls",
      "model_module_version": "2.0.0",
      "model_name": "HTMLStyleModel",
      "state": {
       "description_width": "",
       "font_size": null,
       "text_color": null
      }
     },
     "5f87e52f7e834a0e8a19bf5be274ab17": {
      "model_module": "@jupyter-widgets/base",
      "model_module_version": "2.0.0",
      "model_name": "LayoutModel",
      "state": {}
     },
     "68a6bb589238442890c79d3020d515d2": {
      "model_module": "@jupyter-widgets/controls",
      "model_module_version": "2.0.0",
      "model_name": "ButtonModel",
      "state": {
       "button_style": "primary",
       "description": "Clear",
       "layout": "IPY_MODEL_487289882006411db932140a2c695f36",
       "style": "IPY_MODEL_8417b16275e442778ec582a426475e7c",
       "tooltip": null
      }
     },
     "6dcb74ebe7104ce4bbc0d2711a7e1981": {
      "model_module": "@jupyter-widgets/controls",
      "model_module_version": "2.0.0",
      "model_name": "HBoxModel",
      "state": {
       "children": [
        "IPY_MODEL_966df8bf36064ca6a5447b89c595b506",
        "IPY_MODEL_19e080854be94ec49631eff76acff89e",
        "IPY_MODEL_cb91041f42bc4bcfa61b882aefa507f0",
        "IPY_MODEL_1328c0b07c944843b55c4853b855e7b8",
        "IPY_MODEL_7af1cb59308141d4b9b0657d1c94bb13"
       ],
       "layout": "IPY_MODEL_b7409ba1c4a7472fa6996d602be67c20"
      }
     },
     "71b07670ddbb4bd39d0c18593f0dd3f0": {
      "model_module": "@jupyter-widgets/base",
      "model_module_version": "2.0.0",
      "model_name": "LayoutModel",
      "state": {
       "width": "145px"
      }
     },
     "71b95936cd12415ca2fa1a2c2675f8a7": {
      "model_module": "@jupyter-widgets/controls",
      "model_module_version": "2.0.0",
      "model_name": "HTMLStyleModel",
      "state": {
       "description_width": "",
       "font_size": null,
       "text_color": null
      }
     },
     "72ca4fc8f53445c79a3ca6ded2ebba39": {
      "model_module": "@jupyter-widgets/controls",
      "model_module_version": "2.0.0",
      "model_name": "HTMLStyleModel",
      "state": {
       "description_width": "",
       "font_size": null,
       "text_color": null
      }
     },
     "7af1cb59308141d4b9b0657d1c94bb13": {
      "model_module": "@jupyter-widgets/controls",
      "model_module_version": "2.0.0",
      "model_name": "HTMLModel",
      "state": {
       "layout": "IPY_MODEL_5f87e52f7e834a0e8a19bf5be274ab17",
       "style": "IPY_MODEL_72ca4fc8f53445c79a3ca6ded2ebba39",
       "value": "<h5>Message</h5>"
      }
     },
     "7bca358b54ae4278b5e9acf90ae0b486": {
      "model_module": "@jupyter-widgets/controls",
      "model_module_version": "2.0.0",
      "model_name": "GridBoxModel",
      "state": {
       "children": [
        "IPY_MODEL_68a6bb589238442890c79d3020d515d2"
       ],
       "layout": "IPY_MODEL_363886a290e94b67965e18d398f066fc"
      }
     },
     "8417b16275e442778ec582a426475e7c": {
      "model_module": "@jupyter-widgets/controls",
      "model_module_version": "2.0.0",
      "model_name": "ButtonStyleModel",
      "state": {
       "font_family": null,
       "font_size": null,
       "font_style": null,
       "font_variant": null,
       "font_weight": null,
       "text_color": null,
       "text_decoration": null
      }
     },
     "8f68768a3aac4f9d9fb5abcf85bb7d31": {
      "model_module": "@jupyter-widgets/controls",
      "model_module_version": "2.0.0",
      "model_name": "HTMLStyleModel",
      "state": {
       "description_width": "",
       "font_size": null,
       "text_color": null
      }
     },
     "966df8bf36064ca6a5447b89c595b506": {
      "model_module": "@jupyter-widgets/controls",
      "model_module_version": "2.0.0",
      "model_name": "HTMLModel",
      "state": {
       "layout": "IPY_MODEL_9b41c57747a54a34a7fe98c55fa2b118",
       "style": "IPY_MODEL_a0e3a425e9704640a1064b3a247c05a6",
       "value": "<h5>Job ID</h5>"
      }
     },
     "9b41c57747a54a34a7fe98c55fa2b118": {
      "model_module": "@jupyter-widgets/base",
      "model_module_version": "2.0.0",
      "model_name": "LayoutModel",
      "state": {
       "width": "190px"
      }
     },
     "a0e3a425e9704640a1064b3a247c05a6": {
      "model_module": "@jupyter-widgets/controls",
      "model_module_version": "2.0.0",
      "model_name": "HTMLStyleModel",
      "state": {
       "description_width": "",
       "font_size": null,
       "text_color": null
      }
     },
     "afd66cc3ed184c8cb40ef700e893e203": {
      "model_module": "@jupyter-widgets/controls",
      "model_module_version": "2.0.0",
      "model_name": "HTMLModel",
      "state": {
       "layout": "IPY_MODEL_52ea1315a77748e2ae8a294389de0208",
       "style": "IPY_MODEL_5e98a492da41477fb8b06c1243d3d4d5",
       "value": "<p style='font-family: IBM Plex Sans, Arial, Helvetica, sans-serif; font-size: 20px; font-weight: medium;'>Circuit Properties</p>"
      }
     },
     "b7409ba1c4a7472fa6996d602be67c20": {
      "model_module": "@jupyter-widgets/base",
      "model_module_version": "2.0.0",
      "model_name": "LayoutModel",
      "state": {
       "margin": "0px 0px 0px 37px",
       "width": "600px"
      }
     },
     "cb91041f42bc4bcfa61b882aefa507f0": {
      "model_module": "@jupyter-widgets/controls",
      "model_module_version": "2.0.0",
      "model_name": "HTMLModel",
      "state": {
       "layout": "IPY_MODEL_2ea104ff258e4a43a34c7045ee4828cf",
       "style": "IPY_MODEL_8f68768a3aac4f9d9fb5abcf85bb7d31",
       "value": "<h5>Status</h5>"
      }
     },
     "ef82c16eb8814066a23b348b512999ca": {
      "model_module": "@jupyter-widgets/controls",
      "model_module_version": "2.0.0",
      "model_name": "HTMLStyleModel",
      "state": {
       "description_width": "",
       "font_size": null,
       "text_color": null
      }
     }
    },
    "version_major": 2,
    "version_minor": 0
   }
  }
 },
 "nbformat": 4,
 "nbformat_minor": 5
}
