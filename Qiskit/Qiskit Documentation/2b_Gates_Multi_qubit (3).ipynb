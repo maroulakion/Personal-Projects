{
 "cells": [
  {
   "cell_type": "code",
   "execution_count": 2,
   "id": "621c6846-a936-41e7-af8a-1600f47ca7e6",
   "metadata": {
    "tags": []
   },
   "outputs": [],
   "source": [
    "# Importing standard Qiskit libraries\n",
    "from qiskit import QuantumCircuit, transpile\n",
    "from qiskit.tools.jupyter import *\n",
    "from qiskit.visualization import *\n",
    "from ibm_quantum_widgets import *\n",
    "from qiskit_ibm_runtime import QiskitRuntimeService\n",
    "\n",
    "# Loading your IBM Quantum account(s)\n",
    "service = QiskitRuntimeService(channel=\"ibm_quantum\")"
   ]
  },
  {
   "cell_type": "markdown",
   "id": "11fc28d9-7cf4-4758-baec-fae32c0f4fe0",
   "metadata": {},
   "source": [
    "<span style=\"font-family: 'Times New Roman'; font-size: 16px\">\n",
    "<span style=\"font-size: 22px;\"><strong>General Notes</strong></span><br>\n",
    "<ul>\n",
    "<li> To produce the <strong>Controlled version</strong> of any gate available, write the method name and add at the beggining of it the \"c\". For example, for Controlled X gate (which is used by \".x()\"), write \".cx()\".</li>\n",
    "<li> To produce the <strong>Dagger (Hermitian conjugate)</strong> of any gate available, write the method name and add at the end of it the \"dg\". For example, for conjuate of X gate (which is used by \".x()\"), write \".xsd()\".</li>\n",
    "</ul>\n",
    "</span>"
   ]
  },
  {
   "cell_type": "code",
   "execution_count": 4,
   "id": "90b0c98a-89ba-45cc-b5cc-28ab2f595819",
   "metadata": {
    "tags": []
   },
   "outputs": [
    {
     "data": {
      "image/png": "[encoded data removed]",
      "text/plain": [
       "<Figure size 287.496x367.889 with 1 Axes>"
      ]
     },
     "execution_count": 4,
     "metadata": {},
     "output_type": "execute_result"
    }
   ],
   "source": [
    "# Make a quantum circuit (QC) with 4 qubits, that\n",
    "# qubit No. 0 has gate X, \n",
    "# qubit No. 1 has gate H, \n",
    "# qubit No. 2 doesn't have any gates,\n",
    "# qubit No. 3 has first gate X and then gate Y \n",
    "\n",
    "# NOTE (1) : The Payli X gate or simply X Gate (also reffered as NOT - Gate), \n",
    "#            is applied in a circuit as \".x(qubit_number)\".\n",
    "#            It rotates qubits' direction on Bloch Shere 180 degree on X axis. \n",
    "#            The X gate (for 1-qubit) is a matrix described by \n",
    "#                      X = [ [ 0  1 ], \n",
    "#                            [ 1  0 ] ]\n",
    "\n",
    "# NOTE (2) : The Pauli Y gate or simply Y gate, \n",
    "#            is applied in a circuit as \".y(qubit_number)\".\n",
    "#            It rotates qubits' direction on Bloch Shere 180 degree on Y axis. \n",
    "#            The Y gate (for 1-qubit) is a matrix described by \n",
    "#                      Y = [ [ 0 -j ], \n",
    "#                            [ j  0 ] ]\n",
    "\n",
    "# NOTE (3) : The Pauli Z gate or simply Z Gate,\n",
    "#            is applied in a circuit as \".z(qubit_number)\".\n",
    "#            It rotates qubits' direction on Bloch Shere 180 degree on Z axis. \n",
    "#            The Z gate (for 1-qubit) is a matrix described by \n",
    "#                      Z = [ [ 1  0 ], \n",
    "#                            [ 0 -j] ]\n",
    "\n",
    "\n",
    "qc = QuantumCircuit(4, 0)  # the \"0\" in the number of bits parameter is optional. \n",
    "                           # Not including a second parameter, means 0 classical bits by default.\n",
    "\n",
    "qc.x(0)                    # add gate X to qubit 0\n",
    "qc.h(1)                    # add gate H to qubit 1\n",
    "qc.x(3)                    # add gate H to qubit 3\n",
    "qc.y(3)                    # add gate Y to qubit 3\n",
    "qc.draw()                  "
   ]
  },
  {
   "cell_type": "markdown",
   "id": "714964a9-9fe0-43ef-8dd9-ad0091905099",
   "metadata": {
    "tags": []
   },
   "source": [
    "<span style=\"font-family: 'Times New Roman'; font-size: 16px\">    \n",
    "<span style=\"font-size: 22px;\"><strong>Hadamard Gate</strong></span><br>\n",
    "The Hadamard gate or simply H Gate, rotates qubits' direction on Bloch Shere 180 degree around the axis that lies halfway between the X and Z axes. The H gate (to apply on 1-qubit) is a matrix described by <br>\n",
    "                       $$ H =  \\frac{1}{\\sqrt{2}}\n",
    "                                \\begin{bmatrix}\n",
    "                                1 & 1 \\\\\n",
    "                                1 & -1 \\\\\n",
    "                                \\end{bmatrix}\n",
    "                                $$\n",
    "\n",
    "<span style=\"font-size: 22px;\"><strong>Identity matrix</strong></span><br>\n",
    "The Identity matrix is a square binary matrix with \"1\" on each main diagonal, described by <br>\n",
    "                       $$ I_{1} =  \n",
    "                                \\begin{bmatrix}\n",
    "                                1 & 0 \\\\\n",
    "                                0 & 1 \\\\\n",
    "                                \\end{bmatrix}, \n",
    "                         I_{2} =  \n",
    "                                \\begin{bmatrix}\n",
    "                                1 & 0 & 0 & 0 \\\\\n",
    "                                0 & 1 & 0 & 0 \\\\\n",
    "                                0 & 0 & 1 & 0 \\\\\n",
    "                                0 & 0 & 0 & 1 \\\\\n",
    "                                \\end{bmatrix}, ...\n",
    "                                $$\n",
    "    \n",
    "</span>"
   ]
  },
  {
   "cell_type": "code",
   "execution_count": 2,
   "id": "6092b673-e973-4f4e-9390-39dd50fa2057",
   "metadata": {
    "tags": []
   },
   "outputs": [
    {
     "data": {
      "image/png": "[encoded data removed]",
      "text/plain": [
       "<Figure size 287.294x200.667 with 1 Axes>"
      ]
     },
     "execution_count": 2,
     "metadata": {},
     "output_type": "execute_result"
    }
   ],
   "source": [
    "# Make a quantum circuit (QC) with 2 qubits, that \n",
    "# qubit No. 0 doesn't have any gates,\n",
    "# qubit No. 1 has gate H,\n",
    "# then add a barrier at the end\n",
    "\n",
    "# NOTE (1) : a \".barrier()\" is a seperating vertical line that helps visualization. \n",
    "#            By includinf the parameter \"label = <string>\", a name shall appear above the barrier. \n",
    "#            A barrier has no effect on circuit's functionality, \n",
    "#            it is only for visualization purposes. \n",
    "\n",
    "# NOTE (2) : The Hadamard gate or H Gate, \n",
    "#            is applied in a circuit as \".h(qubit_number)\".\n",
    "#            It rotates qubits' direction on Bloch Shere 180 degrees \n",
    "#            around the axis that lies halfway between the X and Z axes.\n",
    "#            The H gate (for 1-qubit) is a matrix described by \n",
    "#                      H = 1/sqrt(2) * [ [ 1  1 ], \n",
    "#                                        [ 1 -1 ] ]\n",
    "\n",
    "qc = QuantumCircuit(2, 0)  # the \"0\" in the number of bits parameter is optional. \n",
    "                           # Not including a second parameter, means 0 classical bits by default.\n",
    "\n",
    "qc.h(1)                    # add gate H to qubit 1\n",
    "qc.barrier()               # add a barrier\n",
    "qc.draw()                  "
   ]
  },
  {
   "cell_type": "markdown",
   "id": "7f1f1dc2-1d5d-4582-95a7-a67785d05547",
   "metadata": {},
   "source": [
    "<span style=\"font-family: 'Times New Roman'; font-size: 16px\">\n",
    "<span style=\"font-size: 22px;\"><strong>S gate</strong></span><br>\n",
    "The S gate rotates qubits' direction on Bloch Shere 90 degree on Z axis. The S gate (to apply on 1-qubit) is a matrix described by <br>\n",
    "                       $$ S =   \\begin{bmatrix}\n",
    "                                1 & 0 \\\\\n",
    "                                0 & i \\\\\n",
    "                                \\end{bmatrix}\n",
    "                                $$ <br>\n",
    "\n",
    "<span style=\"font-size: 22px;\"><strong>T gate</strong></span><br>\n",
    "The T gate rotates qubits' direction on Bloch Shere 45 degree on Z axis. The Z gate (to apply on 1-qubit) is a matrix described by <br>\n",
    "                       $$ T =   \\begin{bmatrix}\n",
    "                                1 & 0 \\\\\n",
    "                                0 & -1 \\\\\n",
    "                                \\end{bmatrix}\n",
    "                                $$ \n",
    "By definition and simple linear algebra calculations, it is concluded that \n",
    "$$ T^2 = (\\sqrt{S})^2 = S $$ <br>\n",
    "    \n",
    "<span style=\"font-size: 22px;\"><strong>V gate</strong></span><br>\n",
    "The V gate is another representation of square root of the X gate matrix. To apply on 1-qubit, this matrix is described by <br>\n",
    "                       $$ V =  \\sqrt{X} = \\frac{i+1}{2}\n",
    "                                \\begin{bmatrix}\n",
    "                                1 & -i \\\\\n",
    "                                -i & 1 \\\\\n",
    "                                \\end{bmatrix}\n",
    "                                $$\n",
    "\n",
    "By definition and simple linear algebra calculations, it is concluded that \n",
    "$$ V^2 = (\\sqrt{X})^2 = X, $$ $$ V^T×V = V×V^T = I $$ $$ (V^T)^2 = I$$ <br>\n",
    "\n",
    "</span>"
   ]
  },
  {
   "cell_type": "code",
   "execution_count": 15,
   "id": "cb6eb443-d9e8-4010-8758-14679fcffe96",
   "metadata": {
    "tags": []
   },
   "outputs": [
    {
     "data": {
      "image/png": "[encoded data removed]",
      "text/plain": [
       "<Figure size 538.33x367.889 with 1 Axes>"
      ]
     },
     "execution_count": 15,
     "metadata": {},
     "output_type": "execute_result"
    }
   ],
   "source": [
    "# Make a quantum circuit (QC) with 3 qubits and 1 classical bit, that\n",
    "# qubit No. 0 has gate X,\n",
    "# qubit No. 1 has gate H,\n",
    "# qubit No. 2 has gate S, and then a T gate, \n",
    "\n",
    "\n",
    "# NOTE (1) : The S gate, \n",
    "#            is applied in a circuit as \".s(qubit_number)\".\n",
    "#            It rotates qubits' direction on Bloch Shere 90 degree on Z axis. \n",
    "\n",
    "# NOTE (2) : The T gate, \n",
    "#            is applied in a circuit as \".t(qubit_number)\".\n",
    "#            It rotates qubits' direction on Bloch Shere 45 degree on Z axis. \n",
    "\n",
    "\n",
    "\n",
    "qc = QuantumCircuit(3, 1)     \n",
    "qc.x(0)                    \n",
    "qc.h(1) \n",
    "qc.s(2)                               # add gate S to qubit 3\n",
    "qc.barrier(label = \"barrier name\")    # add a barrier with the name \"barrier\"\n",
    "qc.t(2)                               # add gate T to qubit 3\n",
    "qc.draw()                  "
   ]
  },
  {
   "cell_type": "markdown",
   "id": "acba58aa-cc1c-4c4c-9c0a-63a786965955",
   "metadata": {},
   "source": [
    "<span style=\"font-family: 'Times New Roman'; font-size: 16px\">\n",
    "<span style=\"font-size: 22px;\"><strong>SWAP gate</strong></span><br>\n",
    "The SWAP gate changes the states of a qubit with another. To apply on 2-qubits, it is described by the matrix <br>\n",
    "                       $$ SWAP =   \\begin{bmatrix}\n",
    "                                1 & 0 & 0 & 0 \\\\\n",
    "                                0 & 0 & 1 & 0\\\\\n",
    "                                0 & 1 & 0 & 0 \\\\\n",
    "                                0 & 0 & 0 & 1\\\\\n",
    "                                \\end{bmatrix}\n",
    "                                $$ <br>\n",
    "\n",
    "<span style=\"font-size: 22px;\"><strong>CSWAP gate</strong></span><br>\n",
    "The Controlled SWAP gate or simply CSWAP gate applies a SWAP gate to a pair of qubits, only if the control qubit is '1'. To apply on 2-qubits, it is described by the matrix <br>\n",
    "                       $$ CSWAP =   \\begin{bmatrix}\n",
    "                                1 & 0 & 0 & 0 & 0 & 0 & 0 & 0 \\\\\n",
    "                                0 & 1 & 0 & 0 & 0 & 0 & 0 & 0 \\\\\n",
    "                                0 & 0 & 1 & 0 & 0 & 0 & 0 & 0 \\\\\n",
    "                                0 & 0 & 0 & 1 & 0 & 0 & 0 & 0 \\\\\n",
    "                                0 & 0 & 0 & 0 & 1 & 0 & 0 & 0 \\\\\n",
    "                                0 & 0 & 0 & 0 & 0 & 0 & 1 & 0 \\\\\n",
    "                                0 & 0 & 0 & 0 & 0 & 1 & 0 & 0 \\\\\n",
    "                                0 & 0 & 0 & 0 & 0 & 0 & 0 & 1 \\\\\n",
    "                                \\end{bmatrix}\n",
    "                                $$ <br>\n",
    "</span>"
   ]
  },
  {
   "cell_type": "code",
   "execution_count": 22,
   "id": "4e2f07b9-6367-4253-83fa-fbf6b27f43fd",
   "metadata": {
    "tags": []
   },
   "outputs": [
    {
     "data": {
      "image/png": "[encoded data removed]",
      "text/plain": [
       "<Figure size 621.941x284.278 with 1 Axes>"
      ]
     },
     "execution_count": 22,
     "metadata": {},
     "output_type": "execute_result"
    }
   ],
   "source": [
    "# Make a quantum circuit (QC) with 3 qubits and 3 bits, that\n",
    "# adds a Swap gate with qubit No.0 and No.1, \n",
    "# adds to qubit No.0 has an H gate, \n",
    "# adds a Controlled Swap gate (CSWAP) with qubit No.0 in control and No.1,2 as targets,\n",
    "# and swap qubit No.1 with qubit No. 0\n",
    "\n",
    "# NOTE (1) : The SWAP gate, \n",
    "#            is applied in a circuit as \".swap(qubit1, qubit2)\".\n",
    "#            At the end, it has an optional parameter \"label\" to help circuit understanding. \n",
    "#            It exchanges the states of two qubits, effectively swapping their quantum information.\n",
    "#            --> Note that \"swap(a,b)\" is the same as applying \"swap(b,a)\". \n",
    "\n",
    "# NOTE (2) : The Controlled - Swap gate or C-SWAP gate, \n",
    "#            is applied with .cswap(contr_qubit, targ_qubit_1, targ_qubit_2)\n",
    "#            in which, the first parameter is the qubit in control, \n",
    "#                      the second paramenter is a target qubit, and \n",
    "#                      the third (last) paramenter is also a target qubit. \n",
    "#            If the control qubits is 1, then an SWAP gate is applied to target qubits. \n",
    " \n",
    "    \n",
    "\n",
    "qc = QuantumCircuit(3)\n",
    "qc.swap(0,1)                             # swapping qubits No. 0 and No. 1\n",
    "qc.h(0)\n",
    "qc.cswap(0, 1, 2)                        # CSWAP: control qubit is No. 0, target qubits are No. 1, No.2 \n",
    "                                         # if qubit in control (No. 0) is \"1\", \n",
    "                                         #        put a SWAP gate to target qubits (No. 1, 2)\n",
    "qc.barrier()                             \n",
    "qc.swap(1,0)                             # qc.swap(1,0) is the same as qc.swap(0,1)\n",
    "qc.cswap(0, 1, 2, label = \"name/cond\")   # CSWAP with using the label parameter \n",
    "qc.draw()"
   ]
  },
  {
   "cell_type": "code",
   "execution_count": 3,
   "id": "728c28b5-4afb-404f-85af-2cec0391d948",
   "metadata": {},
   "outputs": [
    {
     "data": {
      "image/png": "[encoded data removed]",
      "text/plain": [
       "<Figure size 371.107x367.889 with 1 Axes>"
      ]
     },
     "execution_count": 3,
     "metadata": {},
     "output_type": "execute_result"
    }
   ],
   "source": [
    "# Make a quantum circuit (QC) with 2 qubits, that\n",
    "# qubit No. 0 rotate it pi/6 degree on X axis,\n",
    "# qubit No. 1 rotate it pi/7 degree on Y axis, with the name \"Y rotation\"\n",
    "# qubit No. 2 rotate it pi degree on Z axis, using the .rz() and not the .z method, \n",
    "# and swap qubit 1 with 0\n",
    "\n",
    "\n",
    "# NOTE (1) : It is useful to import numpy library, to access the pi value. \n",
    "\n",
    "# NOTE (2) : The \".rx(theta, qubit_no label = None)\" method\n",
    "#            rotates a qubit by theta degrees on X axis. \n",
    "#            The \"label\" parameter is optional and is used to name that gate/ rotation. \n",
    "\n",
    "# NOTE (3) : The \".ry(theta, qubit_no label = None)\" method\n",
    "#            rotates a qubit by theta degrees on Y axis. \n",
    "#            The \"label\" parameter is optional and is used to name that gate/ rotation. \n",
    "\n",
    "# NOTE (4) : The \".rz(theta, qubit_no label = None)\" method\n",
    "#            rotates a qubit by theta degrees on Z axis. \n",
    "#            The \"label\" parameter is optional and is used to name that gate/ rotation. \n",
    "\n",
    "import numpy as np               # importing numpy to access the pi value\n",
    "pi = np.pi \n",
    "\n",
    "qc = QuantumCircuit(3, 1)     \n",
    "qc.rx(pi/6, 0)                    # rotates qubit pi/6 degrees on X axis    \n",
    "qc.ry(pi/7, 1, 'Y rotation')      # rotates qubit pi/7 degrees on Y axis - named \"rotation\"\n",
    "qc.rz(pi, 2)                      # rotates qubit pi degrees on Z axis\n",
    "                                  # same as applying .z() when on pi degrees\n",
    "qc.swap(0,1)\n",
    "qc.draw()                  "
   ]
  },
  {
   "cell_type": "markdown",
   "id": "b65f3ae7-20f9-44b7-b6ee-94cf71dde337",
   "metadata": {},
   "source": [
    "<span style=\"font-family: 'Times New Roman'; font-size: 16px\">\n",
    "<span style=\"font-size: 22px;\"><strong>CNOT gate</strong></span><br>\n",
    "The Controlled - X gate or C-NOT gate is used in a pair of qubits, one reffered as \"control\" and one reffered as \"target\". If the control qubit is measured as \"1\", then an X gate is applied to target qubit. Else, no change is made to target qubit. To apply on 2-qubits, the CNOT gate is described by the matrix <br>\n",
    "                       $$ CNOT =   \\begin{bmatrix}\n",
    "                                1 & 0 & 0 & 0 \\\\\n",
    "                                0 & 1 & 0 & 0 \\\\\n",
    "                                0 & 0 & 0 & 1 \\\\\n",
    "                                0 & 0 & 1 & 0 \\\\\n",
    "                                \\end{bmatrix}\n",
    "                                $$ <br>\n",
    "\n",
    "<span style=\"font-size: 22px;\"><strong>CCNOT gate</strong></span><br>\n",
    "The Control - Control - X gate or CC-NOT gate is applied to three qubits, two reffered as \"control\" and one reffered as \"target\". If both control qubits are measured as \"1\", then an X gate is applied to target qubit. Else, no change is made to target qubit. To apply on 3-qubits, the CCNOT gate is described by the matrix<br>\n",
    "                       $$ CCNOT =   \\begin{bmatrix}\n",
    "                                1 & 0 & 0 & 0 & 0 & 0 & 0 & 0 \\\\\n",
    "                                0 & 1 & 0 & 0 & 0 & 0 & 0 & 0 \\\\\n",
    "                                0 & 0 & 1 & 0 & 0 & 0 & 0 & 0 \\\\\n",
    "                                0 & 0 & 0 & 1 & 0 & 0 & 0 & 0 \\\\\n",
    "                                0 & 0 & 0 & 0 & 1 & 0 & 0 & 0 \\\\\n",
    "                                0 & 0 & 0 & 0 & 0 & 1 & 0 & 0 \\\\\n",
    "                                0 & 0 & 0 & 0 & 0 & 0 & 0 & 1 \\\\\n",
    "                                0 & 0 & 0 & 0 & 0 & 0 & 1 & 0 \\\\\n",
    "                                \\end{bmatrix}\n",
    "                                $$ <br>\n",
    "</span>"
   ]
  },
  {
   "cell_type": "code",
   "execution_count": 24,
   "id": "f7e78524-d97f-4248-bff5-fa88a94af9c2",
   "metadata": {
    "tags": []
   },
   "outputs": [
    {
     "data": {
      "image/png": "[encoded data removed]",
      "text/plain": [
       "<Figure size 789.163x367.889 with 1 Axes>"
      ]
     },
     "execution_count": 24,
     "metadata": {},
     "output_type": "execute_result"
    }
   ],
   "source": [
    "# Make a quantum circuit (QC) with 3 qubits and 3 bits, that\n",
    "# adds to qubit No.0 has an H gate, \n",
    "# adds a Controlled X gate (CNOT) with qubit No.0 in control and No.1 as target.\n",
    "# adds a Controlled X gate (CNOT) with qubit No.2 in control and No.1 as target.\n",
    "# adds a barrier. \n",
    "# adds a CC-NOT gate with qubit No.0, No.1 in control and No.2 as target.\n",
    "# adds a CCZ gate with qubit No.0, No.1 in control and No.2 as target.\n",
    "# adds a Controlled H gate (CH) with qubit No.1 in control and No.0 as target.\n",
    "# Lastly, add an Y gate to qubit No.1.\n",
    "\n",
    "# NOTE (1) : The Controlled - X gate or C-NOT gate, \n",
    "#            is applied with .cx(contr_qubit, targ_qubit)\n",
    "#            OR with .cnot(contr_qubit, targ_qubit).\n",
    "#            in which, the first parameter is the qubit in control, and\n",
    "#                      the second paramenter is the target qubit. \n",
    "#            If control qubit is 1, then an X gate is applied to target qubit. \n",
    "\n",
    "# NOTE (2) : The Toffoli Gate or Controlled - Controlled - X gate or CC-NOT gate, \n",
    "#            is applied with .ccx(contr_qubit_1, contr_qubit_2, targ_qubit)\n",
    "#            in which, the first parameter is the qubit in control, \n",
    "#                      the second paramenter is alse a qubit in control, and \n",
    "#                      the third (last) paramenter is the target qubit. \n",
    "#            If both of the control qubits is 1, then an X gate is applied to target qubit. \n",
    "\n",
    "# NOTE (3) : The Controlled - Controlled - Z gate or CCZ gate, \n",
    "#            is applied with .ccz(contr_qubit_1, contr_qubit_2, targ_qubit)\n",
    "#            in which, the first parameter is the qubit in control, \n",
    "#                      the second paramenter is alse a qubit in control, and \n",
    "#                      the third (last) paramenter is the target qubit. \n",
    "#            If both of the control qubits is 1, then an Z gate is applied to target qubit. \n",
    "#            --> Observe that no \"target\" icon is shown with the \".draw()\" method. \n",
    "\n",
    "# NOTE (4) : The Controlled - H gate or CH gate, \n",
    "#            is applied with .ch(contr_qubit, targ_qubit)\n",
    "#            in which, the first parameter is the qubit in control, and\n",
    "#                      the second paramenter is the target qubit. \n",
    "#            If control qubit is 1, then an H gate is applied to target qubit. \n",
    "\n",
    "# NOTE (5) : The Controlled - Y gate or CY gate, \n",
    "#            is applied with .cy(contr_qubit, targ_qubit)\n",
    "#            in which, the first parameter is the qubit in control, and\n",
    "#                      the second paramenter is the target qubit. \n",
    "#            If control qubit is 1, then an Y gate is applied to target qubit. \n",
    "\n",
    "qc = QuantumCircuit(3, 3)\n",
    "qc.h(0)\n",
    "qc.cx(0, 1)                  # CNOT: control qubit is No. 0, target qubit is No. 1 \n",
    "qc.cnot(2,1)                 # CNOT: control qubit is No. 2, target qubit is No. 1 \n",
    "                             # the \".cx(q,q)\" is the same as \".cnot(q,q)\"\n",
    "qc.barrier()\n",
    "qc.ccx(0,1,2)                # CCNOT: if qubits in control (No. 0,1) are \"1\", \n",
    "                             #        put an X gate to target qubit (No. 2)\n",
    "qc.ccz(0,1,2, label=\"ccz\")   # CCZ: if qubits in control (No. 0,1) are \"1\", \n",
    "                             #        put a Z gate to target qubit (No. 2)\n",
    "                             # --> Observe that no \"target\" icon is shown with the \".draw()\" method.\n",
    "                             # ----> that's why we include the \"label='ccz'\" parameter\n",
    "qc.ch(1,0)                   # CH: control qubit is No. 1, target qubit is No. 0 \n",
    "qc.cy(1,2)                   # CY: control qubit is No. 1, target qubit is No. 2 \n",
    "qc.draw()"
   ]
  }
 ],
 "metadata": {
  "kernelspec": {
   "display_name": "Python 3 (ipykernel)",
   "language": "python",
   "name": "python3"
  },
  "language_info": {
   "codemirror_mode": {
    "name": "ipython",
    "version": 3
   },
   "file_extension": ".py",
   "mimetype": "text/x-python",
   "name": "python",
   "nbconvert_exporter": "python",
   "pygments_lexer": "ipython3",
   "version": "3.10.8"
  },
  "widgets": {
   "application/vnd.jupyter.widget-state+json": {
    "state": {
     "0dba5b9f714d4b5dacb20767409053ba": {
      "model_module": "@jupyter-widgets/base",
      "model_module_version": "2.0.0",
      "model_name": "LayoutModel",
      "state": {
       "width": "145px"
      }
     },
     "1abd88cac0b84033bb4cb6fabb198830": {
      "model_module": "@jupyter-widgets/controls",
      "model_module_version": "2.0.0",
      "model_name": "HBoxModel",
      "state": {
       "children": [
        "IPY_MODEL_22fd4e4744d64fa998923671decdf6e4",
        "IPY_MODEL_dae2fe96d18846edafd7dc5a02d267e9",
        "IPY_MODEL_999a905833d944f5bcf38c49010313b5",
        "IPY_MODEL_a5d9f40fe68d4fedbf51027e1c4835c9",
        "IPY_MODEL_a1b2dc182b094e0ca40f95f04910da4a"
       ],
       "layout": "IPY_MODEL_80279f8325f441f59b0bd3d30dbb0820"
      }
     },
     "1ca326b64eff43a192cb1fa00d05599b": {
      "model_module": "@jupyter-widgets/base",
      "model_module_version": "2.0.0",
      "model_name": "LayoutModel",
      "state": {
       "grid_area": "right",
       "padding": "0px 0px 0px 0px",
       "width": "70px"
      }
     },
     "22fd4e4744d64fa998923671decdf6e4": {
      "model_module": "@jupyter-widgets/controls",
      "model_module_version": "2.0.0",
      "model_name": "HTMLModel",
      "state": {
       "layout": "IPY_MODEL_6aaa22cb80cb42ea8aac2671c3a33414",
       "style": "IPY_MODEL_96a6cf621af14d2eb26a2cd27cfe4134",
       "value": "<h5>Job ID</h5>"
      }
     },
     "3498078a82344cfda12156ce35f0b3d1": {
      "model_module": "@jupyter-widgets/controls",
      "model_module_version": "2.0.0",
      "model_name": "HTMLStyleModel",
      "state": {
       "description_width": "",
       "font_size": null,
       "text_color": null
      }
     },
     "3dc924af441f412795bcbe4aaef9c412": {
      "model_module": "@jupyter-widgets/controls",
      "model_module_version": "2.0.0",
      "model_name": "HTMLStyleModel",
      "state": {
       "description_width": "",
       "font_size": null,
       "text_color": null
      }
     },
     "47d6c6b106fe4858906951b7dcf704b8": {
      "model_module": "@jupyter-widgets/controls",
      "model_module_version": "2.0.0",
      "model_name": "GridBoxModel",
      "state": {
       "children": [
        "IPY_MODEL_a9e91823f61b446697256047c017b840"
       ],
       "layout": "IPY_MODEL_4eb30773ccb445c3a136a6fe0164b329"
      }
     },
     "4eb30773ccb445c3a136a6fe0164b329": {
      "model_module": "@jupyter-widgets/base",
      "model_module_version": "2.0.0",
      "model_name": "LayoutModel",
      "state": {
       "grid_template_areas": "\n                                       \". . . . right \"\n                                        ",
       "grid_template_columns": "20% 20% 20% 20% 20%",
       "width": "100%"
      }
     },
     "6aaa22cb80cb42ea8aac2671c3a33414": {
      "model_module": "@jupyter-widgets/base",
      "model_module_version": "2.0.0",
      "model_name": "LayoutModel",
      "state": {
       "width": "190px"
      }
     },
     "6e2f4cb8593545d0a89d85615a2facb3": {
      "model_module": "@jupyter-widgets/controls",
      "model_module_version": "2.0.0",
      "model_name": "HTMLModel",
      "state": {
       "layout": "IPY_MODEL_b4ecc8832651442fa0baa45aac43723e",
       "style": "IPY_MODEL_76d24ddd2b914bb3a85dde006df99327",
       "value": "<p style='font-family: IBM Plex Sans, Arial, Helvetica, sans-serif; font-size: 20px; font-weight: medium;'>Circuit Properties</p>"
      }
     },
     "76d24ddd2b914bb3a85dde006df99327": {
      "model_module": "@jupyter-widgets/controls",
      "model_module_version": "2.0.0",
      "model_name": "HTMLStyleModel",
      "state": {
       "description_width": "",
       "font_size": null,
       "text_color": null
      }
     },
     "80279f8325f441f59b0bd3d30dbb0820": {
      "model_module": "@jupyter-widgets/base",
      "model_module_version": "2.0.0",
      "model_name": "LayoutModel",
      "state": {
       "margin": "0px 0px 0px 37px",
       "width": "600px"
      }
     },
     "80ddb89edeed438c8786ab640dfe49b6": {
      "model_module": "@jupyter-widgets/controls",
      "model_module_version": "2.0.0",
      "model_name": "HTMLStyleModel",
      "state": {
       "description_width": "",
       "font_size": null,
       "text_color": null
      }
     },
     "96a6cf621af14d2eb26a2cd27cfe4134": {
      "model_module": "@jupyter-widgets/controls",
      "model_module_version": "2.0.0",
      "model_name": "HTMLStyleModel",
      "state": {
       "description_width": "",
       "font_size": null,
       "text_color": null
      }
     },
     "999a905833d944f5bcf38c49010313b5": {
      "model_module": "@jupyter-widgets/controls",
      "model_module_version": "2.0.0",
      "model_name": "HTMLModel",
      "state": {
       "layout": "IPY_MODEL_9a972c77be8c4aa8bde1eaa08d177fd5",
       "style": "IPY_MODEL_3dc924af441f412795bcbe4aaef9c412",
       "value": "<h5>Status</h5>"
      }
     },
     "9a972c77be8c4aa8bde1eaa08d177fd5": {
      "model_module": "@jupyter-widgets/base",
      "model_module_version": "2.0.0",
      "model_name": "LayoutModel",
      "state": {
       "width": "95px"
      }
     },
     "a1b2dc182b094e0ca40f95f04910da4a": {
      "model_module": "@jupyter-widgets/controls",
      "model_module_version": "2.0.0",
      "model_name": "HTMLModel",
      "state": {
       "layout": "IPY_MODEL_e28cf8d7caef4fbb8f62b90d72f481fd",
       "style": "IPY_MODEL_80ddb89edeed438c8786ab640dfe49b6",
       "value": "<h5>Message</h5>"
      }
     },
     "a5d9f40fe68d4fedbf51027e1c4835c9": {
      "model_module": "@jupyter-widgets/controls",
      "model_module_version": "2.0.0",
      "model_name": "HTMLModel",
      "state": {
       "layout": "IPY_MODEL_aef8571deac946e0a17039527a032385",
       "style": "IPY_MODEL_b3fc4a032b8341609db69fa1cc959a32",
       "value": "<h5>Queue</h5>"
      }
     },
     "a9e91823f61b446697256047c017b840": {
      "model_module": "@jupyter-widgets/controls",
      "model_module_version": "2.0.0",
      "model_name": "ButtonModel",
      "state": {
       "button_style": "primary",
       "description": "Clear",
       "layout": "IPY_MODEL_1ca326b64eff43a192cb1fa00d05599b",
       "style": "IPY_MODEL_ef82fa15d2404312af7c06392df484a9",
       "tooltip": null
      }
     },
     "aef8571deac946e0a17039527a032385": {
      "model_module": "@jupyter-widgets/base",
      "model_module_version": "2.0.0",
      "model_name": "LayoutModel",
      "state": {
       "width": "70px"
      }
     },
     "b3fc4a032b8341609db69fa1cc959a32": {
      "model_module": "@jupyter-widgets/controls",
      "model_module_version": "2.0.0",
      "model_name": "HTMLStyleModel",
      "state": {
       "description_width": "",
       "font_size": null,
       "text_color": null
      }
     },
     "b4ecc8832651442fa0baa45aac43723e": {
      "model_module": "@jupyter-widgets/base",
      "model_module_version": "2.0.0",
      "model_name": "LayoutModel",
      "state": {
       "margin": "0px 0px 10px 0px"
      }
     },
     "dae2fe96d18846edafd7dc5a02d267e9": {
      "model_module": "@jupyter-widgets/controls",
      "model_module_version": "2.0.0",
      "model_name": "HTMLModel",
      "state": {
       "layout": "IPY_MODEL_0dba5b9f714d4b5dacb20767409053ba",
       "style": "IPY_MODEL_3498078a82344cfda12156ce35f0b3d1",
       "value": "<h5>Backend</h5>"
      }
     },
     "e28cf8d7caef4fbb8f62b90d72f481fd": {
      "model_module": "@jupyter-widgets/base",
      "model_module_version": "2.0.0",
      "model_name": "LayoutModel",
      "state": {}
     },
     "ef82fa15d2404312af7c06392df484a9": {
      "model_module": "@jupyter-widgets/controls",
      "model_module_version": "2.0.0",
      "model_name": "ButtonStyleModel",
      "state": {
       "font_family": null,
       "font_size": null,
       "font_style": null,
       "font_variant": null,
       "font_weight": null,
       "text_color": null,
       "text_decoration": null
      }
     }
    },
    "version_major": 2,
    "version_minor": 0
   }
  }
 },
 "nbformat": 4,
 "nbformat_minor": 5
}
