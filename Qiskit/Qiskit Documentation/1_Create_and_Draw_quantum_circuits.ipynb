{
 "cells": [
  {
   "cell_type": "code",
   "execution_count": 2,
   "id": "e6f47ae0-876d-4a87-8352-5cffce28a947",
   "metadata": {
    "tags": []
   },
   "outputs": [],
   "source": [
    "# Importing standard Qiskit libraries\n",
    "from qiskit import QuantumCircuit, transpile\n",
    "from qiskit.tools.jupyter import *\n",
    "from qiskit.visualization import *\n",
    "from ibm_quantum_widgets import *\n",
    "\n",
    "# qiskit-ibmq-provider has been deprecated.\n",
    "# Please see the Migration Guides in https://ibm.biz/provider_migration_guide for more detail.\n",
    "from qiskit_ibm_runtime import QiskitRuntimeService, Sampler, Estimator, Session, Options\n",
    "\n",
    "# Loading your IBM Quantum account(s)\n",
    "service = QiskitRuntimeService(channel=\"ibm_quantum\")\n",
    "\n",
    "# Invoke a primitive. For more details see https://qiskit.org/documentation/partners/qiskit_ibm_runtime/tutorials.html\n",
    "# result = Sampler(\"ibmq_qasm_simulator\").run(circuits).result()"
   ]
  },
  {
   "cell_type": "code",
   "execution_count": 16,
   "id": "0a9eb2d9-4e2c-4811-95e8-97168bc778fb",
   "metadata": {
    "tags": []
   },
   "outputs": [
    {
     "data": {
      "image/png": "[encoded data removed]",
      "text/plain": [
       "<Figure size 161.878x200.667 with 1 Axes>"
      ]
     },
     "execution_count": 16,
     "metadata": {},
     "output_type": "execute_result"
    }
   ],
   "source": [
    "# Make a quantum circuit (QC) with \n",
    "# Just 2 qubits (and zero classical bits)\n",
    "\n",
    "# NOTE: each qubit is drawn as a line, and\n",
    "#       they are numbered from 0 (top - down)\n",
    "\n",
    "qc = QuantumCircuit(2)    #create a quantum circuit\n",
    "\n",
    "qc.draw()                 #draw (visualize) circuit above"
   ]
  },
  {
   "cell_type": "code",
   "execution_count": 11,
   "id": "e7ea2df2-bccf-4754-b5d3-d7e399dcd7ba",
   "metadata": {
    "tags": []
   },
   "outputs": [
    {
     "data": {
      "image/png": "[encoded data removed]",
      "text/plain": [
       "<Figure size 161.878x284.278 with 1 Axes>"
      ]
     },
     "execution_count": 11,
     "metadata": {},
     "output_type": "execute_result"
    }
   ],
   "source": [
    "# Make a quantum circuit (QC) with 2 qubits and 3 (classical) bits\n",
    "\n",
    "# NOTE: observe a now (double) line bellow qubit lines, with \"c\" indication,\n",
    "#       representing classical bits (the number of them is also drawn on screen)\n",
    "\n",
    "qc = QuantumCircuit(2, 3)     \n",
    "\n",
    "qc.draw('mpl')                     # the \".draw('mpl')\" is the default of \".draw()\" "
   ]
  },
  {
   "cell_type": "code",
   "execution_count": 23,
   "id": "4c5a1837-23af-466e-a600-ba82dad15056",
   "metadata": {
    "tags": []
   },
   "outputs": [
    {
     "data": {
      "image/png": "[encoded data removed]",
      "text/plain": [
       "<PIL.Image.Image image mode=RGB size=82x52>"
      ]
     },
     "execution_count": 23,
     "metadata": {},
     "output_type": "execute_result"
    }
   ],
   "source": [
    "# Make a quantum circuit (QC) with 2 qubits and 0 bits\n",
    "# Show digram in latex form -- be patient, it needs some seconds to load. \n",
    "\n",
    "qc = QuantumCircuit(2, 0)     #the \"0\" in the number of bits parameter is optional. \n",
    "                              # Not including a second parameter, by default means 0 classical bits.\n",
    "                              # Notice there is no pipe of classical bits\n",
    "        \n",
    "qc.draw('latex')              # circuit in LaTeX form \n"
   ]
  },
  {
   "cell_type": "code",
   "execution_count": 15,
   "id": "cfd3730a-b46d-44d1-bcd2-643a503eb8f8",
   "metadata": {
    "tags": []
   },
   "outputs": [
    {
     "data": {
      "text/html": [
       "<pre style=\"word-wrap: normal;white-space: pre;background: #fff0;line-height: 1.1;font-family: &quot;Courier New&quot;,Courier,monospace\">     \n",
       "q_0: \n",
       "     \n",
       "q_1: \n",
       "     \n",
       "q_2: \n",
       "     \n",
       "q_3: \n",
       "     \n",
       "c: 3/\n",
       "     </pre>"
      ],
      "text/plain": [
       "     \n",
       "q_0: \n",
       "     \n",
       "q_1: \n",
       "     \n",
       "q_2: \n",
       "     \n",
       "q_3: \n",
       "     \n",
       "c: 3/\n",
       "     "
      ]
     },
     "execution_count": 15,
     "metadata": {},
     "output_type": "execute_result"
    }
   ],
   "source": [
    "# Make a quantum circuit (QC) with 4 qubits and 3 bits using variables as parameters\n",
    "# Show results in text form \n",
    "\n",
    "qubits, bits = 4, 3\n",
    "\n",
    "qc = QuantumCircuit(qubits, bits)      # variables for code efficiency \n",
    "\n",
    "qc.draw('text')                        # simple visualitation by showin circuit as plain text "
   ]
  },
  {
   "cell_type": "code",
   "execution_count": 24,
   "id": "abc64d68-e911-477a-8eda-749368ec6f9e",
   "metadata": {
    "tags": []
   },
   "outputs": [
    {
     "data": {
      "image/png": "[encoded data removed]",
      "text/plain": [
       "<Figure size 222.771x284.278 with 1 Axes>"
      ]
     },
     "execution_count": 24,
     "metadata": {},
     "output_type": "execute_result"
    }
   ],
   "source": [
    "# Make a quantum circuit (QC) with 2 qubits and 3 bits\n",
    "# Show results in diagram, but also make initialization to |0> be seen on it, and \n",
    "# same with the 0 value for classical bits. \n",
    "\n",
    "qc = QuantumCircuit(2, 3)\n",
    "\n",
    "qc.draw('mpl', initial_state=True)    # the \"initial_state\" is by default False, \n",
    "                                      # but if set to \"True\" it adds the \"|0>\" at initialization\n",
    "                                      # of each qubit line\n",
    "                                      # and the \"0\" in the classical bits pipe. "
   ]
  },
  {
   "cell_type": "code",
   "execution_count": 26,
   "id": "44663b6b-1528-4e54-b249-714b60ffbc4a",
   "metadata": {
    "tags": []
   },
   "outputs": [
    {
     "data": {
      "image/png": "[encoded data removed]",
      "text/plain": [
       "<PIL.Image.Image image mode=RGB size=42x166>"
      ]
     },
     "execution_count": 26,
     "metadata": {},
     "output_type": "execute_result"
    }
   ],
   "source": [
    "# Make a quantum circuit (QC) with 8 qubits and 4 bits\n",
    "# Show digram, but shriken it in half \n",
    "# --> the default size is 1.0, thus adjust scaling to 0.5 \n",
    "\n",
    "qc = QuantumCircuit(8, 4)     \n",
    "        \n",
    "qc.draw('latex', scale = 0.5)    # the \"scale\" parameter adjusts size of image to draw \n",
    "                                 # Deault size is 1.0, so shrinking values are < 1.0 \n",
    "                                 # and enlarging are values > 1.0. \n",
    "                                 # Compatible with 'mpl', 'latex' and 'latex_source'\n"
   ]
  }
 ],
 "metadata": {
  "kernelspec": {
   "display_name": "Python 3 (ipykernel)",
   "language": "python",
   "name": "python3"
  },
  "language_info": {
   "codemirror_mode": {
    "name": "ipython",
    "version": 3
   },
   "file_extension": ".py",
   "mimetype": "text/x-python",
   "name": "python",
   "nbconvert_exporter": "python",
   "pygments_lexer": "ipython3",
   "version": "3.10.8"
  },
  "widgets": {
   "application/vnd.jupyter.widget-state+json": {
    "state": {
     "017300734a2341c597e299f22a8da99a": {
      "model_module": "@jupyter-widgets/base",
      "model_module_version": "2.0.0",
      "model_name": "LayoutModel",
      "state": {
       "width": "70px"
      }
     },
     "06b8152a42e54e39a6c7ee14edba5955": {
      "model_module": "@jupyter-widgets/controls",
      "model_module_version": "2.0.0",
      "model_name": "ButtonStyleModel",
      "state": {
       "font_family": null,
       "font_size": null,
       "font_style": null,
       "font_variant": null,
       "font_weight": null,
       "text_color": null,
       "text_decoration": null
      }
     },
     "10afecd4241d47fc9c2336420c458e62": {
      "model_module": "@jupyter-widgets/base",
      "model_module_version": "2.0.0",
      "model_name": "LayoutModel",
      "state": {
       "width": "190px"
      }
     },
     "38f11f333ef249e68357606a44ed4f8a": {
      "model_module": "@jupyter-widgets/base",
      "model_module_version": "2.0.0",
      "model_name": "LayoutModel",
      "state": {}
     },
     "3946727f378d43a987ff62a4435addaa": {
      "model_module": "@jupyter-widgets/controls",
      "model_module_version": "2.0.0",
      "model_name": "HTMLModel",
      "state": {
       "layout": "IPY_MODEL_10afecd4241d47fc9c2336420c458e62",
       "style": "IPY_MODEL_ba223254264c4a7ca1fb1df8da47fdb0",
       "value": "<h5>Job ID</h5>"
      }
     },
     "398df60a46a94e21916f55beb0157298": {
      "model_module": "@jupyter-widgets/base",
      "model_module_version": "2.0.0",
      "model_name": "LayoutModel",
      "state": {
       "margin": "0px 0px 0px 37px",
       "width": "600px"
      }
     },
     "3ec53876cf4b4edcbcbb185ddb4d5fc9": {
      "model_module": "@jupyter-widgets/controls",
      "model_module_version": "2.0.0",
      "model_name": "HTMLModel",
      "state": {
       "layout": "IPY_MODEL_017300734a2341c597e299f22a8da99a",
       "style": "IPY_MODEL_8b23db2607864b5388ad88bf855e65da",
       "value": "<h5>Queue</h5>"
      }
     },
     "3f331fc6f28b4dd59b3aced6d9e5b659": {
      "model_module": "@jupyter-widgets/base",
      "model_module_version": "2.0.0",
      "model_name": "LayoutModel",
      "state": {
       "width": "95px"
      }
     },
     "51a76cd795d040f0a83c9a7f31f92a6d": {
      "model_module": "@jupyter-widgets/controls",
      "model_module_version": "2.0.0",
      "model_name": "HTMLStyleModel",
      "state": {
       "description_width": "",
       "font_size": null,
       "text_color": null
      }
     },
     "604533f6390846d288139908ad069f64": {
      "model_module": "@jupyter-widgets/controls",
      "model_module_version": "2.0.0",
      "model_name": "HTMLStyleModel",
      "state": {
       "description_width": "",
       "font_size": null,
       "text_color": null
      }
     },
     "79a30209941549bba369dac1d9fe5859": {
      "model_module": "@jupyter-widgets/base",
      "model_module_version": "2.0.0",
      "model_name": "LayoutModel",
      "state": {
       "width": "145px"
      }
     },
     "7f546c6175a3499e970650b3f1f41ef6": {
      "model_module": "@jupyter-widgets/base",
      "model_module_version": "2.0.0",
      "model_name": "LayoutModel",
      "state": {
       "grid_area": "right",
       "padding": "0px 0px 0px 0px",
       "width": "70px"
      }
     },
     "8b23db2607864b5388ad88bf855e65da": {
      "model_module": "@jupyter-widgets/controls",
      "model_module_version": "2.0.0",
      "model_name": "HTMLStyleModel",
      "state": {
       "description_width": "",
       "font_size": null,
       "text_color": null
      }
     },
     "8daf9e76d41c47dc882dee6cf2d0daf2": {
      "model_module": "@jupyter-widgets/controls",
      "model_module_version": "2.0.0",
      "model_name": "HTMLStyleModel",
      "state": {
       "description_width": "",
       "font_size": null,
       "text_color": null
      }
     },
     "a02f3aa1259d495a907c6da28e245722": {
      "model_module": "@jupyter-widgets/controls",
      "model_module_version": "2.0.0",
      "model_name": "HBoxModel",
      "state": {
       "children": [
        "IPY_MODEL_3946727f378d43a987ff62a4435addaa",
        "IPY_MODEL_c9262e233ab048cc9cfd8174e0dcd1af",
        "IPY_MODEL_ab60a243949447fca5158641bc3fdd19",
        "IPY_MODEL_3ec53876cf4b4edcbcbb185ddb4d5fc9",
        "IPY_MODEL_cd9d570a76774ba7a342af666279038d"
       ],
       "layout": "IPY_MODEL_398df60a46a94e21916f55beb0157298"
      }
     },
     "a1ba54fa147d4e8991b94a9e2b2cf5b8": {
      "model_module": "@jupyter-widgets/base",
      "model_module_version": "2.0.0",
      "model_name": "LayoutModel",
      "state": {
       "grid_template_areas": "\n                                       \". . . . right \"\n                                        ",
       "grid_template_columns": "20% 20% 20% 20% 20%",
       "width": "100%"
      }
     },
     "a56d0d4f223e4f54a3e11bfd5b623c10": {
      "model_module": "@jupyter-widgets/controls",
      "model_module_version": "2.0.0",
      "model_name": "ButtonModel",
      "state": {
       "button_style": "primary",
       "description": "Clear",
       "layout": "IPY_MODEL_7f546c6175a3499e970650b3f1f41ef6",
       "style": "IPY_MODEL_06b8152a42e54e39a6c7ee14edba5955",
       "tooltip": null
      }
     },
     "ab60a243949447fca5158641bc3fdd19": {
      "model_module": "@jupyter-widgets/controls",
      "model_module_version": "2.0.0",
      "model_name": "HTMLModel",
      "state": {
       "layout": "IPY_MODEL_3f331fc6f28b4dd59b3aced6d9e5b659",
       "style": "IPY_MODEL_8daf9e76d41c47dc882dee6cf2d0daf2",
       "value": "<h5>Status</h5>"
      }
     },
     "b6e86cf255494d6ebac85c2392975849": {
      "model_module": "@jupyter-widgets/base",
      "model_module_version": "2.0.0",
      "model_name": "LayoutModel",
      "state": {
       "margin": "0px 0px 10px 0px"
      }
     },
     "ba223254264c4a7ca1fb1df8da47fdb0": {
      "model_module": "@jupyter-widgets/controls",
      "model_module_version": "2.0.0",
      "model_name": "HTMLStyleModel",
      "state": {
       "description_width": "",
       "font_size": null,
       "text_color": null
      }
     },
     "bf210fe681ba40188d0f9a6390cc616a": {
      "model_module": "@jupyter-widgets/controls",
      "model_module_version": "2.0.0",
      "model_name": "HTMLStyleModel",
      "state": {
       "description_width": "",
       "font_size": null,
       "text_color": null
      }
     },
     "c9262e233ab048cc9cfd8174e0dcd1af": {
      "model_module": "@jupyter-widgets/controls",
      "model_module_version": "2.0.0",
      "model_name": "HTMLModel",
      "state": {
       "layout": "IPY_MODEL_79a30209941549bba369dac1d9fe5859",
       "style": "IPY_MODEL_bf210fe681ba40188d0f9a6390cc616a",
       "value": "<h5>Backend</h5>"
      }
     },
     "cd9d570a76774ba7a342af666279038d": {
      "model_module": "@jupyter-widgets/controls",
      "model_module_version": "2.0.0",
      "model_name": "HTMLModel",
      "state": {
       "layout": "IPY_MODEL_38f11f333ef249e68357606a44ed4f8a",
       "style": "IPY_MODEL_604533f6390846d288139908ad069f64",
       "value": "<h5>Message</h5>"
      }
     },
     "d62da14ad8c1485ea0d2358c0b1f0d9a": {
      "model_module": "@jupyter-widgets/controls",
      "model_module_version": "2.0.0",
      "model_name": "GridBoxModel",
      "state": {
       "children": [
        "IPY_MODEL_a56d0d4f223e4f54a3e11bfd5b623c10"
       ],
       "layout": "IPY_MODEL_a1ba54fa147d4e8991b94a9e2b2cf5b8"
      }
     },
     "dfac1fcf2f854cb1a8cfb803fa9c7665": {
      "model_module": "@jupyter-widgets/controls",
      "model_module_version": "2.0.0",
      "model_name": "HTMLModel",
      "state": {
       "layout": "IPY_MODEL_b6e86cf255494d6ebac85c2392975849",
       "style": "IPY_MODEL_51a76cd795d040f0a83c9a7f31f92a6d",
       "value": "<p style='font-family: IBM Plex Sans, Arial, Helvetica, sans-serif; font-size: 20px; font-weight: medium;'>Circuit Properties</p>"
      }
     }
    },
    "version_major": 2,
    "version_minor": 0
   }
  }
 },
 "nbformat": 4,
 "nbformat_minor": 5
}
