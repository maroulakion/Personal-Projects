{
 "cells": [
  {
   "cell_type": "code",
   "execution_count": 1,
   "id": "0fef978a-d095-4935-b935-348ed5bf1540",
   "metadata": {},
   "outputs": [],
   "source": [
    "# Importin# Importing standard Qiskit libraries\n",
    "from qiskit import QuantumCircuit, transpile\n",
    "from qiskit.tools.jupyter import *\n",
    "from qiskit.visualization import *\n",
    "from ibm_quantum_widgets import *\n",
    "\n",
    "# qiskit-ibmq-provider has been deprecated.\n",
    "# Please see the Migration Guides in https://ibm.biz/provider_migration_guide for more detail.\n",
    "from qiskit_ibm_runtime import QiskitRuntimeService, Sampler, Estimator, Session, Options\n",
    "\n",
    "import numpy as np\n",
    "\n",
    "# Importing standard Qiskit libraries\n",
    "from qiskit import QuantumCircuit, transpile, Aer, IBMQ\n",
    "from ibm_quantum_widgets import *\n",
    "from qiskit.providers.aer import QasmSimulator\n",
    "\n",
    "# Loading your IBM Quantum account(s)\n",
    "service = QiskitRuntimeService(channel=\"ibm_quantum\")\n",
    "\n",
    "# Invoke a primitive. For more details see https://qiskit.org/documentation/partners/qiskit_ibm_runtime/tutorials.html\n",
    "# result = Sampler(\"ibmq_qasm_simulator\").run(circuits).result()g standard Qiskit libraries\n",
    "from qiskit import QuantumCircuit, transpile\n",
    "from qiskit.tools.jupyter import *\n",
    "from qiskit.visualization import *\n",
    "from ibm_quantum_widgets import *\n",
    "\n",
    "# qiskit-ibmq-provider has been deprecated.\n",
    "# Please see the Migration Guides in https://ibm.biz/provider_migration_guide for more detail.\n",
    "from qiskit_ibm_runtime import QiskitRuntimeService, Sampler, Estimator, Session, Options\n",
    "\n",
    "# Loading your IBM Quantum account(s)\n",
    "service = QiskitRuntimeService(channel=\"ibm_quantum\")\n",
    "\n",
    "# Invoke a primitive. For more details see https://qiskit.org/documentation/partners/qiskit_ibm_runtime/tutorials.html\n",
    "# result = Sampler(\"ibmq_qasm_simulator\").run(circuits).result()"
   ]
  },
  {
   "cell_type": "markdown",
   "id": "4bcb78e4-da3f-4b7f-9ba5-be9c28dce787",
   "metadata": {
    "tags": []
   },
   "source": [
    "## NOTE (1) \n",
    "Run the piece of code bellow to: <br>\n",
    "-> produce a list of characters out of a string <br>\n",
    "-> produce all possible results of binary combinations"
   ]
  },
  {
   "cell_type": "code",
   "execution_count": 2,
   "id": "04eaa42e-227f-412e-9e17-888879c6a583",
   "metadata": {
    "tags": []
   },
   "outputs": [],
   "source": [
    "# Code imported form \n",
    "# https://stackoverflow.com/questions/14931769/how-to-get-all-combination-of-n-binary-value\n",
    "import itertools\n",
    "def binaryCombinations(N): \n",
    "    lst = list(itertools.product([0, 1], repeat=N))\n",
    "    return lst"
   ]
  },
  {
   "cell_type": "markdown",
   "id": "3333b452-5bff-4a27-af21-e749c4a16e13",
   "metadata": {},
   "source": [
    "## NOTE (2)\n",
    "### Code explanation about **storing measurements** : \n",
    "\n",
    "~~~ \n",
    "    simulation = Aer.get_backend('aer_simulator')\n",
    "    experiment = simulation.run( circuit_name , shots = N, memory = True )\n",
    "    output = experiment.result().get_memory()[ i ] \n",
    "    \n",
    "    # usually with N = 1, i = 0\n",
    "~~~\n",
    "\n",
    "<br>First, by\n",
    "~~~ \n",
    "    simulation = Aer.get_backend('aer_simulator')\n",
    "~~~\n",
    "we connect our backend to the Aer simulator in Qiskit, in order to simulate quantum circuits. <br>\n",
    "Then, with the command\n",
    "~~~ \n",
    "    experiment = simulation.run( circuit_name , shots = N, memory = True )\n",
    "~~~\n",
    "we are executing N experiments running our circuit. It is important to set as True the last parameter, refering to memory. This creates an array of N positions, each one of them saving an experiment execution. <br>\n",
    "Lastly, we use the command \n",
    "~~~ \n",
    "    output = experiment.result().get_memory()[ i ] \n",
    "~~~\n",
    "to access measurement result of execution No. (i+1), which is stored in the i-th position of the (zero-based) array. "
   ]
  }
 ],
 "metadata": {
  "kernelspec": {
   "display_name": "Python 3 (ipykernel)",
   "language": "python",
   "name": "python3"
  },
  "language_info": {
   "codemirror_mode": {
    "name": "ipython",
    "version": 3
   },
   "file_extension": ".py",
   "mimetype": "text/x-python",
   "name": "python",
   "nbconvert_exporter": "python",
   "pygments_lexer": "ipython3",
   "version": "3.10.8"
  },
  "widgets": {
   "application/vnd.jupyter.widget-state+json": {
    "state": {
     "01a5acd8c6ab409e93138a91a6427f7b": {
      "model_module": "@jupyter-widgets/controls",
      "model_module_version": "2.0.0",
      "model_name": "HTMLStyleModel",
      "state": {
       "description_width": "",
       "font_size": null,
       "text_color": null
      }
     },
     "16310950f77a4af3958b0c807c0a2e91": {
      "model_module": "@jupyter-widgets/controls",
      "model_module_version": "2.0.0",
      "model_name": "ButtonModel",
      "state": {
       "button_style": "primary",
       "description": "Clear",
       "layout": "IPY_MODEL_eca5d8052a95408488552d7a89662a42",
       "style": "IPY_MODEL_32403a75952c4f67a29fc550a291970c",
       "tooltip": null
      }
     },
     "276e64602ddc4682bba96b05788b5ed8": {
      "model_module": "@jupyter-widgets/base",
      "model_module_version": "2.0.0",
      "model_name": "LayoutModel",
      "state": {
       "width": "70px"
      }
     },
     "32403a75952c4f67a29fc550a291970c": {
      "model_module": "@jupyter-widgets/controls",
      "model_module_version": "2.0.0",
      "model_name": "ButtonStyleModel",
      "state": {
       "font_family": null,
       "font_size": null,
       "font_style": null,
       "font_variant": null,
       "font_weight": null,
       "text_color": null,
       "text_decoration": null
      }
     },
     "4476a10de12e4126a9aed883c70359ab": {
      "model_module": "@jupyter-widgets/controls",
      "model_module_version": "2.0.0",
      "model_name": "HTMLStyleModel",
      "state": {
       "description_width": "",
       "font_size": null,
       "text_color": null
      }
     },
     "4683d6b7cc5545d08148de4ae03b183f": {
      "model_module": "@jupyter-widgets/controls",
      "model_module_version": "2.0.0",
      "model_name": "HTMLModel",
      "state": {
       "layout": "IPY_MODEL_e41114d23a0e4d72b0885bb24a9d144d",
       "style": "IPY_MODEL_8730de776ebf4619bd20533c3e3c9767",
       "value": "<h5>Job ID</h5>"
      }
     },
     "50a4a98b889149f28e1aa3d558b90855": {
      "model_module": "@jupyter-widgets/base",
      "model_module_version": "2.0.0",
      "model_name": "LayoutModel",
      "state": {
       "width": "145px"
      }
     },
     "52fabb6a61834b02a8dd4e9be0485850": {
      "model_module": "@jupyter-widgets/controls",
      "model_module_version": "2.0.0",
      "model_name": "HTMLModel",
      "state": {
       "layout": "IPY_MODEL_276e64602ddc4682bba96b05788b5ed8",
       "style": "IPY_MODEL_4476a10de12e4126a9aed883c70359ab",
       "value": "<h5>Queue</h5>"
      }
     },
     "5d1da5e9fbed4758be87e52a0828670c": {
      "model_module": "@jupyter-widgets/controls",
      "model_module_version": "2.0.0",
      "model_name": "HTMLStyleModel",
      "state": {
       "description_width": "",
       "font_size": null,
       "text_color": null
      }
     },
     "619e2c26a0084a1a92b18a3dec6f1a96": {
      "model_module": "@jupyter-widgets/base",
      "model_module_version": "2.0.0",
      "model_name": "LayoutModel",
      "state": {
       "width": "95px"
      }
     },
     "66c004267461444babaa09cb1361e42e": {
      "model_module": "@jupyter-widgets/base",
      "model_module_version": "2.0.0",
      "model_name": "LayoutModel",
      "state": {
       "margin": "0px 0px 10px 0px"
      }
     },
     "6fd75c7481634b80885945deac7b640d": {
      "model_module": "@jupyter-widgets/controls",
      "model_module_version": "2.0.0",
      "model_name": "HTMLModel",
      "state": {
       "layout": "IPY_MODEL_50a4a98b889149f28e1aa3d558b90855",
       "style": "IPY_MODEL_7c3bea2e83294312883719edf73071a5",
       "value": "<h5>Backend</h5>"
      }
     },
     "75e5a8b5e8ef4ccb945c7cdf2b5e3db8": {
      "model_module": "@jupyter-widgets/controls",
      "model_module_version": "2.0.0",
      "model_name": "HTMLModel",
      "state": {
       "layout": "IPY_MODEL_e003d5f59d274114b7783bb6652f8317",
       "style": "IPY_MODEL_b2f747da71aa497ba62002b6457c6946",
       "value": "<h5>Message</h5>"
      }
     },
     "7c3bea2e83294312883719edf73071a5": {
      "model_module": "@jupyter-widgets/controls",
      "model_module_version": "2.0.0",
      "model_name": "HTMLStyleModel",
      "state": {
       "description_width": "",
       "font_size": null,
       "text_color": null
      }
     },
     "8730de776ebf4619bd20533c3e3c9767": {
      "model_module": "@jupyter-widgets/controls",
      "model_module_version": "2.0.0",
      "model_name": "HTMLStyleModel",
      "state": {
       "description_width": "",
       "font_size": null,
       "text_color": null
      }
     },
     "a380780637f547b3ac795e78be2ca851": {
      "model_module": "@jupyter-widgets/controls",
      "model_module_version": "2.0.0",
      "model_name": "HTMLModel",
      "state": {
       "layout": "IPY_MODEL_619e2c26a0084a1a92b18a3dec6f1a96",
       "style": "IPY_MODEL_01a5acd8c6ab409e93138a91a6427f7b",
       "value": "<h5>Status</h5>"
      }
     },
     "b01ddd0fe55b44d99d795d10b03b8dce": {
      "model_module": "@jupyter-widgets/controls",
      "model_module_version": "2.0.0",
      "model_name": "HTMLModel",
      "state": {
       "layout": "IPY_MODEL_66c004267461444babaa09cb1361e42e",
       "style": "IPY_MODEL_5d1da5e9fbed4758be87e52a0828670c",
       "value": "<p style='font-family: IBM Plex Sans, Arial, Helvetica, sans-serif; font-size: 20px; font-weight: medium;'>Circuit Properties</p>"
      }
     },
     "b2f747da71aa497ba62002b6457c6946": {
      "model_module": "@jupyter-widgets/controls",
      "model_module_version": "2.0.0",
      "model_name": "HTMLStyleModel",
      "state": {
       "description_width": "",
       "font_size": null,
       "text_color": null
      }
     },
     "bf9e296568dc4c7690d6cec87327daae": {
      "model_module": "@jupyter-widgets/controls",
      "model_module_version": "2.0.0",
      "model_name": "HBoxModel",
      "state": {
       "children": [
        "IPY_MODEL_4683d6b7cc5545d08148de4ae03b183f",
        "IPY_MODEL_6fd75c7481634b80885945deac7b640d",
        "IPY_MODEL_a380780637f547b3ac795e78be2ca851",
        "IPY_MODEL_52fabb6a61834b02a8dd4e9be0485850",
        "IPY_MODEL_75e5a8b5e8ef4ccb945c7cdf2b5e3db8"
       ],
       "layout": "IPY_MODEL_c040d0e758354781844713e9773f9db9"
      }
     },
     "c040d0e758354781844713e9773f9db9": {
      "model_module": "@jupyter-widgets/base",
      "model_module_version": "2.0.0",
      "model_name": "LayoutModel",
      "state": {
       "margin": "0px 0px 0px 37px",
       "width": "600px"
      }
     },
     "e003d5f59d274114b7783bb6652f8317": {
      "model_module": "@jupyter-widgets/base",
      "model_module_version": "2.0.0",
      "model_name": "LayoutModel",
      "state": {}
     },
     "e41114d23a0e4d72b0885bb24a9d144d": {
      "model_module": "@jupyter-widgets/base",
      "model_module_version": "2.0.0",
      "model_name": "LayoutModel",
      "state": {
       "width": "190px"
      }
     },
     "e65bee2d871041f7a19b02a603999627": {
      "model_module": "@jupyter-widgets/base",
      "model_module_version": "2.0.0",
      "model_name": "LayoutModel",
      "state": {
       "grid_template_areas": "\n                                       \". . . . right \"\n                                        ",
       "grid_template_columns": "20% 20% 20% 20% 20%",
       "width": "100%"
      }
     },
     "eca5d8052a95408488552d7a89662a42": {
      "model_module": "@jupyter-widgets/base",
      "model_module_version": "2.0.0",
      "model_name": "LayoutModel",
      "state": {
       "grid_area": "right",
       "padding": "0px 0px 0px 0px",
       "width": "70px"
      }
     },
     "fbc7c783e30f4252b912e417b4332266": {
      "model_module": "@jupyter-widgets/controls",
      "model_module_version": "2.0.0",
      "model_name": "GridBoxModel",
      "state": {
       "children": [
        "IPY_MODEL_16310950f77a4af3958b0c807c0a2e91"
       ],
       "layout": "IPY_MODEL_e65bee2d871041f7a19b02a603999627"
      }
     }
    },
    "version_major": 2,
    "version_minor": 0
   }
  }
 },
 "nbformat": 4,
 "nbformat_minor": 5
}
