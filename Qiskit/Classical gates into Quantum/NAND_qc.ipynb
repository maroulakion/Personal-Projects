{
 "cells": [
  {
   "cell_type": "code",
   "execution_count": 4,
   "id": "e42ae01a-f64d-4e31-91da-083a13e2ca42",
   "metadata": {},
   "outputs": [],
   "source": [
    "# Importing standard Qiskit libraries\n",
    "from qiskit import QuantumCircuit, transpile\n",
    "from qiskit.tools.jupyter import *\n",
    "from qiskit.visualization import *\n",
    "from ibm_quantum_widgets import *\n",
    "\n",
    "# qiskit-ibmq-provider has been deprecated.\n",
    "# Please see the Migration Guides in https://ibm.biz/provider_migration_guide for more detail.\n",
    "from qiskit_ibm_runtime import QiskitRuntimeService, Sampler, Estimator, Session, Options\n",
    "\n",
    "import numpy as np\n",
    "\n",
    "# Importing standard Qiskit libraries\n",
    "from qiskit import QuantumCircuit, transpile, Aer, IBMQ\n",
    "from ibm_quantum_widgets import *\n",
    "from qiskit.providers.aer import QasmSimulator\n",
    "\n",
    "# Loading your IBM Quantum account(s)\n",
    "service = QiskitRuntimeService(channel=\"ibm_quantum\")\n",
    "\n",
    "# Invoke a primitive. For more details see https://qiskit.org/documentation/partners/qiskit_ibm_runtime/tutorials.html\n",
    "# result = Sampler(\"ibmq_qasm_simulator\").run(circuits).result()g standard Qiskit libraries\n",
    "from qiskit import QuantumCircuit, transpile\n",
    "from qiskit.tools.jupyter import *\n",
    "from qiskit.visualization import *\n",
    "from ibm_quantum_widgets import *\n",
    "\n",
    "# qiskit-ibmq-provider has been deprecated.\n",
    "# Please see the Migration Guides in https://ibm.biz/provider_migration_guide for more detail.\n",
    "from qiskit_ibm_runtime import QiskitRuntimeService, Sampler, Estimator, Session, Options\n",
    "\n",
    "# Loading your IBM Quantum account(s)\n",
    "service = QiskitRuntimeService(channel=\"ibm_quantum\")\n",
    "\n",
    "# Invoke a primitive. For more details see https://qiskit.org/documentation/partners/qiskit_ibm_runtime/tutorials.html\n",
    "# result = Sampler(\"ibmq_qasm_simulator\").run(circuits).result()"
   ]
  },
  {
   "cell_type": "markdown",
   "id": "2870b0bb-ea5b-4489-a0b9-28a5ed2dff5f",
   "metadata": {},
   "source": [
    "## NOTE (1) \n",
    "Run the piece of code bellow to: <br>\n",
    "-> produce all possible results of binary combinations"
   ]
  },
  {
   "cell_type": "code",
   "execution_count": 5,
   "id": "f3e29c79-6af1-4ece-b0d6-d2e51d5efaca",
   "metadata": {
    "tags": []
   },
   "outputs": [],
   "source": [
    "# Code imported form \n",
    "# https://stackoverflow.com/questions/14931769/how-to-get-all-combination-of-n-binary-value\n",
    "import itertools\n",
    "def binaryCombinations(N): \n",
    "    lst = list(itertools.product([0, 1], repeat=N))\n",
    "    return lst"
   ]
  },
  {
   "cell_type": "markdown",
   "id": "5d5e6cbf-74df-4cd6-b569-afa8c7d0199c",
   "metadata": {},
   "source": [
    "## NOTE (2)\n",
    "### Code explanation about **storing measurements** : \n",
    "\n",
    "~~~ \n",
    "    simulation = Aer.get_backend('aer_simulator')\n",
    "    experiment = simulation.run( circuit_name , shots = N, memory = True )\n",
    "    output = experiment.result().get_memory()[ i ] \n",
    "    \n",
    "    # usually with N = 1, i = 0\n",
    "~~~\n",
    "\n",
    "<br>First, by\n",
    "~~~ \n",
    "    simulation = Aer.get_backend('aer_simulator')\n",
    "~~~\n",
    "we connect our backend to the Aer simulator in Qiskit, in order to simulate quantum circuits. <br>\n",
    "Then, with the command\n",
    "~~~ \n",
    "    experiment = simulation.run( circuit_name , shots = N, memory = True )\n",
    "~~~\n",
    "we are executing N experiments running our circuit. It is important to set as True the last parameter, refering to memory. This creates an array of N positions, each one of them saving an experiment execution. <br>\n",
    "Lastly, we use the command \n",
    "~~~ \n",
    "    output = experiment.result().get_memory()[ i ] \n",
    "~~~\n",
    "to access measurement result of execution No. (i+1), which is stored in the i-th position of the (zero-based) array. "
   ]
  },
  {
   "cell_type": "code",
   "execution_count": 29,
   "id": "d055e17f-9783-4f77-9457-bec7b39202a4",
   "metadata": {
    "tags": []
   },
   "outputs": [],
   "source": [
    "# --------------------------------------------------------------\n",
    "#             I N V E R S I O N    G  A  T  E\n",
    "# --------------------------------------------------------------\n",
    "def INVERSION(inp): \n",
    "    # 0. GATE FUNCTIONALITY / LOGIC\n",
    "    # If input is 0, it returns 1\n",
    "    # If input is 1, it returns 0\n",
    "    # _________________________________\n",
    "    \n",
    "    # 1. CREATE QUANTUM CIRCUIT\n",
    "    # NOT gate needs 1 qubit as input line\n",
    "    # It also needs a classical bit to store measurement result \n",
    "    Inversion = QuantumCircuit(1,1)\n",
    "    \n",
    "    # 2. INTIALIZE CIRCUIT TO MATCH FUNCTION INPUT\n",
    "    # Due to Qiskit initializing qubits to |0>, \n",
    "    # we need to add an X gate to each input that is '1'\n",
    "    if (inp == 1):\n",
    "        Inversion.x(0)\n",
    "    Inversion.barrier()\n",
    "    \n",
    "    # 3. ADD GATES TO ACHIEVE DESIRED OUTPUT\n",
    "    Inversion.x(0)\n",
    "    Inversion.measure(0,0)\n",
    "    Inversion.draw()\n",
    "    \n",
    "    # 4. SIMULATE MEASUREMENT AND RETURN RESULTS \n",
    "    simulation = Aer.get_backend('aer_simulator')\n",
    "    experiment = simulation.run(Inversion, shots=1, memory=True)\n",
    "    output = experiment.result().get_memory()[0]\n",
    "    \n",
    "    return Inversion, output\n",
    "\n",
    "\n",
    "# --------------------------------------------------------------\n",
    "#             A  N  D      G  A  T  E\n",
    "# --------------------------------------------------------------\n",
    "\n",
    "# THE \"AND_2_4()\" WORKS ONLY FOR N = 2 OR N = 4\n",
    "def AND_2_4(inputs): \n",
    "    # 0. GATE FUNCTIONALITY / LOGIC\n",
    "    # If all inputs are '1', it returns '1'\n",
    "    # If at least one input is '0', it returns '0'\n",
    "    \n",
    "    # 1. CREATE QUANTUM CIRCUIT\n",
    "    # AND gate needs at least 2 qubits as input line -- more are acceptable. \n",
    "    # For N main inputs, we need an extra qubit to make measurements, \n",
    "    # so we will use N+1 lines of qubits. \n",
    "    # It also needs a classical bit to store measurement result.\n",
    "    count, i = len(inputs), int(len(inputs)/2)\n",
    "    while ( i > 0 ):\n",
    "        count = count + i\n",
    "        i = int(i/2)\n",
    "    AND_gate = QuantumCircuit(count,1)\n",
    "    \n",
    "    # 2. INTIALIZE CIRCUIT TO MATCH FUNCTION INPUT\n",
    "    # Due to Qiskit initializing qubits to |0>, \n",
    "    # we need to add an X gate to each input that is '1'\n",
    "    for i in range(len(inputs)):\n",
    "        if (inputs[i] == 1):\n",
    "            AND_gate.x(i)\n",
    "    AND_gate.barrier()\n",
    "\n",
    "    # 3. ADD GATES TO ACHIEVE DESIRED OUTPUT\n",
    "    entagl = [ [0, len(inputs)-1] , [len(inputs), count-2] ] \n",
    "    k = 0\n",
    "    while ( k < len(entagl) ): \n",
    "        ind = 0\n",
    "        for i in range(entagl[k][0], entagl[k][1], 2): \n",
    "            AND_gate.ccx(i,i+1,entagl[k][1]+1+ind)\n",
    "            ind = ind + 1\n",
    "        k = k + 1\n",
    "\n",
    "    AND_gate.measure(count-1, 0)\n",
    "    AND_gate.draw()\n",
    "    \n",
    "    # 4. SIMULATE MEASUREMENT AND RETURN RESULTS \n",
    "    simulation = Aer.get_backend('aer_simulator')\n",
    "    experiment = simulation.run(AND_gate, shots=1, memory=True)\n",
    "    output = experiment.result().get_memory()[0]\n",
    "    \n",
    "    return AND_gate, int(output)\n",
    "\n",
    "\n",
    "# THE \"AND_3()\" WORKS ONLY FOR N = 3\n",
    "def AND_3(inputs): \n",
    "    # 0. GATE FUNCTIONALITY / LOGIC\n",
    "    # If all inputs are '1', it returns '1'\n",
    "    # If at least one input is '0', it returns '0'\n",
    "    # _________________________________\n",
    "    \n",
    "    # 1. CREATE QUANTUM CIRCUIT\n",
    "    # AND gate needs at least 2 qubits as input line -- more are acceptable. \n",
    "    # For N main inputs, we need an extra qubit to make measurements, \n",
    "    # so we will use N+1 lines of qubits. \n",
    "    # It also needs a classical bit to store measurement result.\n",
    "    count, i = len(inputs), int(len(inputs)/2)\n",
    "    while ( i > 0 ):\n",
    "        count = count + i\n",
    "        i = int(i/2)\n",
    "    if (len(inputs)%2 == 1):\n",
    "        count = count + 1\n",
    "    AND_gate = QuantumCircuit(count,1)\n",
    "    \n",
    "    # 2. INTIALIZE CIRCUIT TO MATCH FUNCTION INPUT\n",
    "    # Due to Qiskit initializing qubits to |0>, \n",
    "    # we need to add an X gate to each input that is '1'\n",
    "    for i in range(len(inputs)):\n",
    "        if (inputs[i] == 1):\n",
    "            AND_gate.x(i)\n",
    "    AND_gate.barrier()\n",
    "\n",
    "    # 3. ADD GATES TO ACHIEVE DESIRED OUTPUT\n",
    "    entagl = [ [0, len(inputs)-1] , [len(inputs), count-2] ] \n",
    "    k = 0\n",
    "    while ( k < len(entagl) ): \n",
    "        ind = 0\n",
    "        for i in range(entagl[k][0], entagl[k][1], 2): \n",
    "            AND_gate.ccx(i,i+1,entagl[k][1]+1+ind)\n",
    "            ind = ind + 1\n",
    "        k = k + 1\n",
    "    AND_gate.ccx(count-3, count-2, count-1)\n",
    "    AND_gate.measure(count-1, 0)\n",
    "    AND_gate.draw()\n",
    "    \n",
    "    # 4. SIMULATE MEASUREMENT AND RETURN RESULTS \n",
    "    simulation = Aer.get_backend('aer_simulator')\n",
    "    experiment = simulation.run(AND_gate, shots=1, memory=True)\n",
    "    output = experiment.result().get_memory()[0]\n",
    "    \n",
    "    return AND_gate, int(output)\n",
    "\n",
    "\n",
    "def AND(inputs): \n",
    "    # 0. GATE FUNCTIONALITY / LOGIC\n",
    "    # If all inputs are '1', it returns '1'\n",
    "    # If at least one input is '0', it returns '0'\n",
    "    # _________________________________\n",
    "    inpNo = len(inputs)\n",
    "    if (inpNo == 2 or inpNo == 4):\n",
    "        return AND_2_4(inputs)\n",
    "    elif (inpNo == 3): \n",
    "        return AND_3(inputs)\n",
    "    else: \n",
    "        AND_1, output1 = AND(inputs[0:int(inpNo/2)])\n",
    "        AND_2, output2 = AND(inputs[int(inpNo/2):inpNo])\n",
    "        AND_gate, output = AND([int(output1), int(output2)])\n",
    "    \n",
    "    return AND_gate, int(output)"
   ]
  },
  {
   "cell_type": "code",
   "execution_count": 33,
   "id": "0f9f346b-c7de-4d2f-821e-bde76d81a0c0",
   "metadata": {
    "tags": []
   },
   "outputs": [],
   "source": [
    "def NAND(inputs):\n",
    "    # 0. GATE FUNCTIONALITY / LOGIC\n",
    "    # If all inputs are '1', it returns '0'\n",
    "    # If at least one input is '0', it returns '1'\n",
    "    # _________________________________\n",
    "    # BASICALLY an AND gate with inverted result\n",
    "    \n",
    "    # First, we need to apply an AND gate.\n",
    "    AND_gate, AND_output = AND(inputs)\n",
    "    # Then, we need to inverted the output of AND to get the NOT-AND output.\n",
    "    NAND_gate, NAND_output = INVERSION(AND_output)\n",
    "    \n",
    "    return NAND_gate, int(NAND_output)"
   ]
  },
  {
   "cell_type": "code",
   "execution_count": 40,
   "id": "ad5c91f6-fe5a-4198-a2da-e6d7b92c387d",
   "metadata": {
    "tags": []
   },
   "outputs": [
    {
     "name": "stdout",
     "output_type": "stream",
     "text": [
      "BEFORE:  \" (0, 0) \" -->  AFTER NAND gate: \" 1 \"\n",
      "BEFORE:  \" (0, 1) \" -->  AFTER NAND gate: \" 1 \"\n",
      "BEFORE:  \" (1, 0) \" -->  AFTER NAND gate: \" 1 \"\n",
      "BEFORE:  \" (1, 1) \" -->  AFTER NAND gate: \" 0 \"\n"
     ]
    }
   ],
   "source": [
    "# Executing all possible results for NAND gate\n",
    "# using N qubits as input\n",
    "N = 2\n",
    "combinations = binaryCombinations(N)\n",
    "\n",
    "for comb in combinations: \n",
    "    init_value = comb\n",
    "    output_qc, output_value = NAND(init_value)\n",
    "    print('BEFORE:  \"',init_value,'\" -->  AFTER NAND gate: \"',output_value, '\"')"
   ]
  },
  {
   "cell_type": "code",
   "execution_count": 39,
   "id": "6011ce3a-392f-4224-9148-6c8a9453efec",
   "metadata": {
    "tags": []
   },
   "outputs": [
    {
     "name": "stdout",
     "output_type": "stream",
     "text": [
      "BEFORE:  \" (0, 0, 0) \" -->  AFTER NAND gate: \" 1 \"\n",
      "BEFORE:  \" (0, 0, 1) \" -->  AFTER NAND gate: \" 1 \"\n",
      "BEFORE:  \" (0, 1, 0) \" -->  AFTER NAND gate: \" 1 \"\n",
      "BEFORE:  \" (0, 1, 1) \" -->  AFTER NAND gate: \" 1 \"\n",
      "BEFORE:  \" (1, 0, 0) \" -->  AFTER NAND gate: \" 1 \"\n",
      "BEFORE:  \" (1, 0, 1) \" -->  AFTER NAND gate: \" 1 \"\n",
      "BEFORE:  \" (1, 1, 0) \" -->  AFTER NAND gate: \" 1 \"\n",
      "BEFORE:  \" (1, 1, 1) \" -->  AFTER NAND gate: \" 0 \"\n"
     ]
    }
   ],
   "source": [
    "# Executing all possible results for NAND gate\n",
    "# using N qubits as input\n",
    "N = 3\n",
    "combinations = binaryCombinations(N)\n",
    "\n",
    "for comb in combinations: \n",
    "    init_value = comb\n",
    "    output_qc, output_value = NAND(init_value)\n",
    "    print('BEFORE:  \"',init_value,'\" -->  AFTER NAND gate: \"',output_value, '\"')"
   ]
  },
  {
   "cell_type": "code",
   "execution_count": 41,
   "id": "3f8f4b1e-fc3c-47de-ab35-9c573650e2f0",
   "metadata": {
    "tags": []
   },
   "outputs": [
    {
     "name": "stdout",
     "output_type": "stream",
     "text": [
      "BEFORE:  \" (0, 0, 0, 0) \" -->  AFTER NAND gate: \" 1 \"\n",
      "BEFORE:  \" (0, 0, 0, 1) \" -->  AFTER NAND gate: \" 1 \"\n",
      "BEFORE:  \" (0, 0, 1, 0) \" -->  AFTER NAND gate: \" 1 \"\n",
      "BEFORE:  \" (0, 0, 1, 1) \" -->  AFTER NAND gate: \" 1 \"\n",
      "BEFORE:  \" (0, 1, 0, 0) \" -->  AFTER NAND gate: \" 1 \"\n",
      "BEFORE:  \" (0, 1, 0, 1) \" -->  AFTER NAND gate: \" 1 \"\n",
      "BEFORE:  \" (0, 1, 1, 0) \" -->  AFTER NAND gate: \" 1 \"\n",
      "BEFORE:  \" (0, 1, 1, 1) \" -->  AFTER NAND gate: \" 1 \"\n",
      "BEFORE:  \" (1, 0, 0, 0) \" -->  AFTER NAND gate: \" 1 \"\n",
      "BEFORE:  \" (1, 0, 0, 1) \" -->  AFTER NAND gate: \" 1 \"\n",
      "BEFORE:  \" (1, 0, 1, 0) \" -->  AFTER NAND gate: \" 1 \"\n",
      "BEFORE:  \" (1, 0, 1, 1) \" -->  AFTER NAND gate: \" 1 \"\n",
      "BEFORE:  \" (1, 1, 0, 0) \" -->  AFTER NAND gate: \" 1 \"\n",
      "BEFORE:  \" (1, 1, 0, 1) \" -->  AFTER NAND gate: \" 1 \"\n",
      "BEFORE:  \" (1, 1, 1, 0) \" -->  AFTER NAND gate: \" 1 \"\n",
      "BEFORE:  \" (1, 1, 1, 1) \" -->  AFTER NAND gate: \" 0 \"\n"
     ]
    }
   ],
   "source": [
    "# Executing all possible results for NAND gate\n",
    "# using N qubits as input\n",
    "N = 4\n",
    "combinations = binaryCombinations(N)\n",
    "\n",
    "for comb in combinations: \n",
    "    init_value = comb\n",
    "    output_qc, output_value = NAND(init_value)\n",
    "    print('BEFORE:  \"',init_value,'\" -->  AFTER NAND gate: \"',output_value, '\"')"
   ]
  },
  {
   "cell_type": "code",
   "execution_count": 34,
   "id": "24f27f4f-1296-4d27-8d9e-3fc8532cd568",
   "metadata": {
    "tags": []
   },
   "outputs": [
    {
     "name": "stdout",
     "output_type": "stream",
     "text": [
      "BEFORE:  \" (0, 0, 0, 0, 0, 0) \" -->  AFTER NAND gate: \" 1 \"\n",
      "BEFORE:  \" (0, 0, 0, 0, 0, 1) \" -->  AFTER NAND gate: \" 1 \"\n",
      "BEFORE:  \" (0, 0, 0, 0, 1, 0) \" -->  AFTER NAND gate: \" 1 \"\n",
      "BEFORE:  \" (0, 0, 0, 0, 1, 1) \" -->  AFTER NAND gate: \" 1 \"\n",
      "BEFORE:  \" (0, 0, 0, 1, 0, 0) \" -->  AFTER NAND gate: \" 1 \"\n",
      "BEFORE:  \" (0, 0, 0, 1, 0, 1) \" -->  AFTER NAND gate: \" 1 \"\n",
      "BEFORE:  \" (0, 0, 0, 1, 1, 0) \" -->  AFTER NAND gate: \" 1 \"\n",
      "BEFORE:  \" (0, 0, 0, 1, 1, 1) \" -->  AFTER NAND gate: \" 1 \"\n",
      "BEFORE:  \" (0, 0, 1, 0, 0, 0) \" -->  AFTER NAND gate: \" 1 \"\n",
      "BEFORE:  \" (0, 0, 1, 0, 0, 1) \" -->  AFTER NAND gate: \" 1 \"\n",
      "BEFORE:  \" (0, 0, 1, 0, 1, 0) \" -->  AFTER NAND gate: \" 1 \"\n",
      "BEFORE:  \" (0, 0, 1, 0, 1, 1) \" -->  AFTER NAND gate: \" 1 \"\n",
      "BEFORE:  \" (0, 0, 1, 1, 0, 0) \" -->  AFTER NAND gate: \" 1 \"\n",
      "BEFORE:  \" (0, 0, 1, 1, 0, 1) \" -->  AFTER NAND gate: \" 1 \"\n",
      "BEFORE:  \" (0, 0, 1, 1, 1, 0) \" -->  AFTER NAND gate: \" 1 \"\n",
      "BEFORE:  \" (0, 0, 1, 1, 1, 1) \" -->  AFTER NAND gate: \" 1 \"\n",
      "BEFORE:  \" (0, 1, 0, 0, 0, 0) \" -->  AFTER NAND gate: \" 1 \"\n",
      "BEFORE:  \" (0, 1, 0, 0, 0, 1) \" -->  AFTER NAND gate: \" 1 \"\n",
      "BEFORE:  \" (0, 1, 0, 0, 1, 0) \" -->  AFTER NAND gate: \" 1 \"\n",
      "BEFORE:  \" (0, 1, 0, 0, 1, 1) \" -->  AFTER NAND gate: \" 1 \"\n",
      "BEFORE:  \" (0, 1, 0, 1, 0, 0) \" -->  AFTER NAND gate: \" 1 \"\n",
      "BEFORE:  \" (0, 1, 0, 1, 0, 1) \" -->  AFTER NAND gate: \" 1 \"\n",
      "BEFORE:  \" (0, 1, 0, 1, 1, 0) \" -->  AFTER NAND gate: \" 1 \"\n",
      "BEFORE:  \" (0, 1, 0, 1, 1, 1) \" -->  AFTER NAND gate: \" 1 \"\n",
      "BEFORE:  \" (0, 1, 1, 0, 0, 0) \" -->  AFTER NAND gate: \" 1 \"\n",
      "BEFORE:  \" (0, 1, 1, 0, 0, 1) \" -->  AFTER NAND gate: \" 1 \"\n",
      "BEFORE:  \" (0, 1, 1, 0, 1, 0) \" -->  AFTER NAND gate: \" 1 \"\n",
      "BEFORE:  \" (0, 1, 1, 0, 1, 1) \" -->  AFTER NAND gate: \" 1 \"\n",
      "BEFORE:  \" (0, 1, 1, 1, 0, 0) \" -->  AFTER NAND gate: \" 1 \"\n",
      "BEFORE:  \" (0, 1, 1, 1, 0, 1) \" -->  AFTER NAND gate: \" 1 \"\n",
      "BEFORE:  \" (0, 1, 1, 1, 1, 0) \" -->  AFTER NAND gate: \" 1 \"\n",
      "BEFORE:  \" (0, 1, 1, 1, 1, 1) \" -->  AFTER NAND gate: \" 1 \"\n",
      "BEFORE:  \" (1, 0, 0, 0, 0, 0) \" -->  AFTER NAND gate: \" 1 \"\n",
      "BEFORE:  \" (1, 0, 0, 0, 0, 1) \" -->  AFTER NAND gate: \" 1 \"\n",
      "BEFORE:  \" (1, 0, 0, 0, 1, 0) \" -->  AFTER NAND gate: \" 1 \"\n",
      "BEFORE:  \" (1, 0, 0, 0, 1, 1) \" -->  AFTER NAND gate: \" 1 \"\n",
      "BEFORE:  \" (1, 0, 0, 1, 0, 0) \" -->  AFTER NAND gate: \" 1 \"\n",
      "BEFORE:  \" (1, 0, 0, 1, 0, 1) \" -->  AFTER NAND gate: \" 1 \"\n",
      "BEFORE:  \" (1, 0, 0, 1, 1, 0) \" -->  AFTER NAND gate: \" 1 \"\n",
      "BEFORE:  \" (1, 0, 0, 1, 1, 1) \" -->  AFTER NAND gate: \" 1 \"\n",
      "BEFORE:  \" (1, 0, 1, 0, 0, 0) \" -->  AFTER NAND gate: \" 1 \"\n",
      "BEFORE:  \" (1, 0, 1, 0, 0, 1) \" -->  AFTER NAND gate: \" 1 \"\n",
      "BEFORE:  \" (1, 0, 1, 0, 1, 0) \" -->  AFTER NAND gate: \" 1 \"\n",
      "BEFORE:  \" (1, 0, 1, 0, 1, 1) \" -->  AFTER NAND gate: \" 1 \"\n",
      "BEFORE:  \" (1, 0, 1, 1, 0, 0) \" -->  AFTER NAND gate: \" 1 \"\n",
      "BEFORE:  \" (1, 0, 1, 1, 0, 1) \" -->  AFTER NAND gate: \" 1 \"\n",
      "BEFORE:  \" (1, 0, 1, 1, 1, 0) \" -->  AFTER NAND gate: \" 1 \"\n",
      "BEFORE:  \" (1, 0, 1, 1, 1, 1) \" -->  AFTER NAND gate: \" 1 \"\n",
      "BEFORE:  \" (1, 1, 0, 0, 0, 0) \" -->  AFTER NAND gate: \" 1 \"\n",
      "BEFORE:  \" (1, 1, 0, 0, 0, 1) \" -->  AFTER NAND gate: \" 1 \"\n",
      "BEFORE:  \" (1, 1, 0, 0, 1, 0) \" -->  AFTER NAND gate: \" 1 \"\n",
      "BEFORE:  \" (1, 1, 0, 0, 1, 1) \" -->  AFTER NAND gate: \" 1 \"\n",
      "BEFORE:  \" (1, 1, 0, 1, 0, 0) \" -->  AFTER NAND gate: \" 1 \"\n",
      "BEFORE:  \" (1, 1, 0, 1, 0, 1) \" -->  AFTER NAND gate: \" 1 \"\n",
      "BEFORE:  \" (1, 1, 0, 1, 1, 0) \" -->  AFTER NAND gate: \" 1 \"\n",
      "BEFORE:  \" (1, 1, 0, 1, 1, 1) \" -->  AFTER NAND gate: \" 1 \"\n",
      "BEFORE:  \" (1, 1, 1, 0, 0, 0) \" -->  AFTER NAND gate: \" 1 \"\n",
      "BEFORE:  \" (1, 1, 1, 0, 0, 1) \" -->  AFTER NAND gate: \" 1 \"\n",
      "BEFORE:  \" (1, 1, 1, 0, 1, 0) \" -->  AFTER NAND gate: \" 1 \"\n",
      "BEFORE:  \" (1, 1, 1, 0, 1, 1) \" -->  AFTER NAND gate: \" 1 \"\n",
      "BEFORE:  \" (1, 1, 1, 1, 0, 0) \" -->  AFTER NAND gate: \" 1 \"\n",
      "BEFORE:  \" (1, 1, 1, 1, 0, 1) \" -->  AFTER NAND gate: \" 1 \"\n",
      "BEFORE:  \" (1, 1, 1, 1, 1, 0) \" -->  AFTER NAND gate: \" 1 \"\n",
      "BEFORE:  \" (1, 1, 1, 1, 1, 1) \" -->  AFTER NAND gate: \" 0 \"\n"
     ]
    }
   ],
   "source": [
    "# Executing all possible results for NAND gate\n",
    "# using N qubits as input\n",
    "N = 6\n",
    "combinations = binaryCombinations(N)\n",
    "\n",
    "for comb in combinations: \n",
    "    init_value = comb\n",
    "    output_qc, output_value = NAND(init_value)\n",
    "    print('BEFORE:  \"',init_value,'\" -->  AFTER NAND gate: \"',output_value, '\"')\n",
    "    #display(output_qc.draw('text'))\n",
    "    #print('\\n')"
   ]
  },
  {
   "cell_type": "code",
   "execution_count": 38,
   "id": "a0bad315-a634-4816-8040-bfbb67d90803",
   "metadata": {
    "tags": []
   },
   "outputs": [
    {
     "name": "stdout",
     "output_type": "stream",
     "text": [
      "For N =  8 , show ONLY input combinations that return 0 as output\n",
      "BEFORE:  \" (1, 1, 1, 1, 1, 1, 1, 1) \" -->  AFTER AND gate: \" 0 \"\n"
     ]
    }
   ],
   "source": [
    "# SAME testing code, but for bigger inputs ( N > 7 ) \n",
    "# An execution for N >= 8 require more than half a minute to finish\n",
    "# For even greater number of inputs, it takes even more. \n",
    "\n",
    "N = 8\n",
    "combinations = binaryCombinations(N)\n",
    "\n",
    "print (\"For N = \", N, \", show ONLY input combinations that return 0 as output\")\n",
    "for comb in combinations: \n",
    "    init_value = comb\n",
    "    output_qc, output_value = NAND(init_value)\n",
    "    if ( output_value == 0): \n",
    "        print('BEFORE:  \"',init_value,'\" -->  AFTER AND gate: \"',output_value, '\"')"
   ]
  }
 ],
 "metadata": {
  "kernelspec": {
   "display_name": "Python 3 (ipykernel)",
   "language": "python",
   "name": "python3"
  },
  "language_info": {
   "codemirror_mode": {
    "name": "ipython",
    "version": 3
   },
   "file_extension": ".py",
   "mimetype": "text/x-python",
   "name": "python",
   "nbconvert_exporter": "python",
   "pygments_lexer": "ipython3",
   "version": "3.10.8"
  },
  "widgets": {
   "application/vnd.jupyter.widget-state+json": {
    "state": {
     "1e2e1ed4ac9e41a5ba786ca58e34b86c": {
      "model_module": "@jupyter-widgets/base",
      "model_module_version": "2.0.0",
      "model_name": "LayoutModel",
      "state": {
       "margin": "0px 0px 0px 37px",
       "width": "600px"
      }
     },
     "25a61464b1a843b0aa27e3da8f253a8b": {
      "model_module": "@jupyter-widgets/controls",
      "model_module_version": "2.0.0",
      "model_name": "HBoxModel",
      "state": {
       "children": [
        "IPY_MODEL_bc3dd5e65fd34776817486e9003e6171",
        "IPY_MODEL_deca028e1c204b46811561d3e5a332f2",
        "IPY_MODEL_59c4a66a7bbb415481d593587831d7f6",
        "IPY_MODEL_aa0ea68fafc448d48a85d09c45573cd6",
        "IPY_MODEL_cf8774f6ac8f4b8180b1dacf8078f8bd"
       ],
       "layout": "IPY_MODEL_1e2e1ed4ac9e41a5ba786ca58e34b86c"
      }
     },
     "2e76211ccf11405daced4b0c6c66d49c": {
      "model_module": "@jupyter-widgets/base",
      "model_module_version": "2.0.0",
      "model_name": "LayoutModel",
      "state": {
       "width": "190px"
      }
     },
     "320b4886f7764f69ac5ff541f1b869f2": {
      "model_module": "@jupyter-widgets/base",
      "model_module_version": "2.0.0",
      "model_name": "LayoutModel",
      "state": {
       "grid_template_areas": "\n                                       \". . . . right \"\n                                        ",
       "grid_template_columns": "20% 20% 20% 20% 20%",
       "width": "100%"
      }
     },
     "35a9cfe955ef489ba4f1921fb6d74a03": {
      "model_module": "@jupyter-widgets/controls",
      "model_module_version": "2.0.0",
      "model_name": "GridBoxModel",
      "state": {
       "children": [
        "IPY_MODEL_9c45e70dc4b344dda4e1c03acaa364fc"
       ],
       "layout": "IPY_MODEL_320b4886f7764f69ac5ff541f1b869f2"
      }
     },
     "40cbea3388cc43ef89b5c8f9fc2352c0": {
      "model_module": "@jupyter-widgets/controls",
      "model_module_version": "2.0.0",
      "model_name": "ButtonStyleModel",
      "state": {
       "font_family": null,
       "font_size": null,
       "font_style": null,
       "font_variant": null,
       "font_weight": null,
       "text_color": null,
       "text_decoration": null
      }
     },
     "472aff05e7844abe98151bae8ee5be1a": {
      "model_module": "@jupyter-widgets/base",
      "model_module_version": "2.0.0",
      "model_name": "LayoutModel",
      "state": {
       "width": "95px"
      }
     },
     "59c4a66a7bbb415481d593587831d7f6": {
      "model_module": "@jupyter-widgets/controls",
      "model_module_version": "2.0.0",
      "model_name": "HTMLModel",
      "state": {
       "layout": "IPY_MODEL_472aff05e7844abe98151bae8ee5be1a",
       "style": "IPY_MODEL_f7e8f25ab4e44df2883015c275315c1d",
       "value": "<h5>Status</h5>"
      }
     },
     "620529f361bc4357aa47edada2c7e4bc": {
      "model_module": "@jupyter-widgets/base",
      "model_module_version": "2.0.0",
      "model_name": "LayoutModel",
      "state": {
       "grid_area": "right",
       "padding": "0px 0px 0px 0px",
       "width": "70px"
      }
     },
     "6ef3e7652223435aa5beb38fdb18e256": {
      "model_module": "@jupyter-widgets/controls",
      "model_module_version": "2.0.0",
      "model_name": "HTMLStyleModel",
      "state": {
       "description_width": "",
       "font_size": null,
       "text_color": null
      }
     },
     "6f4fd94d081c42cd97069144736c5e77": {
      "model_module": "@jupyter-widgets/base",
      "model_module_version": "2.0.0",
      "model_name": "LayoutModel",
      "state": {
       "width": "145px"
      }
     },
     "74c708185fad4c42814d1a1f5f029242": {
      "model_module": "@jupyter-widgets/controls",
      "model_module_version": "2.0.0",
      "model_name": "HTMLStyleModel",
      "state": {
       "description_width": "",
       "font_size": null,
       "text_color": null
      }
     },
     "8f187792bb2a4853a07954f3c8b24322": {
      "model_module": "@jupyter-widgets/controls",
      "model_module_version": "2.0.0",
      "model_name": "HTMLStyleModel",
      "state": {
       "description_width": "",
       "font_size": null,
       "text_color": null
      }
     },
     "9c45e70dc4b344dda4e1c03acaa364fc": {
      "model_module": "@jupyter-widgets/controls",
      "model_module_version": "2.0.0",
      "model_name": "ButtonModel",
      "state": {
       "button_style": "primary",
       "description": "Clear",
       "layout": "IPY_MODEL_620529f361bc4357aa47edada2c7e4bc",
       "style": "IPY_MODEL_40cbea3388cc43ef89b5c8f9fc2352c0",
       "tooltip": null
      }
     },
     "aa0ea68fafc448d48a85d09c45573cd6": {
      "model_module": "@jupyter-widgets/controls",
      "model_module_version": "2.0.0",
      "model_name": "HTMLModel",
      "state": {
       "layout": "IPY_MODEL_b29b0151f5c3428687b13f5268b0157d",
       "style": "IPY_MODEL_74c708185fad4c42814d1a1f5f029242",
       "value": "<h5>Queue</h5>"
      }
     },
     "b29b0151f5c3428687b13f5268b0157d": {
      "model_module": "@jupyter-widgets/base",
      "model_module_version": "2.0.0",
      "model_name": "LayoutModel",
      "state": {
       "width": "70px"
      }
     },
     "b2c49bc423724df7bfea587f3c2d503b": {
      "model_module": "@jupyter-widgets/controls",
      "model_module_version": "2.0.0",
      "model_name": "HTMLStyleModel",
      "state": {
       "description_width": "",
       "font_size": null,
       "text_color": null
      }
     },
     "b6c64efb42b14db9b0bf78907f8da4d5": {
      "model_module": "@jupyter-widgets/base",
      "model_module_version": "2.0.0",
      "model_name": "LayoutModel",
      "state": {
       "margin": "0px 0px 10px 0px"
      }
     },
     "bc3dd5e65fd34776817486e9003e6171": {
      "model_module": "@jupyter-widgets/controls",
      "model_module_version": "2.0.0",
      "model_name": "HTMLModel",
      "state": {
       "layout": "IPY_MODEL_2e76211ccf11405daced4b0c6c66d49c",
       "style": "IPY_MODEL_8f187792bb2a4853a07954f3c8b24322",
       "value": "<h5>Job ID</h5>"
      }
     },
     "c4460d83b0a64fb2b2b0b64be5be64b9": {
      "model_module": "@jupyter-widgets/controls",
      "model_module_version": "2.0.0",
      "model_name": "HTMLModel",
      "state": {
       "layout": "IPY_MODEL_b6c64efb42b14db9b0bf78907f8da4d5",
       "style": "IPY_MODEL_6ef3e7652223435aa5beb38fdb18e256",
       "value": "<p style='font-family: IBM Plex Sans, Arial, Helvetica, sans-serif; font-size: 20px; font-weight: medium;'>Circuit Properties</p>"
      }
     },
     "cf8774f6ac8f4b8180b1dacf8078f8bd": {
      "model_module": "@jupyter-widgets/controls",
      "model_module_version": "2.0.0",
      "model_name": "HTMLModel",
      "state": {
       "layout": "IPY_MODEL_ff3b7342ac4e43c8a7280ea91b8fe89d",
       "style": "IPY_MODEL_d0b93d3eec164f56aacb73770efeec66",
       "value": "<h5>Message</h5>"
      }
     },
     "d0b93d3eec164f56aacb73770efeec66": {
      "model_module": "@jupyter-widgets/controls",
      "model_module_version": "2.0.0",
      "model_name": "HTMLStyleModel",
      "state": {
       "description_width": "",
       "font_size": null,
       "text_color": null
      }
     },
     "deca028e1c204b46811561d3e5a332f2": {
      "model_module": "@jupyter-widgets/controls",
      "model_module_version": "2.0.0",
      "model_name": "HTMLModel",
      "state": {
       "layout": "IPY_MODEL_6f4fd94d081c42cd97069144736c5e77",
       "style": "IPY_MODEL_b2c49bc423724df7bfea587f3c2d503b",
       "value": "<h5>Backend</h5>"
      }
     },
     "f7e8f25ab4e44df2883015c275315c1d": {
      "model_module": "@jupyter-widgets/controls",
      "model_module_version": "2.0.0",
      "model_name": "HTMLStyleModel",
      "state": {
       "description_width": "",
       "font_size": null,
       "text_color": null
      }
     },
     "ff3b7342ac4e43c8a7280ea91b8fe89d": {
      "model_module": "@jupyter-widgets/base",
      "model_module_version": "2.0.0",
      "model_name": "LayoutModel",
      "state": {}
     }
    },
    "version_major": 2,
    "version_minor": 0
   }
  }
 },
 "nbformat": 4,
 "nbformat_minor": 5
}
