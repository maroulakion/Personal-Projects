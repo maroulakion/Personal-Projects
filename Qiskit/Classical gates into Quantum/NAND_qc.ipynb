{
 "cells": [
  {
   "cell_type": "code",
   "execution_count": 1,
   "id": "e42ae01a-f64d-4e31-91da-083a13e2ca42",
   "metadata": {},
   "outputs": [],
   "source": [
    "# Importing standard Qiskit libraries\n",
    "from qiskit import QuantumCircuit, transpile\n",
    "from qiskit.tools.jupyter import *\n",
    "from qiskit.visualization import *\n",
    "from ibm_quantum_widgets import *\n",
    "\n",
    "# qiskit-ibmq-provider has been deprecated.\n",
    "# Please see the Migration Guides in https://ibm.biz/provider_migration_guide for more detail.\n",
    "from qiskit_ibm_runtime import QiskitRuntimeService, Sampler, Estimator, Session, Options\n",
    "\n",
    "import numpy as np\n",
    "\n",
    "# Importing standard Qiskit libraries\n",
    "from qiskit import QuantumCircuit, transpile, Aer, IBMQ\n",
    "from ibm_quantum_widgets import *\n",
    "from qiskit.providers.aer import QasmSimulator\n",
    "\n",
    "# Loading your IBM Quantum account(s)\n",
    "service = QiskitRuntimeService(channel=\"ibm_quantum\")\n",
    "\n",
    "# Invoke a primitive. For more details see https://qiskit.org/documentation/partners/qiskit_ibm_runtime/tutorials.html\n",
    "# result = Sampler(\"ibmq_qasm_simulator\").run(circuits).result()g standard Qiskit libraries\n",
    "from qiskit import QuantumCircuit, transpile\n",
    "from qiskit.tools.jupyter import *\n",
    "from qiskit.visualization import *\n",
    "from ibm_quantum_widgets import *\n",
    "\n",
    "# qiskit-ibmq-provider has been deprecated.\n",
    "# Please see the Migration Guides in https://ibm.biz/provider_migration_guide for more detail.\n",
    "from qiskit_ibm_runtime import QiskitRuntimeService, Sampler, Estimator, Session, Options\n",
    "\n",
    "# Loading your IBM Quantum account(s)\n",
    "service = QiskitRuntimeService(channel=\"ibm_quantum\")\n",
    "\n",
    "# Invoke a primitive. For more details see https://qiskit.org/documentation/partners/qiskit_ibm_runtime/tutorials.html\n",
    "# result = Sampler(\"ibmq_qasm_simulator\").run(circuits).result()"
   ]
  },
  {
   "cell_type": "markdown",
   "id": "2870b0bb-ea5b-4489-a0b9-28a5ed2dff5f",
   "metadata": {},
   "source": [
    "## NOTE (1) \n",
    "Run the piece of code bellow to: <br>\n",
    "-> produce all possible results of binary combinations"
   ]
  },
  {
   "cell_type": "code",
   "execution_count": 2,
   "id": "f3e29c79-6af1-4ece-b0d6-d2e51d5efaca",
   "metadata": {
    "tags": []
   },
   "outputs": [],
   "source": [
    "# Code imported form \n",
    "# https://stackoverflow.com/questions/14931769/how-to-get-all-combination-of-n-binary-value\n",
    "import itertools\n",
    "def binaryCombinations(N): \n",
    "    lst = list(itertools.product([0, 1], repeat=N))\n",
    "    return lst"
   ]
  },
  {
   "cell_type": "markdown",
   "id": "5d5e6cbf-74df-4cd6-b569-afa8c7d0199c",
   "metadata": {},
   "source": [
    "## NOTE (2)\n",
    "### Code explanation about **storing measurements** : \n",
    "\n",
    "~~~ \n",
    "    simulation = Aer.get_backend('aer_simulator')\n",
    "    experiment = simulation.run( circuit_name , shots = N, memory = True )\n",
    "    output = experiment.result().get_memory()[ i ] \n",
    "    \n",
    "    # usually with N = 1, i = 0\n",
    "~~~\n",
    "\n",
    "<br>First, by\n",
    "~~~ \n",
    "    simulation = Aer.get_backend('aer_simulator')\n",
    "~~~\n",
    "we connect our backend to the Aer simulator in Qiskit, in order to simulate quantum circuits. <br>\n",
    "Then, with the command\n",
    "~~~ \n",
    "    experiment = simulation.run( circuit_name , shots = N, memory = True )\n",
    "~~~\n",
    "we are executing N experiments running our circuit. It is important to set as True the last parameter, refering to memory. This creates an array of N positions, each one of them saving an experiment execution. <br>\n",
    "Lastly, we use the command \n",
    "~~~ \n",
    "    output = experiment.result().get_memory()[ i ] \n",
    "~~~\n",
    "to access measurement result of execution No. (i+1), which is stored in the i-th position of the (zero-based) array. "
   ]
  },
  {
   "cell_type": "code",
   "execution_count": 5,
   "id": "d055e17f-9783-4f77-9457-bec7b39202a4",
   "metadata": {
    "tags": []
   },
   "outputs": [],
   "source": [
    "# --------------------------------------------------------------\n",
    "#             I N V E R S I O N    G  A  T  E\n",
    "# --------------------------------------------------------------\n",
    "def INVERSION(inp): \n",
    "    # 0. GATE FUNCTIONALITY / LOGIC\n",
    "    # If input is 0, it returns 1\n",
    "    # If input is 1, it returns 0\n",
    "    # _________________________________\n",
    "    \n",
    "    # 1. CREATE QUANTUM CIRCUIT\n",
    "    # NOT gate needs 1 qubit as input line\n",
    "    # It also needs a classical bit to store measurement result \n",
    "    Inversion = QuantumCircuit(1,1)\n",
    "    \n",
    "    # 2. INTIALIZE CIRCUIT TO MATCH FUNCTION INPUT\n",
    "    # Due to Qiskit initializing qubits to |0>, \n",
    "    # we need to add an X gate to each input that is '1'\n",
    "    if (inp == 1):\n",
    "        Inversion.x(0)\n",
    "    Inversion.barrier()\n",
    "    \n",
    "    # 3. ADD GATES TO ACHIEVE DESIRED OUTPUT\n",
    "    Inversion.x(0)\n",
    "    Inversion.measure(0,0)\n",
    "    Inversion.draw()\n",
    "    \n",
    "    # 4. SIMULATE MEASUREMENT AND RETURN RESULTS \n",
    "    simulation = Aer.get_backend('aer_simulator')\n",
    "    experiment = simulation.run(Inversion, shots=1, memory=True)\n",
    "    output = experiment.result().get_memory()[0]\n",
    "    \n",
    "    return Inversion, int(output)\n",
    "\n",
    "\n",
    "# --------------------------------------------------------------\n",
    "#             A  N  D      G  A  T  E\n",
    "# --------------------------------------------------------------\n",
    "\n",
    "# THE \"AND_2_4()\" WORKS ONLY FOR N = 2 OR N = 4\n",
    "def AND_2_4(inputs): \n",
    "    # 0. GATE FUNCTIONALITY / LOGIC\n",
    "    # If all inputs are '1', it returns '1'\n",
    "    # If at least one input is '0', it returns '0'\n",
    "    \n",
    "    # 1. CREATE QUANTUM CIRCUIT\n",
    "    # AND gate needs at least 2 qubits as input line -- more are acceptable. \n",
    "    # For N main inputs, we need an extra qubit to make measurements, \n",
    "    # so we will use N+1 lines of qubits. \n",
    "    # It also needs a classical bit to store measurement result.\n",
    "    count, i = len(inputs), int(len(inputs)/2)\n",
    "    while ( i > 0 ):\n",
    "        count = count + i\n",
    "        i = int(i/2)\n",
    "    AND_gate = QuantumCircuit(count,1)\n",
    "    \n",
    "    # 2. INTIALIZE CIRCUIT TO MATCH FUNCTION INPUT\n",
    "    # Due to Qiskit initializing qubits to |0>, \n",
    "    # we need to add an X gate to each input that is '1'\n",
    "    for i in range(len(inputs)):\n",
    "        if (inputs[i] == 1):\n",
    "            AND_gate.x(i)\n",
    "    AND_gate.barrier()\n",
    "\n",
    "    # 3. ADD GATES TO ACHIEVE DESIRED OUTPUT\n",
    "    entagl = [ [0, len(inputs)-1] , [len(inputs), count-2] ] \n",
    "    k = 0\n",
    "    while ( k < len(entagl) ): \n",
    "        ind = 0\n",
    "        for i in range(entagl[k][0], entagl[k][1], 2): \n",
    "            AND_gate.ccx(i,i+1,entagl[k][1]+1+ind)\n",
    "            ind = ind + 1\n",
    "        k = k + 1\n",
    "\n",
    "    AND_gate.measure(count-1, 0)\n",
    "    AND_gate.draw()\n",
    "    \n",
    "    # 4. SIMULATE MEASUREMENT AND RETURN RESULTS \n",
    "    simulation = Aer.get_backend('aer_simulator')\n",
    "    experiment = simulation.run(AND_gate, shots=1, memory=True)\n",
    "    output = experiment.result().get_memory()[0]\n",
    "    \n",
    "    return AND_gate, int(output)\n",
    "\n",
    "\n",
    "# THE \"AND_3()\" WORKS ONLY FOR N = 3\n",
    "def AND_3(inputs): \n",
    "    # 0. GATE FUNCTIONALITY / LOGIC\n",
    "    # If all inputs are '1', it returns '1'\n",
    "    # If at least one input is '0', it returns '0'\n",
    "    # _________________________________\n",
    "    \n",
    "    # 1. CREATE QUANTUM CIRCUIT\n",
    "    # AND gate needs at least 2 qubits as input line -- more are acceptable. \n",
    "    # For N main inputs, we need an extra qubit to make measurements, \n",
    "    # so we will use N+1 lines of qubits. \n",
    "    # It also needs a classical bit to store measurement result.\n",
    "    count, i = len(inputs), int(len(inputs)/2)\n",
    "    while ( i > 0 ):\n",
    "        count = count + i\n",
    "        i = int(i/2)\n",
    "    if (len(inputs)%2 == 1):\n",
    "        count = count + 1\n",
    "    AND_gate = QuantumCircuit(count,1)\n",
    "    \n",
    "    # 2. INTIALIZE CIRCUIT TO MATCH FUNCTION INPUT\n",
    "    # Due to Qiskit initializing qubits to |0>, \n",
    "    # we need to add an X gate to each input that is '1'\n",
    "    for i in range(len(inputs)):\n",
    "        if (inputs[i] == 1):\n",
    "            AND_gate.x(i)\n",
    "    AND_gate.barrier()\n",
    "\n",
    "    # 3. ADD GATES TO ACHIEVE DESIRED OUTPUT\n",
    "    entagl = [ [0, len(inputs)-1] , [len(inputs), count-2] ] \n",
    "    k = 0\n",
    "    while ( k < len(entagl) ): \n",
    "        ind = 0\n",
    "        for i in range(entagl[k][0], entagl[k][1], 2): \n",
    "            AND_gate.ccx(i,i+1,entagl[k][1]+1+ind)\n",
    "            ind = ind + 1\n",
    "        k = k + 1\n",
    "    AND_gate.ccx(count-3, count-2, count-1)\n",
    "    AND_gate.measure(count-1, 0)\n",
    "    AND_gate.draw()\n",
    "    \n",
    "    # 4. SIMULATE MEASUREMENT AND RETURN RESULTS \n",
    "    simulation = Aer.get_backend('aer_simulator')\n",
    "    experiment = simulation.run(AND_gate, shots=1, memory=True)\n",
    "    output = experiment.result().get_memory()[0]\n",
    "    \n",
    "    return AND_gate, int(output)\n",
    "\n",
    "\n",
    "def AND(inputs): \n",
    "    # 0. GATE FUNCTIONALITY / LOGIC\n",
    "    # If all inputs are '1', it returns '1'\n",
    "    # If at least one input is '0', it returns '0'\n",
    "    # _________________________________\n",
    "    inpNo = len(inputs)\n",
    "    if (inpNo == 2 or inpNo == 4):\n",
    "        return AND_2_4(inputs)\n",
    "    elif (inpNo == 3): \n",
    "        return AND_3(inputs)\n",
    "    else: \n",
    "        AND_1, output1 = AND(inputs[0:int(inpNo/2)])\n",
    "        AND_2, output2 = AND(inputs[int(inpNo/2):inpNo])\n",
    "        AND_gate, output = AND([int(output1), int(output2)])\n",
    "    \n",
    "    return AND_gate, int(output)"
   ]
  },
  {
   "cell_type": "code",
   "execution_count": 6,
   "id": "0f9f346b-c7de-4d2f-821e-bde76d81a0c0",
   "metadata": {
    "tags": []
   },
   "outputs": [],
   "source": [
    "def NAND(inputs):\n",
    "    # 0. GATE FUNCTIONALITY / LOGIC\n",
    "    # If all inputs are '1', it returns '0'\n",
    "    # If at least one input is '0', it returns '1'\n",
    "    # _________________________________\n",
    "    # BASICALLY an AND gate with inverted result\n",
    "    \n",
    "    # First, we need to apply an AND gate.\n",
    "    AND_gate, AND_output = AND(inputs)\n",
    "    # Then, we need to inverted the output of AND to get the NOT-AND output.\n",
    "    NAND_gate, NAND_output = INVERSION(AND_output)\n",
    "    \n",
    "    return NAND_gate, int(NAND_output)"
   ]
  },
  {
   "cell_type": "code",
   "execution_count": 40,
   "id": "ad5c91f6-fe5a-4198-a2da-e6d7b92c387d",
   "metadata": {
    "tags": []
   },
   "outputs": [
    {
     "name": "stdout",
     "output_type": "stream",
     "text": [
      "BEFORE:  \" (0, 0) \" -->  AFTER NAND gate: \" 1 \"\n",
      "BEFORE:  \" (0, 1) \" -->  AFTER NAND gate: \" 1 \"\n",
      "BEFORE:  \" (1, 0) \" -->  AFTER NAND gate: \" 1 \"\n",
      "BEFORE:  \" (1, 1) \" -->  AFTER NAND gate: \" 0 \"\n"
     ]
    }
   ],
   "source": [
    "# Executing all possible results for NAND gate\n",
    "# using N qubits as input\n",
    "N = 2\n",
    "combinations = binaryCombinations(N)\n",
    "\n",
    "for comb in combinations: \n",
    "    init_value = comb\n",
    "    output_qc, output_value = NAND(init_value)\n",
    "    print('BEFORE:  \"',init_value,'\" -->  AFTER NAND gate: \"',output_value, '\"')"
   ]
  },
  {
   "cell_type": "code",
   "execution_count": 39,
   "id": "6011ce3a-392f-4224-9148-6c8a9453efec",
   "metadata": {
    "tags": []
   },
   "outputs": [
    {
     "name": "stdout",
     "output_type": "stream",
     "text": [
      "BEFORE:  \" (0, 0, 0) \" -->  AFTER NAND gate: \" 1 \"\n",
      "BEFORE:  \" (0, 0, 1) \" -->  AFTER NAND gate: \" 1 \"\n",
      "BEFORE:  \" (0, 1, 0) \" -->  AFTER NAND gate: \" 1 \"\n",
      "BEFORE:  \" (0, 1, 1) \" -->  AFTER NAND gate: \" 1 \"\n",
      "BEFORE:  \" (1, 0, 0) \" -->  AFTER NAND gate: \" 1 \"\n",
      "BEFORE:  \" (1, 0, 1) \" -->  AFTER NAND gate: \" 1 \"\n",
      "BEFORE:  \" (1, 1, 0) \" -->  AFTER NAND gate: \" 1 \"\n",
      "BEFORE:  \" (1, 1, 1) \" -->  AFTER NAND gate: \" 0 \"\n"
     ]
    }
   ],
   "source": [
    "# Executing all possible results for NAND gate\n",
    "# using N qubits as input\n",
    "N = 3\n",
    "combinations = binaryCombinations(N)\n",
    "\n",
    "for comb in combinations: \n",
    "    init_value = comb\n",
    "    output_qc, output_value = NAND(init_value)\n",
    "    print('BEFORE:  \"',init_value,'\" -->  AFTER NAND gate: \"',output_value, '\"')"
   ]
  },
  {
   "cell_type": "code",
   "execution_count": 41,
   "id": "3f8f4b1e-fc3c-47de-ab35-9c573650e2f0",
   "metadata": {
    "tags": []
   },
   "outputs": [
    {
     "name": "stdout",
     "output_type": "stream",
     "text": [
      "BEFORE:  \" (0, 0, 0, 0) \" -->  AFTER NAND gate: \" 1 \"\n",
      "BEFORE:  \" (0, 0, 0, 1) \" -->  AFTER NAND gate: \" 1 \"\n",
      "BEFORE:  \" (0, 0, 1, 0) \" -->  AFTER NAND gate: \" 1 \"\n",
      "BEFORE:  \" (0, 0, 1, 1) \" -->  AFTER NAND gate: \" 1 \"\n",
      "BEFORE:  \" (0, 1, 0, 0) \" -->  AFTER NAND gate: \" 1 \"\n",
      "BEFORE:  \" (0, 1, 0, 1) \" -->  AFTER NAND gate: \" 1 \"\n",
      "BEFORE:  \" (0, 1, 1, 0) \" -->  AFTER NAND gate: \" 1 \"\n",
      "BEFORE:  \" (0, 1, 1, 1) \" -->  AFTER NAND gate: \" 1 \"\n",
      "BEFORE:  \" (1, 0, 0, 0) \" -->  AFTER NAND gate: \" 1 \"\n",
      "BEFORE:  \" (1, 0, 0, 1) \" -->  AFTER NAND gate: \" 1 \"\n",
      "BEFORE:  \" (1, 0, 1, 0) \" -->  AFTER NAND gate: \" 1 \"\n",
      "BEFORE:  \" (1, 0, 1, 1) \" -->  AFTER NAND gate: \" 1 \"\n",
      "BEFORE:  \" (1, 1, 0, 0) \" -->  AFTER NAND gate: \" 1 \"\n",
      "BEFORE:  \" (1, 1, 0, 1) \" -->  AFTER NAND gate: \" 1 \"\n",
      "BEFORE:  \" (1, 1, 1, 0) \" -->  AFTER NAND gate: \" 1 \"\n",
      "BEFORE:  \" (1, 1, 1, 1) \" -->  AFTER NAND gate: \" 0 \"\n"
     ]
    }
   ],
   "source": [
    "# Executing all possible results for NAND gate\n",
    "# using N qubits as input\n",
    "N = 4\n",
    "combinations = binaryCombinations(N)\n",
    "\n",
    "for comb in combinations: \n",
    "    init_value = comb\n",
    "    output_qc, output_value = NAND(init_value)\n",
    "    print('BEFORE:  \"',init_value,'\" -->  AFTER NAND gate: \"',output_value, '\"')"
   ]
  },
  {
   "cell_type": "code",
   "execution_count": 34,
   "id": "24f27f4f-1296-4d27-8d9e-3fc8532cd568",
   "metadata": {
    "tags": []
   },
   "outputs": [
    {
     "name": "stdout",
     "output_type": "stream",
     "text": [
      "BEFORE:  \" (0, 0, 0, 0, 0, 0) \" -->  AFTER NAND gate: \" 1 \"\n",
      "BEFORE:  \" (0, 0, 0, 0, 0, 1) \" -->  AFTER NAND gate: \" 1 \"\n",
      "BEFORE:  \" (0, 0, 0, 0, 1, 0) \" -->  AFTER NAND gate: \" 1 \"\n",
      "BEFORE:  \" (0, 0, 0, 0, 1, 1) \" -->  AFTER NAND gate: \" 1 \"\n",
      "BEFORE:  \" (0, 0, 0, 1, 0, 0) \" -->  AFTER NAND gate: \" 1 \"\n",
      "BEFORE:  \" (0, 0, 0, 1, 0, 1) \" -->  AFTER NAND gate: \" 1 \"\n",
      "BEFORE:  \" (0, 0, 0, 1, 1, 0) \" -->  AFTER NAND gate: \" 1 \"\n",
      "BEFORE:  \" (0, 0, 0, 1, 1, 1) \" -->  AFTER NAND gate: \" 1 \"\n",
      "BEFORE:  \" (0, 0, 1, 0, 0, 0) \" -->  AFTER NAND gate: \" 1 \"\n",
      "BEFORE:  \" (0, 0, 1, 0, 0, 1) \" -->  AFTER NAND gate: \" 1 \"\n",
      "BEFORE:  \" (0, 0, 1, 0, 1, 0) \" -->  AFTER NAND gate: \" 1 \"\n",
      "BEFORE:  \" (0, 0, 1, 0, 1, 1) \" -->  AFTER NAND gate: \" 1 \"\n",
      "BEFORE:  \" (0, 0, 1, 1, 0, 0) \" -->  AFTER NAND gate: \" 1 \"\n",
      "BEFORE:  \" (0, 0, 1, 1, 0, 1) \" -->  AFTER NAND gate: \" 1 \"\n",
      "BEFORE:  \" (0, 0, 1, 1, 1, 0) \" -->  AFTER NAND gate: \" 1 \"\n",
      "BEFORE:  \" (0, 0, 1, 1, 1, 1) \" -->  AFTER NAND gate: \" 1 \"\n",
      "BEFORE:  \" (0, 1, 0, 0, 0, 0) \" -->  AFTER NAND gate: \" 1 \"\n",
      "BEFORE:  \" (0, 1, 0, 0, 0, 1) \" -->  AFTER NAND gate: \" 1 \"\n",
      "BEFORE:  \" (0, 1, 0, 0, 1, 0) \" -->  AFTER NAND gate: \" 1 \"\n",
      "BEFORE:  \" (0, 1, 0, 0, 1, 1) \" -->  AFTER NAND gate: \" 1 \"\n",
      "BEFORE:  \" (0, 1, 0, 1, 0, 0) \" -->  AFTER NAND gate: \" 1 \"\n",
      "BEFORE:  \" (0, 1, 0, 1, 0, 1) \" -->  AFTER NAND gate: \" 1 \"\n",
      "BEFORE:  \" (0, 1, 0, 1, 1, 0) \" -->  AFTER NAND gate: \" 1 \"\n",
      "BEFORE:  \" (0, 1, 0, 1, 1, 1) \" -->  AFTER NAND gate: \" 1 \"\n",
      "BEFORE:  \" (0, 1, 1, 0, 0, 0) \" -->  AFTER NAND gate: \" 1 \"\n",
      "BEFORE:  \" (0, 1, 1, 0, 0, 1) \" -->  AFTER NAND gate: \" 1 \"\n",
      "BEFORE:  \" (0, 1, 1, 0, 1, 0) \" -->  AFTER NAND gate: \" 1 \"\n",
      "BEFORE:  \" (0, 1, 1, 0, 1, 1) \" -->  AFTER NAND gate: \" 1 \"\n",
      "BEFORE:  \" (0, 1, 1, 1, 0, 0) \" -->  AFTER NAND gate: \" 1 \"\n",
      "BEFORE:  \" (0, 1, 1, 1, 0, 1) \" -->  AFTER NAND gate: \" 1 \"\n",
      "BEFORE:  \" (0, 1, 1, 1, 1, 0) \" -->  AFTER NAND gate: \" 1 \"\n",
      "BEFORE:  \" (0, 1, 1, 1, 1, 1) \" -->  AFTER NAND gate: \" 1 \"\n",
      "BEFORE:  \" (1, 0, 0, 0, 0, 0) \" -->  AFTER NAND gate: \" 1 \"\n",
      "BEFORE:  \" (1, 0, 0, 0, 0, 1) \" -->  AFTER NAND gate: \" 1 \"\n",
      "BEFORE:  \" (1, 0, 0, 0, 1, 0) \" -->  AFTER NAND gate: \" 1 \"\n",
      "BEFORE:  \" (1, 0, 0, 0, 1, 1) \" -->  AFTER NAND gate: \" 1 \"\n",
      "BEFORE:  \" (1, 0, 0, 1, 0, 0) \" -->  AFTER NAND gate: \" 1 \"\n",
      "BEFORE:  \" (1, 0, 0, 1, 0, 1) \" -->  AFTER NAND gate: \" 1 \"\n",
      "BEFORE:  \" (1, 0, 0, 1, 1, 0) \" -->  AFTER NAND gate: \" 1 \"\n",
      "BEFORE:  \" (1, 0, 0, 1, 1, 1) \" -->  AFTER NAND gate: \" 1 \"\n",
      "BEFORE:  \" (1, 0, 1, 0, 0, 0) \" -->  AFTER NAND gate: \" 1 \"\n",
      "BEFORE:  \" (1, 0, 1, 0, 0, 1) \" -->  AFTER NAND gate: \" 1 \"\n",
      "BEFORE:  \" (1, 0, 1, 0, 1, 0) \" -->  AFTER NAND gate: \" 1 \"\n",
      "BEFORE:  \" (1, 0, 1, 0, 1, 1) \" -->  AFTER NAND gate: \" 1 \"\n",
      "BEFORE:  \" (1, 0, 1, 1, 0, 0) \" -->  AFTER NAND gate: \" 1 \"\n",
      "BEFORE:  \" (1, 0, 1, 1, 0, 1) \" -->  AFTER NAND gate: \" 1 \"\n",
      "BEFORE:  \" (1, 0, 1, 1, 1, 0) \" -->  AFTER NAND gate: \" 1 \"\n",
      "BEFORE:  \" (1, 0, 1, 1, 1, 1) \" -->  AFTER NAND gate: \" 1 \"\n",
      "BEFORE:  \" (1, 1, 0, 0, 0, 0) \" -->  AFTER NAND gate: \" 1 \"\n",
      "BEFORE:  \" (1, 1, 0, 0, 0, 1) \" -->  AFTER NAND gate: \" 1 \"\n",
      "BEFORE:  \" (1, 1, 0, 0, 1, 0) \" -->  AFTER NAND gate: \" 1 \"\n",
      "BEFORE:  \" (1, 1, 0, 0, 1, 1) \" -->  AFTER NAND gate: \" 1 \"\n",
      "BEFORE:  \" (1, 1, 0, 1, 0, 0) \" -->  AFTER NAND gate: \" 1 \"\n",
      "BEFORE:  \" (1, 1, 0, 1, 0, 1) \" -->  AFTER NAND gate: \" 1 \"\n",
      "BEFORE:  \" (1, 1, 0, 1, 1, 0) \" -->  AFTER NAND gate: \" 1 \"\n",
      "BEFORE:  \" (1, 1, 0, 1, 1, 1) \" -->  AFTER NAND gate: \" 1 \"\n",
      "BEFORE:  \" (1, 1, 1, 0, 0, 0) \" -->  AFTER NAND gate: \" 1 \"\n",
      "BEFORE:  \" (1, 1, 1, 0, 0, 1) \" -->  AFTER NAND gate: \" 1 \"\n",
      "BEFORE:  \" (1, 1, 1, 0, 1, 0) \" -->  AFTER NAND gate: \" 1 \"\n",
      "BEFORE:  \" (1, 1, 1, 0, 1, 1) \" -->  AFTER NAND gate: \" 1 \"\n",
      "BEFORE:  \" (1, 1, 1, 1, 0, 0) \" -->  AFTER NAND gate: \" 1 \"\n",
      "BEFORE:  \" (1, 1, 1, 1, 0, 1) \" -->  AFTER NAND gate: \" 1 \"\n",
      "BEFORE:  \" (1, 1, 1, 1, 1, 0) \" -->  AFTER NAND gate: \" 1 \"\n",
      "BEFORE:  \" (1, 1, 1, 1, 1, 1) \" -->  AFTER NAND gate: \" 0 \"\n"
     ]
    }
   ],
   "source": [
    "# Executing all possible results for NAND gate\n",
    "# using N qubits as input\n",
    "N = 6\n",
    "combinations = binaryCombinations(N)\n",
    "\n",
    "for comb in combinations: \n",
    "    init_value = comb\n",
    "    output_qc, output_value = NAND(init_value)\n",
    "    print('BEFORE:  \"',init_value,'\" -->  AFTER NAND gate: \"',output_value, '\"')\n",
    "    #display(output_qc.draw('text'))\n",
    "    #print('\\n')"
   ]
  },
  {
   "cell_type": "code",
   "execution_count": 7,
   "id": "a0bad315-a634-4816-8040-bfbb67d90803",
   "metadata": {
    "tags": []
   },
   "outputs": [
    {
     "name": "stdout",
     "output_type": "stream",
     "text": [
      "For N =  8 , show ONLY input combinations that return 0 as output\n",
      "BEFORE:  \" (1, 1, 1, 1, 1, 1, 1, 1) \" -->  AFTER NAND gate: \" 0 \"\n"
     ]
    }
   ],
   "source": [
    "# SAME testing code, but for bigger inputs ( N > 7 ) \n",
    "# An execution for N >= 8 require more than half a minute to finish\n",
    "# For even greater number of inputs, it takes even more. \n",
    "\n",
    "N = 8\n",
    "combinations = binaryCombinations(N)\n",
    "\n",
    "print (\"For N = \", N, \", show ONLY input combinations that return 0 as output\")\n",
    "for comb in combinations: \n",
    "    init_value = comb\n",
    "    output_qc, output_value = NAND(init_value)\n",
    "    if ( output_value == 0): \n",
    "        print('BEFORE:  \"',init_value,'\" -->  AFTER NAND gate: \"',output_value, '\"')"
   ]
  }
 ],
 "metadata": {
  "kernelspec": {
   "display_name": "Python 3 (ipykernel)",
   "language": "python",
   "name": "python3"
  },
  "language_info": {
   "codemirror_mode": {
    "name": "ipython",
    "version": 3
   },
   "file_extension": ".py",
   "mimetype": "text/x-python",
   "name": "python",
   "nbconvert_exporter": "python",
   "pygments_lexer": "ipython3",
   "version": "3.10.8"
  },
  "widgets": {
   "application/vnd.jupyter.widget-state+json": {
    "state": {
     "06523830a07a4aec8638be796f04eb40": {
      "model_module": "@jupyter-widgets/controls",
      "model_module_version": "2.0.0",
      "model_name": "ButtonStyleModel",
      "state": {
       "font_family": null,
       "font_size": null,
       "font_style": null,
       "font_variant": null,
       "font_weight": null,
       "text_color": null,
       "text_decoration": null
      }
     },
     "06e7abe98f1546b185c289eeaf2de759": {
      "model_module": "@jupyter-widgets/base",
      "model_module_version": "2.0.0",
      "model_name": "LayoutModel",
      "state": {
       "width": "190px"
      }
     },
     "080ccf358b8f425a8943e563f8ca3f21": {
      "model_module": "@jupyter-widgets/controls",
      "model_module_version": "2.0.0",
      "model_name": "ButtonModel",
      "state": {
       "button_style": "primary",
       "description": "Clear",
       "layout": "IPY_MODEL_4962ebbf5df4428c8888a842a1f895f9",
       "style": "IPY_MODEL_06523830a07a4aec8638be796f04eb40",
       "tooltip": null
      }
     },
     "2a232d2b323c41c6adb9d5194446e243": {
      "model_module": "@jupyter-widgets/controls",
      "model_module_version": "2.0.0",
      "model_name": "HTMLModel",
      "state": {
       "layout": "IPY_MODEL_c25c341abe1443d9a6074daefff44573",
       "style": "IPY_MODEL_e0388948803b42099a2b73148ea9c5b4",
       "value": "<p style='font-family: IBM Plex Sans, Arial, Helvetica, sans-serif; font-size: 20px; font-weight: medium;'>Circuit Properties</p>"
      }
     },
     "447b38acf0ca4903b73a71e223ab350f": {
      "model_module": "@jupyter-widgets/base",
      "model_module_version": "2.0.0",
      "model_name": "LayoutModel",
      "state": {
       "margin": "0px 0px 0px 37px",
       "width": "600px"
      }
     },
     "4962ebbf5df4428c8888a842a1f895f9": {
      "model_module": "@jupyter-widgets/base",
      "model_module_version": "2.0.0",
      "model_name": "LayoutModel",
      "state": {
       "grid_area": "right",
       "padding": "0px 0px 0px 0px",
       "width": "70px"
      }
     },
     "4d65409e6ece4bd7ae0dc41c29f85f38": {
      "model_module": "@jupyter-widgets/controls",
      "model_module_version": "2.0.0",
      "model_name": "HTMLModel",
      "state": {
       "layout": "IPY_MODEL_06e7abe98f1546b185c289eeaf2de759",
       "style": "IPY_MODEL_f6994442c2414c2ab1e809245eeca39e",
       "value": "<h5>Job ID</h5>"
      }
     },
     "5cbf26f112994118b46cf4cca8c26ef8": {
      "model_module": "@jupyter-widgets/controls",
      "model_module_version": "2.0.0",
      "model_name": "HTMLStyleModel",
      "state": {
       "description_width": "",
       "font_size": null,
       "text_color": null
      }
     },
     "65dcdf3e3bcb4d668d3899e2635e6da9": {
      "model_module": "@jupyter-widgets/controls",
      "model_module_version": "2.0.0",
      "model_name": "HTMLModel",
      "state": {
       "layout": "IPY_MODEL_b418345d62c1434b9efb6ebb04e81714",
       "style": "IPY_MODEL_e75988743d934f0f8d9b8d7fe2507d1b",
       "value": "<h5>Queue</h5>"
      }
     },
     "8316b0e77f784cb6872497363196f316": {
      "model_module": "@jupyter-widgets/base",
      "model_module_version": "2.0.0",
      "model_name": "LayoutModel",
      "state": {
       "width": "145px"
      }
     },
     "83dc313610a84587b57c5936943d7ace": {
      "model_module": "@jupyter-widgets/controls",
      "model_module_version": "2.0.0",
      "model_name": "HBoxModel",
      "state": {
       "children": [
        "IPY_MODEL_4d65409e6ece4bd7ae0dc41c29f85f38",
        "IPY_MODEL_e00a83f4b4184d8880b8d28d93933f00",
        "IPY_MODEL_ef6ca812a8c84891bf7b10a44f33a9fc",
        "IPY_MODEL_65dcdf3e3bcb4d668d3899e2635e6da9",
        "IPY_MODEL_9c87b26e04e04283bf535ed76545b68f"
       ],
       "layout": "IPY_MODEL_447b38acf0ca4903b73a71e223ab350f"
      }
     },
     "8c492ca4f51a4ab68e7fed05ab7a4d14": {
      "model_module": "@jupyter-widgets/controls",
      "model_module_version": "2.0.0",
      "model_name": "HTMLStyleModel",
      "state": {
       "description_width": "",
       "font_size": null,
       "text_color": null
      }
     },
     "8d41a75aa3ea4389b7746e51e19416cb": {
      "model_module": "@jupyter-widgets/base",
      "model_module_version": "2.0.0",
      "model_name": "LayoutModel",
      "state": {
       "grid_template_areas": "\n                                       \". . . . right \"\n                                        ",
       "grid_template_columns": "20% 20% 20% 20% 20%",
       "width": "100%"
      }
     },
     "9c87b26e04e04283bf535ed76545b68f": {
      "model_module": "@jupyter-widgets/controls",
      "model_module_version": "2.0.0",
      "model_name": "HTMLModel",
      "state": {
       "layout": "IPY_MODEL_b2cd25f4a47e4759bc1bc81003a6bad2",
       "style": "IPY_MODEL_8c492ca4f51a4ab68e7fed05ab7a4d14",
       "value": "<h5>Message</h5>"
      }
     },
     "a141917a37bd4044a0aada1b889a099e": {
      "model_module": "@jupyter-widgets/controls",
      "model_module_version": "2.0.0",
      "model_name": "GridBoxModel",
      "state": {
       "children": [
        "IPY_MODEL_080ccf358b8f425a8943e563f8ca3f21"
       ],
       "layout": "IPY_MODEL_8d41a75aa3ea4389b7746e51e19416cb"
      }
     },
     "b2cd25f4a47e4759bc1bc81003a6bad2": {
      "model_module": "@jupyter-widgets/base",
      "model_module_version": "2.0.0",
      "model_name": "LayoutModel",
      "state": {}
     },
     "b418345d62c1434b9efb6ebb04e81714": {
      "model_module": "@jupyter-widgets/base",
      "model_module_version": "2.0.0",
      "model_name": "LayoutModel",
      "state": {
       "width": "70px"
      }
     },
     "be00e2b6b913472993a7177548b7ccc5": {
      "model_module": "@jupyter-widgets/controls",
      "model_module_version": "2.0.0",
      "model_name": "HTMLStyleModel",
      "state": {
       "description_width": "",
       "font_size": null,
       "text_color": null
      }
     },
     "c25c341abe1443d9a6074daefff44573": {
      "model_module": "@jupyter-widgets/base",
      "model_module_version": "2.0.0",
      "model_name": "LayoutModel",
      "state": {
       "margin": "0px 0px 10px 0px"
      }
     },
     "e00a83f4b4184d8880b8d28d93933f00": {
      "model_module": "@jupyter-widgets/controls",
      "model_module_version": "2.0.0",
      "model_name": "HTMLModel",
      "state": {
       "layout": "IPY_MODEL_8316b0e77f784cb6872497363196f316",
       "style": "IPY_MODEL_be00e2b6b913472993a7177548b7ccc5",
       "value": "<h5>Backend</h5>"
      }
     },
     "e0388948803b42099a2b73148ea9c5b4": {
      "model_module": "@jupyter-widgets/controls",
      "model_module_version": "2.0.0",
      "model_name": "HTMLStyleModel",
      "state": {
       "description_width": "",
       "font_size": null,
       "text_color": null
      }
     },
     "e75988743d934f0f8d9b8d7fe2507d1b": {
      "model_module": "@jupyter-widgets/controls",
      "model_module_version": "2.0.0",
      "model_name": "HTMLStyleModel",
      "state": {
       "description_width": "",
       "font_size": null,
       "text_color": null
      }
     },
     "ef6ca812a8c84891bf7b10a44f33a9fc": {
      "model_module": "@jupyter-widgets/controls",
      "model_module_version": "2.0.0",
      "model_name": "HTMLModel",
      "state": {
       "layout": "IPY_MODEL_f51d8a747ef842cdaf9ce06eb86c3fd4",
       "style": "IPY_MODEL_5cbf26f112994118b46cf4cca8c26ef8",
       "value": "<h5>Status</h5>"
      }
     },
     "f51d8a747ef842cdaf9ce06eb86c3fd4": {
      "model_module": "@jupyter-widgets/base",
      "model_module_version": "2.0.0",
      "model_name": "LayoutModel",
      "state": {
       "width": "95px"
      }
     },
     "f6994442c2414c2ab1e809245eeca39e": {
      "model_module": "@jupyter-widgets/controls",
      "model_module_version": "2.0.0",
      "model_name": "HTMLStyleModel",
      "state": {
       "description_width": "",
       "font_size": null,
       "text_color": null
      }
     }
    },
    "version_major": 2,
    "version_minor": 0
   }
  }
 },
 "nbformat": 4,
 "nbformat_minor": 5
}
