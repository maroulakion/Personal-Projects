{
 "cells": [
  {
   "cell_type": "code",
   "execution_count": 1,
   "id": "0fef978a-d095-4935-b935-348ed5bf1540",
   "metadata": {},
   "outputs": [],
   "source": [
    "# Importin# Importing standard Qiskit libraries\n",
    "from qiskit import QuantumCircuit, transpile\n",
    "from qiskit.tools.jupyter import *\n",
    "from qiskit.visualization import *\n",
    "from ibm_quantum_widgets import *\n",
    "\n",
    "# qiskit-ibmq-provider has been deprecated.\n",
    "# Please see the Migration Guides in https://ibm.biz/provider_migration_guide for more detail.\n",
    "from qiskit_ibm_runtime import QiskitRuntimeService, Sampler, Estimator, Session, Options\n",
    "\n",
    "import numpy as np\n",
    "\n",
    "# Importing standard Qiskit libraries\n",
    "from qiskit import QuantumCircuit, transpile, Aer, IBMQ\n",
    "from ibm_quantum_widgets import *\n",
    "from qiskit.providers.aer import QasmSimulator\n",
    "\n",
    "# Loading your IBM Quantum account(s)\n",
    "service = QiskitRuntimeService(channel=\"ibm_quantum\")\n",
    "\n",
    "# Invoke a primitive. For more details see https://qiskit.org/documentation/partners/qiskit_ibm_runtime/tutorials.html\n",
    "# result = Sampler(\"ibmq_qasm_simulator\").run(circuits).result()g standard Qiskit libraries\n",
    "from qiskit import QuantumCircuit, transpile\n",
    "from qiskit.tools.jupyter import *\n",
    "from qiskit.visualization import *\n",
    "from ibm_quantum_widgets import *\n",
    "\n",
    "# qiskit-ibmq-provider has been deprecated.\n",
    "# Please see the Migration Guides in https://ibm.biz/provider_migration_guide for more detail.\n",
    "from qiskit_ibm_runtime import QiskitRuntimeService, Sampler, Estimator, Session, Options\n",
    "\n",
    "# Loading your IBM Quantum account(s)\n",
    "service = QiskitRuntimeService(channel=\"ibm_quantum\")\n",
    "\n",
    "# Invoke a primitive. For more details see https://qiskit.org/documentation/partners/qiskit_ibm_runtime/tutorials.html\n",
    "# result = Sampler(\"ibmq_qasm_simulator\").run(circuits).result()"
   ]
  },
  {
   "cell_type": "markdown",
   "id": "4bcb78e4-da3f-4b7f-9ba5-be9c28dce787",
   "metadata": {
    "tags": []
   },
   "source": [
    "## NOTE (1) \n",
    "Run the piece of code bellow to: <br>\n",
    "-> produce a list of characters out of a string <br>\n",
    "-> produce all possible results of binary combinations"
   ]
  },
  {
   "cell_type": "code",
   "execution_count": 2,
   "id": "04eaa42e-227f-412e-9e17-888879c6a583",
   "metadata": {
    "tags": []
   },
   "outputs": [],
   "source": [
    "# Code imported form \n",
    "# https://stackoverflow.com/questions/14931769/how-to-get-all-combination-of-n-binary-value\n",
    "import itertools\n",
    "def binaryCombinations(N): \n",
    "    lst = list(itertools.product([0, 1], repeat=N))\n",
    "    return lst"
   ]
  },
  {
   "cell_type": "markdown",
   "id": "3333b452-5bff-4a27-af21-e749c4a16e13",
   "metadata": {
    "tags": []
   },
   "source": [
    "## NOTE (2)\n",
    "### Code explanation about **storing measurements** : \n",
    "\n",
    "~~~ \n",
    "    simulation = Aer.get_backend('aer_simulator')\n",
    "    experiment = simulation.run( circuit_name , shots = N, memory = True )\n",
    "    output = experiment.result().get_memory()[ i ] \n",
    "    \n",
    "    # usually with N = 1, i = 0\n",
    "~~~\n",
    "\n",
    "<br>First, by\n",
    "~~~ \n",
    "    simulation = Aer.get_backend('aer_simulator')\n",
    "~~~\n",
    "we connect our backend to the Aer simulator in Qiskit, in order to simulate quantum circuits. <br>\n",
    "Then, with the command\n",
    "~~~ \n",
    "    experiment = simulation.run( circuit_name , shots = N, memory = True )\n",
    "~~~\n",
    "we are executing N experiments running our circuit. It is important to set as True the last parameter, refering to memory. This creates an array of N positions, each one of them saving an experiment execution. <br>\n",
    "Lastly, we use the command \n",
    "~~~ \n",
    "    output = experiment.result().get_memory()[ i ] \n",
    "~~~\n",
    "to access measurement result of execution No. (i+1), which is stored in the i-th position of the (zero-based) array. "
   ]
  },
  {
   "cell_type": "code",
   "execution_count": 3,
   "id": "558b0ef8-d854-45ef-91f4-50dbbb0b6a15",
   "metadata": {
    "tags": []
   },
   "outputs": [],
   "source": [
    "# --------------------------------------------------------------\n",
    "#             I N V E R S I O N    G  A  T  E\n",
    "# --------------------------------------------------------------\n",
    "def INVERSION(inp): \n",
    "    # 0. GATE FUNCTIONALITY / LOGIC\n",
    "    # If input is 0, it returns 1\n",
    "    # If input is 1, it returns 0\n",
    "    # _________________________________\n",
    "    \n",
    "    # 1. CREATE QUANTUM CIRCUIT\n",
    "    # NOT gate needs 1 qubit as input line\n",
    "    # It also needs a classical bit to store measurement result \n",
    "    Inversion = QuantumCircuit(1,1)\n",
    "    \n",
    "    # 2. INTIALIZE CIRCUIT TO MATCH FUNCTION INPUT\n",
    "    # Due to Qiskit initializing qubits to |0>, \n",
    "    # we need to add an X gate to each input that is '1'\n",
    "    if (inp == 1):\n",
    "        Inversion.x(0)\n",
    "    Inversion.barrier()\n",
    "    \n",
    "    # 3. ADD GATES TO ACHIEVE DESIRED OUTPUT\n",
    "    Inversion.x(0)\n",
    "    Inversion.measure(0,0)\n",
    "    Inversion.draw()\n",
    "    \n",
    "    # 4. SIMULATE MEASUREMENT AND RETURN RESULTS \n",
    "    simulation = Aer.get_backend('aer_simulator')\n",
    "    experiment = simulation.run(Inversion, shots=1, memory=True)\n",
    "    output = experiment.result().get_memory()[0]\n",
    "    \n",
    "    return Inversion, int(output)\n",
    "\n",
    "\n",
    "# --------------------------------------------------------------\n",
    "#             A  N  D      G  A  T  E\n",
    "# --------------------------------------------------------------\n",
    "\n",
    "# THE \"AND_2_4()\" WORKS ONLY FOR N = 2 OR N = 4\n",
    "def AND_2_4(inputs): \n",
    "    # 0. GATE FUNCTIONALITY / LOGIC\n",
    "    # If all inputs are '1', it returns '1'\n",
    "    # If at least one input is '0', it returns '0'\n",
    "    \n",
    "    # 1. CREATE QUANTUM CIRCUIT\n",
    "    # AND gate needs at least 2 qubits as input line -- more are acceptable. \n",
    "    # For N main inputs, we need an extra qubit to make measurements, \n",
    "    # so we will use N+1 lines of qubits. \n",
    "    # It also needs a classical bit to store measurement result.\n",
    "    count, i = len(inputs), int(len(inputs)/2)\n",
    "    while ( i > 0 ):\n",
    "        count = count + i\n",
    "        i = int(i/2)\n",
    "    AND_gate = QuantumCircuit(count,1)\n",
    "    \n",
    "    # 2. INTIALIZE CIRCUIT TO MATCH FUNCTION INPUT\n",
    "    # Due to Qiskit initializing qubits to |0>, \n",
    "    # we need to add an X gate to each input that is '1'\n",
    "    for i in range(len(inputs)):\n",
    "        if (inputs[i] == 1):\n",
    "            AND_gate.x(i)\n",
    "    AND_gate.barrier()\n",
    "\n",
    "    # 3. ADD GATES TO ACHIEVE DESIRED OUTPUT\n",
    "    entagl = [ [0, len(inputs)-1] , [len(inputs), count-2] ] \n",
    "    k = 0\n",
    "    while ( k < len(entagl) ): \n",
    "        ind = 0\n",
    "        for i in range(entagl[k][0], entagl[k][1], 2): \n",
    "            AND_gate.ccx(i,i+1,entagl[k][1]+1+ind)\n",
    "            ind = ind + 1\n",
    "        k = k + 1\n",
    "\n",
    "    AND_gate.measure(count-1, 0)\n",
    "    AND_gate.draw()\n",
    "    \n",
    "    # 4. SIMULATE MEASUREMENT AND RETURN RESULTS \n",
    "    simulation = Aer.get_backend('aer_simulator')\n",
    "    experiment = simulation.run(AND_gate, shots=1, memory=True)\n",
    "    output = experiment.result().get_memory()[0]\n",
    "    \n",
    "    return AND_gate, int(output)\n",
    "\n",
    "\n",
    "# THE \"AND_3()\" WORKS ONLY FOR N = 3\n",
    "def AND_3(inputs): \n",
    "    # 0. GATE FUNCTIONALITY / LOGIC\n",
    "    # If all inputs are '1', it returns '1'\n",
    "    # If at least one input is '0', it returns '0'\n",
    "    # _________________________________\n",
    "    \n",
    "    # 1. CREATE QUANTUM CIRCUIT\n",
    "    # AND gate needs at least 2 qubits as input line -- more are acceptable. \n",
    "    # For N main inputs, we need an extra qubit to make measurements, \n",
    "    # so we will use N+1 lines of qubits. \n",
    "    # It also needs a classical bit to store measurement result.\n",
    "    count, i = len(inputs), int(len(inputs)/2)\n",
    "    while ( i > 0 ):\n",
    "        count = count + i\n",
    "        i = int(i/2)\n",
    "    if (len(inputs)%2 == 1):\n",
    "        count = count + 1\n",
    "    AND_gate = QuantumCircuit(count,1)\n",
    "    \n",
    "    # 2. INTIALIZE CIRCUIT TO MATCH FUNCTION INPUT\n",
    "    # Due to Qiskit initializing qubits to |0>, \n",
    "    # we need to add an X gate to each input that is '1'\n",
    "    for i in range(len(inputs)):\n",
    "        if (inputs[i] == 1):\n",
    "            AND_gate.x(i)\n",
    "    AND_gate.barrier()\n",
    "\n",
    "    # 3. ADD GATES TO ACHIEVE DESIRED OUTPUT\n",
    "    entagl = [ [0, len(inputs)-1] , [len(inputs), count-2] ] \n",
    "    k = 0\n",
    "    while ( k < len(entagl) ): \n",
    "        ind = 0\n",
    "        for i in range(entagl[k][0], entagl[k][1], 2): \n",
    "            AND_gate.ccx(i,i+1,entagl[k][1]+1+ind)\n",
    "            ind = ind + 1\n",
    "        k = k + 1\n",
    "    AND_gate.ccx(count-3, count-2, count-1)\n",
    "    AND_gate.measure(count-1, 0)\n",
    "    AND_gate.draw()\n",
    "    \n",
    "    # 4. SIMULATE MEASUREMENT AND RETURN RESULTS \n",
    "    simulation = Aer.get_backend('aer_simulator')\n",
    "    experiment = simulation.run(AND_gate, shots=1, memory=True)\n",
    "    output = experiment.result().get_memory()[0]\n",
    "    \n",
    "    return AND_gate, int(output)\n",
    "\n",
    "\n",
    "def AND(inputs): \n",
    "    # 0. GATE FUNCTIONALITY / LOGIC\n",
    "    # If all inputs are '1', it returns '1'\n",
    "    # If at least one input is '0', it returns '0'\n",
    "    # _________________________________\n",
    "    inpNo = len(inputs)\n",
    "    if (inpNo == 2 or inpNo == 4):\n",
    "        return AND_2_4(inputs)\n",
    "    elif (inpNo == 3): \n",
    "        return AND_3(inputs)\n",
    "    else: \n",
    "        AND_1, output1 = AND(inputs[0:int(inpNo/2)])\n",
    "        AND_2, output2 = AND(inputs[int(inpNo/2):inpNo])\n",
    "        AND_gate, output = AND([int(output1), int(output2)])\n",
    "    \n",
    "    return AND_gate, int(output)\n",
    "\n",
    "\n",
    "# --------------------------------------------------------------\n",
    "#                 O  R      G  A  T  E\n",
    "# --------------------------------------------------------------\n",
    "\n",
    "def OR(inputs):\n",
    "    # 0. GATE FUNCTIONALITY / LOGIC\n",
    "    # If all inputs are '0', it returns '0'\n",
    "    # If at least one input is '1', it returns '1'\n",
    "    # _________________________________\n",
    "\n",
    "    # 1. CREATE QUANTUM CIRCUIT\n",
    "    # First, we need to prepare each input line\n",
    "    # To produce our desired result, we need to intialize each input as its supplementary, \n",
    "    # meaning turn the \"0\" to \"1\" and vise versa. \n",
    "    inp = [None] * len(inputs)\n",
    "    for i in range(len(inputs)):\n",
    "        if (inputs[i] == 1):\n",
    "            inp[i] = 0\n",
    "        else: \n",
    "            inp[i] = 1\n",
    "    # Then, we need to apply on our inverted input the AND gate\n",
    "    AND_gate, AND_output = AND(inp)\n",
    "    # And finally, take the inverted result of that AND gate\n",
    "    # It shall be reminded that if we apply to qubit an X gate and another X gate,\n",
    "    # it return\n",
    "    OR_gate, OR_output = INVERSION(AND_output)\n",
    "    \n",
    "    return OR_gate, int(OR_output)"
   ]
  },
  {
   "cell_type": "code",
   "execution_count": 4,
   "id": "c5a216e5-7071-4e69-b3a1-a44b10fa606b",
   "metadata": {
    "tags": []
   },
   "outputs": [],
   "source": [
    "def NOR(inputs):\n",
    "    # 0. GATE FUNCTIONALITY / LOGIC\n",
    "    # If all inputs are '0', it returns '1'\n",
    "    # If at least one input is '1', it returns '0'\n",
    "    # _________________________________\n",
    "    # BASICALLY an OR gate with inverted result\n",
    "    \n",
    "    # First, we need to apply an OR gate.\n",
    "    OR_gate, OR_output = OR(inputs)\n",
    "    # Then, we need to inverted the output of AND to get the NOT-AND output.\n",
    "    NOR_gate, NOR_output = INVERSION(OR_output)\n",
    "    \n",
    "    return NOR_gate, int(NOR_output)"
   ]
  },
  {
   "cell_type": "code",
   "execution_count": 8,
   "id": "e0d40b3e-e308-466b-87ce-1781237ba7c8",
   "metadata": {
    "tags": []
   },
   "outputs": [
    {
     "name": "stdout",
     "output_type": "stream",
     "text": [
      "BEFORE:  \" (0, 0) \" -->  AFTER NOR gate: \" 1 \"\n",
      "BEFORE:  \" (0, 1) \" -->  AFTER NOR gate: \" 0 \"\n",
      "BEFORE:  \" (1, 0) \" -->  AFTER NOR gate: \" 0 \"\n",
      "BEFORE:  \" (1, 1) \" -->  AFTER NOR gate: \" 0 \"\n"
     ]
    }
   ],
   "source": [
    "# Executing all possible results for OR gate\n",
    "# using N qubits as input\n",
    "N = 2\n",
    "combinations = binaryCombinations(N)\n",
    "\n",
    "for comb in combinations: \n",
    "    init_value = comb\n",
    "    output_qc, output_value = NOR(init_value)\n",
    "    print('BEFORE:  \"',init_value,'\" -->  AFTER NOR gate: \"',output_value, '\"')"
   ]
  },
  {
   "cell_type": "code",
   "execution_count": 9,
   "id": "41562900-5ea9-4b45-af18-27c807e923f1",
   "metadata": {
    "tags": []
   },
   "outputs": [
    {
     "name": "stdout",
     "output_type": "stream",
     "text": [
      "BEFORE:  \" (0, 0, 0) \" -->  AFTER NOR gate: \" 1 \"\n",
      "BEFORE:  \" (0, 0, 1) \" -->  AFTER NOR gate: \" 0 \"\n",
      "BEFORE:  \" (0, 1, 0) \" -->  AFTER NOR gate: \" 0 \"\n",
      "BEFORE:  \" (0, 1, 1) \" -->  AFTER NOR gate: \" 0 \"\n",
      "BEFORE:  \" (1, 0, 0) \" -->  AFTER NOR gate: \" 0 \"\n",
      "BEFORE:  \" (1, 0, 1) \" -->  AFTER NOR gate: \" 0 \"\n",
      "BEFORE:  \" (1, 1, 0) \" -->  AFTER NOR gate: \" 0 \"\n",
      "BEFORE:  \" (1, 1, 1) \" -->  AFTER NOR gate: \" 0 \"\n"
     ]
    }
   ],
   "source": [
    "# Executing all possible results for OR gate\n",
    "# using N qubits as input\n",
    "N = 3\n",
    "combinations = binaryCombinations(N)\n",
    "\n",
    "for comb in combinations: \n",
    "    init_value = comb\n",
    "    output_qc, output_value = NOR(init_value)\n",
    "    print('BEFORE:  \"',init_value,'\" -->  AFTER NOR gate: \"',output_value, '\"')"
   ]
  },
  {
   "cell_type": "code",
   "execution_count": 10,
   "id": "a38c5eb5-4675-4960-9d8f-de5ad756d9a0",
   "metadata": {
    "tags": []
   },
   "outputs": [
    {
     "name": "stdout",
     "output_type": "stream",
     "text": [
      "BEFORE:  \" (0, 0, 0, 0) \" -->  AFTER NOR gate: \" 1 \"\n",
      "BEFORE:  \" (0, 0, 0, 1) \" -->  AFTER NOR gate: \" 0 \"\n",
      "BEFORE:  \" (0, 0, 1, 0) \" -->  AFTER NOR gate: \" 0 \"\n",
      "BEFORE:  \" (0, 0, 1, 1) \" -->  AFTER NOR gate: \" 0 \"\n",
      "BEFORE:  \" (0, 1, 0, 0) \" -->  AFTER NOR gate: \" 0 \"\n",
      "BEFORE:  \" (0, 1, 0, 1) \" -->  AFTER NOR gate: \" 0 \"\n",
      "BEFORE:  \" (0, 1, 1, 0) \" -->  AFTER NOR gate: \" 0 \"\n",
      "BEFORE:  \" (0, 1, 1, 1) \" -->  AFTER NOR gate: \" 0 \"\n",
      "BEFORE:  \" (1, 0, 0, 0) \" -->  AFTER NOR gate: \" 0 \"\n",
      "BEFORE:  \" (1, 0, 0, 1) \" -->  AFTER NOR gate: \" 0 \"\n",
      "BEFORE:  \" (1, 0, 1, 0) \" -->  AFTER NOR gate: \" 0 \"\n",
      "BEFORE:  \" (1, 0, 1, 1) \" -->  AFTER NOR gate: \" 0 \"\n",
      "BEFORE:  \" (1, 1, 0, 0) \" -->  AFTER NOR gate: \" 0 \"\n",
      "BEFORE:  \" (1, 1, 0, 1) \" -->  AFTER NOR gate: \" 0 \"\n",
      "BEFORE:  \" (1, 1, 1, 0) \" -->  AFTER NOR gate: \" 0 \"\n",
      "BEFORE:  \" (1, 1, 1, 1) \" -->  AFTER NOR gate: \" 0 \"\n"
     ]
    }
   ],
   "source": [
    "# Executing all possible results for OR gate\n",
    "# using N qubits as input\n",
    "N = 4\n",
    "combinations = binaryCombinations(N)\n",
    "\n",
    "for comb in combinations: \n",
    "    init_value = comb\n",
    "    output_qc, output_value = NOR(init_value)\n",
    "    print('BEFORE:  \"',init_value,'\" -->  AFTER NOR gate: \"',output_value, '\"')"
   ]
  },
  {
   "cell_type": "code",
   "execution_count": 11,
   "id": "8529fde6-359d-4d51-ae52-08eec86de3d1",
   "metadata": {
    "tags": []
   },
   "outputs": [
    {
     "name": "stdout",
     "output_type": "stream",
     "text": [
      "BEFORE:  \" (0, 0, 0, 0, 0) \" -->  AFTER NOR gate: \" 1 \"\n",
      "BEFORE:  \" (0, 0, 0, 0, 1) \" -->  AFTER NOR gate: \" 0 \"\n",
      "BEFORE:  \" (0, 0, 0, 1, 0) \" -->  AFTER NOR gate: \" 0 \"\n",
      "BEFORE:  \" (0, 0, 0, 1, 1) \" -->  AFTER NOR gate: \" 0 \"\n",
      "BEFORE:  \" (0, 0, 1, 0, 0) \" -->  AFTER NOR gate: \" 0 \"\n",
      "BEFORE:  \" (0, 0, 1, 0, 1) \" -->  AFTER NOR gate: \" 0 \"\n",
      "BEFORE:  \" (0, 0, 1, 1, 0) \" -->  AFTER NOR gate: \" 0 \"\n",
      "BEFORE:  \" (0, 0, 1, 1, 1) \" -->  AFTER NOR gate: \" 0 \"\n",
      "BEFORE:  \" (0, 1, 0, 0, 0) \" -->  AFTER NOR gate: \" 0 \"\n",
      "BEFORE:  \" (0, 1, 0, 0, 1) \" -->  AFTER NOR gate: \" 0 \"\n",
      "BEFORE:  \" (0, 1, 0, 1, 0) \" -->  AFTER NOR gate: \" 0 \"\n",
      "BEFORE:  \" (0, 1, 0, 1, 1) \" -->  AFTER NOR gate: \" 0 \"\n",
      "BEFORE:  \" (0, 1, 1, 0, 0) \" -->  AFTER NOR gate: \" 0 \"\n",
      "BEFORE:  \" (0, 1, 1, 0, 1) \" -->  AFTER NOR gate: \" 0 \"\n",
      "BEFORE:  \" (0, 1, 1, 1, 0) \" -->  AFTER NOR gate: \" 0 \"\n",
      "BEFORE:  \" (0, 1, 1, 1, 1) \" -->  AFTER NOR gate: \" 0 \"\n",
      "BEFORE:  \" (1, 0, 0, 0, 0) \" -->  AFTER NOR gate: \" 0 \"\n",
      "BEFORE:  \" (1, 0, 0, 0, 1) \" -->  AFTER NOR gate: \" 0 \"\n",
      "BEFORE:  \" (1, 0, 0, 1, 0) \" -->  AFTER NOR gate: \" 0 \"\n",
      "BEFORE:  \" (1, 0, 0, 1, 1) \" -->  AFTER NOR gate: \" 0 \"\n",
      "BEFORE:  \" (1, 0, 1, 0, 0) \" -->  AFTER NOR gate: \" 0 \"\n",
      "BEFORE:  \" (1, 0, 1, 0, 1) \" -->  AFTER NOR gate: \" 0 \"\n",
      "BEFORE:  \" (1, 0, 1, 1, 0) \" -->  AFTER NOR gate: \" 0 \"\n",
      "BEFORE:  \" (1, 0, 1, 1, 1) \" -->  AFTER NOR gate: \" 0 \"\n",
      "BEFORE:  \" (1, 1, 0, 0, 0) \" -->  AFTER NOR gate: \" 0 \"\n",
      "BEFORE:  \" (1, 1, 0, 0, 1) \" -->  AFTER NOR gate: \" 0 \"\n",
      "BEFORE:  \" (1, 1, 0, 1, 0) \" -->  AFTER NOR gate: \" 0 \"\n",
      "BEFORE:  \" (1, 1, 0, 1, 1) \" -->  AFTER NOR gate: \" 0 \"\n",
      "BEFORE:  \" (1, 1, 1, 0, 0) \" -->  AFTER NOR gate: \" 0 \"\n",
      "BEFORE:  \" (1, 1, 1, 0, 1) \" -->  AFTER NOR gate: \" 0 \"\n",
      "BEFORE:  \" (1, 1, 1, 1, 0) \" -->  AFTER NOR gate: \" 0 \"\n",
      "BEFORE:  \" (1, 1, 1, 1, 1) \" -->  AFTER NOR gate: \" 0 \"\n"
     ]
    }
   ],
   "source": [
    "# Executing all possible results for OR gate\n",
    "# using N qubits as input\n",
    "N = 5\n",
    "combinations = binaryCombinations(N)\n",
    "\n",
    "for comb in combinations: \n",
    "    init_value = comb\n",
    "    output_qc, output_value = NOR(init_value)\n",
    "    print('BEFORE:  \"',init_value,'\" -->  AFTER NOR gate: \"',output_value, '\"')"
   ]
  },
  {
   "cell_type": "code",
   "execution_count": 12,
   "id": "36e88a41-8dce-47b1-846c-5a4a8432e17d",
   "metadata": {
    "tags": []
   },
   "outputs": [
    {
     "name": "stdout",
     "output_type": "stream",
     "text": [
      "BEFORE:  \" (0, 0, 0, 0, 0, 0) \" -->  AFTER NOR gate: \" 1 \"\n",
      "BEFORE:  \" (0, 0, 0, 0, 0, 1) \" -->  AFTER NOR gate: \" 0 \"\n",
      "BEFORE:  \" (0, 0, 0, 0, 1, 0) \" -->  AFTER NOR gate: \" 0 \"\n",
      "BEFORE:  \" (0, 0, 0, 0, 1, 1) \" -->  AFTER NOR gate: \" 0 \"\n",
      "BEFORE:  \" (0, 0, 0, 1, 0, 0) \" -->  AFTER NOR gate: \" 0 \"\n",
      "BEFORE:  \" (0, 0, 0, 1, 0, 1) \" -->  AFTER NOR gate: \" 0 \"\n",
      "BEFORE:  \" (0, 0, 0, 1, 1, 0) \" -->  AFTER NOR gate: \" 0 \"\n",
      "BEFORE:  \" (0, 0, 0, 1, 1, 1) \" -->  AFTER NOR gate: \" 0 \"\n",
      "BEFORE:  \" (0, 0, 1, 0, 0, 0) \" -->  AFTER NOR gate: \" 0 \"\n",
      "BEFORE:  \" (0, 0, 1, 0, 0, 1) \" -->  AFTER NOR gate: \" 0 \"\n",
      "BEFORE:  \" (0, 0, 1, 0, 1, 0) \" -->  AFTER NOR gate: \" 0 \"\n",
      "BEFORE:  \" (0, 0, 1, 0, 1, 1) \" -->  AFTER NOR gate: \" 0 \"\n",
      "BEFORE:  \" (0, 0, 1, 1, 0, 0) \" -->  AFTER NOR gate: \" 0 \"\n",
      "BEFORE:  \" (0, 0, 1, 1, 0, 1) \" -->  AFTER NOR gate: \" 0 \"\n",
      "BEFORE:  \" (0, 0, 1, 1, 1, 0) \" -->  AFTER NOR gate: \" 0 \"\n",
      "BEFORE:  \" (0, 0, 1, 1, 1, 1) \" -->  AFTER NOR gate: \" 0 \"\n",
      "BEFORE:  \" (0, 1, 0, 0, 0, 0) \" -->  AFTER NOR gate: \" 0 \"\n",
      "BEFORE:  \" (0, 1, 0, 0, 0, 1) \" -->  AFTER NOR gate: \" 0 \"\n",
      "BEFORE:  \" (0, 1, 0, 0, 1, 0) \" -->  AFTER NOR gate: \" 0 \"\n",
      "BEFORE:  \" (0, 1, 0, 0, 1, 1) \" -->  AFTER NOR gate: \" 0 \"\n",
      "BEFORE:  \" (0, 1, 0, 1, 0, 0) \" -->  AFTER NOR gate: \" 0 \"\n",
      "BEFORE:  \" (0, 1, 0, 1, 0, 1) \" -->  AFTER NOR gate: \" 0 \"\n",
      "BEFORE:  \" (0, 1, 0, 1, 1, 0) \" -->  AFTER NOR gate: \" 0 \"\n",
      "BEFORE:  \" (0, 1, 0, 1, 1, 1) \" -->  AFTER NOR gate: \" 0 \"\n",
      "BEFORE:  \" (0, 1, 1, 0, 0, 0) \" -->  AFTER NOR gate: \" 0 \"\n",
      "BEFORE:  \" (0, 1, 1, 0, 0, 1) \" -->  AFTER NOR gate: \" 0 \"\n",
      "BEFORE:  \" (0, 1, 1, 0, 1, 0) \" -->  AFTER NOR gate: \" 0 \"\n",
      "BEFORE:  \" (0, 1, 1, 0, 1, 1) \" -->  AFTER NOR gate: \" 0 \"\n",
      "BEFORE:  \" (0, 1, 1, 1, 0, 0) \" -->  AFTER NOR gate: \" 0 \"\n",
      "BEFORE:  \" (0, 1, 1, 1, 0, 1) \" -->  AFTER NOR gate: \" 0 \"\n",
      "BEFORE:  \" (0, 1, 1, 1, 1, 0) \" -->  AFTER NOR gate: \" 0 \"\n",
      "BEFORE:  \" (0, 1, 1, 1, 1, 1) \" -->  AFTER NOR gate: \" 0 \"\n",
      "BEFORE:  \" (1, 0, 0, 0, 0, 0) \" -->  AFTER NOR gate: \" 0 \"\n",
      "BEFORE:  \" (1, 0, 0, 0, 0, 1) \" -->  AFTER NOR gate: \" 0 \"\n",
      "BEFORE:  \" (1, 0, 0, 0, 1, 0) \" -->  AFTER NOR gate: \" 0 \"\n",
      "BEFORE:  \" (1, 0, 0, 0, 1, 1) \" -->  AFTER NOR gate: \" 0 \"\n",
      "BEFORE:  \" (1, 0, 0, 1, 0, 0) \" -->  AFTER NOR gate: \" 0 \"\n",
      "BEFORE:  \" (1, 0, 0, 1, 0, 1) \" -->  AFTER NOR gate: \" 0 \"\n",
      "BEFORE:  \" (1, 0, 0, 1, 1, 0) \" -->  AFTER NOR gate: \" 0 \"\n",
      "BEFORE:  \" (1, 0, 0, 1, 1, 1) \" -->  AFTER NOR gate: \" 0 \"\n",
      "BEFORE:  \" (1, 0, 1, 0, 0, 0) \" -->  AFTER NOR gate: \" 0 \"\n",
      "BEFORE:  \" (1, 0, 1, 0, 0, 1) \" -->  AFTER NOR gate: \" 0 \"\n",
      "BEFORE:  \" (1, 0, 1, 0, 1, 0) \" -->  AFTER NOR gate: \" 0 \"\n",
      "BEFORE:  \" (1, 0, 1, 0, 1, 1) \" -->  AFTER NOR gate: \" 0 \"\n",
      "BEFORE:  \" (1, 0, 1, 1, 0, 0) \" -->  AFTER NOR gate: \" 0 \"\n",
      "BEFORE:  \" (1, 0, 1, 1, 0, 1) \" -->  AFTER NOR gate: \" 0 \"\n",
      "BEFORE:  \" (1, 0, 1, 1, 1, 0) \" -->  AFTER NOR gate: \" 0 \"\n",
      "BEFORE:  \" (1, 0, 1, 1, 1, 1) \" -->  AFTER NOR gate: \" 0 \"\n",
      "BEFORE:  \" (1, 1, 0, 0, 0, 0) \" -->  AFTER NOR gate: \" 0 \"\n",
      "BEFORE:  \" (1, 1, 0, 0, 0, 1) \" -->  AFTER NOR gate: \" 0 \"\n",
      "BEFORE:  \" (1, 1, 0, 0, 1, 0) \" -->  AFTER NOR gate: \" 0 \"\n",
      "BEFORE:  \" (1, 1, 0, 0, 1, 1) \" -->  AFTER NOR gate: \" 0 \"\n",
      "BEFORE:  \" (1, 1, 0, 1, 0, 0) \" -->  AFTER NOR gate: \" 0 \"\n",
      "BEFORE:  \" (1, 1, 0, 1, 0, 1) \" -->  AFTER NOR gate: \" 0 \"\n",
      "BEFORE:  \" (1, 1, 0, 1, 1, 0) \" -->  AFTER NOR gate: \" 0 \"\n",
      "BEFORE:  \" (1, 1, 0, 1, 1, 1) \" -->  AFTER NOR gate: \" 0 \"\n",
      "BEFORE:  \" (1, 1, 1, 0, 0, 0) \" -->  AFTER NOR gate: \" 0 \"\n",
      "BEFORE:  \" (1, 1, 1, 0, 0, 1) \" -->  AFTER NOR gate: \" 0 \"\n",
      "BEFORE:  \" (1, 1, 1, 0, 1, 0) \" -->  AFTER NOR gate: \" 0 \"\n",
      "BEFORE:  \" (1, 1, 1, 0, 1, 1) \" -->  AFTER NOR gate: \" 0 \"\n",
      "BEFORE:  \" (1, 1, 1, 1, 0, 0) \" -->  AFTER NOR gate: \" 0 \"\n",
      "BEFORE:  \" (1, 1, 1, 1, 0, 1) \" -->  AFTER NOR gate: \" 0 \"\n",
      "BEFORE:  \" (1, 1, 1, 1, 1, 0) \" -->  AFTER NOR gate: \" 0 \"\n",
      "BEFORE:  \" (1, 1, 1, 1, 1, 1) \" -->  AFTER NOR gate: \" 0 \"\n"
     ]
    }
   ],
   "source": [
    "# Executing all possible results for OR gate\n",
    "# using N qubits as input\n",
    "N = 6\n",
    "combinations = binaryCombinations(N)\n",
    "\n",
    "for comb in combinations: \n",
    "    init_value = comb\n",
    "    output_qc, output_value = NOR(init_value)\n",
    "    print('BEFORE:  \"',init_value,'\" -->  AFTER NOR gate: \"',output_value, '\"')"
   ]
  },
  {
   "cell_type": "code",
   "execution_count": 13,
   "id": "0b97bf8c-a4de-48ee-beb9-745b76c91abb",
   "metadata": {
    "tags": []
   },
   "outputs": [
    {
     "name": "stdout",
     "output_type": "stream",
     "text": [
      "For N =  8 , show ONLY input combinations that return 1 as output\n",
      "BEFORE:  \" (0, 0, 0, 0, 0, 0, 0, 0) \" -->  AFTER NOR gate: \" 1 \"\n"
     ]
    }
   ],
   "source": [
    "# SAME testing code, but for bigger inputs ( N > 7 ) \n",
    "# An execution for N >= 8 require more than half a minute to finish\n",
    "# For even greater number of inputs, it takes even more. \n",
    "\n",
    "N = 8\n",
    "combinations = binaryCombinations(N)\n",
    "\n",
    "print (\"For N = \", N, \", show ONLY input combinations that return 1 as output\")\n",
    "for comb in combinations: \n",
    "    init_value = comb\n",
    "    output_qc, output_value = NOR(init_value)\n",
    "    if ( output_value == 1): \n",
    "        print('BEFORE:  \"',init_value,'\" -->  AFTER NOR gate: \"',output_value, '\"')"
   ]
  }
 ],
 "metadata": {
  "kernelspec": {
   "display_name": "Python 3 (ipykernel)",
   "language": "python",
   "name": "python3"
  },
  "language_info": {
   "codemirror_mode": {
    "name": "ipython",
    "version": 3
   },
   "file_extension": ".py",
   "mimetype": "text/x-python",
   "name": "python",
   "nbconvert_exporter": "python",
   "pygments_lexer": "ipython3",
   "version": "3.10.8"
  },
  "widgets": {
   "application/vnd.jupyter.widget-state+json": {
    "state": {
     "08323f7b3b944d3b873d6ab7b04eaf88": {
      "model_module": "@jupyter-widgets/controls",
      "model_module_version": "2.0.0",
      "model_name": "HTMLModel",
      "state": {
       "layout": "IPY_MODEL_f476958891114df9bc2a29b51dc76a23",
       "style": "IPY_MODEL_814f09c5190141e5bde3276a9fa61b1c",
       "value": "<h5>Queue</h5>"
      }
     },
     "26bb44f555d44c95bdecc9438de3fbd8": {
      "model_module": "@jupyter-widgets/base",
      "model_module_version": "2.0.0",
      "model_name": "LayoutModel",
      "state": {
       "grid_area": "right",
       "padding": "0px 0px 0px 0px",
       "width": "70px"
      }
     },
     "35d87a9e77584a23bb85f00cda13050a": {
      "model_module": "@jupyter-widgets/base",
      "model_module_version": "2.0.0",
      "model_name": "LayoutModel",
      "state": {
       "margin": "0px 0px 10px 0px"
      }
     },
     "3b8126782739452ba53866bf36a2264e": {
      "model_module": "@jupyter-widgets/controls",
      "model_module_version": "2.0.0",
      "model_name": "HTMLModel",
      "state": {
       "layout": "IPY_MODEL_8b5b7c42c6404a39a6217a820da57e06",
       "style": "IPY_MODEL_d2ce4bcd6a4148e8bee6fd07258350a1",
       "value": "<h5>Backend</h5>"
      }
     },
     "52f4dc88531d45cc865d5fa2e074f20a": {
      "model_module": "@jupyter-widgets/controls",
      "model_module_version": "2.0.0",
      "model_name": "ButtonStyleModel",
      "state": {
       "font_family": null,
       "font_size": null,
       "font_style": null,
       "font_variant": null,
       "font_weight": null,
       "text_color": null,
       "text_decoration": null
      }
     },
     "5666d753782a47d4999da6695c678d6f": {
      "model_module": "@jupyter-widgets/controls",
      "model_module_version": "2.0.0",
      "model_name": "HTMLModel",
      "state": {
       "layout": "IPY_MODEL_d39c74939c5244c9bd62ec2f6f576759",
       "style": "IPY_MODEL_e3ceb4a9f3554b0dbb136e533dcb3973",
       "value": "<h5>Job ID</h5>"
      }
     },
     "5ba1014cf7ff4a7b9dcb4b03f1d6b548": {
      "model_module": "@jupyter-widgets/controls",
      "model_module_version": "2.0.0",
      "model_name": "HTMLModel",
      "state": {
       "layout": "IPY_MODEL_91fa83614feb46b4abb9b752a6664410",
       "style": "IPY_MODEL_74f17e570d524ba5b5870da12ed6da6a",
       "value": "<h5>Message</h5>"
      }
     },
     "5db22aa9cfbb43dfb3fb274874cd1878": {
      "model_module": "@jupyter-widgets/controls",
      "model_module_version": "2.0.0",
      "model_name": "HTMLStyleModel",
      "state": {
       "description_width": "",
       "font_size": null,
       "text_color": null
      }
     },
     "62932cc0f3a9411ba4ccb4f9ef6e9de9": {
      "model_module": "@jupyter-widgets/controls",
      "model_module_version": "2.0.0",
      "model_name": "ButtonModel",
      "state": {
       "button_style": "primary",
       "description": "Clear",
       "layout": "IPY_MODEL_26bb44f555d44c95bdecc9438de3fbd8",
       "style": "IPY_MODEL_52f4dc88531d45cc865d5fa2e074f20a",
       "tooltip": null
      }
     },
     "64eb985f89b248baa53b6aac1ef40e6b": {
      "model_module": "@jupyter-widgets/base",
      "model_module_version": "2.0.0",
      "model_name": "LayoutModel",
      "state": {
       "margin": "0px 0px 0px 37px",
       "width": "600px"
      }
     },
     "6a0418788c9b476889ec255c3031e10a": {
      "model_module": "@jupyter-widgets/base",
      "model_module_version": "2.0.0",
      "model_name": "LayoutModel",
      "state": {
       "width": "95px"
      }
     },
     "74f17e570d524ba5b5870da12ed6da6a": {
      "model_module": "@jupyter-widgets/controls",
      "model_module_version": "2.0.0",
      "model_name": "HTMLStyleModel",
      "state": {
       "description_width": "",
       "font_size": null,
       "text_color": null
      }
     },
     "7dfafe81ed5e4a62abf432c66e13aafa": {
      "model_module": "@jupyter-widgets/controls",
      "model_module_version": "2.0.0",
      "model_name": "HTMLModel",
      "state": {
       "layout": "IPY_MODEL_6a0418788c9b476889ec255c3031e10a",
       "style": "IPY_MODEL_5db22aa9cfbb43dfb3fb274874cd1878",
       "value": "<h5>Status</h5>"
      }
     },
     "814f09c5190141e5bde3276a9fa61b1c": {
      "model_module": "@jupyter-widgets/controls",
      "model_module_version": "2.0.0",
      "model_name": "HTMLStyleModel",
      "state": {
       "description_width": "",
       "font_size": null,
       "text_color": null
      }
     },
     "8b5b7c42c6404a39a6217a820da57e06": {
      "model_module": "@jupyter-widgets/base",
      "model_module_version": "2.0.0",
      "model_name": "LayoutModel",
      "state": {
       "width": "145px"
      }
     },
     "91fa83614feb46b4abb9b752a6664410": {
      "model_module": "@jupyter-widgets/base",
      "model_module_version": "2.0.0",
      "model_name": "LayoutModel",
      "state": {}
     },
     "a14b2d51697c4f2e9c18658381a7c258": {
      "model_module": "@jupyter-widgets/base",
      "model_module_version": "2.0.0",
      "model_name": "LayoutModel",
      "state": {
       "grid_template_areas": "\n                                       \". . . . right \"\n                                        ",
       "grid_template_columns": "20% 20% 20% 20% 20%",
       "width": "100%"
      }
     },
     "abf4e47035a741898e300dcc1c0231aa": {
      "model_module": "@jupyter-widgets/controls",
      "model_module_version": "2.0.0",
      "model_name": "HBoxModel",
      "state": {
       "children": [
        "IPY_MODEL_5666d753782a47d4999da6695c678d6f",
        "IPY_MODEL_3b8126782739452ba53866bf36a2264e",
        "IPY_MODEL_7dfafe81ed5e4a62abf432c66e13aafa",
        "IPY_MODEL_08323f7b3b944d3b873d6ab7b04eaf88",
        "IPY_MODEL_5ba1014cf7ff4a7b9dcb4b03f1d6b548"
       ],
       "layout": "IPY_MODEL_64eb985f89b248baa53b6aac1ef40e6b"
      }
     },
     "b46dc114c3f1412c94949ba62a51458b": {
      "model_module": "@jupyter-widgets/controls",
      "model_module_version": "2.0.0",
      "model_name": "GridBoxModel",
      "state": {
       "children": [
        "IPY_MODEL_62932cc0f3a9411ba4ccb4f9ef6e9de9"
       ],
       "layout": "IPY_MODEL_a14b2d51697c4f2e9c18658381a7c258"
      }
     },
     "c491927f6e9d4ba0888afb39c1bb7cf4": {
      "model_module": "@jupyter-widgets/controls",
      "model_module_version": "2.0.0",
      "model_name": "HTMLStyleModel",
      "state": {
       "description_width": "",
       "font_size": null,
       "text_color": null
      }
     },
     "d2ce4bcd6a4148e8bee6fd07258350a1": {
      "model_module": "@jupyter-widgets/controls",
      "model_module_version": "2.0.0",
      "model_name": "HTMLStyleModel",
      "state": {
       "description_width": "",
       "font_size": null,
       "text_color": null
      }
     },
     "d39c74939c5244c9bd62ec2f6f576759": {
      "model_module": "@jupyter-widgets/base",
      "model_module_version": "2.0.0",
      "model_name": "LayoutModel",
      "state": {
       "width": "190px"
      }
     },
     "e3ceb4a9f3554b0dbb136e533dcb3973": {
      "model_module": "@jupyter-widgets/controls",
      "model_module_version": "2.0.0",
      "model_name": "HTMLStyleModel",
      "state": {
       "description_width": "",
       "font_size": null,
       "text_color": null
      }
     },
     "f476958891114df9bc2a29b51dc76a23": {
      "model_module": "@jupyter-widgets/base",
      "model_module_version": "2.0.0",
      "model_name": "LayoutModel",
      "state": {
       "width": "70px"
      }
     },
     "f573fe64e4884eb9b56b02dc199eab20": {
      "model_module": "@jupyter-widgets/controls",
      "model_module_version": "2.0.0",
      "model_name": "HTMLModel",
      "state": {
       "layout": "IPY_MODEL_35d87a9e77584a23bb85f00cda13050a",
       "style": "IPY_MODEL_c491927f6e9d4ba0888afb39c1bb7cf4",
       "value": "<p style='font-family: IBM Plex Sans, Arial, Helvetica, sans-serif; font-size: 20px; font-weight: medium;'>Circuit Properties</p>"
      }
     }
    },
    "version_major": 2,
    "version_minor": 0
   }
  }
 },
 "nbformat": 4,
 "nbformat_minor": 5
}
