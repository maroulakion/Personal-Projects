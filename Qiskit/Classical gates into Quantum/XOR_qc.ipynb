{
 "cells": [
  {
   "cell_type": "code",
   "execution_count": 2,
   "id": "e42ae01a-f64d-4e31-91da-083a13e2ca42",
   "metadata": {},
   "outputs": [],
   "source": [
    "# Importing standard Qiskit libraries\n",
    "from qiskit import QuantumCircuit, transpile\n",
    "from qiskit.tools.jupyter import *\n",
    "from qiskit.visualization import *\n",
    "from ibm_quantum_widgets import *\n",
    "\n",
    "# qiskit-ibmq-provider has been deprecated.\n",
    "# Please see the Migration Guides in https://ibm.biz/provider_migration_guide for more detail.\n",
    "from qiskit_ibm_runtime import QiskitRuntimeService, Sampler, Estimator, Session, Options\n",
    "\n",
    "import numpy as np\n",
    "\n",
    "# Importing standard Qiskit libraries\n",
    "from qiskit import QuantumCircuit, transpile, Aer, IBMQ\n",
    "from ibm_quantum_widgets import *\n",
    "from qiskit.providers.aer import QasmSimulator\n",
    "\n",
    "# Loading your IBM Quantum account(s)\n",
    "service = QiskitRuntimeService(channel=\"ibm_quantum\")\n",
    "\n",
    "# Invoke a primitive. For more details see https://qiskit.org/documentation/partners/qiskit_ibm_runtime/tutorials.html\n",
    "# result = Sampler(\"ibmq_qasm_simulator\").run(circuits).result()g standard Qiskit libraries\n",
    "from qiskit import QuantumCircuit, transpile\n",
    "from qiskit.tools.jupyter import *\n",
    "from qiskit.visualization import *\n",
    "from ibm_quantum_widgets import *\n",
    "\n",
    "# qiskit-ibmq-provider has been deprecated.\n",
    "# Please see the Migration Guides in https://ibm.biz/provider_migration_guide for more detail.\n",
    "from qiskit_ibm_runtime import QiskitRuntimeService, Sampler, Estimator, Session, Options\n",
    "\n",
    "# Loading your IBM Quantum account(s)\n",
    "service = QiskitRuntimeService(channel=\"ibm_quantum\")\n",
    "\n",
    "# Invoke a primitive. For more details see https://qiskit.org/documentation/partners/qiskit_ibm_runtime/tutorials.html\n",
    "# result = Sampler(\"ibmq_qasm_simulator\").run(circuits).result()"
   ]
  },
  {
   "cell_type": "markdown",
   "id": "136f5e38-aafe-4d45-b1aa-bce313589cdc",
   "metadata": {},
   "source": [
    "## NOTE (1) \n",
    "Run the piece of code bellow to: <br>\n",
    "-> produce a list of characters out of a string <br>\n",
    "-> produce all possible results of binary combinations"
   ]
  },
  {
   "cell_type": "code",
   "execution_count": 3,
   "id": "447f3060-4a9d-493d-bbde-9539ad08988d",
   "metadata": {
    "tags": []
   },
   "outputs": [],
   "source": [
    "# Code imported form \n",
    "# https://stackoverflow.com/questions/14931769/how-to-get-all-combination-of-n-binary-value\n",
    "import itertools\n",
    "def binaryCombinations(N): \n",
    "    lst = list(itertools.product([0, 1], repeat=N))\n",
    "    return lst"
   ]
  },
  {
   "cell_type": "markdown",
   "id": "5d5e6cbf-74df-4cd6-b569-afa8c7d0199c",
   "metadata": {},
   "source": [
    "## NOTE (2)\n",
    "### Code explanation about **storing measurements** : \n",
    "\n",
    "~~~ \n",
    "    simulation = Aer.get_backend('aer_simulator')\n",
    "    experiment = simulation.run( circuit_name , shots = N, memory = True )\n",
    "    output = experiment.result().get_memory()[ i ] \n",
    "    \n",
    "    # usually with N = 1, i = 0\n",
    "~~~\n",
    "\n",
    "<br>First, by\n",
    "~~~ \n",
    "    simulation = Aer.get_backend('aer_simulator')\n",
    "~~~\n",
    "we connect our backend to the Aer simulator in Qiskit, in order to simulate quantum circuits. <br>\n",
    "Then, with the command\n",
    "~~~ \n",
    "    experiment = simulation.run( circuit_name , shots = N, memory = True )\n",
    "~~~\n",
    "we are executing N experiments running our circuit. It is important to set as True the last parameter, refering to memory. This creates an array of N positions, each one of them saving an experiment execution. <br>\n",
    "Lastly, we use the command \n",
    "~~~ \n",
    "    output = experiment.result().get_memory()[ i ] \n",
    "~~~\n",
    "to access measurement result of execution No. (i+1), which is stored in the i-th position of the (zero-based) array. "
   ]
  },
  {
   "cell_type": "code",
   "execution_count": 11,
   "id": "d055e17f-9783-4f77-9457-bec7b39202a4",
   "metadata": {
    "tags": []
   },
   "outputs": [],
   "source": [
    "def XOR(inputs): \n",
    "    # 0. GATE FUNCTIONALITY / LOGIC\n",
    "    # If the number of inputs that are '1' is odd, it returns '1'\n",
    "    # If the number of inputs that are '1' is even, it returns '0'\n",
    "    # _________________________________\n",
    "    \n",
    "    # 1. CREATE QUANTUM CIRCUIT\n",
    "    # XOR gate needs at least 2 qubits as input line. \n",
    "    # More are acceptable. \n",
    "    # It also needs a classical bit to store measurement result.\n",
    "    XOR_gate = QuantumCircuit(len(inputs),1)\n",
    "    \n",
    "    # 2. INTIALIZE CIRCUIT TO MATCH FUNCTION INPUT\n",
    "    # Due to Qiskit initializing qubits to |0>, \n",
    "    # we need to add an X gate to each input that is '1'\n",
    "    for i in range(len(inputs)):\n",
    "        if (inputs[i] == 1):\n",
    "            XOR_gate.x(i)\n",
    "    XOR_gate.barrier()\n",
    "    \n",
    "    # 3. ADD GATES TO ACHIEVE DESIRED OUTPUT\n",
    "    for i in range(len(inputs)-1): \n",
    "        XOR_gate.cx(i,i+1)\n",
    "    XOR_gate.measure(len(inputs)-1, 0)\n",
    "    XOR_gate.draw()\n",
    "    \n",
    "    # 4. SIMULATE MEASUREMENT AND RETURN RESULTS \n",
    "    simulation = Aer.get_backend('aer_simulator')\n",
    "    experiment = simulation.run(XOR_gate, shots=1, memory=True)\n",
    "    output = experiment.result().get_memory()[0]\n",
    "    \n",
    "    return XOR_gate, int(output)"
   ]
  },
  {
   "cell_type": "code",
   "execution_count": 5,
   "id": "e09f8573-b6a1-43dc-99ef-0f889865a14f",
   "metadata": {
    "tags": []
   },
   "outputs": [
    {
     "name": "stdout",
     "output_type": "stream",
     "text": [
      "BEFORE:  \" (0, 0, 0) \" -->  AFTER XOR gate: \" 0 \"\n"
     ]
    },
    {
     "data": {
      "text/html": [
       "<pre style=\"word-wrap: normal;white-space: pre;background: #fff0;line-height: 1.1;font-family: &quot;Courier New&quot;,Courier,monospace\">      ░              \n",
       "q_0: ─░───■──────────\n",
       "      ░ ┌─┴─┐        \n",
       "q_1: ─░─┤ X ├──■─────\n",
       "      ░ └───┘┌─┴─┐┌─┐\n",
       "q_2: ─░──────┤ X ├┤M├\n",
       "      ░      └───┘└╥┘\n",
       "c: 1/══════════════╩═\n",
       "                   0 </pre>"
      ],
      "text/plain": [
       "      ░              \n",
       "q_0: ─░───■──────────\n",
       "      ░ ┌─┴─┐        \n",
       "q_1: ─░─┤ X ├──■─────\n",
       "      ░ └───┘┌─┴─┐┌─┐\n",
       "q_2: ─░──────┤ X ├┤M├\n",
       "      ░      └───┘└╥┘\n",
       "c: 1/══════════════╩═\n",
       "                   0 "
      ]
     },
     "metadata": {},
     "output_type": "display_data"
    },
    {
     "name": "stdout",
     "output_type": "stream",
     "text": [
      "\n",
      "\n",
      "BEFORE:  \" (0, 0, 1) \" -->  AFTER XOR gate: \" 1 \"\n"
     ]
    },
    {
     "data": {
      "text/html": [
       "<pre style=\"word-wrap: normal;white-space: pre;background: #fff0;line-height: 1.1;font-family: &quot;Courier New&quot;,Courier,monospace\">           ░              \n",
       "q_0: ──────░───■──────────\n",
       "           ░ ┌─┴─┐        \n",
       "q_1: ──────░─┤ X ├──■─────\n",
       "     ┌───┐ ░ └───┘┌─┴─┐┌─┐\n",
       "q_2: ┤ X ├─░──────┤ X ├┤M├\n",
       "     └───┘ ░      └───┘└╥┘\n",
       "c: 1/═══════════════════╩═\n",
       "                        0 </pre>"
      ],
      "text/plain": [
       "           ░              \n",
       "q_0: ──────░───■──────────\n",
       "           ░ ┌─┴─┐        \n",
       "q_1: ──────░─┤ X ├──■─────\n",
       "     ┌───┐ ░ └───┘┌─┴─┐┌─┐\n",
       "q_2: ┤ X ├─░──────┤ X ├┤M├\n",
       "     └───┘ ░      └───┘└╥┘\n",
       "c: 1/═══════════════════╩═\n",
       "                        0 "
      ]
     },
     "metadata": {},
     "output_type": "display_data"
    },
    {
     "name": "stdout",
     "output_type": "stream",
     "text": [
      "\n",
      "\n",
      "BEFORE:  \" (0, 1, 0) \" -->  AFTER XOR gate: \" 1 \"\n"
     ]
    },
    {
     "data": {
      "text/html": [
       "<pre style=\"word-wrap: normal;white-space: pre;background: #fff0;line-height: 1.1;font-family: &quot;Courier New&quot;,Courier,monospace\">           ░              \n",
       "q_0: ──────░───■──────────\n",
       "     ┌───┐ ░ ┌─┴─┐        \n",
       "q_1: ┤ X ├─░─┤ X ├──■─────\n",
       "     └───┘ ░ └───┘┌─┴─┐┌─┐\n",
       "q_2: ──────░──────┤ X ├┤M├\n",
       "           ░      └───┘└╥┘\n",
       "c: 1/═══════════════════╩═\n",
       "                        0 </pre>"
      ],
      "text/plain": [
       "           ░              \n",
       "q_0: ──────░───■──────────\n",
       "     ┌───┐ ░ ┌─┴─┐        \n",
       "q_1: ┤ X ├─░─┤ X ├──■─────\n",
       "     └───┘ ░ └───┘┌─┴─┐┌─┐\n",
       "q_2: ──────░──────┤ X ├┤M├\n",
       "           ░      └───┘└╥┘\n",
       "c: 1/═══════════════════╩═\n",
       "                        0 "
      ]
     },
     "metadata": {},
     "output_type": "display_data"
    },
    {
     "name": "stdout",
     "output_type": "stream",
     "text": [
      "\n",
      "\n",
      "BEFORE:  \" (0, 1, 1) \" -->  AFTER XOR gate: \" 0 \"\n"
     ]
    },
    {
     "data": {
      "text/html": [
       "<pre style=\"word-wrap: normal;white-space: pre;background: #fff0;line-height: 1.1;font-family: &quot;Courier New&quot;,Courier,monospace\">           ░              \n",
       "q_0: ──────░───■──────────\n",
       "     ┌───┐ ░ ┌─┴─┐        \n",
       "q_1: ┤ X ├─░─┤ X ├──■─────\n",
       "     ├───┤ ░ └───┘┌─┴─┐┌─┐\n",
       "q_2: ┤ X ├─░──────┤ X ├┤M├\n",
       "     └───┘ ░      └───┘└╥┘\n",
       "c: 1/═══════════════════╩═\n",
       "                        0 </pre>"
      ],
      "text/plain": [
       "           ░              \n",
       "q_0: ──────░───■──────────\n",
       "     ┌───┐ ░ ┌─┴─┐        \n",
       "q_1: ┤ X ├─░─┤ X ├──■─────\n",
       "     ├───┤ ░ └───┘┌─┴─┐┌─┐\n",
       "q_2: ┤ X ├─░──────┤ X ├┤M├\n",
       "     └───┘ ░      └───┘└╥┘\n",
       "c: 1/═══════════════════╩═\n",
       "                        0 "
      ]
     },
     "metadata": {},
     "output_type": "display_data"
    },
    {
     "name": "stdout",
     "output_type": "stream",
     "text": [
      "\n",
      "\n",
      "BEFORE:  \" (1, 0, 0) \" -->  AFTER XOR gate: \" 1 \"\n"
     ]
    },
    {
     "data": {
      "text/html": [
       "<pre style=\"word-wrap: normal;white-space: pre;background: #fff0;line-height: 1.1;font-family: &quot;Courier New&quot;,Courier,monospace\">     ┌───┐ ░              \n",
       "q_0: ┤ X ├─░───■──────────\n",
       "     └───┘ ░ ┌─┴─┐        \n",
       "q_1: ──────░─┤ X ├──■─────\n",
       "           ░ └───┘┌─┴─┐┌─┐\n",
       "q_2: ──────░──────┤ X ├┤M├\n",
       "           ░      └───┘└╥┘\n",
       "c: 1/═══════════════════╩═\n",
       "                        0 </pre>"
      ],
      "text/plain": [
       "     ┌───┐ ░              \n",
       "q_0: ┤ X ├─░───■──────────\n",
       "     └───┘ ░ ┌─┴─┐        \n",
       "q_1: ──────░─┤ X ├──■─────\n",
       "           ░ └───┘┌─┴─┐┌─┐\n",
       "q_2: ──────░──────┤ X ├┤M├\n",
       "           ░      └───┘└╥┘\n",
       "c: 1/═══════════════════╩═\n",
       "                        0 "
      ]
     },
     "metadata": {},
     "output_type": "display_data"
    },
    {
     "name": "stdout",
     "output_type": "stream",
     "text": [
      "\n",
      "\n",
      "BEFORE:  \" (1, 0, 1) \" -->  AFTER XOR gate: \" 0 \"\n"
     ]
    },
    {
     "data": {
      "text/html": [
       "<pre style=\"word-wrap: normal;white-space: pre;background: #fff0;line-height: 1.1;font-family: &quot;Courier New&quot;,Courier,monospace\">     ┌───┐ ░              \n",
       "q_0: ┤ X ├─░───■──────────\n",
       "     └───┘ ░ ┌─┴─┐        \n",
       "q_1: ──────░─┤ X ├──■─────\n",
       "     ┌───┐ ░ └───┘┌─┴─┐┌─┐\n",
       "q_2: ┤ X ├─░──────┤ X ├┤M├\n",
       "     └───┘ ░      └───┘└╥┘\n",
       "c: 1/═══════════════════╩═\n",
       "                        0 </pre>"
      ],
      "text/plain": [
       "     ┌───┐ ░              \n",
       "q_0: ┤ X ├─░───■──────────\n",
       "     └───┘ ░ ┌─┴─┐        \n",
       "q_1: ──────░─┤ X ├──■─────\n",
       "     ┌───┐ ░ └───┘┌─┴─┐┌─┐\n",
       "q_2: ┤ X ├─░──────┤ X ├┤M├\n",
       "     └───┘ ░      └───┘└╥┘\n",
       "c: 1/═══════════════════╩═\n",
       "                        0 "
      ]
     },
     "metadata": {},
     "output_type": "display_data"
    },
    {
     "name": "stdout",
     "output_type": "stream",
     "text": [
      "\n",
      "\n",
      "BEFORE:  \" (1, 1, 0) \" -->  AFTER XOR gate: \" 0 \"\n"
     ]
    },
    {
     "data": {
      "text/html": [
       "<pre style=\"word-wrap: normal;white-space: pre;background: #fff0;line-height: 1.1;font-family: &quot;Courier New&quot;,Courier,monospace\">     ┌───┐ ░              \n",
       "q_0: ┤ X ├─░───■──────────\n",
       "     ├───┤ ░ ┌─┴─┐        \n",
       "q_1: ┤ X ├─░─┤ X ├──■─────\n",
       "     └───┘ ░ └───┘┌─┴─┐┌─┐\n",
       "q_2: ──────░──────┤ X ├┤M├\n",
       "           ░      └───┘└╥┘\n",
       "c: 1/═══════════════════╩═\n",
       "                        0 </pre>"
      ],
      "text/plain": [
       "     ┌───┐ ░              \n",
       "q_0: ┤ X ├─░───■──────────\n",
       "     ├───┤ ░ ┌─┴─┐        \n",
       "q_1: ┤ X ├─░─┤ X ├──■─────\n",
       "     └───┘ ░ └───┘┌─┴─┐┌─┐\n",
       "q_2: ──────░──────┤ X ├┤M├\n",
       "           ░      └───┘└╥┘\n",
       "c: 1/═══════════════════╩═\n",
       "                        0 "
      ]
     },
     "metadata": {},
     "output_type": "display_data"
    },
    {
     "name": "stdout",
     "output_type": "stream",
     "text": [
      "\n",
      "\n",
      "BEFORE:  \" (1, 1, 1) \" -->  AFTER XOR gate: \" 1 \"\n"
     ]
    },
    {
     "data": {
      "text/html": [
       "<pre style=\"word-wrap: normal;white-space: pre;background: #fff0;line-height: 1.1;font-family: &quot;Courier New&quot;,Courier,monospace\">     ┌───┐ ░              \n",
       "q_0: ┤ X ├─░───■──────────\n",
       "     ├───┤ ░ ┌─┴─┐        \n",
       "q_1: ┤ X ├─░─┤ X ├──■─────\n",
       "     ├───┤ ░ └───┘┌─┴─┐┌─┐\n",
       "q_2: ┤ X ├─░──────┤ X ├┤M├\n",
       "     └───┘ ░      └───┘└╥┘\n",
       "c: 1/═══════════════════╩═\n",
       "                        0 </pre>"
      ],
      "text/plain": [
       "     ┌───┐ ░              \n",
       "q_0: ┤ X ├─░───■──────────\n",
       "     ├───┤ ░ ┌─┴─┐        \n",
       "q_1: ┤ X ├─░─┤ X ├──■─────\n",
       "     ├───┤ ░ └───┘┌─┴─┐┌─┐\n",
       "q_2: ┤ X ├─░──────┤ X ├┤M├\n",
       "     └───┘ ░      └───┘└╥┘\n",
       "c: 1/═══════════════════╩═\n",
       "                        0 "
      ]
     },
     "metadata": {},
     "output_type": "display_data"
    },
    {
     "name": "stdout",
     "output_type": "stream",
     "text": [
      "\n",
      "\n"
     ]
    }
   ],
   "source": [
    "# Executing all possible results for XOR gate\n",
    "# using N qubits as input\n",
    "N = 3\n",
    "combinations = binaryCombinations(N)\n",
    "\n",
    "for comb in combinations: \n",
    "    init_value = comb\n",
    "    output_qc, output_value = XOR(init_value)\n",
    "    print('BEFORE:  \"',init_value,'\" -->  AFTER XOR gate: \"',output_value, '\"')\n",
    "    display(output_qc.draw('text'))\n",
    "    print('\\n')"
   ]
  },
  {
   "cell_type": "code",
   "execution_count": 6,
   "id": "71f4e565-b9b7-40bd-8628-808832bb413d",
   "metadata": {
    "tags": []
   },
   "outputs": [
    {
     "name": "stdout",
     "output_type": "stream",
     "text": [
      "BEFORE:  \" (0, 0, 0, 0) \" -->  AFTER XOR gate: \" 0 \"\n",
      "BEFORE:  \" (0, 0, 0, 1) \" -->  AFTER XOR gate: \" 1 \"\n",
      "BEFORE:  \" (0, 0, 1, 0) \" -->  AFTER XOR gate: \" 1 \"\n",
      "BEFORE:  \" (0, 0, 1, 1) \" -->  AFTER XOR gate: \" 0 \"\n",
      "BEFORE:  \" (0, 1, 0, 0) \" -->  AFTER XOR gate: \" 1 \"\n",
      "BEFORE:  \" (0, 1, 0, 1) \" -->  AFTER XOR gate: \" 0 \"\n",
      "BEFORE:  \" (0, 1, 1, 0) \" -->  AFTER XOR gate: \" 0 \"\n",
      "BEFORE:  \" (0, 1, 1, 1) \" -->  AFTER XOR gate: \" 1 \"\n",
      "BEFORE:  \" (1, 0, 0, 0) \" -->  AFTER XOR gate: \" 1 \"\n",
      "BEFORE:  \" (1, 0, 0, 1) \" -->  AFTER XOR gate: \" 0 \"\n",
      "BEFORE:  \" (1, 0, 1, 0) \" -->  AFTER XOR gate: \" 0 \"\n",
      "BEFORE:  \" (1, 0, 1, 1) \" -->  AFTER XOR gate: \" 1 \"\n",
      "BEFORE:  \" (1, 1, 0, 0) \" -->  AFTER XOR gate: \" 0 \"\n",
      "BEFORE:  \" (1, 1, 0, 1) \" -->  AFTER XOR gate: \" 1 \"\n",
      "BEFORE:  \" (1, 1, 1, 0) \" -->  AFTER XOR gate: \" 1 \"\n",
      "BEFORE:  \" (1, 1, 1, 1) \" -->  AFTER XOR gate: \" 0 \"\n"
     ]
    }
   ],
   "source": [
    "# Executing all possible results for XOR gate\n",
    "# using N qubits as input\n",
    "N = 4\n",
    "combinations = binaryCombinations(N)\n",
    "\n",
    "for comb in combinations: \n",
    "    init_value = comb\n",
    "    output_qc, output_value = XOR(init_value)\n",
    "    print('BEFORE:  \"',init_value,'\" -->  AFTER XOR gate: \"',output_value, '\"')\n",
    "    #display(output_qc.draw('text'))\n",
    "    #print('\\n')"
   ]
  },
  {
   "cell_type": "code",
   "execution_count": 12,
   "id": "421ea29f-4f41-4686-85df-278ad46ce125",
   "metadata": {
    "tags": []
   },
   "outputs": [
    {
     "name": "stdout",
     "output_type": "stream",
     "text": [
      "For N =  8 , show only  8 -bit-combinations that have XOR output as 1\n",
      "BEFORE:  \" (0, 0, 0, 0, 0, 0, 0, 1) \" -->  AFTER XOR gate: \" 1 \"\n",
      "BEFORE:  \" (0, 0, 0, 0, 0, 0, 1, 0) \" -->  AFTER XOR gate: \" 1 \"\n",
      "BEFORE:  \" (0, 0, 0, 0, 0, 1, 0, 0) \" -->  AFTER XOR gate: \" 1 \"\n",
      "BEFORE:  \" (0, 0, 0, 0, 0, 1, 1, 1) \" -->  AFTER XOR gate: \" 1 \"\n",
      "BEFORE:  \" (0, 0, 0, 0, 1, 0, 0, 0) \" -->  AFTER XOR gate: \" 1 \"\n",
      "BEFORE:  \" (0, 0, 0, 0, 1, 0, 1, 1) \" -->  AFTER XOR gate: \" 1 \"\n",
      "BEFORE:  \" (0, 0, 0, 0, 1, 1, 0, 1) \" -->  AFTER XOR gate: \" 1 \"\n",
      "BEFORE:  \" (0, 0, 0, 0, 1, 1, 1, 0) \" -->  AFTER XOR gate: \" 1 \"\n",
      "BEFORE:  \" (0, 0, 0, 1, 0, 0, 0, 0) \" -->  AFTER XOR gate: \" 1 \"\n",
      "BEFORE:  \" (0, 0, 0, 1, 0, 0, 1, 1) \" -->  AFTER XOR gate: \" 1 \"\n",
      "BEFORE:  \" (0, 0, 0, 1, 0, 1, 0, 1) \" -->  AFTER XOR gate: \" 1 \"\n",
      "BEFORE:  \" (0, 0, 0, 1, 0, 1, 1, 0) \" -->  AFTER XOR gate: \" 1 \"\n",
      "BEFORE:  \" (0, 0, 0, 1, 1, 0, 0, 1) \" -->  AFTER XOR gate: \" 1 \"\n",
      "BEFORE:  \" (0, 0, 0, 1, 1, 0, 1, 0) \" -->  AFTER XOR gate: \" 1 \"\n",
      "BEFORE:  \" (0, 0, 0, 1, 1, 1, 0, 0) \" -->  AFTER XOR gate: \" 1 \"\n",
      "BEFORE:  \" (0, 0, 0, 1, 1, 1, 1, 1) \" -->  AFTER XOR gate: \" 1 \"\n",
      "BEFORE:  \" (0, 0, 1, 0, 0, 0, 0, 0) \" -->  AFTER XOR gate: \" 1 \"\n",
      "BEFORE:  \" (0, 0, 1, 0, 0, 0, 1, 1) \" -->  AFTER XOR gate: \" 1 \"\n",
      "BEFORE:  \" (0, 0, 1, 0, 0, 1, 0, 1) \" -->  AFTER XOR gate: \" 1 \"\n",
      "BEFORE:  \" (0, 0, 1, 0, 0, 1, 1, 0) \" -->  AFTER XOR gate: \" 1 \"\n",
      "BEFORE:  \" (0, 0, 1, 0, 1, 0, 0, 1) \" -->  AFTER XOR gate: \" 1 \"\n",
      "BEFORE:  \" (0, 0, 1, 0, 1, 0, 1, 0) \" -->  AFTER XOR gate: \" 1 \"\n",
      "BEFORE:  \" (0, 0, 1, 0, 1, 1, 0, 0) \" -->  AFTER XOR gate: \" 1 \"\n",
      "BEFORE:  \" (0, 0, 1, 0, 1, 1, 1, 1) \" -->  AFTER XOR gate: \" 1 \"\n",
      "BEFORE:  \" (0, 0, 1, 1, 0, 0, 0, 1) \" -->  AFTER XOR gate: \" 1 \"\n",
      "BEFORE:  \" (0, 0, 1, 1, 0, 0, 1, 0) \" -->  AFTER XOR gate: \" 1 \"\n",
      "BEFORE:  \" (0, 0, 1, 1, 0, 1, 0, 0) \" -->  AFTER XOR gate: \" 1 \"\n",
      "BEFORE:  \" (0, 0, 1, 1, 0, 1, 1, 1) \" -->  AFTER XOR gate: \" 1 \"\n",
      "BEFORE:  \" (0, 0, 1, 1, 1, 0, 0, 0) \" -->  AFTER XOR gate: \" 1 \"\n",
      "BEFORE:  \" (0, 0, 1, 1, 1, 0, 1, 1) \" -->  AFTER XOR gate: \" 1 \"\n",
      "BEFORE:  \" (0, 0, 1, 1, 1, 1, 0, 1) \" -->  AFTER XOR gate: \" 1 \"\n",
      "BEFORE:  \" (0, 0, 1, 1, 1, 1, 1, 0) \" -->  AFTER XOR gate: \" 1 \"\n",
      "BEFORE:  \" (0, 1, 0, 0, 0, 0, 0, 0) \" -->  AFTER XOR gate: \" 1 \"\n",
      "BEFORE:  \" (0, 1, 0, 0, 0, 0, 1, 1) \" -->  AFTER XOR gate: \" 1 \"\n",
      "BEFORE:  \" (0, 1, 0, 0, 0, 1, 0, 1) \" -->  AFTER XOR gate: \" 1 \"\n",
      "BEFORE:  \" (0, 1, 0, 0, 0, 1, 1, 0) \" -->  AFTER XOR gate: \" 1 \"\n",
      "BEFORE:  \" (0, 1, 0, 0, 1, 0, 0, 1) \" -->  AFTER XOR gate: \" 1 \"\n",
      "BEFORE:  \" (0, 1, 0, 0, 1, 0, 1, 0) \" -->  AFTER XOR gate: \" 1 \"\n",
      "BEFORE:  \" (0, 1, 0, 0, 1, 1, 0, 0) \" -->  AFTER XOR gate: \" 1 \"\n",
      "BEFORE:  \" (0, 1, 0, 0, 1, 1, 1, 1) \" -->  AFTER XOR gate: \" 1 \"\n",
      "BEFORE:  \" (0, 1, 0, 1, 0, 0, 0, 1) \" -->  AFTER XOR gate: \" 1 \"\n",
      "BEFORE:  \" (0, 1, 0, 1, 0, 0, 1, 0) \" -->  AFTER XOR gate: \" 1 \"\n",
      "BEFORE:  \" (0, 1, 0, 1, 0, 1, 0, 0) \" -->  AFTER XOR gate: \" 1 \"\n",
      "BEFORE:  \" (0, 1, 0, 1, 0, 1, 1, 1) \" -->  AFTER XOR gate: \" 1 \"\n",
      "BEFORE:  \" (0, 1, 0, 1, 1, 0, 0, 0) \" -->  AFTER XOR gate: \" 1 \"\n",
      "BEFORE:  \" (0, 1, 0, 1, 1, 0, 1, 1) \" -->  AFTER XOR gate: \" 1 \"\n",
      "BEFORE:  \" (0, 1, 0, 1, 1, 1, 0, 1) \" -->  AFTER XOR gate: \" 1 \"\n",
      "BEFORE:  \" (0, 1, 0, 1, 1, 1, 1, 0) \" -->  AFTER XOR gate: \" 1 \"\n",
      "BEFORE:  \" (0, 1, 1, 0, 0, 0, 0, 1) \" -->  AFTER XOR gate: \" 1 \"\n",
      "BEFORE:  \" (0, 1, 1, 0, 0, 0, 1, 0) \" -->  AFTER XOR gate: \" 1 \"\n",
      "BEFORE:  \" (0, 1, 1, 0, 0, 1, 0, 0) \" -->  AFTER XOR gate: \" 1 \"\n",
      "BEFORE:  \" (0, 1, 1, 0, 0, 1, 1, 1) \" -->  AFTER XOR gate: \" 1 \"\n",
      "BEFORE:  \" (0, 1, 1, 0, 1, 0, 0, 0) \" -->  AFTER XOR gate: \" 1 \"\n",
      "BEFORE:  \" (0, 1, 1, 0, 1, 0, 1, 1) \" -->  AFTER XOR gate: \" 1 \"\n",
      "BEFORE:  \" (0, 1, 1, 0, 1, 1, 0, 1) \" -->  AFTER XOR gate: \" 1 \"\n",
      "BEFORE:  \" (0, 1, 1, 0, 1, 1, 1, 0) \" -->  AFTER XOR gate: \" 1 \"\n",
      "BEFORE:  \" (0, 1, 1, 1, 0, 0, 0, 0) \" -->  AFTER XOR gate: \" 1 \"\n",
      "BEFORE:  \" (0, 1, 1, 1, 0, 0, 1, 1) \" -->  AFTER XOR gate: \" 1 \"\n",
      "BEFORE:  \" (0, 1, 1, 1, 0, 1, 0, 1) \" -->  AFTER XOR gate: \" 1 \"\n",
      "BEFORE:  \" (0, 1, 1, 1, 0, 1, 1, 0) \" -->  AFTER XOR gate: \" 1 \"\n",
      "BEFORE:  \" (0, 1, 1, 1, 1, 0, 0, 1) \" -->  AFTER XOR gate: \" 1 \"\n",
      "BEFORE:  \" (0, 1, 1, 1, 1, 0, 1, 0) \" -->  AFTER XOR gate: \" 1 \"\n",
      "BEFORE:  \" (0, 1, 1, 1, 1, 1, 0, 0) \" -->  AFTER XOR gate: \" 1 \"\n",
      "BEFORE:  \" (0, 1, 1, 1, 1, 1, 1, 1) \" -->  AFTER XOR gate: \" 1 \"\n",
      "BEFORE:  \" (1, 0, 0, 0, 0, 0, 0, 0) \" -->  AFTER XOR gate: \" 1 \"\n",
      "BEFORE:  \" (1, 0, 0, 0, 0, 0, 1, 1) \" -->  AFTER XOR gate: \" 1 \"\n",
      "BEFORE:  \" (1, 0, 0, 0, 0, 1, 0, 1) \" -->  AFTER XOR gate: \" 1 \"\n",
      "BEFORE:  \" (1, 0, 0, 0, 0, 1, 1, 0) \" -->  AFTER XOR gate: \" 1 \"\n",
      "BEFORE:  \" (1, 0, 0, 0, 1, 0, 0, 1) \" -->  AFTER XOR gate: \" 1 \"\n",
      "BEFORE:  \" (1, 0, 0, 0, 1, 0, 1, 0) \" -->  AFTER XOR gate: \" 1 \"\n",
      "BEFORE:  \" (1, 0, 0, 0, 1, 1, 0, 0) \" -->  AFTER XOR gate: \" 1 \"\n",
      "BEFORE:  \" (1, 0, 0, 0, 1, 1, 1, 1) \" -->  AFTER XOR gate: \" 1 \"\n",
      "BEFORE:  \" (1, 0, 0, 1, 0, 0, 0, 1) \" -->  AFTER XOR gate: \" 1 \"\n",
      "BEFORE:  \" (1, 0, 0, 1, 0, 0, 1, 0) \" -->  AFTER XOR gate: \" 1 \"\n",
      "BEFORE:  \" (1, 0, 0, 1, 0, 1, 0, 0) \" -->  AFTER XOR gate: \" 1 \"\n",
      "BEFORE:  \" (1, 0, 0, 1, 0, 1, 1, 1) \" -->  AFTER XOR gate: \" 1 \"\n",
      "BEFORE:  \" (1, 0, 0, 1, 1, 0, 0, 0) \" -->  AFTER XOR gate: \" 1 \"\n",
      "BEFORE:  \" (1, 0, 0, 1, 1, 0, 1, 1) \" -->  AFTER XOR gate: \" 1 \"\n",
      "BEFORE:  \" (1, 0, 0, 1, 1, 1, 0, 1) \" -->  AFTER XOR gate: \" 1 \"\n",
      "BEFORE:  \" (1, 0, 0, 1, 1, 1, 1, 0) \" -->  AFTER XOR gate: \" 1 \"\n",
      "BEFORE:  \" (1, 0, 1, 0, 0, 0, 0, 1) \" -->  AFTER XOR gate: \" 1 \"\n",
      "BEFORE:  \" (1, 0, 1, 0, 0, 0, 1, 0) \" -->  AFTER XOR gate: \" 1 \"\n",
      "BEFORE:  \" (1, 0, 1, 0, 0, 1, 0, 0) \" -->  AFTER XOR gate: \" 1 \"\n",
      "BEFORE:  \" (1, 0, 1, 0, 0, 1, 1, 1) \" -->  AFTER XOR gate: \" 1 \"\n",
      "BEFORE:  \" (1, 0, 1, 0, 1, 0, 0, 0) \" -->  AFTER XOR gate: \" 1 \"\n",
      "BEFORE:  \" (1, 0, 1, 0, 1, 0, 1, 1) \" -->  AFTER XOR gate: \" 1 \"\n",
      "BEFORE:  \" (1, 0, 1, 0, 1, 1, 0, 1) \" -->  AFTER XOR gate: \" 1 \"\n",
      "BEFORE:  \" (1, 0, 1, 0, 1, 1, 1, 0) \" -->  AFTER XOR gate: \" 1 \"\n",
      "BEFORE:  \" (1, 0, 1, 1, 0, 0, 0, 0) \" -->  AFTER XOR gate: \" 1 \"\n",
      "BEFORE:  \" (1, 0, 1, 1, 0, 0, 1, 1) \" -->  AFTER XOR gate: \" 1 \"\n",
      "BEFORE:  \" (1, 0, 1, 1, 0, 1, 0, 1) \" -->  AFTER XOR gate: \" 1 \"\n",
      "BEFORE:  \" (1, 0, 1, 1, 0, 1, 1, 0) \" -->  AFTER XOR gate: \" 1 \"\n",
      "BEFORE:  \" (1, 0, 1, 1, 1, 0, 0, 1) \" -->  AFTER XOR gate: \" 1 \"\n",
      "BEFORE:  \" (1, 0, 1, 1, 1, 0, 1, 0) \" -->  AFTER XOR gate: \" 1 \"\n",
      "BEFORE:  \" (1, 0, 1, 1, 1, 1, 0, 0) \" -->  AFTER XOR gate: \" 1 \"\n",
      "BEFORE:  \" (1, 0, 1, 1, 1, 1, 1, 1) \" -->  AFTER XOR gate: \" 1 \"\n",
      "BEFORE:  \" (1, 1, 0, 0, 0, 0, 0, 1) \" -->  AFTER XOR gate: \" 1 \"\n",
      "BEFORE:  \" (1, 1, 0, 0, 0, 0, 1, 0) \" -->  AFTER XOR gate: \" 1 \"\n",
      "BEFORE:  \" (1, 1, 0, 0, 0, 1, 0, 0) \" -->  AFTER XOR gate: \" 1 \"\n",
      "BEFORE:  \" (1, 1, 0, 0, 0, 1, 1, 1) \" -->  AFTER XOR gate: \" 1 \"\n",
      "BEFORE:  \" (1, 1, 0, 0, 1, 0, 0, 0) \" -->  AFTER XOR gate: \" 1 \"\n",
      "BEFORE:  \" (1, 1, 0, 0, 1, 0, 1, 1) \" -->  AFTER XOR gate: \" 1 \"\n",
      "BEFORE:  \" (1, 1, 0, 0, 1, 1, 0, 1) \" -->  AFTER XOR gate: \" 1 \"\n",
      "BEFORE:  \" (1, 1, 0, 0, 1, 1, 1, 0) \" -->  AFTER XOR gate: \" 1 \"\n",
      "BEFORE:  \" (1, 1, 0, 1, 0, 0, 0, 0) \" -->  AFTER XOR gate: \" 1 \"\n",
      "BEFORE:  \" (1, 1, 0, 1, 0, 0, 1, 1) \" -->  AFTER XOR gate: \" 1 \"\n",
      "BEFORE:  \" (1, 1, 0, 1, 0, 1, 0, 1) \" -->  AFTER XOR gate: \" 1 \"\n",
      "BEFORE:  \" (1, 1, 0, 1, 0, 1, 1, 0) \" -->  AFTER XOR gate: \" 1 \"\n",
      "BEFORE:  \" (1, 1, 0, 1, 1, 0, 0, 1) \" -->  AFTER XOR gate: \" 1 \"\n",
      "BEFORE:  \" (1, 1, 0, 1, 1, 0, 1, 0) \" -->  AFTER XOR gate: \" 1 \"\n",
      "BEFORE:  \" (1, 1, 0, 1, 1, 1, 0, 0) \" -->  AFTER XOR gate: \" 1 \"\n",
      "BEFORE:  \" (1, 1, 0, 1, 1, 1, 1, 1) \" -->  AFTER XOR gate: \" 1 \"\n",
      "BEFORE:  \" (1, 1, 1, 0, 0, 0, 0, 0) \" -->  AFTER XOR gate: \" 1 \"\n",
      "BEFORE:  \" (1, 1, 1, 0, 0, 0, 1, 1) \" -->  AFTER XOR gate: \" 1 \"\n",
      "BEFORE:  \" (1, 1, 1, 0, 0, 1, 0, 1) \" -->  AFTER XOR gate: \" 1 \"\n",
      "BEFORE:  \" (1, 1, 1, 0, 0, 1, 1, 0) \" -->  AFTER XOR gate: \" 1 \"\n",
      "BEFORE:  \" (1, 1, 1, 0, 1, 0, 0, 1) \" -->  AFTER XOR gate: \" 1 \"\n",
      "BEFORE:  \" (1, 1, 1, 0, 1, 0, 1, 0) \" -->  AFTER XOR gate: \" 1 \"\n",
      "BEFORE:  \" (1, 1, 1, 0, 1, 1, 0, 0) \" -->  AFTER XOR gate: \" 1 \"\n",
      "BEFORE:  \" (1, 1, 1, 0, 1, 1, 1, 1) \" -->  AFTER XOR gate: \" 1 \"\n",
      "BEFORE:  \" (1, 1, 1, 1, 0, 0, 0, 1) \" -->  AFTER XOR gate: \" 1 \"\n",
      "BEFORE:  \" (1, 1, 1, 1, 0, 0, 1, 0) \" -->  AFTER XOR gate: \" 1 \"\n",
      "BEFORE:  \" (1, 1, 1, 1, 0, 1, 0, 0) \" -->  AFTER XOR gate: \" 1 \"\n",
      "BEFORE:  \" (1, 1, 1, 1, 0, 1, 1, 1) \" -->  AFTER XOR gate: \" 1 \"\n",
      "BEFORE:  \" (1, 1, 1, 1, 1, 0, 0, 0) \" -->  AFTER XOR gate: \" 1 \"\n",
      "BEFORE:  \" (1, 1, 1, 1, 1, 0, 1, 1) \" -->  AFTER XOR gate: \" 1 \"\n",
      "BEFORE:  \" (1, 1, 1, 1, 1, 1, 0, 1) \" -->  AFTER XOR gate: \" 1 \"\n",
      "BEFORE:  \" (1, 1, 1, 1, 1, 1, 1, 0) \" -->  AFTER XOR gate: \" 1 \"\n"
     ]
    }
   ],
   "source": [
    "# SAME testing code, but for bigger inputs ( N > 7 ) \n",
    "# An execution for N >= 8 require more than half a minute to finish\n",
    "# For even greater number of inputs, it takes even more. \n",
    "\n",
    "N = 8\n",
    "combinations = binaryCombinations(N)\n",
    "\n",
    "print(\"For N = \", N, \", show only \", N, \"-bit-combinations that have XOR output as 1\")\n",
    "for comb in combinations: \n",
    "    init_value = comb\n",
    "    output_qc, output_value = XOR(init_value)\n",
    "    if (output_value == 1):\n",
    "        print('BEFORE:  \"',init_value,'\" -->  AFTER XOR gate: \"',output_value, '\"')\n",
    "        #display(output_qc.draw('text'))\n",
    "        #print('\\n')"
   ]
  }
 ],
 "metadata": {
  "kernelspec": {
   "display_name": "Python 3 (ipykernel)",
   "language": "python",
   "name": "python3"
  },
  "language_info": {
   "codemirror_mode": {
    "name": "ipython",
    "version": 3
   },
   "file_extension": ".py",
   "mimetype": "text/x-python",
   "name": "python",
   "nbconvert_exporter": "python",
   "pygments_lexer": "ipython3",
   "version": "3.10.8"
  },
  "widgets": {
   "application/vnd.jupyter.widget-state+json": {
    "state": {
     "0566f05a4b994b039a4dc142c5d5f1ca": {
      "model_module": "@jupyter-widgets/controls",
      "model_module_version": "2.0.0",
      "model_name": "HTMLStyleModel",
      "state": {
       "description_width": "",
       "font_size": null,
       "text_color": null
      }
     },
     "0709caf5c9a147e59cdbd5c32f784756": {
      "model_module": "@jupyter-widgets/controls",
      "model_module_version": "2.0.0",
      "model_name": "HTMLStyleModel",
      "state": {
       "description_width": "",
       "font_size": null,
       "text_color": null
      }
     },
     "14036171192b49cd8bc8bd34f96ad26a": {
      "model_module": "@jupyter-widgets/controls",
      "model_module_version": "2.0.0",
      "model_name": "HTMLStyleModel",
      "state": {
       "description_width": "",
       "font_size": null,
       "text_color": null
      }
     },
     "18b757e523374b7db43ca0d0c542a548": {
      "model_module": "@jupyter-widgets/controls",
      "model_module_version": "2.0.0",
      "model_name": "ButtonStyleModel",
      "state": {
       "font_family": null,
       "font_size": null,
       "font_style": null,
       "font_variant": null,
       "font_weight": null,
       "text_color": null,
       "text_decoration": null
      }
     },
     "203149683c914c5b824b88662352d9c5": {
      "model_module": "@jupyter-widgets/base",
      "model_module_version": "2.0.0",
      "model_name": "LayoutModel",
      "state": {
       "width": "145px"
      }
     },
     "21a368e48d2647e983251c5a5c97dd6f": {
      "model_module": "@jupyter-widgets/controls",
      "model_module_version": "2.0.0",
      "model_name": "HBoxModel",
      "state": {
       "children": [
        "IPY_MODEL_fe43e26ef5ce4ce7977e38179b4adee7",
        "IPY_MODEL_4adbab0c30aa41f5aaeb04001920d184",
        "IPY_MODEL_b24fc044efc94250b155e29e9929b4d6",
        "IPY_MODEL_3b231b64da6e4f35bb47365151f82f03",
        "IPY_MODEL_87198674d7a54edc817ebf0bf3373bd9"
       ],
       "layout": "IPY_MODEL_bdcd9a5f91344f5cb0516caecc79c989"
      }
     },
     "26047713bf3f428a955dd768115c6154": {
      "model_module": "@jupyter-widgets/controls",
      "model_module_version": "2.0.0",
      "model_name": "HTMLModel",
      "state": {
       "layout": "IPY_MODEL_f5f3dedd8c0b4f21b733d64b6918a067",
       "style": "IPY_MODEL_14036171192b49cd8bc8bd34f96ad26a",
       "value": "<p style='font-family: IBM Plex Sans, Arial, Helvetica, sans-serif; font-size: 20px; font-weight: medium;'>Circuit Properties</p>"
      }
     },
     "3b231b64da6e4f35bb47365151f82f03": {
      "model_module": "@jupyter-widgets/controls",
      "model_module_version": "2.0.0",
      "model_name": "HTMLModel",
      "state": {
       "layout": "IPY_MODEL_eae643fb85884cbe9f5571f3f0897f2c",
       "style": "IPY_MODEL_8a34ade8301c4026a0627c8403229afc",
       "value": "<h5>Queue</h5>"
      }
     },
     "3fd7bdf4b088446095fc58de2222bfa8": {
      "model_module": "@jupyter-widgets/controls",
      "model_module_version": "2.0.0",
      "model_name": "GridBoxModel",
      "state": {
       "children": [
        "IPY_MODEL_6700eed79ee04e2aa5d869d489e33b3a"
       ],
       "layout": "IPY_MODEL_e11a3a1436bb436c9c60afab891f16c5"
      }
     },
     "4adbab0c30aa41f5aaeb04001920d184": {
      "model_module": "@jupyter-widgets/controls",
      "model_module_version": "2.0.0",
      "model_name": "HTMLModel",
      "state": {
       "layout": "IPY_MODEL_203149683c914c5b824b88662352d9c5",
       "style": "IPY_MODEL_0709caf5c9a147e59cdbd5c32f784756",
       "value": "<h5>Backend</h5>"
      }
     },
     "56c8d60b6f3c457f83aa3c810263a8dd": {
      "model_module": "@jupyter-widgets/base",
      "model_module_version": "2.0.0",
      "model_name": "LayoutModel",
      "state": {
       "grid_area": "right",
       "padding": "0px 0px 0px 0px",
       "width": "70px"
      }
     },
     "6700eed79ee04e2aa5d869d489e33b3a": {
      "model_module": "@jupyter-widgets/controls",
      "model_module_version": "2.0.0",
      "model_name": "ButtonModel",
      "state": {
       "button_style": "primary",
       "description": "Clear",
       "layout": "IPY_MODEL_56c8d60b6f3c457f83aa3c810263a8dd",
       "style": "IPY_MODEL_18b757e523374b7db43ca0d0c542a548",
       "tooltip": null
      }
     },
     "6cb69e93551a42cd9c1d04cd108b71e6": {
      "model_module": "@jupyter-widgets/base",
      "model_module_version": "2.0.0",
      "model_name": "LayoutModel",
      "state": {
       "width": "190px"
      }
     },
     "84ff86028e46485c8cb319d5563989d1": {
      "model_module": "@jupyter-widgets/controls",
      "model_module_version": "2.0.0",
      "model_name": "HTMLStyleModel",
      "state": {
       "description_width": "",
       "font_size": null,
       "text_color": null
      }
     },
     "87198674d7a54edc817ebf0bf3373bd9": {
      "model_module": "@jupyter-widgets/controls",
      "model_module_version": "2.0.0",
      "model_name": "HTMLModel",
      "state": {
       "layout": "IPY_MODEL_ace83082da5e4d4586ff740f83b8a934",
       "style": "IPY_MODEL_0566f05a4b994b039a4dc142c5d5f1ca",
       "value": "<h5>Message</h5>"
      }
     },
     "8a34ade8301c4026a0627c8403229afc": {
      "model_module": "@jupyter-widgets/controls",
      "model_module_version": "2.0.0",
      "model_name": "HTMLStyleModel",
      "state": {
       "description_width": "",
       "font_size": null,
       "text_color": null
      }
     },
     "ace83082da5e4d4586ff740f83b8a934": {
      "model_module": "@jupyter-widgets/base",
      "model_module_version": "2.0.0",
      "model_name": "LayoutModel",
      "state": {}
     },
     "b24fc044efc94250b155e29e9929b4d6": {
      "model_module": "@jupyter-widgets/controls",
      "model_module_version": "2.0.0",
      "model_name": "HTMLModel",
      "state": {
       "layout": "IPY_MODEL_d383f5e7c121485e97182c6abe47a329",
       "style": "IPY_MODEL_f2ff9bc71c024032af6900aed849c9bc",
       "value": "<h5>Status</h5>"
      }
     },
     "bdcd9a5f91344f5cb0516caecc79c989": {
      "model_module": "@jupyter-widgets/base",
      "model_module_version": "2.0.0",
      "model_name": "LayoutModel",
      "state": {
       "margin": "0px 0px 0px 37px",
       "width": "600px"
      }
     },
     "d383f5e7c121485e97182c6abe47a329": {
      "model_module": "@jupyter-widgets/base",
      "model_module_version": "2.0.0",
      "model_name": "LayoutModel",
      "state": {
       "width": "95px"
      }
     },
     "e11a3a1436bb436c9c60afab891f16c5": {
      "model_module": "@jupyter-widgets/base",
      "model_module_version": "2.0.0",
      "model_name": "LayoutModel",
      "state": {
       "grid_template_areas": "\n                                       \". . . . right \"\n                                        ",
       "grid_template_columns": "20% 20% 20% 20% 20%",
       "width": "100%"
      }
     },
     "eae643fb85884cbe9f5571f3f0897f2c": {
      "model_module": "@jupyter-widgets/base",
      "model_module_version": "2.0.0",
      "model_name": "LayoutModel",
      "state": {
       "width": "70px"
      }
     },
     "f2ff9bc71c024032af6900aed849c9bc": {
      "model_module": "@jupyter-widgets/controls",
      "model_module_version": "2.0.0",
      "model_name": "HTMLStyleModel",
      "state": {
       "description_width": "",
       "font_size": null,
       "text_color": null
      }
     },
     "f5f3dedd8c0b4f21b733d64b6918a067": {
      "model_module": "@jupyter-widgets/base",
      "model_module_version": "2.0.0",
      "model_name": "LayoutModel",
      "state": {
       "margin": "0px 0px 10px 0px"
      }
     },
     "fe43e26ef5ce4ce7977e38179b4adee7": {
      "model_module": "@jupyter-widgets/controls",
      "model_module_version": "2.0.0",
      "model_name": "HTMLModel",
      "state": {
       "layout": "IPY_MODEL_6cb69e93551a42cd9c1d04cd108b71e6",
       "style": "IPY_MODEL_84ff86028e46485c8cb319d5563989d1",
       "value": "<h5>Job ID</h5>"
      }
     }
    },
    "version_major": 2,
    "version_minor": 0
   }
  }
 },
 "nbformat": 4,
 "nbformat_minor": 5
}
