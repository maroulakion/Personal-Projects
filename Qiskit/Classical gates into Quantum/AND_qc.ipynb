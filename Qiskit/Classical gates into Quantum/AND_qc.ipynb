{
 "cells": [
  {
   "cell_type": "code",
   "execution_count": 2,
   "id": "e42ae01a-f64d-4e31-91da-083a13e2ca42",
   "metadata": {},
   "outputs": [],
   "source": [
    "# Importing standard Qiskit libraries\n",
    "from qiskit import QuantumCircuit, transpile\n",
    "from qiskit.tools.jupyter import *\n",
    "from qiskit.visualization import *\n",
    "from ibm_quantum_widgets import *\n",
    "\n",
    "# qiskit-ibmq-provider has been deprecated.\n",
    "# Please see the Migration Guides in https://ibm.biz/provider_migration_guide for more detail.\n",
    "from qiskit_ibm_runtime import QiskitRuntimeService, Sampler, Estimator, Session, Options\n",
    "\n",
    "import numpy as np\n",
    "\n",
    "# Importing standard Qiskit libraries\n",
    "from qiskit import QuantumCircuit, transpile, Aer, IBMQ\n",
    "from ibm_quantum_widgets import *\n",
    "from qiskit.providers.aer import QasmSimulator\n",
    "\n",
    "# Loading your IBM Quantum account(s)\n",
    "service = QiskitRuntimeService(channel=\"ibm_quantum\")\n",
    "\n",
    "# Invoke a primitive. For more details see https://qiskit.org/documentation/partners/qiskit_ibm_runtime/tutorials.html\n",
    "# result = Sampler(\"ibmq_qasm_simulator\").run(circuits).result()g standard Qiskit libraries\n",
    "from qiskit import QuantumCircuit, transpile\n",
    "from qiskit.tools.jupyter import *\n",
    "from qiskit.visualization import *\n",
    "from ibm_quantum_widgets import *\n",
    "\n",
    "# qiskit-ibmq-provider has been deprecated.\n",
    "# Please see the Migration Guides in https://ibm.biz/provider_migration_guide for more detail.\n",
    "from qiskit_ibm_runtime import QiskitRuntimeService, Sampler, Estimator, Session, Options\n",
    "\n",
    "# Loading your IBM Quantum account(s)\n",
    "service = QiskitRuntimeService(channel=\"ibm_quantum\")\n",
    "\n",
    "# Invoke a primitive. For more details see https://qiskit.org/documentation/partners/qiskit_ibm_runtime/tutorials.html\n",
    "# result = Sampler(\"ibmq_qasm_simulator\").run(circuits).result()"
   ]
  },
  {
   "cell_type": "markdown",
   "id": "2870b0bb-ea5b-4489-a0b9-28a5ed2dff5f",
   "metadata": {},
   "source": [
    "## NOTE (1) \n",
    "Run the piece of code bellow to: <br>\n",
    "-> produce all possible results of binary combinations"
   ]
  },
  {
   "cell_type": "code",
   "execution_count": 15,
   "id": "f3e29c79-6af1-4ece-b0d6-d2e51d5efaca",
   "metadata": {
    "tags": []
   },
   "outputs": [],
   "source": [
    "# Code imported form \n",
    "# https://stackoverflow.com/questions/14931769/how-to-get-all-combination-of-n-binary-value\n",
    "import itertools\n",
    "def binaryCombinations(N): \n",
    "    lst = list(itertools.product([0, 1], repeat=N))\n",
    "    return lst"
   ]
  },
  {
   "cell_type": "markdown",
   "id": "5d5e6cbf-74df-4cd6-b569-afa8c7d0199c",
   "metadata": {},
   "source": [
    "## NOTE (2)\n",
    "### Code explanation about **storing measurements** : \n",
    "\n",
    "~~~ \n",
    "    simulation = Aer.get_backend('aer_simulator')\n",
    "    experiment = simulation.run( circuit_name , shots = N, memory = True )\n",
    "    output = experiment.result().get_memory()[ i ] \n",
    "    \n",
    "    # usually with N = 1, i = 0\n",
    "~~~\n",
    "\n",
    "<br>First, by\n",
    "~~~ \n",
    "    simulation = Aer.get_backend('aer_simulator')\n",
    "~~~\n",
    "we connect our backend to the Aer simulator in Qiskit, in order to simulate quantum circuits. <br>\n",
    "Then, with the command\n",
    "~~~ \n",
    "    experiment = simulation.run( circuit_name , shots = N, memory = True )\n",
    "~~~\n",
    "we are executing N experiments running our circuit. It is important to set as True the last parameter, refering to memory. This creates an array of N positions, each one of them saving an experiment execution. <br>\n",
    "Lastly, we use the command \n",
    "~~~ \n",
    "    output = experiment.result().get_memory()[ i ] \n",
    "~~~\n",
    "to access measurement result of execution No. (i+1), which is stored in the i-th position of the (zero-based) array. "
   ]
  },
  {
   "cell_type": "code",
   "execution_count": 127,
   "id": "d055e17f-9783-4f77-9457-bec7b39202a4",
   "metadata": {
    "tags": []
   },
   "outputs": [],
   "source": [
    "# THE \"AND_2_4()\" WORKS ONLY FOR N = 2 OR N = 4\n",
    "\n",
    "def AND_2_4(inputs): \n",
    "    # 0. GATE FUNCTIONALITY / LOGIC\n",
    "    # If all inputs are '1', it returns '1'\n",
    "    # If at least one input is '0', it returns '0'\n",
    "    # _________________________________\n",
    "    \n",
    "    # 1. CREATE QUANTUM CIRCUIT\n",
    "    # AND gate needs at least 2 qubits as input line -- more are acceptable. \n",
    "    # For N main inputs, we need an extra qubit to make measurements, \n",
    "    # so we will use N+1 lines of qubits. \n",
    "    # It also needs a classical bit to store measurement result.\n",
    "    count, i = len(inputs), int(len(inputs)/2)\n",
    "    while ( i > 0 ):\n",
    "        count = count + i\n",
    "        i = int(i/2)\n",
    "    AND_gate = QuantumCircuit(count,1)\n",
    "    \n",
    "    # 2. INTIALIZE CIRCUIT TO MATCH FUNCTION INPUT\n",
    "    # Due to Qiskit initializing qubits to |0>, \n",
    "    # we need to add an X gate to each input that is '1'\n",
    "    for i in range(len(inputs)):\n",
    "        if (inputs[i] == 1):\n",
    "            AND_gate.x(i)\n",
    "    AND_gate.barrier()\n",
    "\n",
    "    # 3. ADD GATES TO ACHIEVE DESIRED OUTPUT\n",
    "    entagl = [ [0, len(inputs)-1] , [len(inputs), count-2] ] \n",
    "    k = 0\n",
    "    while ( k < len(entagl) ): \n",
    "        ind = 0\n",
    "        for i in range(entagl[k][0], entagl[k][1], 2): \n",
    "            AND_gate.ccx(i,i+1,entagl[k][1]+1+ind)\n",
    "            ind = ind + 1\n",
    "        k = k + 1\n",
    "    #AND_gate.ccx(count-3, count-2, count-1)\n",
    "    AND_gate.measure(count-1, 0)\n",
    "    AND_gate.draw()\n",
    "    \n",
    "    # 4. SIMULATE MEASUREMENT AND RETURN RESULTS \n",
    "    simulation = Aer.get_backend('aer_simulator')\n",
    "    experiment = simulation.run(AND_gate, shots=1, memory=True)\n",
    "    output = experiment.result().get_memory()[0]\n",
    "    \n",
    "    return AND_gate, int(output)"
   ]
  },
  {
   "cell_type": "code",
   "execution_count": 128,
   "id": "e09f8573-b6a1-43dc-99ef-0f889865a14f",
   "metadata": {
    "tags": []
   },
   "outputs": [
    {
     "name": "stdout",
     "output_type": "stream",
     "text": [
      "BEFORE:  \" (0, 0) \" -->  AFTER AND gate: \" 0 \"\n"
     ]
    },
    {
     "data": {
      "text/html": [
       "<pre style=\"word-wrap: normal;white-space: pre;background: #fff0;line-height: 1.1;font-family: &quot;Courier New&quot;,Courier,monospace\">      ░         \n",
       "q_0: ─░───■─────\n",
       "      ░   │     \n",
       "q_1: ─░───■─────\n",
       "      ░ ┌─┴─┐┌─┐\n",
       "q_2: ─░─┤ X ├┤M├\n",
       "      ░ └───┘└╥┘\n",
       "c: 1/═════════╩═\n",
       "              0 </pre>"
      ],
      "text/plain": [
       "      ░         \n",
       "q_0: ─░───■─────\n",
       "      ░   │     \n",
       "q_1: ─░───■─────\n",
       "      ░ ┌─┴─┐┌─┐\n",
       "q_2: ─░─┤ X ├┤M├\n",
       "      ░ └───┘└╥┘\n",
       "c: 1/═════════╩═\n",
       "              0 "
      ]
     },
     "metadata": {},
     "output_type": "display_data"
    },
    {
     "name": "stdout",
     "output_type": "stream",
     "text": [
      "\n",
      "\n",
      "BEFORE:  \" (0, 1) \" -->  AFTER AND gate: \" 0 \"\n"
     ]
    },
    {
     "data": {
      "text/html": [
       "<pre style=\"word-wrap: normal;white-space: pre;background: #fff0;line-height: 1.1;font-family: &quot;Courier New&quot;,Courier,monospace\">           ░         \n",
       "q_0: ──────░───■─────\n",
       "     ┌───┐ ░   │     \n",
       "q_1: ┤ X ├─░───■─────\n",
       "     └───┘ ░ ┌─┴─┐┌─┐\n",
       "q_2: ──────░─┤ X ├┤M├\n",
       "           ░ └───┘└╥┘\n",
       "c: 1/══════════════╩═\n",
       "                   0 </pre>"
      ],
      "text/plain": [
       "           ░         \n",
       "q_0: ──────░───■─────\n",
       "     ┌───┐ ░   │     \n",
       "q_1: ┤ X ├─░───■─────\n",
       "     └───┘ ░ ┌─┴─┐┌─┐\n",
       "q_2: ──────░─┤ X ├┤M├\n",
       "           ░ └───┘└╥┘\n",
       "c: 1/══════════════╩═\n",
       "                   0 "
      ]
     },
     "metadata": {},
     "output_type": "display_data"
    },
    {
     "name": "stdout",
     "output_type": "stream",
     "text": [
      "\n",
      "\n",
      "BEFORE:  \" (1, 0) \" -->  AFTER AND gate: \" 0 \"\n"
     ]
    },
    {
     "data": {
      "text/html": [
       "<pre style=\"word-wrap: normal;white-space: pre;background: #fff0;line-height: 1.1;font-family: &quot;Courier New&quot;,Courier,monospace\">     ┌───┐ ░         \n",
       "q_0: ┤ X ├─░───■─────\n",
       "     └───┘ ░   │     \n",
       "q_1: ──────░───■─────\n",
       "           ░ ┌─┴─┐┌─┐\n",
       "q_2: ──────░─┤ X ├┤M├\n",
       "           ░ └───┘└╥┘\n",
       "c: 1/══════════════╩═\n",
       "                   0 </pre>"
      ],
      "text/plain": [
       "     ┌───┐ ░         \n",
       "q_0: ┤ X ├─░───■─────\n",
       "     └───┘ ░   │     \n",
       "q_1: ──────░───■─────\n",
       "           ░ ┌─┴─┐┌─┐\n",
       "q_2: ──────░─┤ X ├┤M├\n",
       "           ░ └───┘└╥┘\n",
       "c: 1/══════════════╩═\n",
       "                   0 "
      ]
     },
     "metadata": {},
     "output_type": "display_data"
    },
    {
     "name": "stdout",
     "output_type": "stream",
     "text": [
      "\n",
      "\n",
      "BEFORE:  \" (1, 1) \" -->  AFTER AND gate: \" 1 \"\n"
     ]
    },
    {
     "data": {
      "text/html": [
       "<pre style=\"word-wrap: normal;white-space: pre;background: #fff0;line-height: 1.1;font-family: &quot;Courier New&quot;,Courier,monospace\">     ┌───┐ ░         \n",
       "q_0: ┤ X ├─░───■─────\n",
       "     ├───┤ ░   │     \n",
       "q_1: ┤ X ├─░───■─────\n",
       "     └───┘ ░ ┌─┴─┐┌─┐\n",
       "q_2: ──────░─┤ X ├┤M├\n",
       "           ░ └───┘└╥┘\n",
       "c: 1/══════════════╩═\n",
       "                   0 </pre>"
      ],
      "text/plain": [
       "     ┌───┐ ░         \n",
       "q_0: ┤ X ├─░───■─────\n",
       "     ├───┤ ░   │     \n",
       "q_1: ┤ X ├─░───■─────\n",
       "     └───┘ ░ ┌─┴─┐┌─┐\n",
       "q_2: ──────░─┤ X ├┤M├\n",
       "           ░ └───┘└╥┘\n",
       "c: 1/══════════════╩═\n",
       "                   0 "
      ]
     },
     "metadata": {},
     "output_type": "display_data"
    },
    {
     "name": "stdout",
     "output_type": "stream",
     "text": [
      "\n",
      "\n"
     ]
    }
   ],
   "source": [
    "# Executing all possible results for AND gate\n",
    "# using N qubits as input\n",
    "# THE \"AND_2_4()\" WORKS ONLY FOR N = 2 OR N = 4\n",
    "N = 2\n",
    "combinations = binaryCombinations(N)\n",
    "\n",
    "for comb in combinations: \n",
    "    init_value = comb\n",
    "    output_qc, output_value = AND_2_4(init_value)\n",
    "    print('BEFORE:  \"',init_value,'\" -->  AFTER AND gate: \"',output_value, '\"')\n",
    "    display(output_qc.draw('text'))\n",
    "    print('\\n')"
   ]
  },
  {
   "cell_type": "code",
   "execution_count": 129,
   "id": "24f27f4f-1296-4d27-8d9e-3fc8532cd568",
   "metadata": {
    "tags": []
   },
   "outputs": [
    {
     "name": "stdout",
     "output_type": "stream",
     "text": [
      "BEFORE:  \" (0, 0, 0, 0) \" -->  AFTER AND gate: \" 0 \"\n",
      "BEFORE:  \" (0, 0, 0, 1) \" -->  AFTER AND gate: \" 0 \"\n",
      "BEFORE:  \" (0, 0, 1, 0) \" -->  AFTER AND gate: \" 0 \"\n",
      "BEFORE:  \" (0, 0, 1, 1) \" -->  AFTER AND gate: \" 0 \"\n",
      "BEFORE:  \" (0, 1, 0, 0) \" -->  AFTER AND gate: \" 0 \"\n",
      "BEFORE:  \" (0, 1, 0, 1) \" -->  AFTER AND gate: \" 0 \"\n",
      "BEFORE:  \" (0, 1, 1, 0) \" -->  AFTER AND gate: \" 0 \"\n",
      "BEFORE:  \" (0, 1, 1, 1) \" -->  AFTER AND gate: \" 0 \"\n",
      "BEFORE:  \" (1, 0, 0, 0) \" -->  AFTER AND gate: \" 0 \"\n",
      "BEFORE:  \" (1, 0, 0, 1) \" -->  AFTER AND gate: \" 0 \"\n",
      "BEFORE:  \" (1, 0, 1, 0) \" -->  AFTER AND gate: \" 0 \"\n",
      "BEFORE:  \" (1, 0, 1, 1) \" -->  AFTER AND gate: \" 0 \"\n",
      "BEFORE:  \" (1, 1, 0, 0) \" -->  AFTER AND gate: \" 0 \"\n",
      "BEFORE:  \" (1, 1, 0, 1) \" -->  AFTER AND gate: \" 0 \"\n",
      "BEFORE:  \" (1, 1, 1, 0) \" -->  AFTER AND gate: \" 0 \"\n",
      "BEFORE:  \" (1, 1, 1, 1) \" -->  AFTER AND gate: \" 1 \"\n"
     ]
    }
   ],
   "source": [
    "# Executing all possible results for AND gate\n",
    "# using N qubits as input\n",
    "# THE \"AND_2_4()\" WORKS ONLY FOR N = 2 OR N = 4\n",
    "N = 4\n",
    "combinations = binaryCombinations(N)\n",
    "\n",
    "for comb in combinations: \n",
    "    init_value = comb\n",
    "    output_qc, output_value = AND_2_4(init_value)\n",
    "    print('BEFORE:  \"',init_value,'\" -->  AFTER AND gate: \"',output_value, '\"')\n",
    "    #display(output_qc.draw('text'))\n",
    "    #print('\\n')"
   ]
  },
  {
   "cell_type": "code",
   "execution_count": 130,
   "id": "822d6b2b-a3f0-4d64-8633-d8d930b28b5f",
   "metadata": {
    "tags": []
   },
   "outputs": [],
   "source": [
    "# THE \"AND_3()\" WORKS ONLY FOR N = 3\n",
    "\n",
    "def AND_3(inputs): \n",
    "    # 0. GATE FUNCTIONALITY / LOGIC\n",
    "    # If all inputs are '1', it returns '1'\n",
    "    # If at least one input is '0', it returns '0'\n",
    "    # _________________________________\n",
    "    \n",
    "    # 1. CREATE QUANTUM CIRCUIT\n",
    "    # AND gate needs at least 2 qubits as input line -- more are acceptable. \n",
    "    # For N main inputs, we need an extra qubit to make measurements, \n",
    "    # so we will use N+1 lines of qubits. \n",
    "    # It also needs a classical bit to store measurement result.\n",
    "    count, i = len(inputs), int(len(inputs)/2)\n",
    "    while ( i > 0 ):\n",
    "        count = count + i\n",
    "        i = int(i/2)\n",
    "    if (len(inputs)%2 == 1):\n",
    "        count = count + 1\n",
    "    AND_gate = QuantumCircuit(count,1)\n",
    "    \n",
    "    # 2. INTIALIZE CIRCUIT TO MATCH FUNCTION INPUT\n",
    "    # Due to Qiskit initializing qubits to |0>, \n",
    "    # we need to add an X gate to each input that is '1'\n",
    "    for i in range(len(inputs)):\n",
    "        if (inputs[i] == 1):\n",
    "            AND_gate.x(i)\n",
    "    AND_gate.barrier()\n",
    "\n",
    "    # 3. ADD GATES TO ACHIEVE DESIRED OUTPUT\n",
    "    entagl = [ [0, len(inputs)-1] , [len(inputs), count-2] ] \n",
    "    k = 0\n",
    "    while ( k < len(entagl) ): \n",
    "        ind = 0\n",
    "        for i in range(entagl[k][0], entagl[k][1], 2): \n",
    "            AND_gate.ccx(i,i+1,entagl[k][1]+1+ind)\n",
    "            ind = ind + 1\n",
    "        k = k + 1\n",
    "    AND_gate.ccx(count-3, count-2, count-1)\n",
    "    AND_gate.measure(count-1, 0)\n",
    "    AND_gate.draw()\n",
    "    \n",
    "    # 4. SIMULATE MEASUREMENT AND RETURN RESULTS \n",
    "    simulation = Aer.get_backend('aer_simulator')\n",
    "    experiment = simulation.run(AND_gate, shots=1, memory=True)\n",
    "    output = experiment.result().get_memory()[0]\n",
    "    \n",
    "    return AND_gate, int(output)"
   ]
  },
  {
   "cell_type": "code",
   "execution_count": 131,
   "id": "5314cd4f-7ab9-4a1b-8b87-3b2df78c8a17",
   "metadata": {
    "tags": []
   },
   "outputs": [
    {
     "name": "stdout",
     "output_type": "stream",
     "text": [
      "BEFORE:  \" (0, 0, 0) \" -->  AFTER AND gate: \" 0 \"\n",
      "BEFORE:  \" (0, 0, 1) \" -->  AFTER AND gate: \" 0 \"\n",
      "BEFORE:  \" (0, 1, 0) \" -->  AFTER AND gate: \" 0 \"\n",
      "BEFORE:  \" (0, 1, 1) \" -->  AFTER AND gate: \" 0 \"\n",
      "BEFORE:  \" (1, 0, 0) \" -->  AFTER AND gate: \" 0 \"\n",
      "BEFORE:  \" (1, 0, 1) \" -->  AFTER AND gate: \" 0 \"\n",
      "BEFORE:  \" (1, 1, 0) \" -->  AFTER AND gate: \" 0 \"\n",
      "BEFORE:  \" (1, 1, 1) \" -->  AFTER AND gate: \" 1 \"\n"
     ]
    }
   ],
   "source": [
    "# Executing all possible results for AND gate\n",
    "# using N qubits as input\n",
    "# THE \"AND_3()\" WORKS ONLY FOR N = 3\n",
    "N = 3\n",
    "combinations = binaryCombinations(N)\n",
    "\n",
    "for comb in combinations: \n",
    "    init_value = comb\n",
    "    output_qc, output_value = AND_3(init_value)\n",
    "    print('BEFORE:  \"',init_value,'\" -->  AFTER AND gate: \"',output_value, '\"')\n",
    "    #display(output_qc.draw('text'))\n",
    "    #print('\\n')"
   ]
  },
  {
   "cell_type": "code",
   "execution_count": 132,
   "id": "a406c2ac-c3fc-4e27-9aa0-23fbfa5d8e3f",
   "metadata": {
    "tags": []
   },
   "outputs": [],
   "source": [
    "def AND(inputs): \n",
    "    inpNo = len(inputs)\n",
    "    if (inpNo == 2 or inpNo == 4):\n",
    "        return AND_2_4(inputs)\n",
    "    elif (inpNo == 3): \n",
    "        return AND_3(inputs)\n",
    "    else: \n",
    "        AND_1, output1 = AND(inputs[0:int(inpNo/2)])\n",
    "        AND_2, output2 = AND(inputs[int(inpNo/2):inpNo])\n",
    "        AND_gate, output = AND([int(output1), int(output2)])\n",
    "    \n",
    "    return AND_gate, int(output)"
   ]
  },
  {
   "cell_type": "code",
   "execution_count": 133,
   "id": "a0bad315-a634-4816-8040-bfbb67d90803",
   "metadata": {
    "tags": []
   },
   "outputs": [
    {
     "name": "stdout",
     "output_type": "stream",
     "text": [
      "BEFORE:  \" (0, 0, 0, 0, 0, 0, 0) \" -->  AFTER AND gate: \" 0 \"\n",
      "BEFORE:  \" (0, 0, 0, 0, 0, 0, 1) \" -->  AFTER AND gate: \" 0 \"\n",
      "BEFORE:  \" (0, 0, 0, 0, 0, 1, 0) \" -->  AFTER AND gate: \" 0 \"\n",
      "BEFORE:  \" (0, 0, 0, 0, 0, 1, 1) \" -->  AFTER AND gate: \" 0 \"\n",
      "BEFORE:  \" (0, 0, 0, 0, 1, 0, 0) \" -->  AFTER AND gate: \" 0 \"\n",
      "BEFORE:  \" (0, 0, 0, 0, 1, 0, 1) \" -->  AFTER AND gate: \" 0 \"\n",
      "BEFORE:  \" (0, 0, 0, 0, 1, 1, 0) \" -->  AFTER AND gate: \" 0 \"\n",
      "BEFORE:  \" (0, 0, 0, 0, 1, 1, 1) \" -->  AFTER AND gate: \" 0 \"\n",
      "BEFORE:  \" (0, 0, 0, 1, 0, 0, 0) \" -->  AFTER AND gate: \" 0 \"\n",
      "BEFORE:  \" (0, 0, 0, 1, 0, 0, 1) \" -->  AFTER AND gate: \" 0 \"\n",
      "BEFORE:  \" (0, 0, 0, 1, 0, 1, 0) \" -->  AFTER AND gate: \" 0 \"\n",
      "BEFORE:  \" (0, 0, 0, 1, 0, 1, 1) \" -->  AFTER AND gate: \" 0 \"\n",
      "BEFORE:  \" (0, 0, 0, 1, 1, 0, 0) \" -->  AFTER AND gate: \" 0 \"\n",
      "BEFORE:  \" (0, 0, 0, 1, 1, 0, 1) \" -->  AFTER AND gate: \" 0 \"\n",
      "BEFORE:  \" (0, 0, 0, 1, 1, 1, 0) \" -->  AFTER AND gate: \" 0 \"\n",
      "BEFORE:  \" (0, 0, 0, 1, 1, 1, 1) \" -->  AFTER AND gate: \" 0 \"\n",
      "BEFORE:  \" (0, 0, 1, 0, 0, 0, 0) \" -->  AFTER AND gate: \" 0 \"\n",
      "BEFORE:  \" (0, 0, 1, 0, 0, 0, 1) \" -->  AFTER AND gate: \" 0 \"\n",
      "BEFORE:  \" (0, 0, 1, 0, 0, 1, 0) \" -->  AFTER AND gate: \" 0 \"\n",
      "BEFORE:  \" (0, 0, 1, 0, 0, 1, 1) \" -->  AFTER AND gate: \" 0 \"\n",
      "BEFORE:  \" (0, 0, 1, 0, 1, 0, 0) \" -->  AFTER AND gate: \" 0 \"\n",
      "BEFORE:  \" (0, 0, 1, 0, 1, 0, 1) \" -->  AFTER AND gate: \" 0 \"\n",
      "BEFORE:  \" (0, 0, 1, 0, 1, 1, 0) \" -->  AFTER AND gate: \" 0 \"\n",
      "BEFORE:  \" (0, 0, 1, 0, 1, 1, 1) \" -->  AFTER AND gate: \" 0 \"\n",
      "BEFORE:  \" (0, 0, 1, 1, 0, 0, 0) \" -->  AFTER AND gate: \" 0 \"\n",
      "BEFORE:  \" (0, 0, 1, 1, 0, 0, 1) \" -->  AFTER AND gate: \" 0 \"\n",
      "BEFORE:  \" (0, 0, 1, 1, 0, 1, 0) \" -->  AFTER AND gate: \" 0 \"\n",
      "BEFORE:  \" (0, 0, 1, 1, 0, 1, 1) \" -->  AFTER AND gate: \" 0 \"\n",
      "BEFORE:  \" (0, 0, 1, 1, 1, 0, 0) \" -->  AFTER AND gate: \" 0 \"\n",
      "BEFORE:  \" (0, 0, 1, 1, 1, 0, 1) \" -->  AFTER AND gate: \" 0 \"\n",
      "BEFORE:  \" (0, 0, 1, 1, 1, 1, 0) \" -->  AFTER AND gate: \" 0 \"\n",
      "BEFORE:  \" (0, 0, 1, 1, 1, 1, 1) \" -->  AFTER AND gate: \" 0 \"\n",
      "BEFORE:  \" (0, 1, 0, 0, 0, 0, 0) \" -->  AFTER AND gate: \" 0 \"\n",
      "BEFORE:  \" (0, 1, 0, 0, 0, 0, 1) \" -->  AFTER AND gate: \" 0 \"\n",
      "BEFORE:  \" (0, 1, 0, 0, 0, 1, 0) \" -->  AFTER AND gate: \" 0 \"\n",
      "BEFORE:  \" (0, 1, 0, 0, 0, 1, 1) \" -->  AFTER AND gate: \" 0 \"\n",
      "BEFORE:  \" (0, 1, 0, 0, 1, 0, 0) \" -->  AFTER AND gate: \" 0 \"\n",
      "BEFORE:  \" (0, 1, 0, 0, 1, 0, 1) \" -->  AFTER AND gate: \" 0 \"\n",
      "BEFORE:  \" (0, 1, 0, 0, 1, 1, 0) \" -->  AFTER AND gate: \" 0 \"\n",
      "BEFORE:  \" (0, 1, 0, 0, 1, 1, 1) \" -->  AFTER AND gate: \" 0 \"\n",
      "BEFORE:  \" (0, 1, 0, 1, 0, 0, 0) \" -->  AFTER AND gate: \" 0 \"\n",
      "BEFORE:  \" (0, 1, 0, 1, 0, 0, 1) \" -->  AFTER AND gate: \" 0 \"\n",
      "BEFORE:  \" (0, 1, 0, 1, 0, 1, 0) \" -->  AFTER AND gate: \" 0 \"\n",
      "BEFORE:  \" (0, 1, 0, 1, 0, 1, 1) \" -->  AFTER AND gate: \" 0 \"\n",
      "BEFORE:  \" (0, 1, 0, 1, 1, 0, 0) \" -->  AFTER AND gate: \" 0 \"\n",
      "BEFORE:  \" (0, 1, 0, 1, 1, 0, 1) \" -->  AFTER AND gate: \" 0 \"\n",
      "BEFORE:  \" (0, 1, 0, 1, 1, 1, 0) \" -->  AFTER AND gate: \" 0 \"\n",
      "BEFORE:  \" (0, 1, 0, 1, 1, 1, 1) \" -->  AFTER AND gate: \" 0 \"\n",
      "BEFORE:  \" (0, 1, 1, 0, 0, 0, 0) \" -->  AFTER AND gate: \" 0 \"\n",
      "BEFORE:  \" (0, 1, 1, 0, 0, 0, 1) \" -->  AFTER AND gate: \" 0 \"\n",
      "BEFORE:  \" (0, 1, 1, 0, 0, 1, 0) \" -->  AFTER AND gate: \" 0 \"\n",
      "BEFORE:  \" (0, 1, 1, 0, 0, 1, 1) \" -->  AFTER AND gate: \" 0 \"\n",
      "BEFORE:  \" (0, 1, 1, 0, 1, 0, 0) \" -->  AFTER AND gate: \" 0 \"\n",
      "BEFORE:  \" (0, 1, 1, 0, 1, 0, 1) \" -->  AFTER AND gate: \" 0 \"\n",
      "BEFORE:  \" (0, 1, 1, 0, 1, 1, 0) \" -->  AFTER AND gate: \" 0 \"\n",
      "BEFORE:  \" (0, 1, 1, 0, 1, 1, 1) \" -->  AFTER AND gate: \" 0 \"\n",
      "BEFORE:  \" (0, 1, 1, 1, 0, 0, 0) \" -->  AFTER AND gate: \" 0 \"\n",
      "BEFORE:  \" (0, 1, 1, 1, 0, 0, 1) \" -->  AFTER AND gate: \" 0 \"\n",
      "BEFORE:  \" (0, 1, 1, 1, 0, 1, 0) \" -->  AFTER AND gate: \" 0 \"\n",
      "BEFORE:  \" (0, 1, 1, 1, 0, 1, 1) \" -->  AFTER AND gate: \" 0 \"\n",
      "BEFORE:  \" (0, 1, 1, 1, 1, 0, 0) \" -->  AFTER AND gate: \" 0 \"\n",
      "BEFORE:  \" (0, 1, 1, 1, 1, 0, 1) \" -->  AFTER AND gate: \" 0 \"\n",
      "BEFORE:  \" (0, 1, 1, 1, 1, 1, 0) \" -->  AFTER AND gate: \" 0 \"\n",
      "BEFORE:  \" (0, 1, 1, 1, 1, 1, 1) \" -->  AFTER AND gate: \" 0 \"\n",
      "BEFORE:  \" (1, 0, 0, 0, 0, 0, 0) \" -->  AFTER AND gate: \" 0 \"\n",
      "BEFORE:  \" (1, 0, 0, 0, 0, 0, 1) \" -->  AFTER AND gate: \" 0 \"\n",
      "BEFORE:  \" (1, 0, 0, 0, 0, 1, 0) \" -->  AFTER AND gate: \" 0 \"\n",
      "BEFORE:  \" (1, 0, 0, 0, 0, 1, 1) \" -->  AFTER AND gate: \" 0 \"\n",
      "BEFORE:  \" (1, 0, 0, 0, 1, 0, 0) \" -->  AFTER AND gate: \" 0 \"\n",
      "BEFORE:  \" (1, 0, 0, 0, 1, 0, 1) \" -->  AFTER AND gate: \" 0 \"\n",
      "BEFORE:  \" (1, 0, 0, 0, 1, 1, 0) \" -->  AFTER AND gate: \" 0 \"\n",
      "BEFORE:  \" (1, 0, 0, 0, 1, 1, 1) \" -->  AFTER AND gate: \" 0 \"\n",
      "BEFORE:  \" (1, 0, 0, 1, 0, 0, 0) \" -->  AFTER AND gate: \" 0 \"\n",
      "BEFORE:  \" (1, 0, 0, 1, 0, 0, 1) \" -->  AFTER AND gate: \" 0 \"\n",
      "BEFORE:  \" (1, 0, 0, 1, 0, 1, 0) \" -->  AFTER AND gate: \" 0 \"\n",
      "BEFORE:  \" (1, 0, 0, 1, 0, 1, 1) \" -->  AFTER AND gate: \" 0 \"\n",
      "BEFORE:  \" (1, 0, 0, 1, 1, 0, 0) \" -->  AFTER AND gate: \" 0 \"\n",
      "BEFORE:  \" (1, 0, 0, 1, 1, 0, 1) \" -->  AFTER AND gate: \" 0 \"\n",
      "BEFORE:  \" (1, 0, 0, 1, 1, 1, 0) \" -->  AFTER AND gate: \" 0 \"\n",
      "BEFORE:  \" (1, 0, 0, 1, 1, 1, 1) \" -->  AFTER AND gate: \" 0 \"\n",
      "BEFORE:  \" (1, 0, 1, 0, 0, 0, 0) \" -->  AFTER AND gate: \" 0 \"\n",
      "BEFORE:  \" (1, 0, 1, 0, 0, 0, 1) \" -->  AFTER AND gate: \" 0 \"\n",
      "BEFORE:  \" (1, 0, 1, 0, 0, 1, 0) \" -->  AFTER AND gate: \" 0 \"\n",
      "BEFORE:  \" (1, 0, 1, 0, 0, 1, 1) \" -->  AFTER AND gate: \" 0 \"\n",
      "BEFORE:  \" (1, 0, 1, 0, 1, 0, 0) \" -->  AFTER AND gate: \" 0 \"\n",
      "BEFORE:  \" (1, 0, 1, 0, 1, 0, 1) \" -->  AFTER AND gate: \" 0 \"\n",
      "BEFORE:  \" (1, 0, 1, 0, 1, 1, 0) \" -->  AFTER AND gate: \" 0 \"\n",
      "BEFORE:  \" (1, 0, 1, 0, 1, 1, 1) \" -->  AFTER AND gate: \" 0 \"\n",
      "BEFORE:  \" (1, 0, 1, 1, 0, 0, 0) \" -->  AFTER AND gate: \" 0 \"\n",
      "BEFORE:  \" (1, 0, 1, 1, 0, 0, 1) \" -->  AFTER AND gate: \" 0 \"\n",
      "BEFORE:  \" (1, 0, 1, 1, 0, 1, 0) \" -->  AFTER AND gate: \" 0 \"\n",
      "BEFORE:  \" (1, 0, 1, 1, 0, 1, 1) \" -->  AFTER AND gate: \" 0 \"\n",
      "BEFORE:  \" (1, 0, 1, 1, 1, 0, 0) \" -->  AFTER AND gate: \" 0 \"\n",
      "BEFORE:  \" (1, 0, 1, 1, 1, 0, 1) \" -->  AFTER AND gate: \" 0 \"\n",
      "BEFORE:  \" (1, 0, 1, 1, 1, 1, 0) \" -->  AFTER AND gate: \" 0 \"\n",
      "BEFORE:  \" (1, 0, 1, 1, 1, 1, 1) \" -->  AFTER AND gate: \" 0 \"\n",
      "BEFORE:  \" (1, 1, 0, 0, 0, 0, 0) \" -->  AFTER AND gate: \" 0 \"\n",
      "BEFORE:  \" (1, 1, 0, 0, 0, 0, 1) \" -->  AFTER AND gate: \" 0 \"\n",
      "BEFORE:  \" (1, 1, 0, 0, 0, 1, 0) \" -->  AFTER AND gate: \" 0 \"\n",
      "BEFORE:  \" (1, 1, 0, 0, 0, 1, 1) \" -->  AFTER AND gate: \" 0 \"\n",
      "BEFORE:  \" (1, 1, 0, 0, 1, 0, 0) \" -->  AFTER AND gate: \" 0 \"\n",
      "BEFORE:  \" (1, 1, 0, 0, 1, 0, 1) \" -->  AFTER AND gate: \" 0 \"\n",
      "BEFORE:  \" (1, 1, 0, 0, 1, 1, 0) \" -->  AFTER AND gate: \" 0 \"\n",
      "BEFORE:  \" (1, 1, 0, 0, 1, 1, 1) \" -->  AFTER AND gate: \" 0 \"\n",
      "BEFORE:  \" (1, 1, 0, 1, 0, 0, 0) \" -->  AFTER AND gate: \" 0 \"\n",
      "BEFORE:  \" (1, 1, 0, 1, 0, 0, 1) \" -->  AFTER AND gate: \" 0 \"\n",
      "BEFORE:  \" (1, 1, 0, 1, 0, 1, 0) \" -->  AFTER AND gate: \" 0 \"\n",
      "BEFORE:  \" (1, 1, 0, 1, 0, 1, 1) \" -->  AFTER AND gate: \" 0 \"\n",
      "BEFORE:  \" (1, 1, 0, 1, 1, 0, 0) \" -->  AFTER AND gate: \" 0 \"\n",
      "BEFORE:  \" (1, 1, 0, 1, 1, 0, 1) \" -->  AFTER AND gate: \" 0 \"\n",
      "BEFORE:  \" (1, 1, 0, 1, 1, 1, 0) \" -->  AFTER AND gate: \" 0 \"\n",
      "BEFORE:  \" (1, 1, 0, 1, 1, 1, 1) \" -->  AFTER AND gate: \" 0 \"\n",
      "BEFORE:  \" (1, 1, 1, 0, 0, 0, 0) \" -->  AFTER AND gate: \" 0 \"\n",
      "BEFORE:  \" (1, 1, 1, 0, 0, 0, 1) \" -->  AFTER AND gate: \" 0 \"\n",
      "BEFORE:  \" (1, 1, 1, 0, 0, 1, 0) \" -->  AFTER AND gate: \" 0 \"\n",
      "BEFORE:  \" (1, 1, 1, 0, 0, 1, 1) \" -->  AFTER AND gate: \" 0 \"\n",
      "BEFORE:  \" (1, 1, 1, 0, 1, 0, 0) \" -->  AFTER AND gate: \" 0 \"\n",
      "BEFORE:  \" (1, 1, 1, 0, 1, 0, 1) \" -->  AFTER AND gate: \" 0 \"\n",
      "BEFORE:  \" (1, 1, 1, 0, 1, 1, 0) \" -->  AFTER AND gate: \" 0 \"\n",
      "BEFORE:  \" (1, 1, 1, 0, 1, 1, 1) \" -->  AFTER AND gate: \" 0 \"\n",
      "BEFORE:  \" (1, 1, 1, 1, 0, 0, 0) \" -->  AFTER AND gate: \" 0 \"\n",
      "BEFORE:  \" (1, 1, 1, 1, 0, 0, 1) \" -->  AFTER AND gate: \" 0 \"\n",
      "BEFORE:  \" (1, 1, 1, 1, 0, 1, 0) \" -->  AFTER AND gate: \" 0 \"\n",
      "BEFORE:  \" (1, 1, 1, 1, 0, 1, 1) \" -->  AFTER AND gate: \" 0 \"\n",
      "BEFORE:  \" (1, 1, 1, 1, 1, 0, 0) \" -->  AFTER AND gate: \" 0 \"\n",
      "BEFORE:  \" (1, 1, 1, 1, 1, 0, 1) \" -->  AFTER AND gate: \" 0 \"\n",
      "BEFORE:  \" (1, 1, 1, 1, 1, 1, 0) \" -->  AFTER AND gate: \" 0 \"\n",
      "BEFORE:  \" (1, 1, 1, 1, 1, 1, 1) \" -->  AFTER AND gate: \" 1 \"\n"
     ]
    }
   ],
   "source": [
    "# Executing all possible results for AND gate\n",
    "# using N qubits as input\n",
    "# WORKS FOR N = 2, 3, 4, 5, 6, 7, ...\n",
    "\n",
    "N = 7\n",
    "combinations = binaryCombinations(N)\n",
    "no = len(combinations)\n",
    "\n",
    "for comb in combinations: \n",
    "    init_value = comb\n",
    "    output_qc, output_value = AND(init_value)\n",
    "    print('BEFORE:  \"',init_value,'\" -->  AFTER AND gate: \"',output_value, '\"')\n",
    "    #display(output_qc.draw('text'))\n",
    "    #print('\\n')"
   ]
  },
  {
   "cell_type": "code",
   "execution_count": null,
   "id": "35eeb3f2-1128-4f94-b25b-c84595c15362",
   "metadata": {
    "tags": []
   },
   "outputs": [
    {
     "name": "stdout",
     "output_type": "stream",
     "text": [
      "For N =  8 , show ONLY input combinations that return 1 as output\n"
     ]
    }
   ],
   "source": [
    "# Executing all possible results for AND gate\n",
    "# using N qubits as input\n",
    "# WORKS FOR N = 2, 3, 4, 5, 6, 7, 8 ...\n",
    "\n",
    "N = 8\n",
    "combinations = binaryCombinations(N)\n",
    "no = len(combinations)\n",
    "\n",
    "print (\"For N = \", N, \", show ONLY input combinations that return 1 as output\")\n",
    "for comb in combinations: \n",
    "    init_value = comb\n",
    "    output_qc, output_value = AND(init_value)\n",
    "    if ( output_value == 1): \n",
    "        print('BEFORE:  \"',init_value,'\" -->  AFTER AND gate: \"',output_value, '\"')\n",
    "    #display(output_qc.draw('text'))\n",
    "    #print('\\n')"
   ]
  }
 ],
 "metadata": {
  "kernelspec": {
   "display_name": "Python 3 (ipykernel)",
   "language": "python",
   "name": "python3"
  },
  "language_info": {
   "codemirror_mode": {
    "name": "ipython",
    "version": 3
   },
   "file_extension": ".py",
   "mimetype": "text/x-python",
   "name": "python",
   "nbconvert_exporter": "python",
   "pygments_lexer": "ipython3",
   "version": "3.10.8"
  },
  "widgets": {
   "application/vnd.jupyter.widget-state+json": {
    "state": {
     "04300179cb3f4796b6ba4ad582b83c5e": {
      "model_module": "@jupyter-widgets/controls",
      "model_module_version": "2.0.0",
      "model_name": "HTMLStyleModel",
      "state": {
       "description_width": "",
       "font_size": null,
       "text_color": null
      }
     },
     "0a412ccc581c4e719de93c5d872bd90a": {
      "model_module": "@jupyter-widgets/base",
      "model_module_version": "2.0.0",
      "model_name": "LayoutModel",
      "state": {}
     },
     "13ae0068b2d841249764e2dc366910cf": {
      "model_module": "@jupyter-widgets/controls",
      "model_module_version": "2.0.0",
      "model_name": "HTMLModel",
      "state": {
       "layout": "IPY_MODEL_5cd292bc85744e9a949e959479fdf7c4",
       "style": "IPY_MODEL_c7f7dc3141d74ceb93cd12be05e70b61",
       "value": "<h5>Backend</h5>"
      }
     },
     "1498b688bc6e41e7aaffaff686f61ee8": {
      "model_module": "@jupyter-widgets/base",
      "model_module_version": "2.0.0",
      "model_name": "LayoutModel",
      "state": {
       "width": "70px"
      }
     },
     "2dfad5b1cf2b49588b946865f174f72c": {
      "model_module": "@jupyter-widgets/controls",
      "model_module_version": "2.0.0",
      "model_name": "HBoxModel",
      "state": {
       "children": [
        "IPY_MODEL_3ab847c316ff4d1f90e865f193c17cc0",
        "IPY_MODEL_13ae0068b2d841249764e2dc366910cf",
        "IPY_MODEL_4b1aec26438e428b8afbe47fd0b0a697",
        "IPY_MODEL_48638d13c8ae4e629cbbabb36688d075",
        "IPY_MODEL_ecbc68799b0143c5a00b2238214c4d0c"
       ],
       "layout": "IPY_MODEL_633fa6c843904843b313a4d86e396b63"
      }
     },
     "31045c87966f4604bcaf17bee68179cb": {
      "model_module": "@jupyter-widgets/controls",
      "model_module_version": "2.0.0",
      "model_name": "GridBoxModel",
      "state": {
       "children": [
        "IPY_MODEL_e7420f26a5264eaa9e7a519b55ff10b2"
       ],
       "layout": "IPY_MODEL_dbcb8bcb31844c04985bdfabb1bd6edb"
      }
     },
     "362df6007d394ce7ba2eb1494796e1cb": {
      "model_module": "@jupyter-widgets/base",
      "model_module_version": "2.0.0",
      "model_name": "LayoutModel",
      "state": {
       "width": "95px"
      }
     },
     "3ab847c316ff4d1f90e865f193c17cc0": {
      "model_module": "@jupyter-widgets/controls",
      "model_module_version": "2.0.0",
      "model_name": "HTMLModel",
      "state": {
       "layout": "IPY_MODEL_e234fac234bc4ae38092bb10b88cd5b3",
       "style": "IPY_MODEL_b7aacf0d75aa40fbbb38c6b391cfba33",
       "value": "<h5>Job ID</h5>"
      }
     },
     "40431213b60340c1978195689370b85a": {
      "model_module": "@jupyter-widgets/controls",
      "model_module_version": "2.0.0",
      "model_name": "HTMLModel",
      "state": {
       "layout": "IPY_MODEL_67a2bd087e6d412eb67145f49ca299b1",
       "style": "IPY_MODEL_dfa45277fb4c46f19000b7a55eaabb36",
       "value": "<p style='font-family: IBM Plex Sans, Arial, Helvetica, sans-serif; font-size: 20px; font-weight: medium;'>Circuit Properties</p>"
      }
     },
     "41d49239bd8742d2ae14e6e773f3909e": {
      "model_module": "@jupyter-widgets/controls",
      "model_module_version": "2.0.0",
      "model_name": "HTMLStyleModel",
      "state": {
       "description_width": "",
       "font_size": null,
       "text_color": null
      }
     },
     "48638d13c8ae4e629cbbabb36688d075": {
      "model_module": "@jupyter-widgets/controls",
      "model_module_version": "2.0.0",
      "model_name": "HTMLModel",
      "state": {
       "layout": "IPY_MODEL_1498b688bc6e41e7aaffaff686f61ee8",
       "style": "IPY_MODEL_04300179cb3f4796b6ba4ad582b83c5e",
       "value": "<h5>Queue</h5>"
      }
     },
     "4b1aec26438e428b8afbe47fd0b0a697": {
      "model_module": "@jupyter-widgets/controls",
      "model_module_version": "2.0.0",
      "model_name": "HTMLModel",
      "state": {
       "layout": "IPY_MODEL_362df6007d394ce7ba2eb1494796e1cb",
       "style": "IPY_MODEL_41d49239bd8742d2ae14e6e773f3909e",
       "value": "<h5>Status</h5>"
      }
     },
     "5cd292bc85744e9a949e959479fdf7c4": {
      "model_module": "@jupyter-widgets/base",
      "model_module_version": "2.0.0",
      "model_name": "LayoutModel",
      "state": {
       "width": "145px"
      }
     },
     "633fa6c843904843b313a4d86e396b63": {
      "model_module": "@jupyter-widgets/base",
      "model_module_version": "2.0.0",
      "model_name": "LayoutModel",
      "state": {
       "margin": "0px 0px 0px 37px",
       "width": "600px"
      }
     },
     "67a2bd087e6d412eb67145f49ca299b1": {
      "model_module": "@jupyter-widgets/base",
      "model_module_version": "2.0.0",
      "model_name": "LayoutModel",
      "state": {
       "margin": "0px 0px 10px 0px"
      }
     },
     "7d4fcb34863f44639905306ef6541a85": {
      "model_module": "@jupyter-widgets/controls",
      "model_module_version": "2.0.0",
      "model_name": "ButtonStyleModel",
      "state": {
       "font_family": null,
       "font_size": null,
       "font_style": null,
       "font_variant": null,
       "font_weight": null,
       "text_color": null,
       "text_decoration": null
      }
     },
     "80b41afd858f40908777b3d5acb0c618": {
      "model_module": "@jupyter-widgets/base",
      "model_module_version": "2.0.0",
      "model_name": "LayoutModel",
      "state": {
       "grid_area": "right",
       "padding": "0px 0px 0px 0px",
       "width": "70px"
      }
     },
     "85c39a64fa224859bbacaf10f82d25a2": {
      "model_module": "@jupyter-widgets/controls",
      "model_module_version": "2.0.0",
      "model_name": "HTMLStyleModel",
      "state": {
       "description_width": "",
       "font_size": null,
       "text_color": null
      }
     },
     "b7aacf0d75aa40fbbb38c6b391cfba33": {
      "model_module": "@jupyter-widgets/controls",
      "model_module_version": "2.0.0",
      "model_name": "HTMLStyleModel",
      "state": {
       "description_width": "",
       "font_size": null,
       "text_color": null
      }
     },
     "c7f7dc3141d74ceb93cd12be05e70b61": {
      "model_module": "@jupyter-widgets/controls",
      "model_module_version": "2.0.0",
      "model_name": "HTMLStyleModel",
      "state": {
       "description_width": "",
       "font_size": null,
       "text_color": null
      }
     },
     "dbcb8bcb31844c04985bdfabb1bd6edb": {
      "model_module": "@jupyter-widgets/base",
      "model_module_version": "2.0.0",
      "model_name": "LayoutModel",
      "state": {
       "grid_template_areas": "\n                                       \". . . . right \"\n                                        ",
       "grid_template_columns": "20% 20% 20% 20% 20%",
       "width": "100%"
      }
     },
     "dfa45277fb4c46f19000b7a55eaabb36": {
      "model_module": "@jupyter-widgets/controls",
      "model_module_version": "2.0.0",
      "model_name": "HTMLStyleModel",
      "state": {
       "description_width": "",
       "font_size": null,
       "text_color": null
      }
     },
     "e234fac234bc4ae38092bb10b88cd5b3": {
      "model_module": "@jupyter-widgets/base",
      "model_module_version": "2.0.0",
      "model_name": "LayoutModel",
      "state": {
       "width": "190px"
      }
     },
     "e7420f26a5264eaa9e7a519b55ff10b2": {
      "model_module": "@jupyter-widgets/controls",
      "model_module_version": "2.0.0",
      "model_name": "ButtonModel",
      "state": {
       "button_style": "primary",
       "description": "Clear",
       "layout": "IPY_MODEL_80b41afd858f40908777b3d5acb0c618",
       "style": "IPY_MODEL_7d4fcb34863f44639905306ef6541a85",
       "tooltip": null
      }
     },
     "ecbc68799b0143c5a00b2238214c4d0c": {
      "model_module": "@jupyter-widgets/controls",
      "model_module_version": "2.0.0",
      "model_name": "HTMLModel",
      "state": {
       "layout": "IPY_MODEL_0a412ccc581c4e719de93c5d872bd90a",
       "style": "IPY_MODEL_85c39a64fa224859bbacaf10f82d25a2",
       "value": "<h5>Message</h5>"
      }
     }
    },
    "version_major": 2,
    "version_minor": 0
   }
  }
 },
 "nbformat": 4,
 "nbformat_minor": 5
}
