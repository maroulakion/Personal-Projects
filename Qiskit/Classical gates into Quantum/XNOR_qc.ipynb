{
 "cells": [
  {
   "cell_type": "code",
   "execution_count": 2,
   "id": "e42ae01a-f64d-4e31-91da-083a13e2ca42",
   "metadata": {},
   "outputs": [],
   "source": [
    "# Importing standard Qiskit libraries\n",
    "from qiskit import QuantumCircuit, transpile\n",
    "from qiskit.tools.jupyter import *\n",
    "from qiskit.visualization import *\n",
    "from ibm_quantum_widgets import *\n",
    "\n",
    "# qiskit-ibmq-provider has been deprecated.\n",
    "# Please see the Migration Guides in https://ibm.biz/provider_migration_guide for more detail.\n",
    "from qiskit_ibm_runtime import QiskitRuntimeService, Sampler, Estimator, Session, Options\n",
    "\n",
    "import numpy as np\n",
    "\n",
    "# Importing standard Qiskit libraries\n",
    "from qiskit import QuantumCircuit, transpile, Aer, IBMQ\n",
    "from ibm_quantum_widgets import *\n",
    "from qiskit.providers.aer import QasmSimulator\n",
    "\n",
    "# Loading your IBM Quantum account(s)\n",
    "service = QiskitRuntimeService(channel=\"ibm_quantum\")\n",
    "\n",
    "# Invoke a primitive. For more details see https://qiskit.org/documentation/partners/qiskit_ibm_runtime/tutorials.html\n",
    "# result = Sampler(\"ibmq_qasm_simulator\").run(circuits).result()g standard Qiskit libraries\n",
    "from qiskit import QuantumCircuit, transpile\n",
    "from qiskit.tools.jupyter import *\n",
    "from qiskit.visualization import *\n",
    "from ibm_quantum_widgets import *\n",
    "\n",
    "# qiskit-ibmq-provider has been deprecated.\n",
    "# Please see the Migration Guides in https://ibm.biz/provider_migration_guide for more detail.\n",
    "from qiskit_ibm_runtime import QiskitRuntimeService, Sampler, Estimator, Session, Options\n",
    "\n",
    "# Loading your IBM Quantum account(s)\n",
    "service = QiskitRuntimeService(channel=\"ibm_quantum\")\n",
    "\n",
    "# Invoke a primitive. For more details see https://qiskit.org/documentation/partners/qiskit_ibm_runtime/tutorials.html\n",
    "# result = Sampler(\"ibmq_qasm_simulator\").run(circuits).result()"
   ]
  },
  {
   "cell_type": "markdown",
   "id": "136f5e38-aafe-4d45-b1aa-bce313589cdc",
   "metadata": {},
   "source": [
    "## NOTE (1) \n",
    "Run the piece of code bellow to: <br>\n",
    "-> produce a list of characters out of a string <br>\n",
    "-> produce all possible results of binary combinations"
   ]
  },
  {
   "cell_type": "code",
   "execution_count": 3,
   "id": "447f3060-4a9d-493d-bbde-9539ad08988d",
   "metadata": {
    "tags": []
   },
   "outputs": [],
   "source": [
    "# Code imported form \n",
    "# https://stackoverflow.com/questions/14931769/how-to-get-all-combination-of-n-binary-value\n",
    "import itertools\n",
    "def binaryCombinations(N): \n",
    "    lst = list(itertools.product([0, 1], repeat=N))\n",
    "    return lst"
   ]
  },
  {
   "cell_type": "markdown",
   "id": "5d5e6cbf-74df-4cd6-b569-afa8c7d0199c",
   "metadata": {},
   "source": [
    "## NOTE (2)\n",
    "### Code explanation about **storing measurements** : \n",
    "\n",
    "~~~ \n",
    "    simulation = Aer.get_backend('aer_simulator')\n",
    "    experiment = simulation.run( circuit_name , shots = N, memory = True )\n",
    "    output = experiment.result().get_memory()[ i ] \n",
    "    \n",
    "    # usually with N = 1, i = 0\n",
    "~~~\n",
    "\n",
    "<br>First, by\n",
    "~~~ \n",
    "    simulation = Aer.get_backend('aer_simulator')\n",
    "~~~\n",
    "we connect our backend to the Aer simulator in Qiskit, in order to simulate quantum circuits. <br>\n",
    "Then, with the command\n",
    "~~~ \n",
    "    experiment = simulation.run( circuit_name , shots = N, memory = True )\n",
    "~~~\n",
    "we are executing N experiments running our circuit. It is important to set as True the last parameter, refering to memory. This creates an array of N positions, each one of them saving an experiment execution. <br>\n",
    "Lastly, we use the command \n",
    "~~~ \n",
    "    output = experiment.result().get_memory()[ i ] \n",
    "~~~\n",
    "to access measurement result of execution No. (i+1), which is stored in the i-th position of the (zero-based) array. "
   ]
  },
  {
   "cell_type": "code",
   "execution_count": 20,
   "id": "d055e17f-9783-4f77-9457-bec7b39202a4",
   "metadata": {
    "tags": []
   },
   "outputs": [],
   "source": [
    "def XNOR(inputs): \n",
    "    # 0. GATE FUNCTIONALITY / LOGIC\n",
    "    # If the number of inputs that are '1' is odd, it returns '0'\n",
    "    # If the number of inputs that are '1' is even, it returns '1'\n",
    "    # _________________________________\n",
    "    \n",
    "    # 1. CREATE QUANTUM CIRCUIT\n",
    "    # XOR gate needs at least 2 qubits as input line. \n",
    "    # More are acceptable. \n",
    "    # It also needs a classical bit to store measurement result.\n",
    "    XNOR_gate = QuantumCircuit(len(inputs),1)\n",
    "    \n",
    "    # 2. INTIALIZE CIRCUIT TO MATCH FUNCTION INPUT\n",
    "    # Due to Qiskit initializing qubits to |0>, \n",
    "    # we need to add an X gate to each input that is '1'\n",
    "    for i in range(len(inputs)):\n",
    "        if (inputs[i] == 1):\n",
    "            XNOR_gate.x(i)\n",
    "    XNOR_gate.barrier()\n",
    "    \n",
    "    # 3. ADD GATES TO ACHIEVE DESIRED OUTPUT\n",
    "    for i in range(len(inputs)-1): \n",
    "        XNOR_gate.cx(i,i+1)\n",
    "    XNOR_gate.x(len(inputs)-1)\n",
    "    XNOR_gate.measure(len(inputs)-1, 0)\n",
    "    XNOR_gate.draw()\n",
    "    \n",
    "    # 4. SIMULATE MEASUREMENT AND RETURN RESULTS \n",
    "    simulation = Aer.get_backend('aer_simulator')\n",
    "    experiment = simulation.run(XNOR_gate, shots=1, memory=True)\n",
    "    output = experiment.result().get_memory()[0]\n",
    "    \n",
    "    return XNOR_gate, int(output)"
   ]
  },
  {
   "cell_type": "code",
   "execution_count": 5,
   "id": "e09f8573-b6a1-43dc-99ef-0f889865a14f",
   "metadata": {
    "tags": []
   },
   "outputs": [
    {
     "name": "stdout",
     "output_type": "stream",
     "text": [
      "BEFORE:  \" (0, 0, 0) \" -->  AFTER XNOR gate: \" 1 \"\n"
     ]
    },
    {
     "data": {
      "text/html": [
       "<pre style=\"word-wrap: normal;white-space: pre;background: #fff0;line-height: 1.1;font-family: &quot;Courier New&quot;,Courier,monospace\">      ░                   \n",
       "q_0: ─░───■───────────────\n",
       "      ░ ┌─┴─┐             \n",
       "q_1: ─░─┤ X ├──■──────────\n",
       "      ░ └───┘┌─┴─┐┌───┐┌─┐\n",
       "q_2: ─░──────┤ X ├┤ X ├┤M├\n",
       "      ░      └───┘└───┘└╥┘\n",
       "c: 1/═══════════════════╩═\n",
       "                        0 </pre>"
      ],
      "text/plain": [
       "      ░                   \n",
       "q_0: ─░───■───────────────\n",
       "      ░ ┌─┴─┐             \n",
       "q_1: ─░─┤ X ├──■──────────\n",
       "      ░ └───┘┌─┴─┐┌───┐┌─┐\n",
       "q_2: ─░──────┤ X ├┤ X ├┤M├\n",
       "      ░      └───┘└───┘└╥┘\n",
       "c: 1/═══════════════════╩═\n",
       "                        0 "
      ]
     },
     "metadata": {},
     "output_type": "display_data"
    },
    {
     "name": "stdout",
     "output_type": "stream",
     "text": [
      "\n",
      "\n",
      "BEFORE:  \" (0, 0, 1) \" -->  AFTER XNOR gate: \" 0 \"\n"
     ]
    },
    {
     "data": {
      "text/html": [
       "<pre style=\"word-wrap: normal;white-space: pre;background: #fff0;line-height: 1.1;font-family: &quot;Courier New&quot;,Courier,monospace\">           ░                   \n",
       "q_0: ──────░───■───────────────\n",
       "           ░ ┌─┴─┐             \n",
       "q_1: ──────░─┤ X ├──■──────────\n",
       "     ┌───┐ ░ └───┘┌─┴─┐┌───┐┌─┐\n",
       "q_2: ┤ X ├─░──────┤ X ├┤ X ├┤M├\n",
       "     └───┘ ░      └───┘└───┘└╥┘\n",
       "c: 1/════════════════════════╩═\n",
       "                             0 </pre>"
      ],
      "text/plain": [
       "           ░                   \n",
       "q_0: ──────░───■───────────────\n",
       "           ░ ┌─┴─┐             \n",
       "q_1: ──────░─┤ X ├──■──────────\n",
       "     ┌───┐ ░ └───┘┌─┴─┐┌───┐┌─┐\n",
       "q_2: ┤ X ├─░──────┤ X ├┤ X ├┤M├\n",
       "     └───┘ ░      └───┘└───┘└╥┘\n",
       "c: 1/════════════════════════╩═\n",
       "                             0 "
      ]
     },
     "metadata": {},
     "output_type": "display_data"
    },
    {
     "name": "stdout",
     "output_type": "stream",
     "text": [
      "\n",
      "\n",
      "BEFORE:  \" (0, 1, 0) \" -->  AFTER XNOR gate: \" 0 \"\n"
     ]
    },
    {
     "data": {
      "text/html": [
       "<pre style=\"word-wrap: normal;white-space: pre;background: #fff0;line-height: 1.1;font-family: &quot;Courier New&quot;,Courier,monospace\">           ░                   \n",
       "q_0: ──────░───■───────────────\n",
       "     ┌───┐ ░ ┌─┴─┐             \n",
       "q_1: ┤ X ├─░─┤ X ├──■──────────\n",
       "     └───┘ ░ └───┘┌─┴─┐┌───┐┌─┐\n",
       "q_2: ──────░──────┤ X ├┤ X ├┤M├\n",
       "           ░      └───┘└───┘└╥┘\n",
       "c: 1/════════════════════════╩═\n",
       "                             0 </pre>"
      ],
      "text/plain": [
       "           ░                   \n",
       "q_0: ──────░───■───────────────\n",
       "     ┌───┐ ░ ┌─┴─┐             \n",
       "q_1: ┤ X ├─░─┤ X ├──■──────────\n",
       "     └───┘ ░ └───┘┌─┴─┐┌───┐┌─┐\n",
       "q_2: ──────░──────┤ X ├┤ X ├┤M├\n",
       "           ░      └───┘└───┘└╥┘\n",
       "c: 1/════════════════════════╩═\n",
       "                             0 "
      ]
     },
     "metadata": {},
     "output_type": "display_data"
    },
    {
     "name": "stdout",
     "output_type": "stream",
     "text": [
      "\n",
      "\n",
      "BEFORE:  \" (0, 1, 1) \" -->  AFTER XNOR gate: \" 1 \"\n"
     ]
    },
    {
     "data": {
      "text/html": [
       "<pre style=\"word-wrap: normal;white-space: pre;background: #fff0;line-height: 1.1;font-family: &quot;Courier New&quot;,Courier,monospace\">           ░                   \n",
       "q_0: ──────░───■───────────────\n",
       "     ┌───┐ ░ ┌─┴─┐             \n",
       "q_1: ┤ X ├─░─┤ X ├──■──────────\n",
       "     ├───┤ ░ └───┘┌─┴─┐┌───┐┌─┐\n",
       "q_2: ┤ X ├─░──────┤ X ├┤ X ├┤M├\n",
       "     └───┘ ░      └───┘└───┘└╥┘\n",
       "c: 1/════════════════════════╩═\n",
       "                             0 </pre>"
      ],
      "text/plain": [
       "           ░                   \n",
       "q_0: ──────░───■───────────────\n",
       "     ┌───┐ ░ ┌─┴─┐             \n",
       "q_1: ┤ X ├─░─┤ X ├──■──────────\n",
       "     ├───┤ ░ └───┘┌─┴─┐┌───┐┌─┐\n",
       "q_2: ┤ X ├─░──────┤ X ├┤ X ├┤M├\n",
       "     └───┘ ░      └───┘└───┘└╥┘\n",
       "c: 1/════════════════════════╩═\n",
       "                             0 "
      ]
     },
     "metadata": {},
     "output_type": "display_data"
    },
    {
     "name": "stdout",
     "output_type": "stream",
     "text": [
      "\n",
      "\n",
      "BEFORE:  \" (1, 0, 0) \" -->  AFTER XNOR gate: \" 0 \"\n"
     ]
    },
    {
     "data": {
      "text/html": [
       "<pre style=\"word-wrap: normal;white-space: pre;background: #fff0;line-height: 1.1;font-family: &quot;Courier New&quot;,Courier,monospace\">     ┌───┐ ░                   \n",
       "q_0: ┤ X ├─░───■───────────────\n",
       "     └───┘ ░ ┌─┴─┐             \n",
       "q_1: ──────░─┤ X ├──■──────────\n",
       "           ░ └───┘┌─┴─┐┌───┐┌─┐\n",
       "q_2: ──────░──────┤ X ├┤ X ├┤M├\n",
       "           ░      └───┘└───┘└╥┘\n",
       "c: 1/════════════════════════╩═\n",
       "                             0 </pre>"
      ],
      "text/plain": [
       "     ┌───┐ ░                   \n",
       "q_0: ┤ X ├─░───■───────────────\n",
       "     └───┘ ░ ┌─┴─┐             \n",
       "q_1: ──────░─┤ X ├──■──────────\n",
       "           ░ └───┘┌─┴─┐┌───┐┌─┐\n",
       "q_2: ──────░──────┤ X ├┤ X ├┤M├\n",
       "           ░      └───┘└───┘└╥┘\n",
       "c: 1/════════════════════════╩═\n",
       "                             0 "
      ]
     },
     "metadata": {},
     "output_type": "display_data"
    },
    {
     "name": "stdout",
     "output_type": "stream",
     "text": [
      "\n",
      "\n",
      "BEFORE:  \" (1, 0, 1) \" -->  AFTER XNOR gate: \" 1 \"\n"
     ]
    },
    {
     "data": {
      "text/html": [
       "<pre style=\"word-wrap: normal;white-space: pre;background: #fff0;line-height: 1.1;font-family: &quot;Courier New&quot;,Courier,monospace\">     ┌───┐ ░                   \n",
       "q_0: ┤ X ├─░───■───────────────\n",
       "     └───┘ ░ ┌─┴─┐             \n",
       "q_1: ──────░─┤ X ├──■──────────\n",
       "     ┌───┐ ░ └───┘┌─┴─┐┌───┐┌─┐\n",
       "q_2: ┤ X ├─░──────┤ X ├┤ X ├┤M├\n",
       "     └───┘ ░      └───┘└───┘└╥┘\n",
       "c: 1/════════════════════════╩═\n",
       "                             0 </pre>"
      ],
      "text/plain": [
       "     ┌───┐ ░                   \n",
       "q_0: ┤ X ├─░───■───────────────\n",
       "     └───┘ ░ ┌─┴─┐             \n",
       "q_1: ──────░─┤ X ├──■──────────\n",
       "     ┌───┐ ░ └───┘┌─┴─┐┌───┐┌─┐\n",
       "q_2: ┤ X ├─░──────┤ X ├┤ X ├┤M├\n",
       "     └───┘ ░      └───┘└───┘└╥┘\n",
       "c: 1/════════════════════════╩═\n",
       "                             0 "
      ]
     },
     "metadata": {},
     "output_type": "display_data"
    },
    {
     "name": "stdout",
     "output_type": "stream",
     "text": [
      "\n",
      "\n",
      "BEFORE:  \" (1, 1, 0) \" -->  AFTER XNOR gate: \" 1 \"\n"
     ]
    },
    {
     "data": {
      "text/html": [
       "<pre style=\"word-wrap: normal;white-space: pre;background: #fff0;line-height: 1.1;font-family: &quot;Courier New&quot;,Courier,monospace\">     ┌───┐ ░                   \n",
       "q_0: ┤ X ├─░───■───────────────\n",
       "     ├───┤ ░ ┌─┴─┐             \n",
       "q_1: ┤ X ├─░─┤ X ├──■──────────\n",
       "     └───┘ ░ └───┘┌─┴─┐┌───┐┌─┐\n",
       "q_2: ──────░──────┤ X ├┤ X ├┤M├\n",
       "           ░      └───┘└───┘└╥┘\n",
       "c: 1/════════════════════════╩═\n",
       "                             0 </pre>"
      ],
      "text/plain": [
       "     ┌───┐ ░                   \n",
       "q_0: ┤ X ├─░───■───────────────\n",
       "     ├───┤ ░ ┌─┴─┐             \n",
       "q_1: ┤ X ├─░─┤ X ├──■──────────\n",
       "     └───┘ ░ └───┘┌─┴─┐┌───┐┌─┐\n",
       "q_2: ──────░──────┤ X ├┤ X ├┤M├\n",
       "           ░      └───┘└───┘└╥┘\n",
       "c: 1/════════════════════════╩═\n",
       "                             0 "
      ]
     },
     "metadata": {},
     "output_type": "display_data"
    },
    {
     "name": "stdout",
     "output_type": "stream",
     "text": [
      "\n",
      "\n",
      "BEFORE:  \" (1, 1, 1) \" -->  AFTER XNOR gate: \" 0 \"\n"
     ]
    },
    {
     "data": {
      "text/html": [
       "<pre style=\"word-wrap: normal;white-space: pre;background: #fff0;line-height: 1.1;font-family: &quot;Courier New&quot;,Courier,monospace\">     ┌───┐ ░                   \n",
       "q_0: ┤ X ├─░───■───────────────\n",
       "     ├───┤ ░ ┌─┴─┐             \n",
       "q_1: ┤ X ├─░─┤ X ├──■──────────\n",
       "     ├───┤ ░ └───┘┌─┴─┐┌───┐┌─┐\n",
       "q_2: ┤ X ├─░──────┤ X ├┤ X ├┤M├\n",
       "     └───┘ ░      └───┘└───┘└╥┘\n",
       "c: 1/════════════════════════╩═\n",
       "                             0 </pre>"
      ],
      "text/plain": [
       "     ┌───┐ ░                   \n",
       "q_0: ┤ X ├─░───■───────────────\n",
       "     ├───┤ ░ ┌─┴─┐             \n",
       "q_1: ┤ X ├─░─┤ X ├──■──────────\n",
       "     ├───┤ ░ └───┘┌─┴─┐┌───┐┌─┐\n",
       "q_2: ┤ X ├─░──────┤ X ├┤ X ├┤M├\n",
       "     └───┘ ░      └───┘└───┘└╥┘\n",
       "c: 1/════════════════════════╩═\n",
       "                             0 "
      ]
     },
     "metadata": {},
     "output_type": "display_data"
    },
    {
     "name": "stdout",
     "output_type": "stream",
     "text": [
      "\n",
      "\n"
     ]
    }
   ],
   "source": [
    "# Executing all possible results for XNOR gate\n",
    "# using N qubits as input\n",
    "N = 3\n",
    "combinations = binaryCombinations(N)\n",
    "\n",
    "for comb in combinations: \n",
    "    init_value = comb\n",
    "    output_qc, output_value = XNOR(init_value)\n",
    "    print('BEFORE:  \"',init_value,'\" -->  AFTER XNOR gate: \"',output_value, '\"')\n",
    "    display(output_qc.draw('text'))\n",
    "    print('\\n')"
   ]
  },
  {
   "cell_type": "code",
   "execution_count": 9,
   "id": "a646e04d-796a-4607-b40b-c62652fe4581",
   "metadata": {
    "tags": []
   },
   "outputs": [
    {
     "name": "stdout",
     "output_type": "stream",
     "text": [
      "BEFORE:  \" (0, 0, 0, 0, 0) \" -->  AFTER XNOR gate: \" 1 \"\n",
      "BEFORE:  \" (0, 0, 0, 0, 1) \" -->  AFTER XNOR gate: \" 0 \"\n",
      "BEFORE:  \" (0, 0, 0, 1, 0) \" -->  AFTER XNOR gate: \" 0 \"\n",
      "BEFORE:  \" (0, 0, 0, 1, 1) \" -->  AFTER XNOR gate: \" 1 \"\n",
      "BEFORE:  \" (0, 0, 1, 0, 0) \" -->  AFTER XNOR gate: \" 0 \"\n",
      "BEFORE:  \" (0, 0, 1, 0, 1) \" -->  AFTER XNOR gate: \" 1 \"\n",
      "BEFORE:  \" (0, 0, 1, 1, 0) \" -->  AFTER XNOR gate: \" 1 \"\n",
      "BEFORE:  \" (0, 0, 1, 1, 1) \" -->  AFTER XNOR gate: \" 0 \"\n",
      "BEFORE:  \" (0, 1, 0, 0, 0) \" -->  AFTER XNOR gate: \" 0 \"\n",
      "BEFORE:  \" (0, 1, 0, 0, 1) \" -->  AFTER XNOR gate: \" 1 \"\n",
      "BEFORE:  \" (0, 1, 0, 1, 0) \" -->  AFTER XNOR gate: \" 1 \"\n",
      "BEFORE:  \" (0, 1, 0, 1, 1) \" -->  AFTER XNOR gate: \" 0 \"\n",
      "BEFORE:  \" (0, 1, 1, 0, 0) \" -->  AFTER XNOR gate: \" 1 \"\n",
      "BEFORE:  \" (0, 1, 1, 0, 1) \" -->  AFTER XNOR gate: \" 0 \"\n",
      "BEFORE:  \" (0, 1, 1, 1, 0) \" -->  AFTER XNOR gate: \" 0 \"\n",
      "BEFORE:  \" (0, 1, 1, 1, 1) \" -->  AFTER XNOR gate: \" 1 \"\n",
      "BEFORE:  \" (1, 0, 0, 0, 0) \" -->  AFTER XNOR gate: \" 0 \"\n",
      "BEFORE:  \" (1, 0, 0, 0, 1) \" -->  AFTER XNOR gate: \" 1 \"\n",
      "BEFORE:  \" (1, 0, 0, 1, 0) \" -->  AFTER XNOR gate: \" 1 \"\n",
      "BEFORE:  \" (1, 0, 0, 1, 1) \" -->  AFTER XNOR gate: \" 0 \"\n",
      "BEFORE:  \" (1, 0, 1, 0, 0) \" -->  AFTER XNOR gate: \" 1 \"\n",
      "BEFORE:  \" (1, 0, 1, 0, 1) \" -->  AFTER XNOR gate: \" 0 \"\n",
      "BEFORE:  \" (1, 0, 1, 1, 0) \" -->  AFTER XNOR gate: \" 0 \"\n",
      "BEFORE:  \" (1, 0, 1, 1, 1) \" -->  AFTER XNOR gate: \" 1 \"\n",
      "BEFORE:  \" (1, 1, 0, 0, 0) \" -->  AFTER XNOR gate: \" 1 \"\n",
      "BEFORE:  \" (1, 1, 0, 0, 1) \" -->  AFTER XNOR gate: \" 0 \"\n",
      "BEFORE:  \" (1, 1, 0, 1, 0) \" -->  AFTER XNOR gate: \" 0 \"\n",
      "BEFORE:  \" (1, 1, 0, 1, 1) \" -->  AFTER XNOR gate: \" 1 \"\n",
      "BEFORE:  \" (1, 1, 1, 0, 0) \" -->  AFTER XNOR gate: \" 0 \"\n",
      "BEFORE:  \" (1, 1, 1, 0, 1) \" -->  AFTER XNOR gate: \" 1 \"\n",
      "BEFORE:  \" (1, 1, 1, 1, 0) \" -->  AFTER XNOR gate: \" 1 \"\n",
      "BEFORE:  \" (1, 1, 1, 1, 1) \" -->  AFTER XNOR gate: \" 0 \"\n"
     ]
    }
   ],
   "source": [
    "# Executing all possible results for XNOR gate\n",
    "# using N qubits as input\n",
    "N = 5\n",
    "combinations = binaryCombinations(N)\n",
    "\n",
    "for comb in combinations: \n",
    "    init_value = comb\n",
    "    output_qc, output_value = XNOR(init_value)\n",
    "    print('BEFORE:  \"',init_value,'\" -->  AFTER XNOR gate: \"',output_value, '\"')\n",
    "    #display(output_qc.draw('text'))\n",
    "    #print('\\n')"
   ]
  },
  {
   "cell_type": "code",
   "execution_count": 24,
   "id": "c6bb320f-dcff-474a-84f3-b1a00e4ef7dd",
   "metadata": {
    "tags": []
   },
   "outputs": [
    {
     "name": "stdout",
     "output_type": "stream",
     "text": [
      "For N =  8 , show only  8 -bit-combinations that have XNOR output as 1\n",
      "BEFORE:  \" (0, 0, 0, 0, 0, 0, 0, 0) \" -->  AFTER XNOR gate: \" 1 \"\n",
      "BEFORE:  \" (0, 0, 0, 0, 0, 0, 1, 1) \" -->  AFTER XNOR gate: \" 1 \"\n",
      "BEFORE:  \" (0, 0, 0, 0, 0, 1, 0, 1) \" -->  AFTER XNOR gate: \" 1 \"\n",
      "BEFORE:  \" (0, 0, 0, 0, 0, 1, 1, 0) \" -->  AFTER XNOR gate: \" 1 \"\n",
      "BEFORE:  \" (0, 0, 0, 0, 1, 0, 0, 1) \" -->  AFTER XNOR gate: \" 1 \"\n",
      "BEFORE:  \" (0, 0, 0, 0, 1, 0, 1, 0) \" -->  AFTER XNOR gate: \" 1 \"\n",
      "BEFORE:  \" (0, 0, 0, 0, 1, 1, 0, 0) \" -->  AFTER XNOR gate: \" 1 \"\n",
      "BEFORE:  \" (0, 0, 0, 0, 1, 1, 1, 1) \" -->  AFTER XNOR gate: \" 1 \"\n",
      "BEFORE:  \" (0, 0, 0, 1, 0, 0, 0, 1) \" -->  AFTER XNOR gate: \" 1 \"\n",
      "BEFORE:  \" (0, 0, 0, 1, 0, 0, 1, 0) \" -->  AFTER XNOR gate: \" 1 \"\n",
      "BEFORE:  \" (0, 0, 0, 1, 0, 1, 0, 0) \" -->  AFTER XNOR gate: \" 1 \"\n",
      "BEFORE:  \" (0, 0, 0, 1, 0, 1, 1, 1) \" -->  AFTER XNOR gate: \" 1 \"\n",
      "BEFORE:  \" (0, 0, 0, 1, 1, 0, 0, 0) \" -->  AFTER XNOR gate: \" 1 \"\n",
      "BEFORE:  \" (0, 0, 0, 1, 1, 0, 1, 1) \" -->  AFTER XNOR gate: \" 1 \"\n",
      "BEFORE:  \" (0, 0, 0, 1, 1, 1, 0, 1) \" -->  AFTER XNOR gate: \" 1 \"\n",
      "BEFORE:  \" (0, 0, 0, 1, 1, 1, 1, 0) \" -->  AFTER XNOR gate: \" 1 \"\n",
      "BEFORE:  \" (0, 0, 1, 0, 0, 0, 0, 1) \" -->  AFTER XNOR gate: \" 1 \"\n",
      "BEFORE:  \" (0, 0, 1, 0, 0, 0, 1, 0) \" -->  AFTER XNOR gate: \" 1 \"\n",
      "BEFORE:  \" (0, 0, 1, 0, 0, 1, 0, 0) \" -->  AFTER XNOR gate: \" 1 \"\n",
      "BEFORE:  \" (0, 0, 1, 0, 0, 1, 1, 1) \" -->  AFTER XNOR gate: \" 1 \"\n",
      "BEFORE:  \" (0, 0, 1, 0, 1, 0, 0, 0) \" -->  AFTER XNOR gate: \" 1 \"\n",
      "BEFORE:  \" (0, 0, 1, 0, 1, 0, 1, 1) \" -->  AFTER XNOR gate: \" 1 \"\n",
      "BEFORE:  \" (0, 0, 1, 0, 1, 1, 0, 1) \" -->  AFTER XNOR gate: \" 1 \"\n",
      "BEFORE:  \" (0, 0, 1, 0, 1, 1, 1, 0) \" -->  AFTER XNOR gate: \" 1 \"\n",
      "BEFORE:  \" (0, 0, 1, 1, 0, 0, 0, 0) \" -->  AFTER XNOR gate: \" 1 \"\n",
      "BEFORE:  \" (0, 0, 1, 1, 0, 0, 1, 1) \" -->  AFTER XNOR gate: \" 1 \"\n",
      "BEFORE:  \" (0, 0, 1, 1, 0, 1, 0, 1) \" -->  AFTER XNOR gate: \" 1 \"\n",
      "BEFORE:  \" (0, 0, 1, 1, 0, 1, 1, 0) \" -->  AFTER XNOR gate: \" 1 \"\n",
      "BEFORE:  \" (0, 0, 1, 1, 1, 0, 0, 1) \" -->  AFTER XNOR gate: \" 1 \"\n",
      "BEFORE:  \" (0, 0, 1, 1, 1, 0, 1, 0) \" -->  AFTER XNOR gate: \" 1 \"\n",
      "BEFORE:  \" (0, 0, 1, 1, 1, 1, 0, 0) \" -->  AFTER XNOR gate: \" 1 \"\n",
      "BEFORE:  \" (0, 0, 1, 1, 1, 1, 1, 1) \" -->  AFTER XNOR gate: \" 1 \"\n",
      "BEFORE:  \" (0, 1, 0, 0, 0, 0, 0, 1) \" -->  AFTER XNOR gate: \" 1 \"\n",
      "BEFORE:  \" (0, 1, 0, 0, 0, 0, 1, 0) \" -->  AFTER XNOR gate: \" 1 \"\n",
      "BEFORE:  \" (0, 1, 0, 0, 0, 1, 0, 0) \" -->  AFTER XNOR gate: \" 1 \"\n",
      "BEFORE:  \" (0, 1, 0, 0, 0, 1, 1, 1) \" -->  AFTER XNOR gate: \" 1 \"\n",
      "BEFORE:  \" (0, 1, 0, 0, 1, 0, 0, 0) \" -->  AFTER XNOR gate: \" 1 \"\n",
      "BEFORE:  \" (0, 1, 0, 0, 1, 0, 1, 1) \" -->  AFTER XNOR gate: \" 1 \"\n",
      "BEFORE:  \" (0, 1, 0, 0, 1, 1, 0, 1) \" -->  AFTER XNOR gate: \" 1 \"\n",
      "BEFORE:  \" (0, 1, 0, 0, 1, 1, 1, 0) \" -->  AFTER XNOR gate: \" 1 \"\n",
      "BEFORE:  \" (0, 1, 0, 1, 0, 0, 0, 0) \" -->  AFTER XNOR gate: \" 1 \"\n",
      "BEFORE:  \" (0, 1, 0, 1, 0, 0, 1, 1) \" -->  AFTER XNOR gate: \" 1 \"\n",
      "BEFORE:  \" (0, 1, 0, 1, 0, 1, 0, 1) \" -->  AFTER XNOR gate: \" 1 \"\n",
      "BEFORE:  \" (0, 1, 0, 1, 0, 1, 1, 0) \" -->  AFTER XNOR gate: \" 1 \"\n",
      "BEFORE:  \" (0, 1, 0, 1, 1, 0, 0, 1) \" -->  AFTER XNOR gate: \" 1 \"\n",
      "BEFORE:  \" (0, 1, 0, 1, 1, 0, 1, 0) \" -->  AFTER XNOR gate: \" 1 \"\n",
      "BEFORE:  \" (0, 1, 0, 1, 1, 1, 0, 0) \" -->  AFTER XNOR gate: \" 1 \"\n",
      "BEFORE:  \" (0, 1, 0, 1, 1, 1, 1, 1) \" -->  AFTER XNOR gate: \" 1 \"\n",
      "BEFORE:  \" (0, 1, 1, 0, 0, 0, 0, 0) \" -->  AFTER XNOR gate: \" 1 \"\n",
      "BEFORE:  \" (0, 1, 1, 0, 0, 0, 1, 1) \" -->  AFTER XNOR gate: \" 1 \"\n",
      "BEFORE:  \" (0, 1, 1, 0, 0, 1, 0, 1) \" -->  AFTER XNOR gate: \" 1 \"\n",
      "BEFORE:  \" (0, 1, 1, 0, 0, 1, 1, 0) \" -->  AFTER XNOR gate: \" 1 \"\n",
      "BEFORE:  \" (0, 1, 1, 0, 1, 0, 0, 1) \" -->  AFTER XNOR gate: \" 1 \"\n",
      "BEFORE:  \" (0, 1, 1, 0, 1, 0, 1, 0) \" -->  AFTER XNOR gate: \" 1 \"\n",
      "BEFORE:  \" (0, 1, 1, 0, 1, 1, 0, 0) \" -->  AFTER XNOR gate: \" 1 \"\n",
      "BEFORE:  \" (0, 1, 1, 0, 1, 1, 1, 1) \" -->  AFTER XNOR gate: \" 1 \"\n",
      "BEFORE:  \" (0, 1, 1, 1, 0, 0, 0, 1) \" -->  AFTER XNOR gate: \" 1 \"\n",
      "BEFORE:  \" (0, 1, 1, 1, 0, 0, 1, 0) \" -->  AFTER XNOR gate: \" 1 \"\n",
      "BEFORE:  \" (0, 1, 1, 1, 0, 1, 0, 0) \" -->  AFTER XNOR gate: \" 1 \"\n",
      "BEFORE:  \" (0, 1, 1, 1, 0, 1, 1, 1) \" -->  AFTER XNOR gate: \" 1 \"\n",
      "BEFORE:  \" (0, 1, 1, 1, 1, 0, 0, 0) \" -->  AFTER XNOR gate: \" 1 \"\n",
      "BEFORE:  \" (0, 1, 1, 1, 1, 0, 1, 1) \" -->  AFTER XNOR gate: \" 1 \"\n",
      "BEFORE:  \" (0, 1, 1, 1, 1, 1, 0, 1) \" -->  AFTER XNOR gate: \" 1 \"\n",
      "BEFORE:  \" (0, 1, 1, 1, 1, 1, 1, 0) \" -->  AFTER XNOR gate: \" 1 \"\n",
      "BEFORE:  \" (1, 0, 0, 0, 0, 0, 0, 1) \" -->  AFTER XNOR gate: \" 1 \"\n",
      "BEFORE:  \" (1, 0, 0, 0, 0, 0, 1, 0) \" -->  AFTER XNOR gate: \" 1 \"\n",
      "BEFORE:  \" (1, 0, 0, 0, 0, 1, 0, 0) \" -->  AFTER XNOR gate: \" 1 \"\n",
      "BEFORE:  \" (1, 0, 0, 0, 0, 1, 1, 1) \" -->  AFTER XNOR gate: \" 1 \"\n",
      "BEFORE:  \" (1, 0, 0, 0, 1, 0, 0, 0) \" -->  AFTER XNOR gate: \" 1 \"\n",
      "BEFORE:  \" (1, 0, 0, 0, 1, 0, 1, 1) \" -->  AFTER XNOR gate: \" 1 \"\n",
      "BEFORE:  \" (1, 0, 0, 0, 1, 1, 0, 1) \" -->  AFTER XNOR gate: \" 1 \"\n",
      "BEFORE:  \" (1, 0, 0, 0, 1, 1, 1, 0) \" -->  AFTER XNOR gate: \" 1 \"\n",
      "BEFORE:  \" (1, 0, 0, 1, 0, 0, 0, 0) \" -->  AFTER XNOR gate: \" 1 \"\n",
      "BEFORE:  \" (1, 0, 0, 1, 0, 0, 1, 1) \" -->  AFTER XNOR gate: \" 1 \"\n",
      "BEFORE:  \" (1, 0, 0, 1, 0, 1, 0, 1) \" -->  AFTER XNOR gate: \" 1 \"\n",
      "BEFORE:  \" (1, 0, 0, 1, 0, 1, 1, 0) \" -->  AFTER XNOR gate: \" 1 \"\n",
      "BEFORE:  \" (1, 0, 0, 1, 1, 0, 0, 1) \" -->  AFTER XNOR gate: \" 1 \"\n",
      "BEFORE:  \" (1, 0, 0, 1, 1, 0, 1, 0) \" -->  AFTER XNOR gate: \" 1 \"\n",
      "BEFORE:  \" (1, 0, 0, 1, 1, 1, 0, 0) \" -->  AFTER XNOR gate: \" 1 \"\n",
      "BEFORE:  \" (1, 0, 0, 1, 1, 1, 1, 1) \" -->  AFTER XNOR gate: \" 1 \"\n",
      "BEFORE:  \" (1, 0, 1, 0, 0, 0, 0, 0) \" -->  AFTER XNOR gate: \" 1 \"\n",
      "BEFORE:  \" (1, 0, 1, 0, 0, 0, 1, 1) \" -->  AFTER XNOR gate: \" 1 \"\n",
      "BEFORE:  \" (1, 0, 1, 0, 0, 1, 0, 1) \" -->  AFTER XNOR gate: \" 1 \"\n",
      "BEFORE:  \" (1, 0, 1, 0, 0, 1, 1, 0) \" -->  AFTER XNOR gate: \" 1 \"\n",
      "BEFORE:  \" (1, 0, 1, 0, 1, 0, 0, 1) \" -->  AFTER XNOR gate: \" 1 \"\n",
      "BEFORE:  \" (1, 0, 1, 0, 1, 0, 1, 0) \" -->  AFTER XNOR gate: \" 1 \"\n",
      "BEFORE:  \" (1, 0, 1, 0, 1, 1, 0, 0) \" -->  AFTER XNOR gate: \" 1 \"\n",
      "BEFORE:  \" (1, 0, 1, 0, 1, 1, 1, 1) \" -->  AFTER XNOR gate: \" 1 \"\n",
      "BEFORE:  \" (1, 0, 1, 1, 0, 0, 0, 1) \" -->  AFTER XNOR gate: \" 1 \"\n",
      "BEFORE:  \" (1, 0, 1, 1, 0, 0, 1, 0) \" -->  AFTER XNOR gate: \" 1 \"\n",
      "BEFORE:  \" (1, 0, 1, 1, 0, 1, 0, 0) \" -->  AFTER XNOR gate: \" 1 \"\n",
      "BEFORE:  \" (1, 0, 1, 1, 0, 1, 1, 1) \" -->  AFTER XNOR gate: \" 1 \"\n",
      "BEFORE:  \" (1, 0, 1, 1, 1, 0, 0, 0) \" -->  AFTER XNOR gate: \" 1 \"\n",
      "BEFORE:  \" (1, 0, 1, 1, 1, 0, 1, 1) \" -->  AFTER XNOR gate: \" 1 \"\n",
      "BEFORE:  \" (1, 0, 1, 1, 1, 1, 0, 1) \" -->  AFTER XNOR gate: \" 1 \"\n",
      "BEFORE:  \" (1, 0, 1, 1, 1, 1, 1, 0) \" -->  AFTER XNOR gate: \" 1 \"\n",
      "BEFORE:  \" (1, 1, 0, 0, 0, 0, 0, 0) \" -->  AFTER XNOR gate: \" 1 \"\n",
      "BEFORE:  \" (1, 1, 0, 0, 0, 0, 1, 1) \" -->  AFTER XNOR gate: \" 1 \"\n",
      "BEFORE:  \" (1, 1, 0, 0, 0, 1, 0, 1) \" -->  AFTER XNOR gate: \" 1 \"\n",
      "BEFORE:  \" (1, 1, 0, 0, 0, 1, 1, 0) \" -->  AFTER XNOR gate: \" 1 \"\n",
      "BEFORE:  \" (1, 1, 0, 0, 1, 0, 0, 1) \" -->  AFTER XNOR gate: \" 1 \"\n",
      "BEFORE:  \" (1, 1, 0, 0, 1, 0, 1, 0) \" -->  AFTER XNOR gate: \" 1 \"\n",
      "BEFORE:  \" (1, 1, 0, 0, 1, 1, 0, 0) \" -->  AFTER XNOR gate: \" 1 \"\n",
      "BEFORE:  \" (1, 1, 0, 0, 1, 1, 1, 1) \" -->  AFTER XNOR gate: \" 1 \"\n",
      "BEFORE:  \" (1, 1, 0, 1, 0, 0, 0, 1) \" -->  AFTER XNOR gate: \" 1 \"\n",
      "BEFORE:  \" (1, 1, 0, 1, 0, 0, 1, 0) \" -->  AFTER XNOR gate: \" 1 \"\n",
      "BEFORE:  \" (1, 1, 0, 1, 0, 1, 0, 0) \" -->  AFTER XNOR gate: \" 1 \"\n",
      "BEFORE:  \" (1, 1, 0, 1, 0, 1, 1, 1) \" -->  AFTER XNOR gate: \" 1 \"\n",
      "BEFORE:  \" (1, 1, 0, 1, 1, 0, 0, 0) \" -->  AFTER XNOR gate: \" 1 \"\n",
      "BEFORE:  \" (1, 1, 0, 1, 1, 0, 1, 1) \" -->  AFTER XNOR gate: \" 1 \"\n",
      "BEFORE:  \" (1, 1, 0, 1, 1, 1, 0, 1) \" -->  AFTER XNOR gate: \" 1 \"\n",
      "BEFORE:  \" (1, 1, 0, 1, 1, 1, 1, 0) \" -->  AFTER XNOR gate: \" 1 \"\n",
      "BEFORE:  \" (1, 1, 1, 0, 0, 0, 0, 1) \" -->  AFTER XNOR gate: \" 1 \"\n",
      "BEFORE:  \" (1, 1, 1, 0, 0, 0, 1, 0) \" -->  AFTER XNOR gate: \" 1 \"\n",
      "BEFORE:  \" (1, 1, 1, 0, 0, 1, 0, 0) \" -->  AFTER XNOR gate: \" 1 \"\n",
      "BEFORE:  \" (1, 1, 1, 0, 0, 1, 1, 1) \" -->  AFTER XNOR gate: \" 1 \"\n",
      "BEFORE:  \" (1, 1, 1, 0, 1, 0, 0, 0) \" -->  AFTER XNOR gate: \" 1 \"\n",
      "BEFORE:  \" (1, 1, 1, 0, 1, 0, 1, 1) \" -->  AFTER XNOR gate: \" 1 \"\n",
      "BEFORE:  \" (1, 1, 1, 0, 1, 1, 0, 1) \" -->  AFTER XNOR gate: \" 1 \"\n",
      "BEFORE:  \" (1, 1, 1, 0, 1, 1, 1, 0) \" -->  AFTER XNOR gate: \" 1 \"\n",
      "BEFORE:  \" (1, 1, 1, 1, 0, 0, 0, 0) \" -->  AFTER XNOR gate: \" 1 \"\n",
      "BEFORE:  \" (1, 1, 1, 1, 0, 0, 1, 1) \" -->  AFTER XNOR gate: \" 1 \"\n",
      "BEFORE:  \" (1, 1, 1, 1, 0, 1, 0, 1) \" -->  AFTER XNOR gate: \" 1 \"\n",
      "BEFORE:  \" (1, 1, 1, 1, 0, 1, 1, 0) \" -->  AFTER XNOR gate: \" 1 \"\n",
      "BEFORE:  \" (1, 1, 1, 1, 1, 0, 0, 1) \" -->  AFTER XNOR gate: \" 1 \"\n",
      "BEFORE:  \" (1, 1, 1, 1, 1, 0, 1, 0) \" -->  AFTER XNOR gate: \" 1 \"\n",
      "BEFORE:  \" (1, 1, 1, 1, 1, 1, 0, 0) \" -->  AFTER XNOR gate: \" 1 \"\n",
      "BEFORE:  \" (1, 1, 1, 1, 1, 1, 1, 1) \" -->  AFTER XNOR gate: \" 1 \"\n"
     ]
    }
   ],
   "source": [
    "# SAME testing code, but for bigger inputs ( N > 7 ) \n",
    "# An execution for N >= 8 require more than half a minute to finish\n",
    "# For even greater number of inputs, it takes even more. \n",
    "\n",
    "N = 8\n",
    "combinations = binaryCombinations(N)\n",
    "\n",
    "print(\"For N = \", N, \", show only \", N, \"-bit-combinations that have XNOR output as 1\")\n",
    "for comb in combinations: \n",
    "    init_value = comb\n",
    "    output_qc, output_value = XNOR(init_value)\n",
    "    if (output_value == 1):\n",
    "        print('BEFORE:  \"',init_value,'\" -->  AFTER XNOR gate: \"',output_value, '\"')\n",
    "        #display(output_qc.draw('text'))\n",
    "        #print('\\n')"
   ]
  },
  {
   "cell_type": "code",
   "execution_count": 21,
   "id": "31cef880-eee1-4b15-b795-c0696761f4ba",
   "metadata": {
    "tags": []
   },
   "outputs": [],
   "source": [
    "# -----------------------------------------------\n",
    "# ANOTHER IMPLEMENTANTION OF XNOR\n",
    "# -----------------------------------------------\n",
    "# USING THE XOR GATE AND INVERTING EACH RESULT \n",
    "# LETS NAME IT AS \"XNOR_using_XOR(inputs)\"\n",
    "# AND ALSO COPY-PASTE THE \"XOR(inputs)\" GATE ABOVE. \n",
    "\n",
    "\n",
    "def XOR(inputs): \n",
    "    # 0. GATE FUNCTIONALITY / LOGIC\n",
    "    # If the number of inputs that are '1' is odd, it returns '1'\n",
    "    # If the number of inputs that are '1' is even, it returns '0'\n",
    "    # _________________________________\n",
    "    \n",
    "    # 1. CREATE QUANTUM CIRCUIT\n",
    "    # XOR gate needs at least 2 qubits as input line. \n",
    "    # More are acceptable. \n",
    "    # It also needs a classical bit to store measurement result.\n",
    "    XOR_gate = QuantumCircuit(len(inputs),1)\n",
    "    \n",
    "    # 2. INTIALIZE CIRCUIT TO MATCH FUNCTION INPUT\n",
    "    # Due to Qiskit initializing qubits to |0>, \n",
    "    # we need to add an X gate to each input that is '1'\n",
    "    for i in range(len(inputs)):\n",
    "        if (inputs[i] == 1):\n",
    "            XOR_gate.x(i)\n",
    "    XOR_gate.barrier()\n",
    "    \n",
    "    # 3. ADD GATES TO ACHIEVE DESIRED OUTPUT\n",
    "    for i in range(len(inputs)-1): \n",
    "        XOR_gate.cx(i,i+1)\n",
    "    XOR_gate.measure(len(inputs)-1, 0)\n",
    "    XOR_gate.draw()\n",
    "    \n",
    "    # 4. SIMULATE MEASUREMENT AND RETURN RESULTS \n",
    "    simulation = Aer.get_backend('aer_simulator')\n",
    "    experiment = simulation.run(XOR_gate, shots=1, memory=True)\n",
    "    output = experiment.result().get_memory()[0]\n",
    "    \n",
    "    return XOR_gate, int(output)\n",
    "\n",
    "\n",
    "def XNOR_using_XOR(inputs): \n",
    "    # 0. GATE FUNCTIONALITY / LOGIC\n",
    "    # If the number of inputs that are '1' is odd, it returns '0'\n",
    "    # If the number of inputs that are '1' is even, it returns '1'\n",
    "    # _________________________________\n",
    "    \n",
    "    # 1. CREATE QUANTUM CIRCUIT\n",
    "    # XOR gate needs at least 2 qubits as input line. \n",
    "    # More are acceptable. \n",
    "    # It also needs a classical bit to store measurement result.\n",
    "    XNOR_gate = QuantumCircuit(len(inputs),1)\n",
    "    \n",
    "    # 3. ADD GATES TO ACHIEVE DESIRED OUTPUT\n",
    "    XOR_gate, XOR_result = XOR(inputs)\n",
    "    XOR_gate.x(len(inputs)-1)\n",
    "    XOR_gate.measure(len(inputs)-1, 0)\n",
    "    XOR_gate.draw()\n",
    "    \n",
    "    # 4. SIMULATE MEASUREMENT AND RETURN RESULTS \n",
    "    simulation = Aer.get_backend('aer_simulator')\n",
    "    experiment = simulation.run(XOR_gate, shots=1, memory=True)\n",
    "    output = experiment.result().get_memory()[0]\n",
    "    \n",
    "    return XOR_gate, int(output)"
   ]
  },
  {
   "cell_type": "code",
   "execution_count": 14,
   "id": "21afa584-a23f-451a-8fb2-956a1aeef424",
   "metadata": {
    "tags": []
   },
   "outputs": [
    {
     "name": "stdout",
     "output_type": "stream",
     "text": [
      "BEFORE:  \" (0, 0, 0) \" -->  AFTER XNOR gate: \" 1 \"\n"
     ]
    },
    {
     "data": {
      "text/html": [
       "<pre style=\"word-wrap: normal;white-space: pre;background: #fff0;line-height: 1.1;font-family: &quot;Courier New&quot;,Courier,monospace\">      ░                      \n",
       "q_0: ─░───■──────────────────\n",
       "      ░ ┌─┴─┐                \n",
       "q_1: ─░─┤ X ├──■─────────────\n",
       "      ░ └───┘┌─┴─┐┌─┐┌───┐┌─┐\n",
       "q_2: ─░──────┤ X ├┤M├┤ X ├┤M├\n",
       "      ░      └───┘└╥┘└───┘└╥┘\n",
       "c: 1/══════════════╩═══════╩═\n",
       "                   0       0 </pre>"
      ],
      "text/plain": [
       "      ░                      \n",
       "q_0: ─░───■──────────────────\n",
       "      ░ ┌─┴─┐                \n",
       "q_1: ─░─┤ X ├──■─────────────\n",
       "      ░ └───┘┌─┴─┐┌─┐┌───┐┌─┐\n",
       "q_2: ─░──────┤ X ├┤M├┤ X ├┤M├\n",
       "      ░      └───┘└╥┘└───┘└╥┘\n",
       "c: 1/══════════════╩═══════╩═\n",
       "                   0       0 "
      ]
     },
     "metadata": {},
     "output_type": "display_data"
    },
    {
     "name": "stdout",
     "output_type": "stream",
     "text": [
      "\n",
      "\n",
      "BEFORE:  \" (0, 0, 1) \" -->  AFTER XNOR gate: \" 0 \"\n"
     ]
    },
    {
     "data": {
      "text/html": [
       "<pre style=\"word-wrap: normal;white-space: pre;background: #fff0;line-height: 1.1;font-family: &quot;Courier New&quot;,Courier,monospace\">           ░                      \n",
       "q_0: ──────░───■──────────────────\n",
       "           ░ ┌─┴─┐                \n",
       "q_1: ──────░─┤ X ├──■─────────────\n",
       "     ┌───┐ ░ └───┘┌─┴─┐┌─┐┌───┐┌─┐\n",
       "q_2: ┤ X ├─░──────┤ X ├┤M├┤ X ├┤M├\n",
       "     └───┘ ░      └───┘└╥┘└───┘└╥┘\n",
       "c: 1/═══════════════════╩═══════╩═\n",
       "                        0       0 </pre>"
      ],
      "text/plain": [
       "           ░                      \n",
       "q_0: ──────░───■──────────────────\n",
       "           ░ ┌─┴─┐                \n",
       "q_1: ──────░─┤ X ├──■─────────────\n",
       "     ┌───┐ ░ └───┘┌─┴─┐┌─┐┌───┐┌─┐\n",
       "q_2: ┤ X ├─░──────┤ X ├┤M├┤ X ├┤M├\n",
       "     └───┘ ░      └───┘└╥┘└───┘└╥┘\n",
       "c: 1/═══════════════════╩═══════╩═\n",
       "                        0       0 "
      ]
     },
     "metadata": {},
     "output_type": "display_data"
    },
    {
     "name": "stdout",
     "output_type": "stream",
     "text": [
      "\n",
      "\n",
      "BEFORE:  \" (0, 1, 0) \" -->  AFTER XNOR gate: \" 0 \"\n"
     ]
    },
    {
     "data": {
      "text/html": [
       "<pre style=\"word-wrap: normal;white-space: pre;background: #fff0;line-height: 1.1;font-family: &quot;Courier New&quot;,Courier,monospace\">           ░                      \n",
       "q_0: ──────░───■──────────────────\n",
       "     ┌───┐ ░ ┌─┴─┐                \n",
       "q_1: ┤ X ├─░─┤ X ├──■─────────────\n",
       "     └───┘ ░ └───┘┌─┴─┐┌─┐┌───┐┌─┐\n",
       "q_2: ──────░──────┤ X ├┤M├┤ X ├┤M├\n",
       "           ░      └───┘└╥┘└───┘└╥┘\n",
       "c: 1/═══════════════════╩═══════╩═\n",
       "                        0       0 </pre>"
      ],
      "text/plain": [
       "           ░                      \n",
       "q_0: ──────░───■──────────────────\n",
       "     ┌───┐ ░ ┌─┴─┐                \n",
       "q_1: ┤ X ├─░─┤ X ├──■─────────────\n",
       "     └───┘ ░ └───┘┌─┴─┐┌─┐┌───┐┌─┐\n",
       "q_2: ──────░──────┤ X ├┤M├┤ X ├┤M├\n",
       "           ░      └───┘└╥┘└───┘└╥┘\n",
       "c: 1/═══════════════════╩═══════╩═\n",
       "                        0       0 "
      ]
     },
     "metadata": {},
     "output_type": "display_data"
    },
    {
     "name": "stdout",
     "output_type": "stream",
     "text": [
      "\n",
      "\n",
      "BEFORE:  \" (0, 1, 1) \" -->  AFTER XNOR gate: \" 1 \"\n"
     ]
    },
    {
     "data": {
      "text/html": [
       "<pre style=\"word-wrap: normal;white-space: pre;background: #fff0;line-height: 1.1;font-family: &quot;Courier New&quot;,Courier,monospace\">           ░                      \n",
       "q_0: ──────░───■──────────────────\n",
       "     ┌───┐ ░ ┌─┴─┐                \n",
       "q_1: ┤ X ├─░─┤ X ├──■─────────────\n",
       "     ├───┤ ░ └───┘┌─┴─┐┌─┐┌───┐┌─┐\n",
       "q_2: ┤ X ├─░──────┤ X ├┤M├┤ X ├┤M├\n",
       "     └───┘ ░      └───┘└╥┘└───┘└╥┘\n",
       "c: 1/═══════════════════╩═══════╩═\n",
       "                        0       0 </pre>"
      ],
      "text/plain": [
       "           ░                      \n",
       "q_0: ──────░───■──────────────────\n",
       "     ┌───┐ ░ ┌─┴─┐                \n",
       "q_1: ┤ X ├─░─┤ X ├──■─────────────\n",
       "     ├───┤ ░ └───┘┌─┴─┐┌─┐┌───┐┌─┐\n",
       "q_2: ┤ X ├─░──────┤ X ├┤M├┤ X ├┤M├\n",
       "     └───┘ ░      └───┘└╥┘└───┘└╥┘\n",
       "c: 1/═══════════════════╩═══════╩═\n",
       "                        0       0 "
      ]
     },
     "metadata": {},
     "output_type": "display_data"
    },
    {
     "name": "stdout",
     "output_type": "stream",
     "text": [
      "\n",
      "\n",
      "BEFORE:  \" (1, 0, 0) \" -->  AFTER XNOR gate: \" 0 \"\n"
     ]
    },
    {
     "data": {
      "text/html": [
       "<pre style=\"word-wrap: normal;white-space: pre;background: #fff0;line-height: 1.1;font-family: &quot;Courier New&quot;,Courier,monospace\">     ┌───┐ ░                      \n",
       "q_0: ┤ X ├─░───■──────────────────\n",
       "     └───┘ ░ ┌─┴─┐                \n",
       "q_1: ──────░─┤ X ├──■─────────────\n",
       "           ░ └───┘┌─┴─┐┌─┐┌───┐┌─┐\n",
       "q_2: ──────░──────┤ X ├┤M├┤ X ├┤M├\n",
       "           ░      └───┘└╥┘└───┘└╥┘\n",
       "c: 1/═══════════════════╩═══════╩═\n",
       "                        0       0 </pre>"
      ],
      "text/plain": [
       "     ┌───┐ ░                      \n",
       "q_0: ┤ X ├─░───■──────────────────\n",
       "     └───┘ ░ ┌─┴─┐                \n",
       "q_1: ──────░─┤ X ├──■─────────────\n",
       "           ░ └───┘┌─┴─┐┌─┐┌───┐┌─┐\n",
       "q_2: ──────░──────┤ X ├┤M├┤ X ├┤M├\n",
       "           ░      └───┘└╥┘└───┘└╥┘\n",
       "c: 1/═══════════════════╩═══════╩═\n",
       "                        0       0 "
      ]
     },
     "metadata": {},
     "output_type": "display_data"
    },
    {
     "name": "stdout",
     "output_type": "stream",
     "text": [
      "\n",
      "\n",
      "BEFORE:  \" (1, 0, 1) \" -->  AFTER XNOR gate: \" 1 \"\n"
     ]
    },
    {
     "data": {
      "text/html": [
       "<pre style=\"word-wrap: normal;white-space: pre;background: #fff0;line-height: 1.1;font-family: &quot;Courier New&quot;,Courier,monospace\">     ┌───┐ ░                      \n",
       "q_0: ┤ X ├─░───■──────────────────\n",
       "     └───┘ ░ ┌─┴─┐                \n",
       "q_1: ──────░─┤ X ├──■─────────────\n",
       "     ┌───┐ ░ └───┘┌─┴─┐┌─┐┌───┐┌─┐\n",
       "q_2: ┤ X ├─░──────┤ X ├┤M├┤ X ├┤M├\n",
       "     └───┘ ░      └───┘└╥┘└───┘└╥┘\n",
       "c: 1/═══════════════════╩═══════╩═\n",
       "                        0       0 </pre>"
      ],
      "text/plain": [
       "     ┌───┐ ░                      \n",
       "q_0: ┤ X ├─░───■──────────────────\n",
       "     └───┘ ░ ┌─┴─┐                \n",
       "q_1: ──────░─┤ X ├──■─────────────\n",
       "     ┌───┐ ░ └───┘┌─┴─┐┌─┐┌───┐┌─┐\n",
       "q_2: ┤ X ├─░──────┤ X ├┤M├┤ X ├┤M├\n",
       "     └───┘ ░      └───┘└╥┘└───┘└╥┘\n",
       "c: 1/═══════════════════╩═══════╩═\n",
       "                        0       0 "
      ]
     },
     "metadata": {},
     "output_type": "display_data"
    },
    {
     "name": "stdout",
     "output_type": "stream",
     "text": [
      "\n",
      "\n",
      "BEFORE:  \" (1, 1, 0) \" -->  AFTER XNOR gate: \" 1 \"\n"
     ]
    },
    {
     "data": {
      "text/html": [
       "<pre style=\"word-wrap: normal;white-space: pre;background: #fff0;line-height: 1.1;font-family: &quot;Courier New&quot;,Courier,monospace\">     ┌───┐ ░                      \n",
       "q_0: ┤ X ├─░───■──────────────────\n",
       "     ├───┤ ░ ┌─┴─┐                \n",
       "q_1: ┤ X ├─░─┤ X ├──■─────────────\n",
       "     └───┘ ░ └───┘┌─┴─┐┌─┐┌───┐┌─┐\n",
       "q_2: ──────░──────┤ X ├┤M├┤ X ├┤M├\n",
       "           ░      └───┘└╥┘└───┘└╥┘\n",
       "c: 1/═══════════════════╩═══════╩═\n",
       "                        0       0 </pre>"
      ],
      "text/plain": [
       "     ┌───┐ ░                      \n",
       "q_0: ┤ X ├─░───■──────────────────\n",
       "     ├───┤ ░ ┌─┴─┐                \n",
       "q_1: ┤ X ├─░─┤ X ├──■─────────────\n",
       "     └───┘ ░ └───┘┌─┴─┐┌─┐┌───┐┌─┐\n",
       "q_2: ──────░──────┤ X ├┤M├┤ X ├┤M├\n",
       "           ░      └───┘└╥┘└───┘└╥┘\n",
       "c: 1/═══════════════════╩═══════╩═\n",
       "                        0       0 "
      ]
     },
     "metadata": {},
     "output_type": "display_data"
    },
    {
     "name": "stdout",
     "output_type": "stream",
     "text": [
      "\n",
      "\n",
      "BEFORE:  \" (1, 1, 1) \" -->  AFTER XNOR gate: \" 0 \"\n"
     ]
    },
    {
     "data": {
      "text/html": [
       "<pre style=\"word-wrap: normal;white-space: pre;background: #fff0;line-height: 1.1;font-family: &quot;Courier New&quot;,Courier,monospace\">     ┌───┐ ░                      \n",
       "q_0: ┤ X ├─░───■──────────────────\n",
       "     ├───┤ ░ ┌─┴─┐                \n",
       "q_1: ┤ X ├─░─┤ X ├──■─────────────\n",
       "     ├───┤ ░ └───┘┌─┴─┐┌─┐┌───┐┌─┐\n",
       "q_2: ┤ X ├─░──────┤ X ├┤M├┤ X ├┤M├\n",
       "     └───┘ ░      └───┘└╥┘└───┘└╥┘\n",
       "c: 1/═══════════════════╩═══════╩═\n",
       "                        0       0 </pre>"
      ],
      "text/plain": [
       "     ┌───┐ ░                      \n",
       "q_0: ┤ X ├─░───■──────────────────\n",
       "     ├───┤ ░ ┌─┴─┐                \n",
       "q_1: ┤ X ├─░─┤ X ├──■─────────────\n",
       "     ├───┤ ░ └───┘┌─┴─┐┌─┐┌───┐┌─┐\n",
       "q_2: ┤ X ├─░──────┤ X ├┤M├┤ X ├┤M├\n",
       "     └───┘ ░      └───┘└╥┘└───┘└╥┘\n",
       "c: 1/═══════════════════╩═══════╩═\n",
       "                        0       0 "
      ]
     },
     "metadata": {},
     "output_type": "display_data"
    },
    {
     "name": "stdout",
     "output_type": "stream",
     "text": [
      "\n",
      "\n"
     ]
    }
   ],
   "source": [
    "# Executing all possible results for XNOR gate\n",
    "# using N qubits as input\n",
    "N = 3\n",
    "combinations = binaryCombinations(N)\n",
    "\n",
    "for comb in combinations: \n",
    "    init_value = comb\n",
    "    output_qc, output_value = XNOR_using_XOR(init_value)\n",
    "    print('BEFORE:  \"',init_value,'\" -->  AFTER XNOR gate: \"',output_value, '\"')\n",
    "    display(output_qc.draw('text'))\n",
    "    print('\\n')"
   ]
  },
  {
   "cell_type": "code",
   "execution_count": 15,
   "id": "1b3ece8a-b951-4c80-a3fd-d58babe15421",
   "metadata": {
    "tags": []
   },
   "outputs": [
    {
     "name": "stdout",
     "output_type": "stream",
     "text": [
      "BEFORE:  \" (0, 0, 0, 0, 0) \" -->  AFTER XNOR gate: \" 1 \"\n",
      "BEFORE:  \" (0, 0, 0, 0, 1) \" -->  AFTER XNOR gate: \" 0 \"\n",
      "BEFORE:  \" (0, 0, 0, 1, 0) \" -->  AFTER XNOR gate: \" 0 \"\n",
      "BEFORE:  \" (0, 0, 0, 1, 1) \" -->  AFTER XNOR gate: \" 1 \"\n",
      "BEFORE:  \" (0, 0, 1, 0, 0) \" -->  AFTER XNOR gate: \" 0 \"\n",
      "BEFORE:  \" (0, 0, 1, 0, 1) \" -->  AFTER XNOR gate: \" 1 \"\n",
      "BEFORE:  \" (0, 0, 1, 1, 0) \" -->  AFTER XNOR gate: \" 1 \"\n",
      "BEFORE:  \" (0, 0, 1, 1, 1) \" -->  AFTER XNOR gate: \" 0 \"\n",
      "BEFORE:  \" (0, 1, 0, 0, 0) \" -->  AFTER XNOR gate: \" 0 \"\n",
      "BEFORE:  \" (0, 1, 0, 0, 1) \" -->  AFTER XNOR gate: \" 1 \"\n",
      "BEFORE:  \" (0, 1, 0, 1, 0) \" -->  AFTER XNOR gate: \" 1 \"\n",
      "BEFORE:  \" (0, 1, 0, 1, 1) \" -->  AFTER XNOR gate: \" 0 \"\n",
      "BEFORE:  \" (0, 1, 1, 0, 0) \" -->  AFTER XNOR gate: \" 1 \"\n",
      "BEFORE:  \" (0, 1, 1, 0, 1) \" -->  AFTER XNOR gate: \" 0 \"\n",
      "BEFORE:  \" (0, 1, 1, 1, 0) \" -->  AFTER XNOR gate: \" 0 \"\n",
      "BEFORE:  \" (0, 1, 1, 1, 1) \" -->  AFTER XNOR gate: \" 1 \"\n",
      "BEFORE:  \" (1, 0, 0, 0, 0) \" -->  AFTER XNOR gate: \" 0 \"\n",
      "BEFORE:  \" (1, 0, 0, 0, 1) \" -->  AFTER XNOR gate: \" 1 \"\n",
      "BEFORE:  \" (1, 0, 0, 1, 0) \" -->  AFTER XNOR gate: \" 1 \"\n",
      "BEFORE:  \" (1, 0, 0, 1, 1) \" -->  AFTER XNOR gate: \" 0 \"\n",
      "BEFORE:  \" (1, 0, 1, 0, 0) \" -->  AFTER XNOR gate: \" 1 \"\n",
      "BEFORE:  \" (1, 0, 1, 0, 1) \" -->  AFTER XNOR gate: \" 0 \"\n",
      "BEFORE:  \" (1, 0, 1, 1, 0) \" -->  AFTER XNOR gate: \" 0 \"\n",
      "BEFORE:  \" (1, 0, 1, 1, 1) \" -->  AFTER XNOR gate: \" 1 \"\n",
      "BEFORE:  \" (1, 1, 0, 0, 0) \" -->  AFTER XNOR gate: \" 1 \"\n",
      "BEFORE:  \" (1, 1, 0, 0, 1) \" -->  AFTER XNOR gate: \" 0 \"\n",
      "BEFORE:  \" (1, 1, 0, 1, 0) \" -->  AFTER XNOR gate: \" 0 \"\n",
      "BEFORE:  \" (1, 1, 0, 1, 1) \" -->  AFTER XNOR gate: \" 1 \"\n",
      "BEFORE:  \" (1, 1, 1, 0, 0) \" -->  AFTER XNOR gate: \" 0 \"\n",
      "BEFORE:  \" (1, 1, 1, 0, 1) \" -->  AFTER XNOR gate: \" 1 \"\n",
      "BEFORE:  \" (1, 1, 1, 1, 0) \" -->  AFTER XNOR gate: \" 1 \"\n",
      "BEFORE:  \" (1, 1, 1, 1, 1) \" -->  AFTER XNOR gate: \" 0 \"\n"
     ]
    }
   ],
   "source": [
    "# Executing all possible results for XNOR gate\n",
    "# using N qubits as input\n",
    "N = 5\n",
    "combinations = binaryCombinations(N)\n",
    "\n",
    "for comb in combinations: \n",
    "    init_value = comb\n",
    "    output_qc, output_value = XNOR_using_XOR(init_value)\n",
    "    print('BEFORE:  \"',init_value,'\" -->  AFTER XNOR gate: \"',output_value, '\"')\n",
    "    #display(output_qc.draw('text'))\n",
    "    #print('\\n')"
   ]
  },
  {
   "cell_type": "code",
   "execution_count": 25,
   "id": "01dd31c0-c059-47fb-965d-970e85091e10",
   "metadata": {
    "tags": []
   },
   "outputs": [
    {
     "name": "stdout",
     "output_type": "stream",
     "text": [
      "For N =  8 , show only  8 -bit-combinations that have XNOR output as 1\n",
      "BEFORE:  \" (0, 0, 0, 0, 0, 0, 0, 0) \" -->  AFTER XNOR gate: \" 1 \"\n",
      "BEFORE:  \" (0, 0, 0, 0, 0, 0, 1, 1) \" -->  AFTER XNOR gate: \" 1 \"\n",
      "BEFORE:  \" (0, 0, 0, 0, 0, 1, 0, 1) \" -->  AFTER XNOR gate: \" 1 \"\n",
      "BEFORE:  \" (0, 0, 0, 0, 0, 1, 1, 0) \" -->  AFTER XNOR gate: \" 1 \"\n",
      "BEFORE:  \" (0, 0, 0, 0, 1, 0, 0, 1) \" -->  AFTER XNOR gate: \" 1 \"\n",
      "BEFORE:  \" (0, 0, 0, 0, 1, 0, 1, 0) \" -->  AFTER XNOR gate: \" 1 \"\n",
      "BEFORE:  \" (0, 0, 0, 0, 1, 1, 0, 0) \" -->  AFTER XNOR gate: \" 1 \"\n",
      "BEFORE:  \" (0, 0, 0, 0, 1, 1, 1, 1) \" -->  AFTER XNOR gate: \" 1 \"\n",
      "BEFORE:  \" (0, 0, 0, 1, 0, 0, 0, 1) \" -->  AFTER XNOR gate: \" 1 \"\n",
      "BEFORE:  \" (0, 0, 0, 1, 0, 0, 1, 0) \" -->  AFTER XNOR gate: \" 1 \"\n",
      "BEFORE:  \" (0, 0, 0, 1, 0, 1, 0, 0) \" -->  AFTER XNOR gate: \" 1 \"\n",
      "BEFORE:  \" (0, 0, 0, 1, 0, 1, 1, 1) \" -->  AFTER XNOR gate: \" 1 \"\n",
      "BEFORE:  \" (0, 0, 0, 1, 1, 0, 0, 0) \" -->  AFTER XNOR gate: \" 1 \"\n",
      "BEFORE:  \" (0, 0, 0, 1, 1, 0, 1, 1) \" -->  AFTER XNOR gate: \" 1 \"\n",
      "BEFORE:  \" (0, 0, 0, 1, 1, 1, 0, 1) \" -->  AFTER XNOR gate: \" 1 \"\n",
      "BEFORE:  \" (0, 0, 0, 1, 1, 1, 1, 0) \" -->  AFTER XNOR gate: \" 1 \"\n",
      "BEFORE:  \" (0, 0, 1, 0, 0, 0, 0, 1) \" -->  AFTER XNOR gate: \" 1 \"\n",
      "BEFORE:  \" (0, 0, 1, 0, 0, 0, 1, 0) \" -->  AFTER XNOR gate: \" 1 \"\n",
      "BEFORE:  \" (0, 0, 1, 0, 0, 1, 0, 0) \" -->  AFTER XNOR gate: \" 1 \"\n",
      "BEFORE:  \" (0, 0, 1, 0, 0, 1, 1, 1) \" -->  AFTER XNOR gate: \" 1 \"\n",
      "BEFORE:  \" (0, 0, 1, 0, 1, 0, 0, 0) \" -->  AFTER XNOR gate: \" 1 \"\n",
      "BEFORE:  \" (0, 0, 1, 0, 1, 0, 1, 1) \" -->  AFTER XNOR gate: \" 1 \"\n",
      "BEFORE:  \" (0, 0, 1, 0, 1, 1, 0, 1) \" -->  AFTER XNOR gate: \" 1 \"\n",
      "BEFORE:  \" (0, 0, 1, 0, 1, 1, 1, 0) \" -->  AFTER XNOR gate: \" 1 \"\n",
      "BEFORE:  \" (0, 0, 1, 1, 0, 0, 0, 0) \" -->  AFTER XNOR gate: \" 1 \"\n",
      "BEFORE:  \" (0, 0, 1, 1, 0, 0, 1, 1) \" -->  AFTER XNOR gate: \" 1 \"\n",
      "BEFORE:  \" (0, 0, 1, 1, 0, 1, 0, 1) \" -->  AFTER XNOR gate: \" 1 \"\n",
      "BEFORE:  \" (0, 0, 1, 1, 0, 1, 1, 0) \" -->  AFTER XNOR gate: \" 1 \"\n",
      "BEFORE:  \" (0, 0, 1, 1, 1, 0, 0, 1) \" -->  AFTER XNOR gate: \" 1 \"\n",
      "BEFORE:  \" (0, 0, 1, 1, 1, 0, 1, 0) \" -->  AFTER XNOR gate: \" 1 \"\n",
      "BEFORE:  \" (0, 0, 1, 1, 1, 1, 0, 0) \" -->  AFTER XNOR gate: \" 1 \"\n",
      "BEFORE:  \" (0, 0, 1, 1, 1, 1, 1, 1) \" -->  AFTER XNOR gate: \" 1 \"\n",
      "BEFORE:  \" (0, 1, 0, 0, 0, 0, 0, 1) \" -->  AFTER XNOR gate: \" 1 \"\n",
      "BEFORE:  \" (0, 1, 0, 0, 0, 0, 1, 0) \" -->  AFTER XNOR gate: \" 1 \"\n",
      "BEFORE:  \" (0, 1, 0, 0, 0, 1, 0, 0) \" -->  AFTER XNOR gate: \" 1 \"\n",
      "BEFORE:  \" (0, 1, 0, 0, 0, 1, 1, 1) \" -->  AFTER XNOR gate: \" 1 \"\n",
      "BEFORE:  \" (0, 1, 0, 0, 1, 0, 0, 0) \" -->  AFTER XNOR gate: \" 1 \"\n",
      "BEFORE:  \" (0, 1, 0, 0, 1, 0, 1, 1) \" -->  AFTER XNOR gate: \" 1 \"\n",
      "BEFORE:  \" (0, 1, 0, 0, 1, 1, 0, 1) \" -->  AFTER XNOR gate: \" 1 \"\n",
      "BEFORE:  \" (0, 1, 0, 0, 1, 1, 1, 0) \" -->  AFTER XNOR gate: \" 1 \"\n",
      "BEFORE:  \" (0, 1, 0, 1, 0, 0, 0, 0) \" -->  AFTER XNOR gate: \" 1 \"\n",
      "BEFORE:  \" (0, 1, 0, 1, 0, 0, 1, 1) \" -->  AFTER XNOR gate: \" 1 \"\n",
      "BEFORE:  \" (0, 1, 0, 1, 0, 1, 0, 1) \" -->  AFTER XNOR gate: \" 1 \"\n",
      "BEFORE:  \" (0, 1, 0, 1, 0, 1, 1, 0) \" -->  AFTER XNOR gate: \" 1 \"\n",
      "BEFORE:  \" (0, 1, 0, 1, 1, 0, 0, 1) \" -->  AFTER XNOR gate: \" 1 \"\n",
      "BEFORE:  \" (0, 1, 0, 1, 1, 0, 1, 0) \" -->  AFTER XNOR gate: \" 1 \"\n",
      "BEFORE:  \" (0, 1, 0, 1, 1, 1, 0, 0) \" -->  AFTER XNOR gate: \" 1 \"\n",
      "BEFORE:  \" (0, 1, 0, 1, 1, 1, 1, 1) \" -->  AFTER XNOR gate: \" 1 \"\n",
      "BEFORE:  \" (0, 1, 1, 0, 0, 0, 0, 0) \" -->  AFTER XNOR gate: \" 1 \"\n",
      "BEFORE:  \" (0, 1, 1, 0, 0, 0, 1, 1) \" -->  AFTER XNOR gate: \" 1 \"\n",
      "BEFORE:  \" (0, 1, 1, 0, 0, 1, 0, 1) \" -->  AFTER XNOR gate: \" 1 \"\n",
      "BEFORE:  \" (0, 1, 1, 0, 0, 1, 1, 0) \" -->  AFTER XNOR gate: \" 1 \"\n",
      "BEFORE:  \" (0, 1, 1, 0, 1, 0, 0, 1) \" -->  AFTER XNOR gate: \" 1 \"\n",
      "BEFORE:  \" (0, 1, 1, 0, 1, 0, 1, 0) \" -->  AFTER XNOR gate: \" 1 \"\n",
      "BEFORE:  \" (0, 1, 1, 0, 1, 1, 0, 0) \" -->  AFTER XNOR gate: \" 1 \"\n",
      "BEFORE:  \" (0, 1, 1, 0, 1, 1, 1, 1) \" -->  AFTER XNOR gate: \" 1 \"\n",
      "BEFORE:  \" (0, 1, 1, 1, 0, 0, 0, 1) \" -->  AFTER XNOR gate: \" 1 \"\n",
      "BEFORE:  \" (0, 1, 1, 1, 0, 0, 1, 0) \" -->  AFTER XNOR gate: \" 1 \"\n",
      "BEFORE:  \" (0, 1, 1, 1, 0, 1, 0, 0) \" -->  AFTER XNOR gate: \" 1 \"\n",
      "BEFORE:  \" (0, 1, 1, 1, 0, 1, 1, 1) \" -->  AFTER XNOR gate: \" 1 \"\n",
      "BEFORE:  \" (0, 1, 1, 1, 1, 0, 0, 0) \" -->  AFTER XNOR gate: \" 1 \"\n",
      "BEFORE:  \" (0, 1, 1, 1, 1, 0, 1, 1) \" -->  AFTER XNOR gate: \" 1 \"\n",
      "BEFORE:  \" (0, 1, 1, 1, 1, 1, 0, 1) \" -->  AFTER XNOR gate: \" 1 \"\n",
      "BEFORE:  \" (0, 1, 1, 1, 1, 1, 1, 0) \" -->  AFTER XNOR gate: \" 1 \"\n",
      "BEFORE:  \" (1, 0, 0, 0, 0, 0, 0, 1) \" -->  AFTER XNOR gate: \" 1 \"\n",
      "BEFORE:  \" (1, 0, 0, 0, 0, 0, 1, 0) \" -->  AFTER XNOR gate: \" 1 \"\n",
      "BEFORE:  \" (1, 0, 0, 0, 0, 1, 0, 0) \" -->  AFTER XNOR gate: \" 1 \"\n",
      "BEFORE:  \" (1, 0, 0, 0, 0, 1, 1, 1) \" -->  AFTER XNOR gate: \" 1 \"\n",
      "BEFORE:  \" (1, 0, 0, 0, 1, 0, 0, 0) \" -->  AFTER XNOR gate: \" 1 \"\n",
      "BEFORE:  \" (1, 0, 0, 0, 1, 0, 1, 1) \" -->  AFTER XNOR gate: \" 1 \"\n",
      "BEFORE:  \" (1, 0, 0, 0, 1, 1, 0, 1) \" -->  AFTER XNOR gate: \" 1 \"\n",
      "BEFORE:  \" (1, 0, 0, 0, 1, 1, 1, 0) \" -->  AFTER XNOR gate: \" 1 \"\n",
      "BEFORE:  \" (1, 0, 0, 1, 0, 0, 0, 0) \" -->  AFTER XNOR gate: \" 1 \"\n",
      "BEFORE:  \" (1, 0, 0, 1, 0, 0, 1, 1) \" -->  AFTER XNOR gate: \" 1 \"\n",
      "BEFORE:  \" (1, 0, 0, 1, 0, 1, 0, 1) \" -->  AFTER XNOR gate: \" 1 \"\n",
      "BEFORE:  \" (1, 0, 0, 1, 0, 1, 1, 0) \" -->  AFTER XNOR gate: \" 1 \"\n",
      "BEFORE:  \" (1, 0, 0, 1, 1, 0, 0, 1) \" -->  AFTER XNOR gate: \" 1 \"\n",
      "BEFORE:  \" (1, 0, 0, 1, 1, 0, 1, 0) \" -->  AFTER XNOR gate: \" 1 \"\n",
      "BEFORE:  \" (1, 0, 0, 1, 1, 1, 0, 0) \" -->  AFTER XNOR gate: \" 1 \"\n",
      "BEFORE:  \" (1, 0, 0, 1, 1, 1, 1, 1) \" -->  AFTER XNOR gate: \" 1 \"\n",
      "BEFORE:  \" (1, 0, 1, 0, 0, 0, 0, 0) \" -->  AFTER XNOR gate: \" 1 \"\n",
      "BEFORE:  \" (1, 0, 1, 0, 0, 0, 1, 1) \" -->  AFTER XNOR gate: \" 1 \"\n",
      "BEFORE:  \" (1, 0, 1, 0, 0, 1, 0, 1) \" -->  AFTER XNOR gate: \" 1 \"\n",
      "BEFORE:  \" (1, 0, 1, 0, 0, 1, 1, 0) \" -->  AFTER XNOR gate: \" 1 \"\n",
      "BEFORE:  \" (1, 0, 1, 0, 1, 0, 0, 1) \" -->  AFTER XNOR gate: \" 1 \"\n",
      "BEFORE:  \" (1, 0, 1, 0, 1, 0, 1, 0) \" -->  AFTER XNOR gate: \" 1 \"\n",
      "BEFORE:  \" (1, 0, 1, 0, 1, 1, 0, 0) \" -->  AFTER XNOR gate: \" 1 \"\n",
      "BEFORE:  \" (1, 0, 1, 0, 1, 1, 1, 1) \" -->  AFTER XNOR gate: \" 1 \"\n",
      "BEFORE:  \" (1, 0, 1, 1, 0, 0, 0, 1) \" -->  AFTER XNOR gate: \" 1 \"\n",
      "BEFORE:  \" (1, 0, 1, 1, 0, 0, 1, 0) \" -->  AFTER XNOR gate: \" 1 \"\n",
      "BEFORE:  \" (1, 0, 1, 1, 0, 1, 0, 0) \" -->  AFTER XNOR gate: \" 1 \"\n",
      "BEFORE:  \" (1, 0, 1, 1, 0, 1, 1, 1) \" -->  AFTER XNOR gate: \" 1 \"\n",
      "BEFORE:  \" (1, 0, 1, 1, 1, 0, 0, 0) \" -->  AFTER XNOR gate: \" 1 \"\n",
      "BEFORE:  \" (1, 0, 1, 1, 1, 0, 1, 1) \" -->  AFTER XNOR gate: \" 1 \"\n",
      "BEFORE:  \" (1, 0, 1, 1, 1, 1, 0, 1) \" -->  AFTER XNOR gate: \" 1 \"\n",
      "BEFORE:  \" (1, 0, 1, 1, 1, 1, 1, 0) \" -->  AFTER XNOR gate: \" 1 \"\n",
      "BEFORE:  \" (1, 1, 0, 0, 0, 0, 0, 0) \" -->  AFTER XNOR gate: \" 1 \"\n",
      "BEFORE:  \" (1, 1, 0, 0, 0, 0, 1, 1) \" -->  AFTER XNOR gate: \" 1 \"\n",
      "BEFORE:  \" (1, 1, 0, 0, 0, 1, 0, 1) \" -->  AFTER XNOR gate: \" 1 \"\n",
      "BEFORE:  \" (1, 1, 0, 0, 0, 1, 1, 0) \" -->  AFTER XNOR gate: \" 1 \"\n",
      "BEFORE:  \" (1, 1, 0, 0, 1, 0, 0, 1) \" -->  AFTER XNOR gate: \" 1 \"\n",
      "BEFORE:  \" (1, 1, 0, 0, 1, 0, 1, 0) \" -->  AFTER XNOR gate: \" 1 \"\n",
      "BEFORE:  \" (1, 1, 0, 0, 1, 1, 0, 0) \" -->  AFTER XNOR gate: \" 1 \"\n",
      "BEFORE:  \" (1, 1, 0, 0, 1, 1, 1, 1) \" -->  AFTER XNOR gate: \" 1 \"\n",
      "BEFORE:  \" (1, 1, 0, 1, 0, 0, 0, 1) \" -->  AFTER XNOR gate: \" 1 \"\n",
      "BEFORE:  \" (1, 1, 0, 1, 0, 0, 1, 0) \" -->  AFTER XNOR gate: \" 1 \"\n",
      "BEFORE:  \" (1, 1, 0, 1, 0, 1, 0, 0) \" -->  AFTER XNOR gate: \" 1 \"\n",
      "BEFORE:  \" (1, 1, 0, 1, 0, 1, 1, 1) \" -->  AFTER XNOR gate: \" 1 \"\n",
      "BEFORE:  \" (1, 1, 0, 1, 1, 0, 0, 0) \" -->  AFTER XNOR gate: \" 1 \"\n",
      "BEFORE:  \" (1, 1, 0, 1, 1, 0, 1, 1) \" -->  AFTER XNOR gate: \" 1 \"\n",
      "BEFORE:  \" (1, 1, 0, 1, 1, 1, 0, 1) \" -->  AFTER XNOR gate: \" 1 \"\n",
      "BEFORE:  \" (1, 1, 0, 1, 1, 1, 1, 0) \" -->  AFTER XNOR gate: \" 1 \"\n",
      "BEFORE:  \" (1, 1, 1, 0, 0, 0, 0, 1) \" -->  AFTER XNOR gate: \" 1 \"\n",
      "BEFORE:  \" (1, 1, 1, 0, 0, 0, 1, 0) \" -->  AFTER XNOR gate: \" 1 \"\n",
      "BEFORE:  \" (1, 1, 1, 0, 0, 1, 0, 0) \" -->  AFTER XNOR gate: \" 1 \"\n",
      "BEFORE:  \" (1, 1, 1, 0, 0, 1, 1, 1) \" -->  AFTER XNOR gate: \" 1 \"\n",
      "BEFORE:  \" (1, 1, 1, 0, 1, 0, 0, 0) \" -->  AFTER XNOR gate: \" 1 \"\n",
      "BEFORE:  \" (1, 1, 1, 0, 1, 0, 1, 1) \" -->  AFTER XNOR gate: \" 1 \"\n",
      "BEFORE:  \" (1, 1, 1, 0, 1, 1, 0, 1) \" -->  AFTER XNOR gate: \" 1 \"\n",
      "BEFORE:  \" (1, 1, 1, 0, 1, 1, 1, 0) \" -->  AFTER XNOR gate: \" 1 \"\n",
      "BEFORE:  \" (1, 1, 1, 1, 0, 0, 0, 0) \" -->  AFTER XNOR gate: \" 1 \"\n",
      "BEFORE:  \" (1, 1, 1, 1, 0, 0, 1, 1) \" -->  AFTER XNOR gate: \" 1 \"\n",
      "BEFORE:  \" (1, 1, 1, 1, 0, 1, 0, 1) \" -->  AFTER XNOR gate: \" 1 \"\n",
      "BEFORE:  \" (1, 1, 1, 1, 0, 1, 1, 0) \" -->  AFTER XNOR gate: \" 1 \"\n",
      "BEFORE:  \" (1, 1, 1, 1, 1, 0, 0, 1) \" -->  AFTER XNOR gate: \" 1 \"\n",
      "BEFORE:  \" (1, 1, 1, 1, 1, 0, 1, 0) \" -->  AFTER XNOR gate: \" 1 \"\n",
      "BEFORE:  \" (1, 1, 1, 1, 1, 1, 0, 0) \" -->  AFTER XNOR gate: \" 1 \"\n",
      "BEFORE:  \" (1, 1, 1, 1, 1, 1, 1, 1) \" -->  AFTER XNOR gate: \" 1 \"\n"
     ]
    }
   ],
   "source": [
    "# SAME testing code, but for bigger inputs ( N > 7 ) \n",
    "# An execution for N >= 8 require more than half a minute to finish\n",
    "# For even greater number of inputs, it takes even more. \n",
    "\n",
    "N = 8\n",
    "combinations = binaryCombinations(N)\n",
    "\n",
    "print(\"For N = \", N, \", show only \", N, \"-bit-combinations that have XNOR output as 1\")\n",
    "for comb in combinations: \n",
    "    init_value = comb\n",
    "    output_qc, output_value = XNOR_using_XOR(init_value)\n",
    "    if (output_value == 1):\n",
    "        print('BEFORE:  \"',init_value,'\" -->  AFTER XNOR gate: \"',output_value, '\"')\n",
    "        #display(output_qc.draw('text'))\n",
    "        #print('\\n')"
   ]
  }
 ],
 "metadata": {
  "kernelspec": {
   "display_name": "Python 3 (ipykernel)",
   "language": "python",
   "name": "python3"
  },
  "language_info": {
   "codemirror_mode": {
    "name": "ipython",
    "version": 3
   },
   "file_extension": ".py",
   "mimetype": "text/x-python",
   "name": "python",
   "nbconvert_exporter": "python",
   "pygments_lexer": "ipython3",
   "version": "3.10.8"
  },
  "widgets": {
   "application/vnd.jupyter.widget-state+json": {
    "state": {
     "0a5a7e5540104f8d89e6200aa9b201ec": {
      "model_module": "@jupyter-widgets/controls",
      "model_module_version": "2.0.0",
      "model_name": "HTMLModel",
      "state": {
       "layout": "IPY_MODEL_f9a24973521b4cbfb532fdbfd813c5da",
       "style": "IPY_MODEL_0b92efcce40c452c92505fafd5edd775",
       "value": "<h5>Backend</h5>"
      }
     },
     "0b92efcce40c452c92505fafd5edd775": {
      "model_module": "@jupyter-widgets/controls",
      "model_module_version": "2.0.0",
      "model_name": "HTMLStyleModel",
      "state": {
       "description_width": "",
       "font_size": null,
       "text_color": null
      }
     },
     "17ea6bb165ba4735beefe9d81ae5c068": {
      "model_module": "@jupyter-widgets/controls",
      "model_module_version": "2.0.0",
      "model_name": "HTMLModel",
      "state": {
       "layout": "IPY_MODEL_34f5a81d18284c5dbae4dad289ff4d41",
       "style": "IPY_MODEL_d10aaec418254b8ebdf2d40280678477",
       "value": "<h5>Message</h5>"
      }
     },
     "1c409fe9f89142dcbcd16bf37c2c99e1": {
      "model_module": "@jupyter-widgets/controls",
      "model_module_version": "2.0.0",
      "model_name": "HTMLModel",
      "state": {
       "layout": "IPY_MODEL_6e1b469210c84b728714033e31caa475",
       "style": "IPY_MODEL_9a743a95cfc84f4baf420830b51b5b9a",
       "value": "<h5>Queue</h5>"
      }
     },
     "25c60499a93f467e94731b77caceee6d": {
      "model_module": "@jupyter-widgets/base",
      "model_module_version": "2.0.0",
      "model_name": "LayoutModel",
      "state": {
       "width": "95px"
      }
     },
     "34f5a81d18284c5dbae4dad289ff4d41": {
      "model_module": "@jupyter-widgets/base",
      "model_module_version": "2.0.0",
      "model_name": "LayoutModel",
      "state": {}
     },
     "4044431d56824d8a9e8fe6894e6743b0": {
      "model_module": "@jupyter-widgets/controls",
      "model_module_version": "2.0.0",
      "model_name": "ButtonStyleModel",
      "state": {
       "font_family": null,
       "font_size": null,
       "font_style": null,
       "font_variant": null,
       "font_weight": null,
       "text_color": null,
       "text_decoration": null
      }
     },
     "46127592e333483192ab19856ded8dc7": {
      "model_module": "@jupyter-widgets/controls",
      "model_module_version": "2.0.0",
      "model_name": "HTMLStyleModel",
      "state": {
       "description_width": "",
       "font_size": null,
       "text_color": null
      }
     },
     "6e1b469210c84b728714033e31caa475": {
      "model_module": "@jupyter-widgets/base",
      "model_module_version": "2.0.0",
      "model_name": "LayoutModel",
      "state": {
       "width": "70px"
      }
     },
     "72db162598b24a0db0f0126782821ec0": {
      "model_module": "@jupyter-widgets/controls",
      "model_module_version": "2.0.0",
      "model_name": "HTMLModel",
      "state": {
       "layout": "IPY_MODEL_7ee88abae395497ca2327d4766584961",
       "style": "IPY_MODEL_46127592e333483192ab19856ded8dc7",
       "value": "<p style='font-family: IBM Plex Sans, Arial, Helvetica, sans-serif; font-size: 20px; font-weight: medium;'>Circuit Properties</p>"
      }
     },
     "767dd6b6733f4d988f054b916d89e276": {
      "model_module": "@jupyter-widgets/controls",
      "model_module_version": "2.0.0",
      "model_name": "HBoxModel",
      "state": {
       "children": [
        "IPY_MODEL_e065b552c10b4f0e80972a6989f267af",
        "IPY_MODEL_0a5a7e5540104f8d89e6200aa9b201ec",
        "IPY_MODEL_cada3ee379c0498bb3d708c2d731bbab",
        "IPY_MODEL_1c409fe9f89142dcbcd16bf37c2c99e1",
        "IPY_MODEL_17ea6bb165ba4735beefe9d81ae5c068"
       ],
       "layout": "IPY_MODEL_83763e3e25cb47d796a803b01c87e3c5"
      }
     },
     "7ee88abae395497ca2327d4766584961": {
      "model_module": "@jupyter-widgets/base",
      "model_module_version": "2.0.0",
      "model_name": "LayoutModel",
      "state": {
       "margin": "0px 0px 10px 0px"
      }
     },
     "83763e3e25cb47d796a803b01c87e3c5": {
      "model_module": "@jupyter-widgets/base",
      "model_module_version": "2.0.0",
      "model_name": "LayoutModel",
      "state": {
       "margin": "0px 0px 0px 37px",
       "width": "600px"
      }
     },
     "884d182f22b94b42b30b90a70bab434b": {
      "model_module": "@jupyter-widgets/base",
      "model_module_version": "2.0.0",
      "model_name": "LayoutModel",
      "state": {
       "width": "190px"
      }
     },
     "992755875bbc408186c0bd2b93a74bcf": {
      "model_module": "@jupyter-widgets/base",
      "model_module_version": "2.0.0",
      "model_name": "LayoutModel",
      "state": {
       "grid_area": "right",
       "padding": "0px 0px 0px 0px",
       "width": "70px"
      }
     },
     "9a743a95cfc84f4baf420830b51b5b9a": {
      "model_module": "@jupyter-widgets/controls",
      "model_module_version": "2.0.0",
      "model_name": "HTMLStyleModel",
      "state": {
       "description_width": "",
       "font_size": null,
       "text_color": null
      }
     },
     "9b6ceec2ad8146f993e051a0c09150db": {
      "model_module": "@jupyter-widgets/controls",
      "model_module_version": "2.0.0",
      "model_name": "HTMLStyleModel",
      "state": {
       "description_width": "",
       "font_size": null,
       "text_color": null
      }
     },
     "9ecde7dae28e488591f44d267a551373": {
      "model_module": "@jupyter-widgets/controls",
      "model_module_version": "2.0.0",
      "model_name": "HTMLStyleModel",
      "state": {
       "description_width": "",
       "font_size": null,
       "text_color": null
      }
     },
     "b254a902ba7240858ea4142b29bdc5ed": {
      "model_module": "@jupyter-widgets/controls",
      "model_module_version": "2.0.0",
      "model_name": "ButtonModel",
      "state": {
       "button_style": "primary",
       "description": "Clear",
       "layout": "IPY_MODEL_992755875bbc408186c0bd2b93a74bcf",
       "style": "IPY_MODEL_4044431d56824d8a9e8fe6894e6743b0",
       "tooltip": null
      }
     },
     "c2bb671df15a497384d4c659cb6c7ee9": {
      "model_module": "@jupyter-widgets/base",
      "model_module_version": "2.0.0",
      "model_name": "LayoutModel",
      "state": {
       "grid_template_areas": "\n                                       \". . . . right \"\n                                        ",
       "grid_template_columns": "20% 20% 20% 20% 20%",
       "width": "100%"
      }
     },
     "cada3ee379c0498bb3d708c2d731bbab": {
      "model_module": "@jupyter-widgets/controls",
      "model_module_version": "2.0.0",
      "model_name": "HTMLModel",
      "state": {
       "layout": "IPY_MODEL_25c60499a93f467e94731b77caceee6d",
       "style": "IPY_MODEL_9b6ceec2ad8146f993e051a0c09150db",
       "value": "<h5>Status</h5>"
      }
     },
     "d10aaec418254b8ebdf2d40280678477": {
      "model_module": "@jupyter-widgets/controls",
      "model_module_version": "2.0.0",
      "model_name": "HTMLStyleModel",
      "state": {
       "description_width": "",
       "font_size": null,
       "text_color": null
      }
     },
     "e065b552c10b4f0e80972a6989f267af": {
      "model_module": "@jupyter-widgets/controls",
      "model_module_version": "2.0.0",
      "model_name": "HTMLModel",
      "state": {
       "layout": "IPY_MODEL_884d182f22b94b42b30b90a70bab434b",
       "style": "IPY_MODEL_9ecde7dae28e488591f44d267a551373",
       "value": "<h5>Job ID</h5>"
      }
     },
     "e86f688e4d814082931ace7c19524c7c": {
      "model_module": "@jupyter-widgets/controls",
      "model_module_version": "2.0.0",
      "model_name": "GridBoxModel",
      "state": {
       "children": [
        "IPY_MODEL_b254a902ba7240858ea4142b29bdc5ed"
       ],
       "layout": "IPY_MODEL_c2bb671df15a497384d4c659cb6c7ee9"
      }
     },
     "f9a24973521b4cbfb532fdbfd813c5da": {
      "model_module": "@jupyter-widgets/base",
      "model_module_version": "2.0.0",
      "model_name": "LayoutModel",
      "state": {
       "width": "145px"
      }
     }
    },
    "version_major": 2,
    "version_minor": 0
   }
  }
 },
 "nbformat": 4,
 "nbformat_minor": 5
}
